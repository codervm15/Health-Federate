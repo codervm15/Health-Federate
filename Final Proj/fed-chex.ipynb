{
 "cells": [
  {
   "cell_type": "code",
   "execution_count": 1,
   "id": "ea2bb654",
   "metadata": {},
   "outputs": [],
   "source": [
    "import os\n",
    "import logging\n",
    "import sys\n",
    "import numpy as np\n",
    "import pandas as pd\n",
    "import time\n",
    "import csv\n",
    "import random\n",
    "import matplotlib.pyplot as plt\n",
    "from PIL import Image\n",
    "from barbar import Bar\n",
    "import datetime\n",
    "import time\n",
    "from tqdm import tqdm "
   ]
  },
  {
   "cell_type": "code",
   "execution_count": 2,
   "id": "5097fdfd",
   "metadata": {},
   "outputs": [],
   "source": [
    "import torch\n",
    "import torch.nn as nn\n",
    "import torch.optim as optim\n",
    "import torch.backends.cudnn as cudnn\n",
    "import torchvision\n",
    "import torchvision.transforms as transforms\n",
    "from torch.utils.data import Dataset\n",
    "from torch.utils.data import DataLoader\n",
    "from torch.utils.data.dataset import random_split"
   ]
  },
  {
   "cell_type": "code",
   "execution_count": 3,
   "id": "2542d285",
   "metadata": {},
   "outputs": [
    {
     "name": "stdout",
     "output_type": "stream",
     "text": [
      "True\n"
     ]
    }
   ],
   "source": [
    "import sklearn.metrics as metrics\n",
    "from sklearn.metrics import roc_auc_score\n",
    "\n",
    "use_gpu = torch.cuda.is_available()\n",
    "print(use_gpu)"
   ]
  },
  {
   "cell_type": "code",
   "execution_count": 4,
   "id": "077c8263",
   "metadata": {},
   "outputs": [],
   "source": [
    "def log(path, file):\n",
    "    log_file = os.path.join(path, file)\n",
    "\n",
    "    if not os.path.isfile(log_file):\n",
    "        open(log_file, \"w+\").close()\n",
    "\n",
    "    console_logging_format = \" %(message)s\"\n",
    "    file_logging_format = \"%(asctime)s: %(message)s\"\n",
    "\n",
    "    # configure logger\n",
    "    logging.basicConfig(level=logging.INFO, format=console_logging_format)\n",
    "    logger = logging.getLogger()\n",
    "    \n",
    "    # create a file handler for output file\n",
    "    handler = logging.FileHandler(log_file)\n",
    "    # set the logging level for log file\n",
    "    handler.setLevel(logging.INFO)\n",
    "    \n",
    "    # create a logging format\n",
    "    formatter = logging.Formatter(file_logging_format)\n",
    "    handler.setFormatter(formatter)\n",
    "    # add the handlers to the logger\n",
    "    logger.addHandler(handler)\n",
    "    return logger"
   ]
  },
  {
   "cell_type": "code",
   "execution_count": 5,
   "id": "3df8d374",
   "metadata": {},
   "outputs": [
    {
     "name": "stderr",
     "output_type": "stream",
     "text": [
      " Training data Info:\n",
      " {'name': 'fed-chex_res18_v3', 'dataset_name': 'Chexpert', 'save_path': './ckpt/fed-chex_res18_v3', 'train_csv': '/workspace/DATASETS/CheXpert-v1.0-small/chexpert-train.csv', 'valid_csv': '/workspace/DATASETS/CheXpert-v1.0-small/chexpert-valid.csv', 'test_csv': '/workspace/DATASETS/CheXpert-v1.0-small/chexpert-test.csv', 'model_name': 'resnet18', 'pre_train': True, 'num_workers': 8, 'random_seed': 24, 'img_size': 224, 'lr': 0.0001, 'batch_size': 32, 'test_batch_size': 1, 'num_classes': 14, 'gpu': 0, 'device': device(type='cuda', index=0), 'com_round': 10, 'fraction': 1.0, 'client_epoch': 3, 'num_clients': 5, 'logger': <RootLogger root (INFO)>}\n"
     ]
    }
   ],
   "source": [
    "class Config(object):\n",
    "    def __init__(self):\n",
    "        self.name = 'fed-chex_res18_v3'\n",
    "        self.dataset_name = 'Chexpert'\n",
    "        self.save_path = './ckpt/' + self.name\n",
    "        self.train_csv = '/workspace/DATASETS/CheXpert-v1.0-small/chexpert-train.csv'\n",
    "        self.valid_csv = '/workspace/DATASETS/CheXpert-v1.0-small/chexpert-valid.csv'\n",
    "        self.test_csv =  '/workspace/DATASETS/CheXpert-v1.0-small/chexpert-test.csv'\n",
    "        \n",
    "        self.model_name = 'resnet18'  #choose one from resnet18,resnet34\n",
    "        self.pre_train = True \n",
    "\n",
    "        self.num_workers = 8\n",
    "        self.random_seed=24\n",
    "        self.img_size = 224\n",
    "\n",
    "        self.lr = 0.0001      \n",
    "        self.batch_size = 32\n",
    "        self.test_batch_size = 1\n",
    "        self.num_classes = 14\n",
    "        self.gpu = 0\n",
    "        self.device = torch.device(f\"cuda:{self.gpu}\" if torch.cuda.is_available() else \"cpu\")\n",
    "                \n",
    "        self.com_round = 10\n",
    "        self.fraction = 1.0\n",
    "        self.client_epoch = 3\n",
    "        self.num_clients = 5\n",
    "        \n",
    "        os.makedirs(self.save_path, exist_ok=True)\n",
    "        self.logger = log(path=self.save_path, file=f\"{self.name}.logs\")\n",
    "        \n",
    "opt = Config()\n",
    "opt.logger.info('Training data Info:')\n",
    "opt.logger.info(opt.__dict__)"
   ]
  },
  {
   "cell_type": "code",
   "execution_count": 6,
   "id": "fbe4d4c3",
   "metadata": {},
   "outputs": [],
   "source": [
    "class CheXpertDataSet(Dataset):\n",
    "    def __init__(self,df,class_names, transform, policy=\"ones\"):\n",
    "        self.image_filepaths = df[\"Path\"].values\n",
    "        self.pathologies = class_names\n",
    "        self.pathologies = sorted(self.pathologies)\n",
    "        self.csv = df\n",
    "        \n",
    "        self.transform = transform\n",
    "        self.labels = []\n",
    "        for pathology in self.pathologies:\n",
    "            if pathology in self.csv.columns:\n",
    "                mask = self.csv[pathology]\n",
    "            self.labels.append(mask.values)\n",
    "        self.labels = np.asarray(self.labels).T\n",
    "        self.labels = self.labels.astype(np.float32)\n",
    "        if policy == \"ones\":\n",
    "            self.labels[self.labels == -1] = 1\n",
    "        elif policy == \"zeroes\":\n",
    "            self.labels[self.labels == -1]= 0\n",
    "        else:\n",
    "            self.labels[self.labels == -1] = np.nan\n",
    "            \n",
    "    def __getitem__(self, idx):\n",
    "           \n",
    "        img = self.image_filepaths[idx]\n",
    "        image = Image.open(img).convert('RGB')\n",
    "        if self.transform:\n",
    "            image = self.transform(image)\n",
    "        \n",
    "        label = self.labels[idx]\n",
    "        return image,label\n",
    "\n",
    "    def __len__(self):\n",
    "        return len(self.image_filepaths)\n",
    "        "
   ]
  },
  {
   "cell_type": "code",
   "execution_count": 7,
   "id": "53764476",
   "metadata": {},
   "outputs": [],
   "source": [
    "def get_trasnformations():\n",
    "    \n",
    "    IMAGENET_MEAN = [0.485, 0.456, 0.406]  # mean of ImageNet dataset(for normalization)\n",
    "    IMAGENET_STD = [0.229, 0.224, 0.225]   # std of ImageNet dataset(for normalization)\n",
    "    \n",
    "    # Tranform data\n",
    "    normalize = transforms.Normalize(IMAGENET_MEAN, IMAGENET_STD)\n",
    "    \n",
    "    transformList = []\n",
    "    transformList.append(transforms.Resize((opt.img_size, opt.img_size)))\n",
    "    transformList.append(transforms.RandomHorizontalFlip())\n",
    "    transformList.append(transforms.ToTensor())\n",
    "    transformList.append(normalize)\n",
    "    transformSequence = transforms.Compose(transformList)\n",
    "    \n",
    "    return transformSequence\n",
    "    "
   ]
  },
  {
   "cell_type": "code",
   "execution_count": 8,
   "id": "7f8cb323",
   "metadata": {},
   "outputs": [],
   "source": [
    "def get_datasets():\n",
    "    train_df = pd.read_csv(opt.train_csv)\n",
    "    valid_df = pd.read_csv(opt.valid_csv)\n",
    "    test_df = pd.read_csv(opt.test_csv)\n",
    "        \n",
    "    train_df = train_df.fillna(-1)\n",
    "    valid_df = valid_df.fillna(-1)\n",
    "    test_df  = test_df.fillna(-1)\n",
    "    \n",
    "    # Class names\n",
    "    class_names = ['No Finding', 'Enlarged Cardiomediastinum', 'Cardiomegaly', 'Lung Opacity', \n",
    "                   'Lung Lesion', 'Edema', 'Consolidation', 'Pneumonia', 'Atelectasis', 'Pneumothorax', \n",
    "                   'Pleural Effusion', 'Pleural Other', 'Fracture', 'Support Devices']\n",
    "    \n",
    "    transformations = get_trasnformations()\n",
    "    \n",
    "    datasetTrain = CheXpertDataSet(train_df, class_names, transform=transformations, policy = \"zeroes\")\n",
    "    datasetValid = CheXpertDataSet(valid_df, class_names, transform=transformations, policy = \"zeroes\")\n",
    "    datasetTest  = CheXpertDataSet(test_df,   class_names, transform=transformations, policy = \"ones\")\n",
    "    \n",
    "    opt.logger.info(\"Train data length: {}\".format(len(datasetTrain)))\n",
    "    opt.logger.info(\"Valid data length: {}\".format(len(datasetValid)))\n",
    "    opt.logger.info(\"Test data length: {}\".format(len(datasetTest)))\n",
    "    \n",
    "#     opt.logger.info(class_names)\n",
    "    \n",
    "    return datasetTrain,datasetValid,datasetTest\n",
    "    "
   ]
  },
  {
   "cell_type": "code",
   "execution_count": 9,
   "id": "7712dd99",
   "metadata": {},
   "outputs": [],
   "source": [
    "def get_dataloaders():\n",
    "    datasetTrain,datasetValid,datasetTest = get_datasets()\n",
    "    \n",
    "    #for non-federated setting\n",
    "    # train_loader = DataLoader(datasetTrain,batch_size=opt.batch_size,shuffle=True,num_workers=opt.num_workers,pin_memory=True)\n",
    "    # val_loader = DataLoader(datasetValid,batch_size=opt.batch_size,shuffle=True,num_workers=opt.num_workers,pin_memory=True)\n",
    "    # test_loader = DataLoader(datasetTest,batch_size=opt.batch_size,shuffle=True,num_workers=opt.num_workers,pin_memory=True)\n",
    "    \n",
    "    '''\n",
    "    Divide datasetTrain_ex\n",
    "    datasetTrain_1, datasetTrain_2, datasetTrain_3, datasetTrain_4, datasetTrain_5, dataleft = random_split(datasetTrain, \n",
    "                                                                                                        [100, 100, 100, 100, 100,\n",
    "                                                                                                         len(datasetTrain) - 500])\n",
    "    '''\n",
    "    \n",
    "    # Divide datasetTrain for number of clients defined in config\n",
    "    datasetTrain_1, datasetTrain_2, datasetTrain_3, datasetTrain_4, datasetTrain_5 = random_split(datasetTrain, \n",
    "                                                                                              [33930,33930,33930,33930,33930])\n",
    "    \n",
    "    # Define 5 DataLoaders for each client\n",
    "    dataLoaderTrain_1 = DataLoader(dataset = datasetTrain_1, batch_size = opt.batch_size,\n",
    "                                   shuffle = True, num_workers = opt.num_workers, pin_memory = True)\n",
    "    dataLoaderTrain_2 = DataLoader(dataset = datasetTrain_2, batch_size = opt.batch_size,\n",
    "                                   shuffle = True, num_workers = opt.num_workers, pin_memory = True)\n",
    "    dataLoaderTrain_3 = DataLoader(dataset = datasetTrain_3, batch_size = opt.batch_size,\n",
    "                                   shuffle = True, num_workers = opt.num_workers, pin_memory = True)\n",
    "    dataLoaderTrain_4 = DataLoader(dataset = datasetTrain_4, batch_size = opt.batch_size,\n",
    "                                   shuffle = True, num_workers = opt.num_workers, pin_memory = True)\n",
    "    dataLoaderTrain_5 = DataLoader(dataset = datasetTrain_5, batch_size = opt.batch_size,\n",
    "                               shuffle = True, num_workers = opt.num_workers, pin_memory = True)\n",
    "    \n",
    "    # Define Valid and Test DataLoaders\n",
    "    dataLoaderVal = DataLoader(dataset = datasetValid, batch_size = opt.batch_size, \n",
    "                           shuffle = True, num_workers = opt.num_workers, pin_memory = True)\n",
    "    dataLoaderTest = DataLoader(dataset = datasetTest, batch_size = 1 ,\n",
    "                                num_workers = opt.num_workers, pin_memory = True)\n",
    "    \n",
    "    dT  = [datasetTrain_1, datasetTrain_2, datasetTrain_3, datasetTrain_4, datasetTrain_5]\n",
    "    dLT = [dataLoaderTrain_1, dataLoaderTrain_2, dataLoaderTrain_3, dataLoaderTrain_4, dataLoaderTrain_5]\n",
    "    \n",
    "    return dT, dLT, dataLoaderVal, dataLoaderTest"
   ]
  },
  {
   "cell_type": "code",
   "execution_count": 10,
   "id": "aa0da3a5",
   "metadata": {},
   "outputs": [],
   "source": [
    "# dT, dLT, dataLoaderVal, dataLoaderTesT = get_dataloaders()"
   ]
  },
  {
   "cell_type": "code",
   "execution_count": 11,
   "id": "98130da5",
   "metadata": {},
   "outputs": [],
   "source": [
    "class classifier(nn.Module):\n",
    "    def __init__(self,pretrained=False, out_size=14):\n",
    "        super(classifier, self).__init__()\n",
    "        \n",
    "        if opt.model_name == 'resnet18':\n",
    "            if pretrained==True:\n",
    "                self.model = torchvision.models.resnet18(pretrained = True)\n",
    "            elif pretrained==False:\n",
    "                self.model = torchvision.models.resnet18(pretrained = False)\n",
    "                \n",
    "            num_ftrs = self.model.fc.in_features   \n",
    "            self.model.fc = nn.Sequential(nn.Linear(num_ftrs, out_size),\n",
    "                                        nn.Sigmoid()\n",
    "                                        )\n",
    "            \n",
    "        if opt.model_name == 'resnet34':\n",
    "            if pretrained==True:\n",
    "                self.model = torchvision.models.resnet34(pretrained = True)\n",
    "            elif pretrained==False:\n",
    "                self.model = torchvision.models.resnet34(pretrained = False)\n",
    "\n",
    "            num_ftrs = self.model.fc.in_features   \n",
    "            self.model.fc = nn.Sequential(nn.Linear(num_ftrs, out_size),\n",
    "                                        nn.Sigmoid()\n",
    "                                        )\n",
    "\n",
    "    def forward(self, x):\n",
    "        x = self.model(x)\n",
    "        return x"
   ]
  },
  {
   "cell_type": "code",
   "execution_count": 12,
   "id": "61576af9",
   "metadata": {},
   "outputs": [],
   "source": [
    "def computeAUROC(dataGT, dataPRED):\n",
    "    # Computes area under ROC curve \n",
    "    # dataGT: ground truth data\n",
    "    # dataPRED: predicted data\n",
    "    outAUROC = []\n",
    "    datanpGT = dataGT.cpu().numpy()\n",
    "    datanpPRED = dataPRED.cpu().numpy()\n",
    "\n",
    "    for i in range(opt.num_classes):\n",
    "        try:\n",
    "            outAUROC.append(roc_auc_score(datanpGT[:, i], datanpPRED[:, i]))\n",
    "        except ValueError:\n",
    "            pass\n",
    "    return outAUROC\n"
   ]
  },
  {
   "cell_type": "code",
   "execution_count": 13,
   "id": "f0fb9aa9",
   "metadata": {},
   "outputs": [],
   "source": [
    "def epochTrain(model, dataLoaderTrain, optimizer, loss):\n",
    "    losstrain = 0\n",
    "    model.train()\n",
    "\n",
    "    for batchID, (varInput, target) in enumerate(Bar(dataLoaderTrain)):\n",
    "        varTarget = target.cuda(non_blocking = True)\n",
    "        varInput  = varInput.cuda(non_blocking = True)\n",
    "        varOutput = model(varInput)\n",
    "        lossvalue = loss(varOutput, varTarget)\n",
    "\n",
    "        optimizer.zero_grad()\n",
    "        lossvalue.backward()\n",
    "        optimizer.step()\n",
    "\n",
    "        losstrain += lossvalue.item()\n",
    "\n",
    "    return losstrain / len(dataLoaderTrain)"
   ]
  },
  {
   "cell_type": "code",
   "execution_count": 14,
   "id": "1a7f4f7b",
   "metadata": {},
   "outputs": [],
   "source": [
    "def epochVal(model, dataLoaderVal, loss):\n",
    "    model.eval()\n",
    "    lossVal = 0\n",
    "    outGT = torch.FloatTensor().cuda()\n",
    "    outPRED = torch.FloatTensor().cuda()\n",
    "\n",
    "    with torch.no_grad():\n",
    "        for i, (varInput, target) in enumerate(Bar(dataLoaderVal)):\n",
    "            \n",
    "            target = target.cuda(non_blocking = True)\n",
    "            varInput = varInput.cuda(non_blocking = True)\n",
    "            \n",
    "            outGT = torch.cat((outGT, target),0)\n",
    "            outGT = outGT.cuda(non_blocking = True)\n",
    "            \n",
    "            varOutput = model(varInput)\n",
    "            outPRED = torch.cat((outPRED,varOutput), 0)\n",
    "            lossVal += loss(varOutput, target)\n",
    "        aurocIndividual = computeAUROC(outGT, outPRED)\n",
    "        aurocMean = np.array(aurocIndividual).mean()\n",
    "#         print('AUROC mean ', aurocMean)\n",
    "\n",
    "    return lossVal / len(dataLoaderVal),aurocIndividual,aurocMean"
   ]
  },
  {
   "cell_type": "code",
   "execution_count": 15,
   "id": "cb0a952e",
   "metadata": {},
   "outputs": [],
   "source": [
    "# epochID = 0\n",
    "# lossv = 0.782633\n",
    "# r_counter =0\n",
    "\n",
    "# opt.logger.info('Epoch ' + str(epochID + 1) + ' [save] loss = ' + str(lossv))\n",
    "# opt.logger.info(\"[[[ Round {} Start ]]]\".format(r_counter + 1))"
   ]
  },
  {
   "cell_type": "code",
   "execution_count": 16,
   "id": "da8e1c15",
   "metadata": {},
   "outputs": [],
   "source": [
    "def train(client,model, dataLoaderTrain, dataLoaderVal, trMaxEpoch,loss):\n",
    "    \n",
    "    optimizer = optim.Adam(model.parameters(), lr =opt.lr, betas = (0.9, 0.999), eps = 1e-08, weight_decay = 0.0005) \n",
    "\n",
    "    # Train the network\n",
    "    lossMIN = 100000\n",
    "    best_auc = 0.0\n",
    "    train_start = []\n",
    "    train_end = []\n",
    "    for epochID in range(0, trMaxEpoch):\n",
    "        train_start.append(time.time())                      # training starts\n",
    "        losst = epochTrain(model, dataLoaderTrain, optimizer, loss)\n",
    "        train_end.append(time.time())                        # training ends\n",
    "        \n",
    "        lossv,aurocIndividual,aurocMean = epochVal(model, dataLoaderVal, loss)\n",
    "        \n",
    "        \n",
    "        \n",
    "        opt.logger.info(\"Train_loss: {:.3f}\".format(losst)+'\\t'+\"Val_loss: {:.3f}\".format(lossv)+'\\t'+\"Val_auc: {:.3f}\".format(aurocMean))\n",
    "        \n",
    "        with open(f'{opt.save_path}/client_{client}_logs.txt', 'a') as file:\n",
    "            file.write(str(aurocMean)+','+str(lossv.item())+'\\n')\n",
    "        \n",
    "        \n",
    "        if aurocMean> best_auc:\n",
    "            best_auc = aurocMean\n",
    "            torch.save({'epoch': epochID + 1, 'state_dict': model.state_dict(), \n",
    "                        'best_loss': lossMIN, 'optimizer' : optimizer.state_dict()}, \n",
    "                        os.path.join(opt.save_path,f'client_{client}_{opt.model_name}' + '.pth'))\n",
    "            \n",
    "            opt.logger.info('Epoch ' + str(epochID + 1) + ' [save] auc = ' + str(aurocMean))\n",
    "        else:\n",
    "            opt.logger.info('Epoch ' + str(epochID + 1) + ' [----] auc = ' + str(aurocMean))\n",
    "\n",
    "    train_time = np.array(train_end) - np.array(train_start)\n",
    "    opt.logger.info(\"Training time for each epoch: {} seconds\".format(train_time.round(0)))\n",
    "    params = model.state_dict()\n",
    "    return params\n"
   ]
  },
  {
   "cell_type": "code",
   "execution_count": 17,
   "id": "a5ae872b",
   "metadata": {},
   "outputs": [],
   "source": [
    "def main():\n",
    "    sel_clients = sorted(random.sample(range(opt.num_clients),round(opt.num_clients*opt.fraction))) # Step 1: select random fraction of clients\n",
    "    opt.logger.info(\"The number of clients: {}\".format(len(sel_clients)))\n",
    "    model = classifier(pretrained=opt.pre_train,out_size=opt.num_classes)\n",
    "    client_models = [classifier(pretrained=opt.pre_train,out_size=opt.num_classes).to(opt.device) for i in range(len(sel_clients))]\n",
    "    \n",
    "    loss = torch.nn.BCELoss() \n",
    "    global_checkpoint = os.path.join(f'{opt.save_path}',f'global_{opt.name}.pth')\n",
    "    \n",
    "    if global_checkpoint != None and os.path.isfile(global_checkpoint):\n",
    "        modelCheckpoint = torch.load(opt.global_checkpoint,map_location = opt.device)\n",
    "        model.load_state_dict(modelCheckpoint['state_dict'])\n",
    "        opt.logger.info(\"Loaded pre-trained model with success.\")\n",
    "        r_counter=modelCheckpoint['round']\n",
    "        global_lossMIN = modelCheckpoint['best_loss']\n",
    "        opt.logger.info('Previously Trained for {} rounds'.format(r_counter))\n",
    "    else:\n",
    "        opt.logger.info(\"Pre-trained weights not found. Training from scratch.\")\n",
    "        e_counter=0\n",
    "        global_lossMIN = 100000\n",
    "        best_auc = 0.0\n",
    "    \n",
    "    dT, dLT, dataLoaderVal, dataLoaderTesT = get_dataloaders()    \n",
    "    for r_counter in range(opt.com_round):\n",
    "        opt.logger.info(\"[[[ Round {} Start ]]]\".format(r_counter + 1))\n",
    "        params = [None] * opt.num_clients\n",
    "        \n",
    "        for i in sel_clients:                                                            # Step 2: send weights to clients\n",
    "            opt.logger.info(\"<< Client {} Training Start >>\".format(i + 1))\n",
    "            train_valid_start = time.time()\n",
    "            params[i] = train(i,client_models[i], dLT[i], dataLoaderVal,                              # Step 3: Perform local computations\n",
    "                            trMaxEpoch = opt.client_epoch,loss=loss)\n",
    "            \n",
    "            train_valid_end = time.time()\n",
    "            client_time = round(train_valid_end - train_valid_start)\n",
    "            opt.logger.info(\"<< Client {} Training End: {} seconds elapsed >>\".format(i + 1, client_time))\n",
    "\n",
    "        fidx = [idx for idx in range(len(params)) if params[idx] != None][0]\n",
    "        lidx = [idx for idx in range(len(params)) if params[idx] != None][-1]\n",
    "\n",
    "        for key in params[fidx]:                                                      # Step 4: return updates to server\n",
    "            weights, weightn = [], []\n",
    "            for k in sel_clients:\n",
    "                weights.append(params[k][key]*len(dT[k]))\n",
    "                weightn.append(len(dT[k]))\n",
    "            params[lidx][key] = sum(weights) / sum(weightn)                           # weighted averaging model weights\n",
    "    \n",
    "    \n",
    "        #########                                                                    # loading each client model with aggregated weights\n",
    "        for cl in client_models:\n",
    "            cl.load_state_dict(params[lidx])\n",
    "        #########    \n",
    "        \n",
    "        model = classifier(pretrained=opt.pre_train,out_size=opt.num_classes)\n",
    "        model.load_state_dict(params[lidx])                # Step 5: server updates global state\n",
    "        model.to(opt.device)\n",
    "        opt.logger.info(\"[[[ Round {} End ]]]\".format(r_counter + 1))\n",
    "        opt.logger.info('Validating global aggregated model')\n",
    "        valid_loss,aurocIndividual,aurocMean = epochVal(model, dataLoaderVal,loss)\n",
    "        \n",
    "        with open(f'{opt.save_path}/global_logs.txt', 'a') as file:\n",
    "            file.write(str(r_counter)+','+str(aurocMean)+','+str(valid_loss.item())+'\\n')\n",
    "        \n",
    "        if aurocMean> best_auc:\n",
    "            opt.logger.info('auc increased ({:.3f} --> {:.3f}). Saving model ...'.format(best_auc,aurocMean))\n",
    "            best_auc = aurocMean\n",
    "            torch.save({'round': r_counter + 1, 'state_dict': model.state_dict(), \n",
    "                        'best_loss': global_lossMIN}, \n",
    "                        os.path.join(opt.save_path,f'global_{opt.model_name}.pth')) \n",
    "            opt.logger.info('Round ' + str(r_counter + 1) + '[save] loss = ' + str(valid_loss.item()) + 'auc = ' + str(aurocMean))\n",
    "        else:\n",
    "            opt.logger.info('Round ' + str(r_counter + 1) + ' [----] loss = ' + str(valid_loss.item()) + 'auc = ' + str(aurocMean))\n",
    "        \n",
    "    opt.logger.info(\"Global model trained\")"
   ]
  },
  {
   "cell_type": "code",
   "execution_count": 18,
   "id": "160c5edb",
   "metadata": {},
   "outputs": [
    {
     "name": "stderr",
     "output_type": "stream",
     "text": [
      " The number of clients: 5\n",
      " Pre-trained weights not found. Training from scratch.\n",
      " Train data length: 169650\n",
      " Valid data length: 21377\n",
      " Test data length: 202\n",
      " [[[ Round 1 Start ]]]\n",
      " << Client 1 Training Start >>\n"
     ]
    },
    {
     "name": "stdout",
     "output_type": "stream",
     "text": [
      "33930/33930: [===============================>] - ETA 2.0ssss\n",
      "21377/21377: [===============================>] - ETA 0.4sss\n"
     ]
    },
    {
     "name": "stderr",
     "output_type": "stream",
     "text": [
      " Train_loss: 0.314\tVal_loss: 0.296\tVal_auc: 0.732\n",
      " Epoch 1 [save] auc = 0.7319167541577667\n"
     ]
    },
    {
     "name": "stdout",
     "output_type": "stream",
     "text": [
      "33930/33930: [===============================>] - ETA 0.3sss\n",
      "21377/21377: [===============================>] - ETA 0.3sss\n"
     ]
    },
    {
     "name": "stderr",
     "output_type": "stream",
     "text": [
      " Train_loss: 0.295\tVal_loss: 0.298\tVal_auc: 0.740\n",
      " Epoch 2 [save] auc = 0.7400179786595596\n"
     ]
    },
    {
     "name": "stdout",
     "output_type": "stream",
     "text": [
      "33930/33930: [===============================>] - ETA 0.3sss\n",
      "21377/21377: [===============================>] - ETA 0.3sss\n"
     ]
    },
    {
     "name": "stderr",
     "output_type": "stream",
     "text": [
      " Train_loss: 0.291\tVal_loss: 0.297\tVal_auc: 0.740\n",
      " Epoch 3 [save] auc = 0.7401786565982988\n",
      " Training time for each epoch: [40. 38. 37.] seconds\n",
      " << Client 1 Training End: 167 seconds elapsed >>\n",
      " << Client 2 Training Start >>\n"
     ]
    },
    {
     "name": "stdout",
     "output_type": "stream",
     "text": [
      "33930/33930: [===============================>] - ETA 0.3sss\n",
      "21377/21377: [===============================>] - ETA 0.3sss\n"
     ]
    },
    {
     "name": "stderr",
     "output_type": "stream",
     "text": [
      " Train_loss: 0.318\tVal_loss: 0.301\tVal_auc: 0.733\n",
      " Epoch 1 [save] auc = 0.7329271921706011\n"
     ]
    },
    {
     "name": "stdout",
     "output_type": "stream",
     "text": [
      "33930/33930: [===============================>] - ETA 0.3sss\n",
      "21377/21377: [===============================>] - ETA 0.3sss\n"
     ]
    },
    {
     "name": "stderr",
     "output_type": "stream",
     "text": [
      " Train_loss: 0.295\tVal_loss: 0.291\tVal_auc: 0.746\n",
      " Epoch 2 [save] auc = 0.7464379909810905\n"
     ]
    },
    {
     "name": "stdout",
     "output_type": "stream",
     "text": [
      "33930/33930: [===============================>] - ETA 0.3sss\n",
      "21377/21377: [===============================>] - ETA 0.3sss\n"
     ]
    },
    {
     "name": "stderr",
     "output_type": "stream",
     "text": [
      " Train_loss: 0.290\tVal_loss: 0.293\tVal_auc: 0.748\n",
      " Epoch 3 [save] auc = 0.7483561158585549\n",
      " Training time for each epoch: [38. 37. 38.] seconds\n",
      " << Client 2 Training End: 165 seconds elapsed >>\n",
      " << Client 3 Training Start >>\n"
     ]
    },
    {
     "name": "stdout",
     "output_type": "stream",
     "text": [
      "33930/33930: [===============================>] - ETA 0.3sss\n",
      "21377/21377: [===============================>] - ETA 0.3sss\n"
     ]
    },
    {
     "name": "stderr",
     "output_type": "stream",
     "text": [
      " Train_loss: 0.316\tVal_loss: 0.300\tVal_auc: 0.728\n",
      " Epoch 1 [save] auc = 0.7283514727475426\n"
     ]
    },
    {
     "name": "stdout",
     "output_type": "stream",
     "text": [
      "33930/33930: [===============================>] - ETA 0.3sss\n",
      "21377/21377: [===============================>] - ETA 0.3sss\n"
     ]
    },
    {
     "name": "stderr",
     "output_type": "stream",
     "text": [
      " Train_loss: 0.295\tVal_loss: 0.297\tVal_auc: 0.737\n",
      " Epoch 2 [save] auc = 0.7368216438069244\n"
     ]
    },
    {
     "name": "stdout",
     "output_type": "stream",
     "text": [
      "33930/33930: [===============================>] - ETA 0.3sss\n",
      "21377/21377: [===============================>] - ETA 0.4sss\n"
     ]
    },
    {
     "name": "stderr",
     "output_type": "stream",
     "text": [
      " Train_loss: 0.290\tVal_loss: 0.298\tVal_auc: 0.740\n",
      " Epoch 3 [save] auc = 0.739592833852831\n",
      " Training time for each epoch: [38. 38. 38.] seconds\n",
      " << Client 3 Training End: 166 seconds elapsed >>\n",
      " << Client 4 Training Start >>\n"
     ]
    },
    {
     "name": "stdout",
     "output_type": "stream",
     "text": [
      "33930/33930: [===============================>] - ETA 0.3sss\n",
      "21377/21377: [===============================>] - ETA 0.3sss\n"
     ]
    },
    {
     "name": "stderr",
     "output_type": "stream",
     "text": [
      " Train_loss: 0.315\tVal_loss: 0.303\tVal_auc: 0.729\n",
      " Epoch 1 [save] auc = 0.7288765906417753\n"
     ]
    },
    {
     "name": "stdout",
     "output_type": "stream",
     "text": [
      "33930/33930: [===============================>] - ETA 0.3sss\n",
      "21377/21377: [===============================>] - ETA 0.3sss\n"
     ]
    },
    {
     "name": "stderr",
     "output_type": "stream",
     "text": [
      " Train_loss: 0.295\tVal_loss: 0.296\tVal_auc: 0.736\n",
      " Epoch 2 [save] auc = 0.7364999986994054\n"
     ]
    },
    {
     "name": "stdout",
     "output_type": "stream",
     "text": [
      "33930/33930: [===============================>] - ETA 0.3sss\n",
      "21377/21377: [===============================>] - ETA 0.3sss\n"
     ]
    },
    {
     "name": "stderr",
     "output_type": "stream",
     "text": [
      " Train_loss: 0.290\tVal_loss: 0.299\tVal_auc: 0.742\n",
      " Epoch 3 [save] auc = 0.7421113976992105\n",
      " Training time for each epoch: [37. 38. 38.] seconds\n",
      " << Client 4 Training End: 165 seconds elapsed >>\n",
      " << Client 5 Training Start >>\n"
     ]
    },
    {
     "name": "stdout",
     "output_type": "stream",
     "text": [
      "33930/33930: [===============================>] - ETA 0.4sss\n",
      "21377/21377: [===============================>] - ETA 0.4sss\n"
     ]
    },
    {
     "name": "stderr",
     "output_type": "stream",
     "text": [
      " Train_loss: 0.318\tVal_loss: 0.318\tVal_auc: 0.724\n",
      " Epoch 1 [save] auc = 0.7239493875353551\n"
     ]
    },
    {
     "name": "stdout",
     "output_type": "stream",
     "text": [
      "33930/33930: [===============================>] - ETA 0.4sss\n",
      "21377/21377: [===============================>] - ETA 0.3sss\n"
     ]
    },
    {
     "name": "stderr",
     "output_type": "stream",
     "text": [
      " Train_loss: 0.296\tVal_loss: 0.303\tVal_auc: 0.738\n",
      " Epoch 2 [save] auc = 0.7380152848089586\n"
     ]
    },
    {
     "name": "stdout",
     "output_type": "stream",
     "text": [
      "33930/33930: [===============================>] - ETA 0.4sss\n",
      "21377/21377: [===============================>] - ETA 0.3sss\n"
     ]
    },
    {
     "name": "stderr",
     "output_type": "stream",
     "text": [
      " Train_loss: 0.291\tVal_loss: 0.299\tVal_auc: 0.746\n",
      " Epoch 3 [save] auc = 0.7455168494798878\n",
      " Training time for each epoch: [38. 38. 36.] seconds\n",
      " << Client 5 Training End: 163 seconds elapsed >>\n",
      " [[[ Round 1 End ]]]\n",
      " Validating global aggregated model\n"
     ]
    },
    {
     "name": "stdout",
     "output_type": "stream",
     "text": [
      "21377/21377: [===============================>] - ETA 0.3sss\n"
     ]
    },
    {
     "name": "stderr",
     "output_type": "stream",
     "text": [
      " auc increased (0.716 --> 0.716). Saving model ...\n",
      " Round 1[save] loss = 0.3543170690536499auc = 0.7155095869974198\n",
      " [[[ Round 2 Start ]]]\n",
      " << Client 1 Training Start >>\n"
     ]
    },
    {
     "name": "stdout",
     "output_type": "stream",
     "text": [
      "33930/33930: [===============================>] - ETA 0.3sss\n",
      "21377/21377: [===============================>] - ETA 0.3sss\n"
     ]
    },
    {
     "name": "stderr",
     "output_type": "stream",
     "text": [
      " Train_loss: 0.297\tVal_loss: 0.293\tVal_auc: 0.744\n",
      " Epoch 1 [save] auc = 0.7436589797287761\n"
     ]
    },
    {
     "name": "stdout",
     "output_type": "stream",
     "text": [
      "33930/33930: [===============================>] - ETA 0.3sss\n",
      "21377/21377: [===============================>] - ETA 0.3sss\n"
     ]
    },
    {
     "name": "stderr",
     "output_type": "stream",
     "text": [
      " Train_loss: 0.291\tVal_loss: 0.289\tVal_auc: 0.741\n",
      " Epoch 2 [----] auc = 0.741172275027168\n"
     ]
    },
    {
     "name": "stdout",
     "output_type": "stream",
     "text": [
      "33930/33930: [===============================>] - ETA 0.3sss\n",
      "21377/21377: [===============================>] - ETA 0.4sss\n"
     ]
    },
    {
     "name": "stderr",
     "output_type": "stream",
     "text": [
      " Train_loss: 0.287\tVal_loss: 0.293\tVal_auc: 0.745\n",
      " Epoch 3 [save] auc = 0.7451249655896459\n",
      " Training time for each epoch: [38. 38. 38.] seconds\n",
      " << Client 1 Training End: 166 seconds elapsed >>\n",
      " << Client 2 Training Start >>\n"
     ]
    },
    {
     "name": "stdout",
     "output_type": "stream",
     "text": [
      "33930/33930: [===============================>] - ETA 0.3sss\n",
      "21377/21377: [===============================>] - ETA 0.3sss\n"
     ]
    },
    {
     "name": "stderr",
     "output_type": "stream",
     "text": [
      " Train_loss: 0.296\tVal_loss: 0.313\tVal_auc: 0.737\n",
      " Epoch 1 [save] auc = 0.7365142518936538\n"
     ]
    },
    {
     "name": "stdout",
     "output_type": "stream",
     "text": [
      "33930/33930: [===============================>] - ETA 0.3sss\n",
      "21377/21377: [===============================>] - ETA 0.4sss\n"
     ]
    },
    {
     "name": "stderr",
     "output_type": "stream",
     "text": [
      " Train_loss: 0.290\tVal_loss: 0.294\tVal_auc: 0.745\n",
      " Epoch 2 [save] auc = 0.7454358389148739\n"
     ]
    },
    {
     "name": "stdout",
     "output_type": "stream",
     "text": [
      "33930/33930: [===============================>] - ETA 0.3sss\n",
      "21377/21377: [===============================>] - ETA 0.3sss\n"
     ]
    },
    {
     "name": "stderr",
     "output_type": "stream",
     "text": [
      " Train_loss: 0.287\tVal_loss: 0.294\tVal_auc: 0.751\n",
      " Epoch 3 [save] auc = 0.7509488672293101\n",
      " Training time for each epoch: [38. 38. 41.] seconds\n",
      " << Client 2 Training End: 171 seconds elapsed >>\n",
      " << Client 3 Training Start >>\n"
     ]
    },
    {
     "name": "stdout",
     "output_type": "stream",
     "text": [
      "33930/33930: [===============================>] - ETA 0.3sss\n",
      "21377/21377: [===============================>] - ETA 0.4sss\n"
     ]
    },
    {
     "name": "stderr",
     "output_type": "stream",
     "text": [
      " Train_loss: 0.297\tVal_loss: 0.296\tVal_auc: 0.736\n",
      " Epoch 1 [save] auc = 0.7361810031159575\n"
     ]
    },
    {
     "name": "stdout",
     "output_type": "stream",
     "text": [
      "33930/33930: [===============================>] - ETA 0.3sss\n",
      "21377/21377: [===============================>] - ETA 0.4sss\n"
     ]
    },
    {
     "name": "stderr",
     "output_type": "stream",
     "text": [
      " Train_loss: 0.290\tVal_loss: 0.293\tVal_auc: 0.743\n",
      " Epoch 2 [save] auc = 0.7432228842046299\n"
     ]
    },
    {
     "name": "stdout",
     "output_type": "stream",
     "text": [
      "33930/33930: [===============================>] - ETA 0.4sss\n",
      "21377/21377: [===============================>] - ETA 0.4sss\n"
     ]
    },
    {
     "name": "stderr",
     "output_type": "stream",
     "text": [
      " Train_loss: 0.286\tVal_loss: 0.289\tVal_auc: 0.746\n",
      " Epoch 3 [save] auc = 0.7462073432268982\n",
      " Training time for each epoch: [38. 39. 39.] seconds\n",
      " << Client 3 Training End: 170 seconds elapsed >>\n",
      " << Client 4 Training Start >>\n"
     ]
    },
    {
     "name": "stdout",
     "output_type": "stream",
     "text": [
      "33930/33930: [===============================>] - ETA 0.4sss\n",
      "21377/21377: [===============================>] - ETA 0.3sss\n"
     ]
    },
    {
     "name": "stderr",
     "output_type": "stream",
     "text": [
      " Train_loss: 0.297\tVal_loss: 0.293\tVal_auc: 0.736\n",
      " Epoch 1 [save] auc = 0.736166289769085\n"
     ]
    },
    {
     "name": "stdout",
     "output_type": "stream",
     "text": [
      "33930/33930: [===============================>] - ETA 0.4sss\n",
      "21377/21377: [===============================>] - ETA 0.4sss\n"
     ]
    },
    {
     "name": "stderr",
     "output_type": "stream",
     "text": [
      " Train_loss: 0.290\tVal_loss: 0.289\tVal_auc: 0.747\n",
      " Epoch 2 [save] auc = 0.7468182447088745\n"
     ]
    },
    {
     "name": "stdout",
     "output_type": "stream",
     "text": [
      "33930/33930: [===============================>] - ETA 0.4sss\n",
      "21377/21377: [===============================>] - ETA 0.3sss\n"
     ]
    },
    {
     "name": "stderr",
     "output_type": "stream",
     "text": [
      " Train_loss: 0.286\tVal_loss: 0.288\tVal_auc: 0.745\n",
      " Epoch 3 [----] auc = 0.744830534673207\n",
      " Training time for each epoch: [38. 37. 37.] seconds\n",
      " << Client 4 Training End: 165 seconds elapsed >>\n",
      " << Client 5 Training Start >>\n"
     ]
    },
    {
     "name": "stdout",
     "output_type": "stream",
     "text": [
      "33930/33930: [===============================>] - ETA 0.3sss\n",
      "21377/21377: [===============================>] - ETA 0.4sss\n"
     ]
    },
    {
     "name": "stderr",
     "output_type": "stream",
     "text": [
      " Train_loss: 0.298\tVal_loss: 0.296\tVal_auc: 0.737\n",
      " Epoch 1 [save] auc = 0.7367762517031758\n"
     ]
    },
    {
     "name": "stdout",
     "output_type": "stream",
     "text": [
      "33930/33930: [===============================>] - ETA 0.3sss\n",
      "21377/21377: [===============================>] - ETA 0.4sss\n"
     ]
    },
    {
     "name": "stderr",
     "output_type": "stream",
     "text": [
      " Train_loss: 0.292\tVal_loss: 0.292\tVal_auc: 0.746\n",
      " Epoch 2 [save] auc = 0.7464933802594376\n"
     ]
    },
    {
     "name": "stdout",
     "output_type": "stream",
     "text": [
      "33930/33930: [===============================>] - ETA 0.3sss\n",
      "21377/21377: [===============================>] - ETA 0.4sss\n"
     ]
    },
    {
     "name": "stderr",
     "output_type": "stream",
     "text": [
      " Train_loss: 0.288\tVal_loss: 0.301\tVal_auc: 0.742\n",
      " Epoch 3 [----] auc = 0.7424575623042156\n",
      " Training time for each epoch: [40. 41. 37.] seconds\n",
      " << Client 5 Training End: 171 seconds elapsed >>\n",
      " [[[ Round 2 End ]]]\n",
      " Validating global aggregated model\n"
     ]
    },
    {
     "name": "stdout",
     "output_type": "stream",
     "text": [
      "21377/21377: [===============================>] - ETA 0.3sss\n"
     ]
    },
    {
     "name": "stderr",
     "output_type": "stream",
     "text": [
      " auc increased (0.763 --> 0.763). Saving model ...\n",
      " Round 2[save] loss = 0.28423795104026794auc = 0.7626464533184968\n",
      " [[[ Round 3 Start ]]]\n",
      " << Client 1 Training Start >>\n"
     ]
    },
    {
     "name": "stdout",
     "output_type": "stream",
     "text": [
      "33930/33930: [===============================>] - ETA 0.3sss\n",
      "21377/21377: [===============================>] - ETA 0.3sss\n"
     ]
    },
    {
     "name": "stderr",
     "output_type": "stream",
     "text": [
      " Train_loss: 0.290\tVal_loss: 0.289\tVal_auc: 0.748\n",
      " Epoch 1 [save] auc = 0.7475130345413873\n"
     ]
    },
    {
     "name": "stdout",
     "output_type": "stream",
     "text": [
      "33930/33930: [===============================>] - ETA 0.3sss\n",
      "21377/21377: [===============================>] - ETA 0.3sss\n"
     ]
    },
    {
     "name": "stderr",
     "output_type": "stream",
     "text": [
      " Train_loss: 0.286\tVal_loss: 0.290\tVal_auc: 0.751\n",
      " Epoch 2 [save] auc = 0.7509054623141395\n"
     ]
    },
    {
     "name": "stdout",
     "output_type": "stream",
     "text": [
      "33930/33930: [===============================>] - ETA 0.4sss\n",
      "21377/21377: [===============================>] - ETA 0.4sss\n"
     ]
    },
    {
     "name": "stderr",
     "output_type": "stream",
     "text": [
      " Train_loss: 0.283\tVal_loss: 0.288\tVal_auc: 0.750\n",
      " Epoch 3 [----] auc = 0.7504940018492275\n",
      " Training time for each epoch: [38. 38. 38.] seconds\n",
      " << Client 1 Training End: 167 seconds elapsed >>\n",
      " << Client 2 Training Start >>\n"
     ]
    },
    {
     "name": "stdout",
     "output_type": "stream",
     "text": [
      "33930/33930: [===============================>] - ETA 0.4sss\n",
      "21377/21377: [===============================>] - ETA 0.4sss\n"
     ]
    },
    {
     "name": "stderr",
     "output_type": "stream",
     "text": [
      " Train_loss: 0.290\tVal_loss: 0.292\tVal_auc: 0.754\n",
      " Epoch 1 [save] auc = 0.7535032629120222\n"
     ]
    },
    {
     "name": "stdout",
     "output_type": "stream",
     "text": [
      "33930/33930: [===============================>] - ETA 0.3sss\n",
      "21377/21377: [===============================>] - ETA 0.3sss\n"
     ]
    },
    {
     "name": "stderr",
     "output_type": "stream",
     "text": [
      " Train_loss: 0.285\tVal_loss: 0.290\tVal_auc: 0.749\n",
      " Epoch 2 [----] auc = 0.7489592959073158\n"
     ]
    },
    {
     "name": "stdout",
     "output_type": "stream",
     "text": [
      "33930/33930: [===============================>] - ETA 0.3sss\n",
      "21377/21377: [===============================>] - ETA 0.5sss\n"
     ]
    },
    {
     "name": "stderr",
     "output_type": "stream",
     "text": [
      " Train_loss: 0.282\tVal_loss: 0.289\tVal_auc: 0.748\n",
      " Epoch 3 [----] auc = 0.7479845868854069\n",
      " Training time for each epoch: [38. 38. 38.] seconds\n",
      " << Client 2 Training End: 166 seconds elapsed >>\n",
      " << Client 3 Training Start >>\n"
     ]
    },
    {
     "name": "stdout",
     "output_type": "stream",
     "text": [
      "33930/33930: [===============================>] - ETA 0.4sss\n",
      "21377/21377: [===============================>] - ETA 0.3sss\n"
     ]
    },
    {
     "name": "stderr",
     "output_type": "stream",
     "text": [
      " Train_loss: 0.289\tVal_loss: 0.286\tVal_auc: 0.754\n",
      " Epoch 1 [save] auc = 0.7539893213401234\n"
     ]
    },
    {
     "name": "stdout",
     "output_type": "stream",
     "text": [
      "33930/33930: [===============================>] - ETA 0.4sss\n",
      "21377/21377: [===============================>] - ETA 0.4sss\n"
     ]
    },
    {
     "name": "stderr",
     "output_type": "stream",
     "text": [
      " Train_loss: 0.285\tVal_loss: 0.286\tVal_auc: 0.749\n",
      " Epoch 2 [----] auc = 0.7493261934012062\n"
     ]
    },
    {
     "name": "stdout",
     "output_type": "stream",
     "text": [
      "33930/33930: [===============================>] - ETA 0.3sss\n",
      "21377/21377: [===============================>] - ETA 0.4sss\n"
     ]
    },
    {
     "name": "stderr",
     "output_type": "stream",
     "text": [
      " Train_loss: 0.282\tVal_loss: 0.298\tVal_auc: 0.741\n",
      " Epoch 3 [----] auc = 0.7408477480454588\n",
      " Training time for each epoch: [38. 38. 38.] seconds\n",
      " << Client 3 Training End: 165 seconds elapsed >>\n",
      " << Client 4 Training Start >>\n"
     ]
    },
    {
     "name": "stdout",
     "output_type": "stream",
     "text": [
      "33930/33930: [===============================>] - ETA 0.3sss\n",
      "21377/21377: [===============================>] - ETA 0.3sss\n"
     ]
    },
    {
     "name": "stderr",
     "output_type": "stream",
     "text": [
      " Train_loss: 0.289\tVal_loss: 0.292\tVal_auc: 0.747\n",
      " Epoch 1 [save] auc = 0.7465104856809812\n"
     ]
    },
    {
     "name": "stdout",
     "output_type": "stream",
     "text": [
      "33930/33930: [===============================>] - ETA 0.4sss\n",
      "21377/21377: [===============================>] - ETA 0.3sss\n"
     ]
    },
    {
     "name": "stderr",
     "output_type": "stream",
     "text": [
      " Train_loss: 0.285\tVal_loss: 0.289\tVal_auc: 0.752\n",
      " Epoch 2 [save] auc = 0.7524086555396511\n"
     ]
    },
    {
     "name": "stdout",
     "output_type": "stream",
     "text": [
      "33930/33930: [===============================>] - ETA 0.3sss\n",
      "21377/21377: [===============================>] - ETA 0.3sss\n"
     ]
    },
    {
     "name": "stderr",
     "output_type": "stream",
     "text": [
      " Train_loss: 0.282\tVal_loss: 0.290\tVal_auc: 0.747\n",
      " Epoch 3 [----] auc = 0.7468595925091409\n",
      " Training time for each epoch: [37. 37. 38.] seconds\n",
      " << Client 4 Training End: 165 seconds elapsed >>\n",
      " << Client 5 Training Start >>\n"
     ]
    },
    {
     "name": "stdout",
     "output_type": "stream",
     "text": [
      "33930/33930: [===============================>] - ETA 0.4sss\n",
      "21377/21377: [===============================>] - ETA 0.4sss\n"
     ]
    },
    {
     "name": "stderr",
     "output_type": "stream",
     "text": [
      " Train_loss: 0.291\tVal_loss: 0.295\tVal_auc: 0.743\n",
      " Epoch 1 [save] auc = 0.7434793505248257\n"
     ]
    },
    {
     "name": "stdout",
     "output_type": "stream",
     "text": [
      "33930/33930: [===============================>] - ETA 0.3sss\n",
      "21377/21377: [===============================>] - ETA 0.4sss\n"
     ]
    },
    {
     "name": "stderr",
     "output_type": "stream",
     "text": [
      " Train_loss: 0.287\tVal_loss: 0.292\tVal_auc: 0.748\n",
      " Epoch 2 [save] auc = 0.7477142536183414\n"
     ]
    },
    {
     "name": "stdout",
     "output_type": "stream",
     "text": [
      "33930/33930: [===============================>] - ETA 0.4sss\n",
      "21377/21377: [===============================>] - ETA 0.4sss\n"
     ]
    },
    {
     "name": "stderr",
     "output_type": "stream",
     "text": [
      " Train_loss: 0.283\tVal_loss: 0.295\tVal_auc: 0.751\n",
      " Epoch 3 [save] auc = 0.7511774992648867\n",
      " Training time for each epoch: [38. 39. 38.] seconds\n",
      " << Client 5 Training End: 169 seconds elapsed >>\n",
      " [[[ Round 3 End ]]]\n",
      " Validating global aggregated model\n"
     ]
    },
    {
     "name": "stdout",
     "output_type": "stream",
     "text": [
      "21377/21377: [===============================>] - ETA 0.3sss\n"
     ]
    },
    {
     "name": "stderr",
     "output_type": "stream",
     "text": [
      " auc increased (0.769 --> 0.769). Saving model ...\n",
      " Round 3[save] loss = 0.28012654185295105auc = 0.7685399134291513\n",
      " [[[ Round 4 Start ]]]\n",
      " << Client 1 Training Start >>\n"
     ]
    },
    {
     "name": "stdout",
     "output_type": "stream",
     "text": [
      "33930/33930: [===============================>] - ETA 0.4sss\n",
      "21377/21377: [===============================>] - ETA 0.3sss\n"
     ]
    },
    {
     "name": "stderr",
     "output_type": "stream",
     "text": [
      " Train_loss: 0.287\tVal_loss: 0.290\tVal_auc: 0.755\n",
      " Epoch 1 [save] auc = 0.7550165503527513\n"
     ]
    },
    {
     "name": "stdout",
     "output_type": "stream",
     "text": [
      "33930/33930: [===============================>] - ETA 0.4sss\n",
      "21377/21377: [===============================>] - ETA 0.3sss\n"
     ]
    },
    {
     "name": "stderr",
     "output_type": "stream",
     "text": [
      " Train_loss: 0.283\tVal_loss: 0.290\tVal_auc: 0.750\n",
      " Epoch 2 [----] auc = 0.7495384513637234\n"
     ]
    },
    {
     "name": "stdout",
     "output_type": "stream",
     "text": [
      "33930/33930: [===============================>] - ETA 0.4sss\n",
      "21377/21377: [===============================>] - ETA 0.4sss\n"
     ]
    },
    {
     "name": "stderr",
     "output_type": "stream",
     "text": [
      " Train_loss: 0.280\tVal_loss: 0.292\tVal_auc: 0.752\n",
      " Epoch 3 [----] auc = 0.7520689359599839\n",
      " Training time for each epoch: [38. 40. 38.] seconds\n",
      " << Client 1 Training End: 167 seconds elapsed >>\n",
      " << Client 2 Training Start >>\n"
     ]
    },
    {
     "name": "stdout",
     "output_type": "stream",
     "text": [
      "33930/33930: [===============================>] - ETA 0.4sss\n",
      "21377/21377: [===============================>] - ETA 0.3sss\n"
     ]
    },
    {
     "name": "stderr",
     "output_type": "stream",
     "text": [
      " Train_loss: 0.286\tVal_loss: 0.295\tVal_auc: 0.744\n",
      " Epoch 1 [save] auc = 0.744378329445263\n"
     ]
    },
    {
     "name": "stdout",
     "output_type": "stream",
     "text": [
      "33930/33930: [===============================>] - ETA 0.3sss\n",
      "21377/21377: [===============================>] - ETA 0.4sss\n"
     ]
    },
    {
     "name": "stderr",
     "output_type": "stream",
     "text": [
      " Train_loss: 0.283\tVal_loss: 0.296\tVal_auc: 0.750\n",
      " Epoch 2 [save] auc = 0.7502681928614908\n"
     ]
    },
    {
     "name": "stdout",
     "output_type": "stream",
     "text": [
      "33930/33930: [===============================>] - ETA 0.4sss\n",
      "21377/21377: [===============================>] - ETA 0.3sss\n"
     ]
    },
    {
     "name": "stderr",
     "output_type": "stream",
     "text": [
      " Train_loss: 0.279\tVal_loss: 0.293\tVal_auc: 0.746\n",
      " Epoch 3 [----] auc = 0.7459578538664131\n",
      " Training time for each epoch: [38. 38. 38.] seconds\n",
      " << Client 2 Training End: 166 seconds elapsed >>\n",
      " << Client 3 Training Start >>\n"
     ]
    },
    {
     "name": "stdout",
     "output_type": "stream",
     "text": [
      "33930/33930: [===============================>] - ETA 0.4sss\n",
      "21377/21377: [===============================>] - ETA 0.4sss\n"
     ]
    },
    {
     "name": "stderr",
     "output_type": "stream",
     "text": [
      " Train_loss: 0.286\tVal_loss: 0.284\tVal_auc: 0.757\n",
      " Epoch 1 [save] auc = 0.7569468419550182\n"
     ]
    },
    {
     "name": "stdout",
     "output_type": "stream",
     "text": [
      "33930/33930: [===============================>] - ETA 0.4sss\n",
      "21377/21377: [===============================>] - ETA 0.4sss\n"
     ]
    },
    {
     "name": "stderr",
     "output_type": "stream",
     "text": [
      " Train_loss: 0.282\tVal_loss: 0.294\tVal_auc: 0.745\n",
      " Epoch 2 [----] auc = 0.7452334864372556\n"
     ]
    },
    {
     "name": "stdout",
     "output_type": "stream",
     "text": [
      "33930/33930: [===============================>] - ETA 0.4sss\n",
      "21377/21377: [===============================>] - ETA 0.4sss\n"
     ]
    },
    {
     "name": "stderr",
     "output_type": "stream",
     "text": [
      " Train_loss: 0.279\tVal_loss: 0.295\tVal_auc: 0.749\n",
      " Epoch 3 [----] auc = 0.7489097091987829\n",
      " Training time for each epoch: [38. 38. 42.] seconds\n",
      " << Client 3 Training End: 169 seconds elapsed >>\n",
      " << Client 4 Training Start >>\n"
     ]
    },
    {
     "name": "stdout",
     "output_type": "stream",
     "text": [
      "33930/33930: [===============================>] - ETA 0.4sss\n",
      "21377/21377: [===============================>] - ETA 0.3sss\n"
     ]
    },
    {
     "name": "stderr",
     "output_type": "stream",
     "text": [
      " Train_loss: 0.286\tVal_loss: 0.287\tVal_auc: 0.754\n",
      " Epoch 1 [save] auc = 0.7542389219943523\n"
     ]
    },
    {
     "name": "stdout",
     "output_type": "stream",
     "text": [
      "33930/33930: [===============================>] - ETA 0.3sss\n",
      "21377/21377: [===============================>] - ETA 0.4sss\n"
     ]
    },
    {
     "name": "stderr",
     "output_type": "stream",
     "text": [
      " Train_loss: 0.282\tVal_loss: 0.285\tVal_auc: 0.757\n",
      " Epoch 2 [save] auc = 0.7571475898308441\n"
     ]
    },
    {
     "name": "stdout",
     "output_type": "stream",
     "text": [
      "33930/33930: [===============================>] - ETA 0.3sss\n",
      "21377/21377: [===============================>] - ETA 0.3sss\n"
     ]
    },
    {
     "name": "stderr",
     "output_type": "stream",
     "text": [
      " Train_loss: 0.278\tVal_loss: 0.288\tVal_auc: 0.750\n",
      " Epoch 3 [----] auc = 0.7500283309946808\n",
      " Training time for each epoch: [37. 38. 38.] seconds\n",
      " << Client 4 Training End: 165 seconds elapsed >>\n",
      " << Client 5 Training Start >>\n"
     ]
    },
    {
     "name": "stdout",
     "output_type": "stream",
     "text": [
      "33930/33930: [===============================>] - ETA 0.4sss\n",
      "21377/21377: [===============================>] - ETA 0.3sss\n"
     ]
    },
    {
     "name": "stderr",
     "output_type": "stream",
     "text": [
      " Train_loss: 0.287\tVal_loss: 0.286\tVal_auc: 0.758\n",
      " Epoch 1 [save] auc = 0.7578803237540238\n"
     ]
    },
    {
     "name": "stdout",
     "output_type": "stream",
     "text": [
      "33930/33930: [===============================>] - ETA 0.4sss\n",
      "21377/21377: [===============================>] - ETA 0.3sss\n"
     ]
    },
    {
     "name": "stderr",
     "output_type": "stream",
     "text": [
      " Train_loss: 0.284\tVal_loss: 0.292\tVal_auc: 0.753\n",
      " Epoch 2 [----] auc = 0.7527174376509385\n"
     ]
    },
    {
     "name": "stdout",
     "output_type": "stream",
     "text": [
      "33930/33930: [===============================>] - ETA 0.3sss\n",
      "21377/21377: [===============================>] - ETA 0.4sss\n"
     ]
    },
    {
     "name": "stderr",
     "output_type": "stream",
     "text": [
      " Train_loss: 0.280\tVal_loss: 0.288\tVal_auc: 0.755\n",
      " Epoch 3 [----] auc = 0.7549624169631618\n",
      " Training time for each epoch: [37. 38. 38.] seconds\n",
      " << Client 5 Training End: 163 seconds elapsed >>\n",
      " [[[ Round 4 End ]]]\n",
      " Validating global aggregated model\n"
     ]
    },
    {
     "name": "stdout",
     "output_type": "stream",
     "text": [
      "21377/21377: [===============================>] - ETA 0.3sss\n"
     ]
    },
    {
     "name": "stderr",
     "output_type": "stream",
     "text": [
      " auc increased (0.771 --> 0.771). Saving model ...\n",
      " Round 4[save] loss = 0.2791738212108612auc = 0.7713135140295845\n",
      " [[[ Round 5 Start ]]]\n",
      " << Client 1 Training Start >>\n"
     ]
    },
    {
     "name": "stdout",
     "output_type": "stream",
     "text": [
      "33930/33930: [===============================>] - ETA 0.3sss\n",
      "21377/21377: [===============================>] - ETA 0.3sss\n"
     ]
    },
    {
     "name": "stderr",
     "output_type": "stream",
     "text": [
      " Train_loss: 0.284\tVal_loss: 0.290\tVal_auc: 0.749\n",
      " Epoch 1 [save] auc = 0.7491255609714144\n"
     ]
    },
    {
     "name": "stdout",
     "output_type": "stream",
     "text": [
      "33930/33930: [===============================>] - ETA 0.4sss\n",
      "21377/21377: [===============================>] - ETA 0.4sss\n"
     ]
    },
    {
     "name": "stderr",
     "output_type": "stream",
     "text": [
      " Train_loss: 0.281\tVal_loss: 0.286\tVal_auc: 0.756\n",
      " Epoch 2 [save] auc = 0.755800980700717\n"
     ]
    },
    {
     "name": "stdout",
     "output_type": "stream",
     "text": [
      "33930/33930: [===============================>] - ETA 0.4sss\n",
      "21377/21377: [===============================>] - ETA 0.3sss\n"
     ]
    },
    {
     "name": "stderr",
     "output_type": "stream",
     "text": [
      " Train_loss: 0.277\tVal_loss: 0.288\tVal_auc: 0.748\n",
      " Epoch 3 [----] auc = 0.7483863530729834\n",
      " Training time for each epoch: [38. 37. 38.] seconds\n",
      " << Client 1 Training End: 166 seconds elapsed >>\n",
      " << Client 2 Training Start >>\n"
     ]
    },
    {
     "name": "stdout",
     "output_type": "stream",
     "text": [
      "33930/33930: [===============================>] - ETA 0.4sss\n",
      "21377/21377: [===============================>] - ETA 0.3sss\n"
     ]
    },
    {
     "name": "stderr",
     "output_type": "stream",
     "text": [
      " Train_loss: 0.284\tVal_loss: 0.299\tVal_auc: 0.743\n",
      " Epoch 1 [save] auc = 0.742656806923126\n"
     ]
    },
    {
     "name": "stdout",
     "output_type": "stream",
     "text": [
      "33930/33930: [===============================>] - ETA 0.4sss\n",
      "21377/21377: [===============================>] - ETA 0.3sss\n"
     ]
    },
    {
     "name": "stderr",
     "output_type": "stream",
     "text": [
      " Train_loss: 0.280\tVal_loss: 0.289\tVal_auc: 0.749\n",
      " Epoch 2 [save] auc = 0.7494053383365893\n"
     ]
    },
    {
     "name": "stdout",
     "output_type": "stream",
     "text": [
      "33930/33930: [===============================>] - ETA 0.3sss\n",
      "21377/21377: [===============================>] - ETA 0.3sss\n"
     ]
    },
    {
     "name": "stderr",
     "output_type": "stream",
     "text": [
      " Train_loss: 0.277\tVal_loss: 0.289\tVal_auc: 0.755\n",
      " Epoch 3 [save] auc = 0.755357698277799\n",
      " Training time for each epoch: [38. 38. 38.] seconds\n",
      " << Client 2 Training End: 168 seconds elapsed >>\n",
      " << Client 3 Training Start >>\n"
     ]
    },
    {
     "name": "stdout",
     "output_type": "stream",
     "text": [
      "33930/33930: [===============================>] - ETA 0.3sss\n",
      "21377/21377: [===============================>] - ETA 0.4sss\n"
     ]
    },
    {
     "name": "stderr",
     "output_type": "stream",
     "text": [
      " Train_loss: 0.284\tVal_loss: 0.290\tVal_auc: 0.758\n",
      " Epoch 1 [save] auc = 0.7578630517523598\n"
     ]
    },
    {
     "name": "stdout",
     "output_type": "stream",
     "text": [
      "33930/33930: [===============================>] - ETA 0.3sss\n",
      "21377/21377: [===============================>] - ETA 0.5sss\n"
     ]
    },
    {
     "name": "stderr",
     "output_type": "stream",
     "text": [
      " Train_loss: 0.280\tVal_loss: 0.284\tVal_auc: 0.755\n",
      " Epoch 2 [----] auc = 0.7552757732672871\n"
     ]
    },
    {
     "name": "stdout",
     "output_type": "stream",
     "text": [
      "33930/33930: [===============================>] - ETA 0.3sss\n",
      "21377/21377: [===============================>] - ETA 0.5sss\n"
     ]
    },
    {
     "name": "stderr",
     "output_type": "stream",
     "text": [
      " Train_loss: 0.277\tVal_loss: 0.287\tVal_auc: 0.757\n",
      " Epoch 3 [----] auc = 0.7567202367674076\n",
      " Training time for each epoch: [38. 37. 38.] seconds\n",
      " << Client 3 Training End: 165 seconds elapsed >>\n",
      " << Client 4 Training Start >>\n"
     ]
    },
    {
     "name": "stdout",
     "output_type": "stream",
     "text": [
      "33930/33930: [===============================>] - ETA 0.4sss\n",
      "21377/21377: [===============================>] - ETA 0.4sss\n"
     ]
    },
    {
     "name": "stderr",
     "output_type": "stream",
     "text": [
      " Train_loss: 0.284\tVal_loss: 0.285\tVal_auc: 0.757\n",
      " Epoch 1 [save] auc = 0.7573884908158164\n"
     ]
    },
    {
     "name": "stdout",
     "output_type": "stream",
     "text": [
      "33930/33930: [===============================>] - ETA 0.3sss\n",
      "21377/21377: [===============================>] - ETA 0.3sss\n"
     ]
    },
    {
     "name": "stderr",
     "output_type": "stream",
     "text": [
      " Train_loss: 0.280\tVal_loss: 0.295\tVal_auc: 0.755\n",
      " Epoch 2 [----] auc = 0.7546919043459922\n"
     ]
    },
    {
     "name": "stdout",
     "output_type": "stream",
     "text": [
      "33930/33930: [===============================>] - ETA 0.3sss\n",
      "21377/21377: [===============================>] - ETA 0.3sss\n"
     ]
    },
    {
     "name": "stderr",
     "output_type": "stream",
     "text": [
      " Train_loss: 0.276\tVal_loss: 0.292\tVal_auc: 0.754\n",
      " Epoch 3 [----] auc = 0.7540771019774217\n",
      " Training time for each epoch: [38. 38. 37.] seconds\n",
      " << Client 4 Training End: 164 seconds elapsed >>\n",
      " << Client 5 Training Start >>\n"
     ]
    },
    {
     "name": "stdout",
     "output_type": "stream",
     "text": [
      "33930/33930: [===============================>] - ETA 0.3sss\n",
      "21377/21377: [===============================>] - ETA 0.4sss\n"
     ]
    },
    {
     "name": "stderr",
     "output_type": "stream",
     "text": [
      " Train_loss: 0.285\tVal_loss: 0.286\tVal_auc: 0.758\n",
      " Epoch 1 [save] auc = 0.7583760852948783\n"
     ]
    },
    {
     "name": "stdout",
     "output_type": "stream",
     "text": [
      "33930/33930: [===============================>] - ETA 0.3sss\n",
      "21377/21377: [===============================>] - ETA 0.4sss\n"
     ]
    },
    {
     "name": "stderr",
     "output_type": "stream",
     "text": [
      " Train_loss: 0.282\tVal_loss: 0.289\tVal_auc: 0.751\n",
      " Epoch 2 [----] auc = 0.7514935469531582\n"
     ]
    },
    {
     "name": "stdout",
     "output_type": "stream",
     "text": [
      "33930/33930: [===============================>] - ETA 0.3sss\n",
      "21377/21377: [===============================>] - ETA 0.3sss\n"
     ]
    },
    {
     "name": "stderr",
     "output_type": "stream",
     "text": [
      " Train_loss: 0.278\tVal_loss: 0.302\tVal_auc: 0.742\n",
      " Epoch 3 [----] auc = 0.7417960917581325\n",
      " Training time for each epoch: [41. 38. 38.] seconds\n",
      " << Client 5 Training End: 169 seconds elapsed >>\n",
      " [[[ Round 5 End ]]]\n",
      " Validating global aggregated model\n"
     ]
    },
    {
     "name": "stdout",
     "output_type": "stream",
     "text": [
      "21377/21377: [===============================>] - ETA 0.3sss\n"
     ]
    },
    {
     "name": "stderr",
     "output_type": "stream",
     "text": [
      " Round 5 [----] loss = 0.27828362584114075auc = 0.771265152438262\n",
      " [[[ Round 6 Start ]]]\n",
      " << Client 1 Training Start >>\n"
     ]
    },
    {
     "name": "stdout",
     "output_type": "stream",
     "text": [
      "33930/33930: [===============================>] - ETA 0.4sss\n",
      "21377/21377: [===============================>] - ETA 0.3sss\n"
     ]
    },
    {
     "name": "stderr",
     "output_type": "stream",
     "text": [
      " Train_loss: 0.283\tVal_loss: 0.286\tVal_auc: 0.753\n",
      " Epoch 1 [save] auc = 0.7528255930128864\n"
     ]
    },
    {
     "name": "stdout",
     "output_type": "stream",
     "text": [
      "33930/33930: [===============================>] - ETA 0.4sss\n",
      "21377/21377: [===============================>] - ETA 0.3sss\n"
     ]
    },
    {
     "name": "stderr",
     "output_type": "stream",
     "text": [
      " Train_loss: 0.279\tVal_loss: 0.289\tVal_auc: 0.753\n",
      " Epoch 2 [save] auc = 0.7532392007323826\n"
     ]
    },
    {
     "name": "stdout",
     "output_type": "stream",
     "text": [
      "33930/33930: [===============================>] - ETA 0.4sss\n",
      "21377/21377: [===============================>] - ETA 0.3sss\n"
     ]
    },
    {
     "name": "stderr",
     "output_type": "stream",
     "text": [
      " Train_loss: 0.275\tVal_loss: 0.290\tVal_auc: 0.749\n",
      " Epoch 3 [----] auc = 0.7493134035486763\n",
      " Training time for each epoch: [38. 38. 36.] seconds\n",
      " << Client 1 Training End: 165 seconds elapsed >>\n",
      " << Client 2 Training Start >>\n"
     ]
    },
    {
     "name": "stdout",
     "output_type": "stream",
     "text": [
      "33930/33930: [===============================>] - ETA 0.3sss\n",
      "21377/21377: [===============================>] - ETA 0.3sss\n"
     ]
    },
    {
     "name": "stderr",
     "output_type": "stream",
     "text": [
      " Train_loss: 0.283\tVal_loss: 0.290\tVal_auc: 0.752\n",
      " Epoch 1 [save] auc = 0.7523669188825177\n"
     ]
    },
    {
     "name": "stdout",
     "output_type": "stream",
     "text": [
      "33930/33930: [===============================>] - ETA 0.4sss\n",
      "21377/21377: [===============================>] - ETA 0.3sss\n"
     ]
    },
    {
     "name": "stderr",
     "output_type": "stream",
     "text": [
      " Train_loss: 0.279\tVal_loss: 0.284\tVal_auc: 0.757\n",
      " Epoch 2 [save] auc = 0.7565515846666067\n"
     ]
    },
    {
     "name": "stdout",
     "output_type": "stream",
     "text": [
      "33930/33930: [===============================>] - ETA 0.4sss\n",
      "21377/21377: [===============================>] - ETA 0.3sss\n"
     ]
    },
    {
     "name": "stderr",
     "output_type": "stream",
     "text": [
      " Train_loss: 0.275\tVal_loss: 0.286\tVal_auc: 0.755\n",
      " Epoch 3 [----] auc = 0.754999985183544\n",
      " Training time for each epoch: [37. 39. 38.] seconds\n",
      " << Client 2 Training End: 167 seconds elapsed >>\n",
      " << Client 3 Training Start >>\n"
     ]
    },
    {
     "name": "stdout",
     "output_type": "stream",
     "text": [
      "33930/33930: [===============================>] - ETA 0.3sss\n",
      "21377/21377: [===============================>] - ETA 0.4sss\n"
     ]
    },
    {
     "name": "stderr",
     "output_type": "stream",
     "text": [
      " Train_loss: 0.282\tVal_loss: 0.284\tVal_auc: 0.757\n",
      " Epoch 1 [save] auc = 0.7569595050175643\n"
     ]
    },
    {
     "name": "stdout",
     "output_type": "stream",
     "text": [
      "33930/33930: [===============================>] - ETA 0.4sss\n",
      "21377/21377: [===============================>] - ETA 0.4sss\n"
     ]
    },
    {
     "name": "stderr",
     "output_type": "stream",
     "text": [
      " Train_loss: 0.278\tVal_loss: 0.291\tVal_auc: 0.752\n",
      " Epoch 2 [----] auc = 0.7521404173641908\n"
     ]
    },
    {
     "name": "stdout",
     "output_type": "stream",
     "text": [
      "33930/33930: [===============================>] - ETA 0.3sss\n",
      "21377/21377: [===============================>] - ETA 0.4sss\n"
     ]
    },
    {
     "name": "stderr",
     "output_type": "stream",
     "text": [
      " Train_loss: 0.275\tVal_loss: 0.288\tVal_auc: 0.749\n",
      " Epoch 3 [----] auc = 0.7487542070672936\n",
      " Training time for each epoch: [38. 38. 38.] seconds\n",
      " << Client 3 Training End: 165 seconds elapsed >>\n",
      " << Client 4 Training Start >>\n"
     ]
    },
    {
     "name": "stdout",
     "output_type": "stream",
     "text": [
      "33930/33930: [===============================>] - ETA 0.4sss\n",
      "21377/21377: [===============================>] - ETA 0.4sss\n"
     ]
    },
    {
     "name": "stderr",
     "output_type": "stream",
     "text": [
      " Train_loss: 0.282\tVal_loss: 0.285\tVal_auc: 0.758\n",
      " Epoch 1 [save] auc = 0.7582607391859473\n"
     ]
    },
    {
     "name": "stdout",
     "output_type": "stream",
     "text": [
      "33930/33930: [===============================>] - ETA 0.4sss\n",
      "21377/21377: [===============================>] - ETA 0.3sss\n"
     ]
    },
    {
     "name": "stderr",
     "output_type": "stream",
     "text": [
      " Train_loss: 0.278\tVal_loss: 0.287\tVal_auc: 0.758\n",
      " Epoch 2 [----] auc = 0.7575677510627344\n"
     ]
    },
    {
     "name": "stdout",
     "output_type": "stream",
     "text": [
      "33930/33930: [===============================>] - ETA 0.4sss\n",
      "21377/21377: [===============================>] - ETA 0.4sss\n"
     ]
    },
    {
     "name": "stderr",
     "output_type": "stream",
     "text": [
      " Train_loss: 0.274\tVal_loss: 0.287\tVal_auc: 0.756\n",
      " Epoch 3 [----] auc = 0.7560956613268452\n",
      " Training time for each epoch: [38. 38. 38.] seconds\n",
      " << Client 4 Training End: 165 seconds elapsed >>\n",
      " << Client 5 Training Start >>\n"
     ]
    },
    {
     "name": "stdout",
     "output_type": "stream",
     "text": [
      "33930/33930: [===============================>] - ETA 0.3sss\n",
      "21377/21377: [===============================>] - ETA 0.4sss\n"
     ]
    },
    {
     "name": "stderr",
     "output_type": "stream",
     "text": [
      " Train_loss: 0.284\tVal_loss: 0.287\tVal_auc: 0.752\n",
      " Epoch 1 [save] auc = 0.7516218680294289\n"
     ]
    },
    {
     "name": "stdout",
     "output_type": "stream",
     "text": [
      "33930/33930: [===============================>] - ETA 0.3sss\n",
      "21377/21377: [===============================>] - ETA 0.3sss\n"
     ]
    },
    {
     "name": "stderr",
     "output_type": "stream",
     "text": [
      " Train_loss: 0.279\tVal_loss: 0.288\tVal_auc: 0.752\n",
      " Epoch 2 [save] auc = 0.7516769436053055\n"
     ]
    },
    {
     "name": "stdout",
     "output_type": "stream",
     "text": [
      "33930/33930: [===============================>] - ETA 0.3sss\n",
      "21377/21377: [===============================>] - ETA 0.4sss\n"
     ]
    },
    {
     "name": "stderr",
     "output_type": "stream",
     "text": [
      " Train_loss: 0.276\tVal_loss: 0.293\tVal_auc: 0.752\n",
      " Epoch 3 [save] auc = 0.7520014803062888\n",
      " Training time for each epoch: [38. 38. 38.] seconds\n",
      " << Client 5 Training End: 169 seconds elapsed >>\n",
      " [[[ Round 6 End ]]]\n",
      " Validating global aggregated model\n"
     ]
    },
    {
     "name": "stdout",
     "output_type": "stream",
     "text": [
      "21377/21377: [===============================>] - ETA 0.3sss\n"
     ]
    },
    {
     "name": "stderr",
     "output_type": "stream",
     "text": [
      " Round 6 [----] loss = 0.2771718204021454auc = 0.771123414606411\n",
      " [[[ Round 7 Start ]]]\n",
      " << Client 1 Training Start >>\n"
     ]
    },
    {
     "name": "stdout",
     "output_type": "stream",
     "text": [
      "33930/33930: [===============================>] - ETA 0.4sss\n",
      "21377/21377: [===============================>] - ETA 0.3sss\n"
     ]
    },
    {
     "name": "stderr",
     "output_type": "stream",
     "text": [
      " Train_loss: 0.282\tVal_loss: 0.289\tVal_auc: 0.754\n",
      " Epoch 1 [save] auc = 0.7540131949546388\n"
     ]
    },
    {
     "name": "stdout",
     "output_type": "stream",
     "text": [
      "33930/33930: [===============================>] - ETA 0.4sss\n",
      "21377/21377: [===============================>] - ETA 0.4sss\n"
     ]
    },
    {
     "name": "stderr",
     "output_type": "stream",
     "text": [
      " Train_loss: 0.277\tVal_loss: 0.294\tVal_auc: 0.755\n",
      " Epoch 2 [save] auc = 0.7553557254955032\n"
     ]
    },
    {
     "name": "stdout",
     "output_type": "stream",
     "text": [
      "33930/33930: [===============================>] - ETA 0.4sss\n",
      "21377/21377: [===============================>] - ETA 0.4sss\n"
     ]
    },
    {
     "name": "stderr",
     "output_type": "stream",
     "text": [
      " Train_loss: 0.273\tVal_loss: 0.288\tVal_auc: 0.753\n",
      " Epoch 3 [----] auc = 0.7529178863914916\n",
      " Training time for each epoch: [40. 39. 39.] seconds\n",
      " << Client 1 Training End: 171 seconds elapsed >>\n",
      " << Client 2 Training Start >>\n"
     ]
    },
    {
     "name": "stdout",
     "output_type": "stream",
     "text": [
      "33930/33930: [===============================>] - ETA 0.4sss\n",
      "21377/21377: [===============================>] - ETA 0.3sss\n"
     ]
    },
    {
     "name": "stderr",
     "output_type": "stream",
     "text": [
      " Train_loss: 0.281\tVal_loss: 0.287\tVal_auc: 0.752\n",
      " Epoch 1 [save] auc = 0.7515433793581161\n"
     ]
    },
    {
     "name": "stdout",
     "output_type": "stream",
     "text": [
      "33930/33930: [===============================>] - ETA 0.4sss\n",
      "21377/21377: [===============================>] - ETA 0.4sss\n"
     ]
    },
    {
     "name": "stderr",
     "output_type": "stream",
     "text": [
      " Train_loss: 0.277\tVal_loss: 0.291\tVal_auc: 0.749\n",
      " Epoch 2 [----] auc = 0.7491491189508895\n"
     ]
    },
    {
     "name": "stdout",
     "output_type": "stream",
     "text": [
      "33930/33930: [===============================>] - ETA 0.4sss\n",
      "21377/21377: [===============================>] - ETA 0.4sss\n"
     ]
    },
    {
     "name": "stderr",
     "output_type": "stream",
     "text": [
      " Train_loss: 0.273\tVal_loss: 0.290\tVal_auc: 0.752\n",
      " Epoch 3 [save] auc = 0.7520084289922927\n",
      " Training time for each epoch: [38. 38. 39.] seconds\n",
      " << Client 2 Training End: 168 seconds elapsed >>\n",
      " << Client 3 Training Start >>\n"
     ]
    },
    {
     "name": "stdout",
     "output_type": "stream",
     "text": [
      "33930/33930: [===============================>] - ETA 0.3sss\n",
      "21377/21377: [===============================>] - ETA 0.4sss\n"
     ]
    },
    {
     "name": "stderr",
     "output_type": "stream",
     "text": [
      " Train_loss: 0.281\tVal_loss: 0.286\tVal_auc: 0.758\n",
      " Epoch 1 [save] auc = 0.7583332645659482\n"
     ]
    },
    {
     "name": "stdout",
     "output_type": "stream",
     "text": [
      "33930/33930: [===============================>] - ETA 0.3sss\n",
      "21377/21377: [===============================>] - ETA 0.4sss\n"
     ]
    },
    {
     "name": "stderr",
     "output_type": "stream",
     "text": [
      " Train_loss: 0.277\tVal_loss: 0.334\tVal_auc: 0.737\n",
      " Epoch 2 [----] auc = 0.7368206330475215\n"
     ]
    },
    {
     "name": "stdout",
     "output_type": "stream",
     "text": [
      "33930/33930: [===============================>] - ETA 0.3sss\n",
      "21377/21377: [===============================>] - ETA 0.3sss\n"
     ]
    },
    {
     "name": "stderr",
     "output_type": "stream",
     "text": [
      " Train_loss: 0.273\tVal_loss: 0.296\tVal_auc: 0.743\n",
      " Epoch 3 [----] auc = 0.7426599108078618\n",
      " Training time for each epoch: [37. 39. 38.] seconds\n",
      " << Client 3 Training End: 165 seconds elapsed >>\n",
      " << Client 4 Training Start >>\n"
     ]
    },
    {
     "name": "stdout",
     "output_type": "stream",
     "text": [
      "33930/33930: [===============================>] - ETA 0.3sss\n",
      "21377/21377: [===============================>] - ETA 0.3sss\n"
     ]
    },
    {
     "name": "stderr",
     "output_type": "stream",
     "text": [
      " Train_loss: 0.281\tVal_loss: 0.289\tVal_auc: 0.757\n",
      " Epoch 1 [save] auc = 0.7571990059766661\n"
     ]
    },
    {
     "name": "stdout",
     "output_type": "stream",
     "text": [
      "33930/33930: [===============================>] - ETA 0.4sss\n",
      "21377/21377: [===============================>] - ETA 0.3sss\n"
     ]
    },
    {
     "name": "stderr",
     "output_type": "stream",
     "text": [
      " Train_loss: 0.276\tVal_loss: 0.285\tVal_auc: 0.754\n",
      " Epoch 2 [----] auc = 0.7543014406644789\n"
     ]
    },
    {
     "name": "stdout",
     "output_type": "stream",
     "text": [
      "33930/33930: [===============================>] - ETA 0.3sss\n",
      "21377/21377: [===============================>] - ETA 0.5sss\n"
     ]
    },
    {
     "name": "stderr",
     "output_type": "stream",
     "text": [
      " Train_loss: 0.273\tVal_loss: 0.288\tVal_auc: 0.752\n",
      " Epoch 3 [----] auc = 0.7520013518637592\n",
      " Training time for each epoch: [38. 38. 37.] seconds\n",
      " << Client 4 Training End: 165 seconds elapsed >>\n",
      " << Client 5 Training Start >>\n"
     ]
    },
    {
     "name": "stdout",
     "output_type": "stream",
     "text": [
      "33930/33930: [===============================>] - ETA 0.3sss\n",
      "21377/21377: [===============================>] - ETA 0.4sss\n"
     ]
    },
    {
     "name": "stderr",
     "output_type": "stream",
     "text": [
      " Train_loss: 0.282\tVal_loss: 0.285\tVal_auc: 0.761\n",
      " Epoch 1 [save] auc = 0.7606889263686103\n"
     ]
    },
    {
     "name": "stdout",
     "output_type": "stream",
     "text": [
      "33930/33930: [===============================>] - ETA 0.3sss\n",
      "21377/21377: [===============================>] - ETA 0.3sss\n"
     ]
    },
    {
     "name": "stderr",
     "output_type": "stream",
     "text": [
      " Train_loss: 0.278\tVal_loss: 0.289\tVal_auc: 0.752\n",
      " Epoch 2 [----] auc = 0.7522531961027571\n"
     ]
    },
    {
     "name": "stdout",
     "output_type": "stream",
     "text": [
      "33930/33930: [===============================>] - ETA 0.3sss\n",
      "21377/21377: [===============================>] - ETA 0.4sss\n"
     ]
    },
    {
     "name": "stderr",
     "output_type": "stream",
     "text": [
      " Train_loss: 0.274\tVal_loss: 0.292\tVal_auc: 0.751\n",
      " Epoch 3 [----] auc = 0.7508312461160633\n",
      " Training time for each epoch: [39. 38. 37.] seconds\n",
      " << Client 5 Training End: 165 seconds elapsed >>\n",
      " [[[ Round 7 End ]]]\n",
      " Validating global aggregated model\n"
     ]
    },
    {
     "name": "stdout",
     "output_type": "stream",
     "text": [
      "21377/21377: [===============================>] - ETA 0.3sss\n"
     ]
    },
    {
     "name": "stderr",
     "output_type": "stream",
     "text": [
      " Round 7 [----] loss = 0.27904120087623596auc = 0.770178911550811\n",
      " [[[ Round 8 Start ]]]\n",
      " << Client 1 Training Start >>\n"
     ]
    },
    {
     "name": "stdout",
     "output_type": "stream",
     "text": [
      "33930/33930: [===============================>] - ETA 0.4sss\n",
      "21377/21377: [===============================>] - ETA 0.4sss\n"
     ]
    },
    {
     "name": "stderr",
     "output_type": "stream",
     "text": [
      " Train_loss: 0.280\tVal_loss: 0.287\tVal_auc: 0.754\n",
      " Epoch 1 [save] auc = 0.7540862418650763\n"
     ]
    },
    {
     "name": "stdout",
     "output_type": "stream",
     "text": [
      "33930/33930: [===============================>] - ETA 0.4sss\n",
      "21377/21377: [===============================>] - ETA 0.3sss\n"
     ]
    },
    {
     "name": "stderr",
     "output_type": "stream",
     "text": [
      " Train_loss: 0.276\tVal_loss: 0.286\tVal_auc: 0.754\n",
      " Epoch 2 [----] auc = 0.7537439463572398\n"
     ]
    },
    {
     "name": "stdout",
     "output_type": "stream",
     "text": [
      "33930/33930: [===============================>] - ETA 0.3sss\n",
      "21377/21377: [===============================>] - ETA 0.3sss\n"
     ]
    },
    {
     "name": "stderr",
     "output_type": "stream",
     "text": [
      " Train_loss: 0.272\tVal_loss: 0.287\tVal_auc: 0.751\n",
      " Epoch 3 [----] auc = 0.7506096126242652\n",
      " Training time for each epoch: [38. 38. 38.] seconds\n",
      " << Client 1 Training End: 165 seconds elapsed >>\n",
      " << Client 2 Training Start >>\n"
     ]
    },
    {
     "name": "stdout",
     "output_type": "stream",
     "text": [
      "33930/33930: [===============================>] - ETA 0.3sss\n",
      "21377/21377: [===============================>] - ETA 0.4sss\n"
     ]
    },
    {
     "name": "stderr",
     "output_type": "stream",
     "text": [
      " Train_loss: 0.280\tVal_loss: 0.290\tVal_auc: 0.759\n",
      " Epoch 1 [save] auc = 0.7588208669743854\n"
     ]
    },
    {
     "name": "stdout",
     "output_type": "stream",
     "text": [
      "33930/33930: [===============================>] - ETA 0.4sss\n",
      "21377/21377: [===============================>] - ETA 0.3sss\n"
     ]
    },
    {
     "name": "stderr",
     "output_type": "stream",
     "text": [
      " Train_loss: 0.275\tVal_loss: 0.293\tVal_auc: 0.749\n",
      " Epoch 2 [----] auc = 0.7494070125859302\n"
     ]
    },
    {
     "name": "stdout",
     "output_type": "stream",
     "text": [
      "33930/33930: [===============================>] - ETA 0.4sss\n",
      "21377/21377: [===============================>] - ETA 0.4sss\n"
     ]
    },
    {
     "name": "stderr",
     "output_type": "stream",
     "text": [
      " Train_loss: 0.271\tVal_loss: 0.293\tVal_auc: 0.751\n",
      " Epoch 3 [----] auc = 0.7509892670183884\n",
      " Training time for each epoch: [37. 38. 37.] seconds\n",
      " << Client 2 Training End: 164 seconds elapsed >>\n",
      " << Client 3 Training Start >>\n"
     ]
    },
    {
     "name": "stdout",
     "output_type": "stream",
     "text": [
      "33930/33930: [===============================>] - ETA 0.4sss\n",
      "21377/21377: [===============================>] - ETA 0.3sss\n"
     ]
    },
    {
     "name": "stderr",
     "output_type": "stream",
     "text": [
      " Train_loss: 0.280\tVal_loss: 0.283\tVal_auc: 0.762\n",
      " Epoch 1 [save] auc = 0.7621895835227864\n"
     ]
    },
    {
     "name": "stdout",
     "output_type": "stream",
     "text": [
      "33930/33930: [===============================>] - ETA 0.3sss\n",
      "21377/21377: [===============================>] - ETA 0.4sss\n"
     ]
    },
    {
     "name": "stderr",
     "output_type": "stream",
     "text": [
      " Train_loss: 0.275\tVal_loss: 0.286\tVal_auc: 0.752\n",
      " Epoch 2 [----] auc = 0.7521264965607194\n"
     ]
    },
    {
     "name": "stdout",
     "output_type": "stream",
     "text": [
      "33930/33930: [===============================>] - ETA 0.4sss\n",
      "21377/21377: [===============================>] - ETA 0.3sss\n"
     ]
    },
    {
     "name": "stderr",
     "output_type": "stream",
     "text": [
      " Train_loss: 0.271\tVal_loss: 0.295\tVal_auc: 0.753\n",
      " Epoch 3 [----] auc = 0.7526247628869224\n",
      " Training time for each epoch: [38. 39. 38.] seconds\n",
      " << Client 3 Training End: 166 seconds elapsed >>\n",
      " << Client 4 Training Start >>\n"
     ]
    },
    {
     "name": "stdout",
     "output_type": "stream",
     "text": [
      "33930/33930: [===============================>] - ETA 0.3sss\n",
      "21377/21377: [===============================>] - ETA 0.3sss\n"
     ]
    },
    {
     "name": "stderr",
     "output_type": "stream",
     "text": [
      " Train_loss: 0.279\tVal_loss: 0.292\tVal_auc: 0.751\n",
      " Epoch 1 [save] auc = 0.7507239542515013\n"
     ]
    },
    {
     "name": "stdout",
     "output_type": "stream",
     "text": [
      "33930/33930: [===============================>] - ETA 0.3sss\n",
      "21377/21377: [===============================>] - ETA 0.3sss\n"
     ]
    },
    {
     "name": "stderr",
     "output_type": "stream",
     "text": [
      " Train_loss: 0.275\tVal_loss: 0.287\tVal_auc: 0.758\n",
      " Epoch 2 [save] auc = 0.7577582686346698\n"
     ]
    },
    {
     "name": "stdout",
     "output_type": "stream",
     "text": [
      "33930/33930: [===============================>] - ETA 0.3sss\n",
      "21377/21377: [===============================>] - ETA 0.3sss\n"
     ]
    },
    {
     "name": "stderr",
     "output_type": "stream",
     "text": [
      " Train_loss: 0.270\tVal_loss: 0.294\tVal_auc: 0.752\n",
      " Epoch 3 [----] auc = 0.7521976034544782\n",
      " Training time for each epoch: [38. 38. 38.] seconds\n",
      " << Client 4 Training End: 166 seconds elapsed >>\n",
      " << Client 5 Training Start >>\n"
     ]
    },
    {
     "name": "stdout",
     "output_type": "stream",
     "text": [
      "33930/33930: [===============================>] - ETA 0.3sss\n",
      "21377/21377: [===============================>] - ETA 0.4sss\n"
     ]
    },
    {
     "name": "stderr",
     "output_type": "stream",
     "text": [
      " Train_loss: 0.281\tVal_loss: 0.283\tVal_auc: 0.756\n",
      " Epoch 1 [save] auc = 0.7561269934860562\n"
     ]
    },
    {
     "name": "stdout",
     "output_type": "stream",
     "text": [
      "33930/33930: [===============================>] - ETA 0.4sss\n",
      "21377/21377: [===============================>] - ETA 0.3sss\n"
     ]
    },
    {
     "name": "stderr",
     "output_type": "stream",
     "text": [
      " Train_loss: 0.276\tVal_loss: 0.289\tVal_auc: 0.755\n",
      " Epoch 2 [----] auc = 0.7546946589308015\n"
     ]
    },
    {
     "name": "stdout",
     "output_type": "stream",
     "text": [
      "33930/33930: [===============================>] - ETA 0.4sss\n",
      "21377/21377: [===============================>] - ETA 0.3sss\n"
     ]
    },
    {
     "name": "stderr",
     "output_type": "stream",
     "text": [
      " Train_loss: 0.272\tVal_loss: 0.290\tVal_auc: 0.751\n",
      " Epoch 3 [----] auc = 0.7511949801545931\n",
      " Training time for each epoch: [38. 37. 39.] seconds\n",
      " << Client 5 Training End: 166 seconds elapsed >>\n",
      " [[[ Round 8 End ]]]\n",
      " Validating global aggregated model\n"
     ]
    },
    {
     "name": "stdout",
     "output_type": "stream",
     "text": [
      "21377/21377: [===============================>] - ETA 0.3sss\n"
     ]
    },
    {
     "name": "stderr",
     "output_type": "stream",
     "text": [
      " Round 8 [----] loss = 0.28066980838775635auc = 0.7704325872910471\n",
      " [[[ Round 9 Start ]]]\n",
      " << Client 1 Training Start >>\n"
     ]
    },
    {
     "name": "stdout",
     "output_type": "stream",
     "text": [
      "33930/33930: [===============================>] - ETA 0.4sss\n",
      "21377/21377: [===============================>] - ETA 0.4sss\n"
     ]
    },
    {
     "name": "stderr",
     "output_type": "stream",
     "text": [
      " Train_loss: 0.279\tVal_loss: 0.283\tVal_auc: 0.757\n",
      " Epoch 1 [save] auc = 0.7570135943276542\n"
     ]
    },
    {
     "name": "stdout",
     "output_type": "stream",
     "text": [
      "33930/33930: [===============================>] - ETA 0.4sss\n",
      "21377/21377: [===============================>] - ETA 0.4sss\n"
     ]
    },
    {
     "name": "stderr",
     "output_type": "stream",
     "text": [
      " Train_loss: 0.275\tVal_loss: 0.288\tVal_auc: 0.755\n",
      " Epoch 2 [----] auc = 0.7551301332071176\n"
     ]
    },
    {
     "name": "stdout",
     "output_type": "stream",
     "text": [
      "33930/33930: [===============================>] - ETA 0.3sss\n",
      "21377/21377: [===============================>] - ETA 0.3sss\n"
     ]
    },
    {
     "name": "stderr",
     "output_type": "stream",
     "text": [
      " Train_loss: 0.270\tVal_loss: 0.292\tVal_auc: 0.752\n",
      " Epoch 3 [----] auc = 0.7521333167203387\n",
      " Training time for each epoch: [38. 38. 37.] seconds\n",
      " << Client 1 Training End: 164 seconds elapsed >>\n",
      " << Client 2 Training Start >>\n"
     ]
    },
    {
     "name": "stdout",
     "output_type": "stream",
     "text": [
      "33930/33930: [===============================>] - ETA 0.3sss\n",
      "21377/21377: [===============================>] - ETA 0.3sss\n"
     ]
    },
    {
     "name": "stderr",
     "output_type": "stream",
     "text": [
      " Train_loss: 0.278\tVal_loss: 0.287\tVal_auc: 0.758\n",
      " Epoch 1 [save] auc = 0.7584169850212918\n"
     ]
    },
    {
     "name": "stdout",
     "output_type": "stream",
     "text": [
      "33930/33930: [===============================>] - ETA 0.3sss\n",
      "21377/21377: [===============================>] - ETA 0.4sss\n"
     ]
    },
    {
     "name": "stderr",
     "output_type": "stream",
     "text": [
      " Train_loss: 0.274\tVal_loss: 0.288\tVal_auc: 0.751\n",
      " Epoch 2 [----] auc = 0.7513176152937527\n"
     ]
    },
    {
     "name": "stdout",
     "output_type": "stream",
     "text": [
      "33930/33930: [===============================>] - ETA 0.3sss\n",
      "21377/21377: [===============================>] - ETA 0.3sss\n"
     ]
    },
    {
     "name": "stderr",
     "output_type": "stream",
     "text": [
      " Train_loss: 0.269\tVal_loss: 0.288\tVal_auc: 0.753\n",
      " Epoch 3 [----] auc = 0.7528219570214179\n",
      " Training time for each epoch: [38. 37. 37.] seconds\n",
      " << Client 2 Training End: 164 seconds elapsed >>\n",
      " << Client 3 Training Start >>\n"
     ]
    },
    {
     "name": "stdout",
     "output_type": "stream",
     "text": [
      "33930/33930: [===============================>] - ETA 0.4sss\n",
      "21377/21377: [===============================>] - ETA 0.3sss\n"
     ]
    },
    {
     "name": "stderr",
     "output_type": "stream",
     "text": [
      " Train_loss: 0.279\tVal_loss: 0.285\tVal_auc: 0.756\n",
      " Epoch 1 [save] auc = 0.7556036201019337\n"
     ]
    },
    {
     "name": "stdout",
     "output_type": "stream",
     "text": [
      "33930/33930: [===============================>] - ETA 0.4sss\n",
      "21377/21377: [===============================>] - ETA 0.3sss\n"
     ]
    },
    {
     "name": "stderr",
     "output_type": "stream",
     "text": [
      " Train_loss: 0.273\tVal_loss: 0.288\tVal_auc: 0.755\n",
      " Epoch 2 [----] auc = 0.7550315216749502\n"
     ]
    },
    {
     "name": "stdout",
     "output_type": "stream",
     "text": [
      "33930/33930: [===============================>] - ETA 0.3sss\n",
      "21377/21377: [===============================>] - ETA 0.3sss\n"
     ]
    },
    {
     "name": "stderr",
     "output_type": "stream",
     "text": [
      " Train_loss: 0.269\tVal_loss: 0.296\tVal_auc: 0.744\n",
      " Epoch 3 [----] auc = 0.7437448222935927\n",
      " Training time for each epoch: [38. 38. 38.] seconds\n",
      " << Client 3 Training End: 165 seconds elapsed >>\n",
      " << Client 4 Training Start >>\n"
     ]
    },
    {
     "name": "stdout",
     "output_type": "stream",
     "text": [
      "33930/33930: [===============================>] - ETA 0.4sss\n",
      "21377/21377: [===============================>] - ETA 0.3sss\n"
     ]
    },
    {
     "name": "stderr",
     "output_type": "stream",
     "text": [
      " Train_loss: 0.278\tVal_loss: 0.287\tVal_auc: 0.754\n",
      " Epoch 1 [save] auc = 0.7538656365714067\n"
     ]
    },
    {
     "name": "stdout",
     "output_type": "stream",
     "text": [
      "33930/33930: [===============================>] - ETA 0.3sss\n",
      "21377/21377: [===============================>] - ETA 0.4sss\n"
     ]
    },
    {
     "name": "stderr",
     "output_type": "stream",
     "text": [
      " Train_loss: 0.273\tVal_loss: 0.288\tVal_auc: 0.757\n",
      " Epoch 2 [save] auc = 0.7573368497899146\n"
     ]
    },
    {
     "name": "stdout",
     "output_type": "stream",
     "text": [
      "33930/33930: [===============================>] - ETA 0.4sss\n",
      "21377/21377: [===============================>] - ETA 0.4sss\n"
     ]
    },
    {
     "name": "stderr",
     "output_type": "stream",
     "text": [
      " Train_loss: 0.268\tVal_loss: 0.287\tVal_auc: 0.753\n",
      " Epoch 3 [----] auc = 0.752545169351037\n",
      " Training time for each epoch: [38. 37. 40.] seconds\n",
      " << Client 4 Training End: 168 seconds elapsed >>\n",
      " << Client 5 Training Start >>\n"
     ]
    },
    {
     "name": "stdout",
     "output_type": "stream",
     "text": [
      "33930/33930: [===============================>] - ETA 0.3sss\n",
      "21377/21377: [===============================>] - ETA 0.3sss\n"
     ]
    },
    {
     "name": "stderr",
     "output_type": "stream",
     "text": [
      " Train_loss: 0.280\tVal_loss: 0.286\tVal_auc: 0.760\n",
      " Epoch 1 [save] auc = 0.7599929600245156\n"
     ]
    },
    {
     "name": "stdout",
     "output_type": "stream",
     "text": [
      "33930/33930: [===============================>] - ETA 0.4sss\n",
      "21377/21377: [===============================>] - ETA 0.4sss\n"
     ]
    },
    {
     "name": "stderr",
     "output_type": "stream",
     "text": [
      " Train_loss: 0.274\tVal_loss: 0.296\tVal_auc: 0.755\n",
      " Epoch 2 [----] auc = 0.7550708986453801\n"
     ]
    },
    {
     "name": "stdout",
     "output_type": "stream",
     "text": [
      "33930/33930: [===============================>] - ETA 0.3sss\n",
      "21377/21377: [===============================>] - ETA 0.3sss\n"
     ]
    },
    {
     "name": "stderr",
     "output_type": "stream",
     "text": [
      " Train_loss: 0.270\tVal_loss: 0.296\tVal_auc: 0.749\n",
      " Epoch 3 [----] auc = 0.7491211655400435\n",
      " Training time for each epoch: [38. 38. 38.] seconds\n",
      " << Client 5 Training End: 166 seconds elapsed >>\n",
      " [[[ Round 9 End ]]]\n",
      " Validating global aggregated model\n"
     ]
    },
    {
     "name": "stdout",
     "output_type": "stream",
     "text": [
      "21377/21377: [===============================>] - ETA 0.3sss\n"
     ]
    },
    {
     "name": "stderr",
     "output_type": "stream",
     "text": [
      " Round 9 [----] loss = 0.2856614887714386auc = 0.7679718454754415\n",
      " [[[ Round 10 Start ]]]\n",
      " << Client 1 Training Start >>\n"
     ]
    },
    {
     "name": "stdout",
     "output_type": "stream",
     "text": [
      "33930/33930: [===============================>] - ETA 0.3sss\n",
      "21377/21377: [===============================>] - ETA 0.3sss\n"
     ]
    },
    {
     "name": "stderr",
     "output_type": "stream",
     "text": [
      " Train_loss: 0.278\tVal_loss: 0.287\tVal_auc: 0.756\n",
      " Epoch 1 [save] auc = 0.7563655341577249\n"
     ]
    },
    {
     "name": "stdout",
     "output_type": "stream",
     "text": [
      "33930/33930: [===============================>] - ETA 0.4sss\n",
      "21377/21377: [===============================>] - ETA 0.3sss\n"
     ]
    },
    {
     "name": "stderr",
     "output_type": "stream",
     "text": [
      " Train_loss: 0.272\tVal_loss: 0.290\tVal_auc: 0.749\n",
      " Epoch 2 [----] auc = 0.7492433879938488\n"
     ]
    },
    {
     "name": "stdout",
     "output_type": "stream",
     "text": [
      "33930/33930: [===============================>] - ETA 0.4sss\n",
      "21377/21377: [===============================>] - ETA 0.3sss\n"
     ]
    },
    {
     "name": "stderr",
     "output_type": "stream",
     "text": [
      " Train_loss: 0.268\tVal_loss: 0.290\tVal_auc: 0.750\n",
      " Epoch 3 [----] auc = 0.7502790053426016\n",
      " Training time for each epoch: [38. 38. 38.] seconds\n",
      " << Client 1 Training End: 165 seconds elapsed >>\n",
      " << Client 2 Training Start >>\n"
     ]
    },
    {
     "name": "stdout",
     "output_type": "stream",
     "text": [
      "33930/33930: [===============================>] - ETA 0.3sss\n",
      "21377/21377: [===============================>] - ETA 0.3sss\n"
     ]
    },
    {
     "name": "stderr",
     "output_type": "stream",
     "text": [
      " Train_loss: 0.277\tVal_loss: 0.284\tVal_auc: 0.759\n",
      " Epoch 1 [save] auc = 0.7585178807887463\n"
     ]
    },
    {
     "name": "stdout",
     "output_type": "stream",
     "text": [
      "33930/33930: [===============================>] - ETA 0.4sss\n",
      "21377/21377: [===============================>] - ETA 0.3sss\n"
     ]
    },
    {
     "name": "stderr",
     "output_type": "stream",
     "text": [
      " Train_loss: 0.272\tVal_loss: 0.294\tVal_auc: 0.745\n",
      " Epoch 2 [----] auc = 0.74533249014825\n"
     ]
    },
    {
     "name": "stdout",
     "output_type": "stream",
     "text": [
      "33930/33930: [===============================>] - ETA 0.4sss\n",
      "21377/21377: [===============================>] - ETA 0.4sss\n"
     ]
    },
    {
     "name": "stderr",
     "output_type": "stream",
     "text": [
      " Train_loss: 0.267\tVal_loss: 0.296\tVal_auc: 0.746\n",
      " Epoch 3 [----] auc = 0.7462348861651843\n",
      " Training time for each epoch: [39. 38. 38.] seconds\n",
      " << Client 2 Training End: 166 seconds elapsed >>\n",
      " << Client 3 Training Start >>\n"
     ]
    },
    {
     "name": "stdout",
     "output_type": "stream",
     "text": [
      "33930/33930: [===============================>] - ETA 0.3sss\n",
      "21377/21377: [===============================>] - ETA 0.4sss\n"
     ]
    },
    {
     "name": "stderr",
     "output_type": "stream",
     "text": [
      " Train_loss: 0.277\tVal_loss: 0.286\tVal_auc: 0.752\n",
      " Epoch 1 [save] auc = 0.7518868884639286\n"
     ]
    },
    {
     "name": "stdout",
     "output_type": "stream",
     "text": [
      "33930/33930: [===============================>] - ETA 0.3sss\n",
      "21377/21377: [===============================>] - ETA 0.4sss\n"
     ]
    },
    {
     "name": "stderr",
     "output_type": "stream",
     "text": [
      " Train_loss: 0.272\tVal_loss: 0.289\tVal_auc: 0.746\n",
      " Epoch 2 [----] auc = 0.7460373127464737\n"
     ]
    },
    {
     "name": "stdout",
     "output_type": "stream",
     "text": [
      "33930/33930: [===============================>] - ETA 0.3sss\n",
      "21377/21377: [===============================>] - ETA 0.4sss\n"
     ]
    },
    {
     "name": "stderr",
     "output_type": "stream",
     "text": [
      " Train_loss: 0.267\tVal_loss: 0.288\tVal_auc: 0.750\n",
      " Epoch 3 [----] auc = 0.7496737177487016\n",
      " Training time for each epoch: [37. 38. 38.] seconds\n",
      " << Client 3 Training End: 165 seconds elapsed >>\n",
      " << Client 4 Training Start >>\n"
     ]
    },
    {
     "name": "stdout",
     "output_type": "stream",
     "text": [
      "33930/33930: [===============================>] - ETA 0.3sss\n",
      "21377/21377: [===============================>] - ETA 0.3sss\n"
     ]
    },
    {
     "name": "stderr",
     "output_type": "stream",
     "text": [
      " Train_loss: 0.277\tVal_loss: 0.285\tVal_auc: 0.762\n",
      " Epoch 1 [save] auc = 0.7617280054947041\n"
     ]
    },
    {
     "name": "stdout",
     "output_type": "stream",
     "text": [
      "33930/33930: [===============================>] - ETA 0.3sss\n",
      "21377/21377: [===============================>] - ETA 0.4sss\n"
     ]
    },
    {
     "name": "stderr",
     "output_type": "stream",
     "text": [
      " Train_loss: 0.271\tVal_loss: 0.292\tVal_auc: 0.755\n",
      " Epoch 2 [----] auc = 0.7550228788160943\n"
     ]
    },
    {
     "name": "stdout",
     "output_type": "stream",
     "text": [
      "33930/33930: [===============================>] - ETA 0.3sss\n",
      "21377/21377: [===============================>] - ETA 0.3sss\n"
     ]
    },
    {
     "name": "stderr",
     "output_type": "stream",
     "text": [
      " Train_loss: 0.266\tVal_loss: 0.292\tVal_auc: 0.748\n",
      " Epoch 3 [----] auc = 0.7475190004468979\n",
      " Training time for each epoch: [38. 39. 38.] seconds\n",
      " << Client 4 Training End: 166 seconds elapsed >>\n",
      " << Client 5 Training Start >>\n"
     ]
    },
    {
     "name": "stdout",
     "output_type": "stream",
     "text": [
      "33930/33930: [===============================>] - ETA 0.4sss\n",
      "21377/21377: [===============================>] - ETA 0.4sss\n"
     ]
    },
    {
     "name": "stderr",
     "output_type": "stream",
     "text": [
      " Train_loss: 0.278\tVal_loss: 0.286\tVal_auc: 0.756\n",
      " Epoch 1 [save] auc = 0.7558528140055503\n"
     ]
    },
    {
     "name": "stdout",
     "output_type": "stream",
     "text": [
      "33930/33930: [===============================>] - ETA 0.3sss\n",
      "21377/21377: [===============================>] - ETA 0.3sss\n"
     ]
    },
    {
     "name": "stderr",
     "output_type": "stream",
     "text": [
      " Train_loss: 0.273\tVal_loss: 0.286\tVal_auc: 0.755\n",
      " Epoch 2 [----] auc = 0.7552362719615698\n"
     ]
    },
    {
     "name": "stdout",
     "output_type": "stream",
     "text": [
      "33930/33930: [===============================>] - ETA 0.4sss\n",
      "21377/21377: [===============================>] - ETA 0.4sss\n"
     ]
    },
    {
     "name": "stderr",
     "output_type": "stream",
     "text": [
      " Train_loss: 0.267\tVal_loss: 0.291\tVal_auc: 0.751\n",
      " Epoch 3 [----] auc = 0.7506513472371418\n",
      " Training time for each epoch: [38. 38. 38.] seconds\n",
      " << Client 5 Training End: 165 seconds elapsed >>\n",
      " [[[ Round 10 End ]]]\n",
      " Validating global aggregated model\n"
     ]
    },
    {
     "name": "stdout",
     "output_type": "stream",
     "text": [
      "21377/21377: [===============================>] - ETA 0.3sss\n"
     ]
    },
    {
     "name": "stderr",
     "output_type": "stream",
     "text": [
      " Round 10 [----] loss = 0.28027668595314026auc = 0.7709087667972808\n",
      " Global model trained\n"
     ]
    }
   ],
   "source": [
    "if __name__ == '__main__':\n",
    "    main()"
   ]
  },
  {
   "cell_type": "code",
   "execution_count": null,
   "id": "43e3b8f3",
   "metadata": {},
   "outputs": [],
   "source": []
  }
 ],
 "metadata": {
  "kernelspec": {
   "display_name": "Python 3 (ipykernel)",
   "language": "python",
   "name": "python3"
  },
  "language_info": {
   "codemirror_mode": {
    "name": "ipython",
    "version": 3
   },
   "file_extension": ".py",
   "mimetype": "text/x-python",
   "name": "python",
   "nbconvert_exporter": "python",
   "pygments_lexer": "ipython3",
   "version": "3.9.13"
  }
 },
 "nbformat": 4,
 "nbformat_minor": 5
}
