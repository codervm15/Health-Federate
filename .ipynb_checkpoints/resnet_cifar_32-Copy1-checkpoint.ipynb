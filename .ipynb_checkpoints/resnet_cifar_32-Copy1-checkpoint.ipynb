{
 "cells": [
  {
   "cell_type": "code",
   "execution_count": 1,
   "metadata": {},
   "outputs": [],
   "source": [
    "import torch \n",
    "import torch.nn as nn\n",
    "from torch.optim.lr_scheduler import *\n",
    "import torch.nn.functional as F\n",
    "import torchvision.datasets as dset\n",
    "import torchvision.transforms as transforms\n",
    "import math\n",
    "import os"
   ]
  },
  {
   "cell_type": "code",
   "execution_count": 2,
   "metadata": {},
   "outputs": [],
   "source": [
    "%matplotlib inline\n",
    "import matplotlib.pyplot as plt\n",
    "import numpy as np\n",
    "import seaborn as sns\n",
    "import torch.optim as optim\n",
    "\n",
    "from tensorboardX import SummaryWriter\n",
    "from torchvision.utils import make_grid\n",
    "from tqdm import tqdm, trange\n",
    "\n",
    "writer = SummaryWriter()\n",
    "sns.set()\n",
    "sns.set_style(\"dark\")\n",
    "sns.set_palette(\"muted\")\n",
    "\n",
    "sns.set_color_codes(\"muted\")"
   ]
  },
  {
   "cell_type": "code",
   "execution_count": 3,
   "metadata": {},
   "outputs": [],
   "source": [
    "normalize = transforms.Normalize(mean=[0.5071, 0.4867, 0.4408], std=[0.2675, 0.2565, 0.2761])\n",
    "aug_trans = [transforms.RandomCrop(32, padding=4), transforms.RandomHorizontalFlip()]\n",
    "\n",
    "common_trans = [transforms.ToTensor(), normalize]\n",
    "train_compose = transforms.Compose(aug_trans + common_trans)\n",
    "test_compose = transforms.Compose(common_trans)"
   ]
  },
  {
   "cell_type": "code",
   "execution_count": 4,
   "metadata": {},
   "outputs": [
    {
     "name": "stdout",
     "output_type": "stream",
     "text": [
      "/home/iitj/azad/ADVER/Classifier\r\n"
     ]
    }
   ],
   "source": [
    "!pwd"
   ]
  },
  {
   "cell_type": "code",
   "execution_count": 5,
   "metadata": {},
   "outputs": [
    {
     "name": "stdout",
     "output_type": "stream",
     "text": [
      "Files already downloaded and verified\n"
     ]
    }
   ],
   "source": [
    "train_set = dset.CIFAR10('/home/iitj/azad/ADVER/DATASET', train=True, transform=train_compose, download=True)\n",
    "test_set = dset.CIFAR10('/home/iitj/azad/ADVER/DATASET', train=False, transform=test_compose)\n",
    "trainloader = torch.utils.data.DataLoader(train_set, batch_size=64, shuffle=True)\n",
    "testloader = torch.utils.data.DataLoader(test_set, batch_size=64, shuffle=False)\n",
    "num_classes = 10"
   ]
  },
  {
   "cell_type": "code",
   "execution_count": 6,
   "metadata": {},
   "outputs": [
    {
     "name": "stdout",
     "output_type": "stream",
     "text": [
      "True\n"
     ]
    }
   ],
   "source": [
    "device = torch.device(\"cuda:0\" if torch.cuda.is_available() else \"cpu\")\n",
    "LOADER_KWARGS = {'num_workers': 5, 'pin_memory': True} if torch.cuda.is_available() else {}\n",
    "print(torch.cuda.is_available())"
   ]
  },
  {
   "cell_type": "code",
   "execution_count": 7,
   "metadata": {},
   "outputs": [],
   "source": [
    "class BasicBlock(nn.Module):\n",
    "    expansion = 1\n",
    "\n",
    "    def __init__(self, in_planes, planes, stride=1):\n",
    "        super(BasicBlock, self).__init__()\n",
    "        self.conv1 = nn.Conv2d(\n",
    "            in_planes, planes, kernel_size=3, stride=stride, padding=1, bias=False)\n",
    "        self.bn1 = nn.BatchNorm2d(planes)\n",
    "        self.conv2 = nn.Conv2d(planes, planes, kernel_size=3,\n",
    "                               stride=1, padding=1, bias=False)\n",
    "        self.bn2 = nn.BatchNorm2d(planes)\n",
    "\n",
    "        self.shortcut = nn.Sequential()\n",
    "        if stride != 1 or in_planes != self.expansion*planes:\n",
    "            self.shortcut = nn.Sequential(\n",
    "                nn.Conv2d(in_planes, self.expansion*planes,\n",
    "                          kernel_size=1, stride=stride, bias=False),\n",
    "                nn.BatchNorm2d(self.expansion*planes)\n",
    "            )\n",
    "\n",
    "    def forward(self, x):\n",
    "        out = F.relu(self.bn1(self.conv1(x)))\n",
    "        out = self.bn2(self.conv2(out))\n",
    "        out += self.shortcut(x)\n",
    "        out = F.dropout(F.relu(out),0.5)\n",
    "        return out"
   ]
  },
  {
   "cell_type": "code",
   "execution_count": 8,
   "metadata": {},
   "outputs": [],
   "source": [
    "class Bottleneck(nn.Module):\n",
    "    expansion = 4\n",
    "\n",
    "    def __init__(self, in_planes, planes, stride=1):\n",
    "        super(Bottleneck, self).__init__()\n",
    "        self.conv1 = nn.Conv2d(in_planes, planes, kernel_size=1, bias=False)\n",
    "        self.bn1 = nn.BatchNorm2d(planes)\n",
    "        self.conv2 = nn.Conv2d(planes, planes, kernel_size=3,\n",
    "                               stride=stride, padding=1, bias=False)\n",
    "        self.bn2 = nn.BatchNorm2d(planes)\n",
    "        self.conv3 = nn.Conv2d(planes, self.expansion *\n",
    "                               planes, kernel_size=1, bias=False)\n",
    "        self.bn3 = nn.BatchNorm2d(self.expansion*planes)\n",
    "\n",
    "        self.shortcut = nn.Sequential()\n",
    "        if stride != 1 or in_planes != self.expansion*planes:\n",
    "            self.shortcut = nn.Sequential(\n",
    "                nn.Conv2d(in_planes, self.expansion*planes,\n",
    "                          kernel_size=1, stride=stride, bias=False),\n",
    "                nn.BatchNorm2d(self.expansion*planes)\n",
    "            )\n",
    "\n",
    "    def forward(self, x):\n",
    "        out = F.relu(self.bn1(self.conv1(x)))\n",
    "        out = F.relu(self.bn2(self.conv2(out)))\n",
    "        out = self.bn3(self.conv3(out))\n",
    "        out += self.shortcut(x)\n",
    "        out = F.relu(out)\n",
    "        return out"
   ]
  },
  {
   "cell_type": "code",
   "execution_count": null,
   "metadata": {},
   "outputs": [],
   "source": []
  },
  {
   "cell_type": "code",
   "execution_count": null,
   "metadata": {},
   "outputs": [],
   "source": []
  },
  {
   "cell_type": "code",
   "execution_count": 9,
   "metadata": {},
   "outputs": [],
   "source": [
    "\n",
    "class ResNet(nn.Module):\n",
    "    def __init__(self, block, num_blocks, num_classes=10):\n",
    "        super(ResNet, self).__init__()\n",
    "        self.in_planes = 64\n",
    "\n",
    "        self.conv1 = nn.Conv2d(3, 64, kernel_size=3,\n",
    "                               stride=1, padding=1, bias=False)\n",
    "        self.bn1 = nn.BatchNorm2d(64)\n",
    "        self.drop = nn.Dropout(0.5)\n",
    "        self.layer1 = self._make_layer(block, 64, num_blocks[0], stride=1)\n",
    "        self.layer2 = self._make_layer(block, 128, num_blocks[1], stride=2)\n",
    "        self.layer3 = self._make_layer(block, 256, num_blocks[2], stride=2)\n",
    "        self.layer4 = self._make_layer(block, 512, num_blocks[3], stride=2)\n",
    "        self.linear = nn.Linear(512*block.expansion, num_classes)\n",
    "\n",
    "    def _make_layer(self, block, planes, num_blocks, stride):\n",
    "        strides = [stride] + [1]*(num_blocks-1)\n",
    "        layers = []\n",
    "        for stride in strides:\n",
    "            layers.append(block(self.in_planes, planes, stride))\n",
    "            self.in_planes = planes * block.expansion\n",
    "        return nn.Sequential(*layers)\n",
    "\n",
    "    def forward(self, x):\n",
    "        out = F.dropout(F.relu(self.bn1(self.conv1(x))),0.5)\n",
    "        out = self.layer1(out)\n",
    "        out = self.layer2(out)\n",
    "        out = self.layer3(out)\n",
    "        out = self.layer4(out)\n",
    "        out = F.avg_pool2d(out, 4)\n",
    "        out = out.view(out.size(0), -1)\n",
    "        out = self.drop(out)\n",
    "        out = self.linear(out)\n",
    "        return out\n"
   ]
  },
  {
   "cell_type": "code",
   "execution_count": 10,
   "metadata": {},
   "outputs": [],
   "source": [
    "def ResNet18():\n",
    "    return ResNet(BasicBlock, [2, 2, 2, 2])\n",
    "\n",
    "\n",
    "def ResNet34():\n",
    "    return ResNet(BasicBlock, [3, 4, 6, 3])\n",
    "\n",
    "\n",
    "def ResNet50():\n",
    "    return ResNet(Bottleneck, [3, 4, 6, 3])\n",
    "\n",
    "\n",
    "def ResNet101():\n",
    "    return ResNet(Bottleneck, [3, 4, 23, 3])\n",
    "\n",
    "\n",
    "def ResNet152():\n",
    "    return ResNet(Bottleneck, [3, 8, 36, 3])\n"
   ]
  },
  {
   "cell_type": "code",
   "execution_count": 11,
   "metadata": {},
   "outputs": [],
   "source": [
    "# def test():\n",
    "#     net = ResNet18()\n",
    "#     y = net(torch.randn(1, 3, 32, 32))\n",
    "#     print(y.size())"
   ]
  },
  {
   "cell_type": "code",
   "execution_count": null,
   "metadata": {},
   "outputs": [],
   "source": []
  },
  {
   "cell_type": "code",
   "execution_count": 12,
   "metadata": {},
   "outputs": [],
   "source": [
    "def train(epoch):\n",
    "    print('\\nEpoch: %d' % epoch)\n",
    "    net.train()\n",
    "    train_loss = 0\n",
    "    correct = 0\n",
    "    total = 0\n",
    "    loop = tqdm(enumerate(trainloader),total=len(trainloader))\n",
    "    for batch_idx, (inputs, targets) in loop:\n",
    "        inputs, targets = inputs.to(device), targets.to(device)\n",
    "        optimizer.zero_grad()\n",
    "        outputs = net(inputs)\n",
    "        loss = criterion(outputs, targets)\n",
    "        loss.backward()\n",
    "        optimizer.step()\n",
    "\n",
    "        train_loss += loss.item()\n",
    "        _, predicted = outputs.max(1)\n",
    "        total += targets.size(0)\n",
    "        correct += predicted.eq(targets).sum().item()\n",
    "\n",
    "        \n",
    "        loop.set_description(f\"Epoch : {epoch}\")\n",
    "        loop.set_postfix(loss = train_loss/(batch_idx+1) ,Acc = 100.*correct/total )\n",
    "#         progress_bar(batch_idx, len(trainloader), 'Loss: %.3f | Acc: %.3f%% (%d/%d)'\n",
    "#                      % (train_loss/(batch_idx+1), 100.*correct/total, correct, total))"
   ]
  },
  {
   "cell_type": "code",
   "execution_count": 13,
   "metadata": {},
   "outputs": [],
   "source": [
    "def test(epoch):\n",
    "    global best_acc\n",
    "    net.eval()\n",
    "    test_loss = 0\n",
    "    correct = 0\n",
    "    total = 0\n",
    "    with torch.no_grad():\n",
    "        loop1 = tqdm(enumerate(testloader),total=len(testloader))\n",
    "        for batch_idx, (inputs, targets) in loop1:\n",
    "            inputs, targets = inputs.to(device), targets.to(device)\n",
    "            outputs = net(inputs)\n",
    "            loss = criterion(outputs, targets)\n",
    "\n",
    "            test_loss += loss.item()\n",
    "            _, predicted = outputs.max(1)\n",
    "            total += targets.size(0)\n",
    "            correct += predicted.eq(targets).sum().item()\n",
    "\n",
    "#             progress_bar(batch_idx, len(testloader), 'Loss: %.3f | Acc: %.3f%% (%d/%d)'\n",
    "#                          % (test_loss/(batch_idx+1), 100.*correct/total, correct, total))\n",
    "#             loop1.set_description(\"Validating\")\n",
    "            loop1.set_postfix(loss = test_loss/(batch_idx+1) ,Acc = 100.*correct/total )\n",
    "\n",
    "    # Save checkpoint.\n",
    "    acc = 100.*correct/total\n",
    "    if acc > best_acc:\n",
    "        print('Saving..')\n",
    "        state = {\n",
    "            'net': net.state_dict(),\n",
    "            'acc': acc,\n",
    "            'epoch': epoch,\n",
    "        }\n",
    "        if not os.path.isdir('checkpoint'):\n",
    "            os.mkdir('checkpoint')\n",
    "        torch.save(state, './checkpoint/ckpt.pth')\n",
    "        best_acc = acc"
   ]
  },
  {
   "cell_type": "code",
   "execution_count": 14,
   "metadata": {},
   "outputs": [],
   "source": [
    "net = ResNet18().to(device)"
   ]
  },
  {
   "cell_type": "code",
   "execution_count": 15,
   "metadata": {},
   "outputs": [],
   "source": [
    "# for name,params in net.named_parameters():\n",
    "#     print(name)"
   ]
  },
  {
   "cell_type": "code",
   "execution_count": 16,
   "metadata": {},
   "outputs": [],
   "source": [
    "\n",
    "optimizer = optim.Adam(net.parameters(), lr=0.001)\n",
    "scheduler = torch.optim.lr_scheduler.CosineAnnealingLR(optimizer, T_max=2000)\n",
    "criterion = nn.CrossEntropyLoss()"
   ]
  },
  {
   "cell_type": "code",
   "execution_count": 17,
   "metadata": {},
   "outputs": [
    {
     "name": "stdout",
     "output_type": "stream",
     "text": [
      "\n",
      "Epoch: 0\n"
     ]
    },
    {
     "name": "stderr",
     "output_type": "stream",
     "text": [
      "Epoch : 0: 100%|█████████████████████████████████████████████████████████████████████████████████████████████████████████| 782/782 [01:36<00:00,  8.11it/s, Acc=30.2, loss=1.85]\n",
      "100%|██████████████████████████████████████████████████████████████████████████████████████████████████████████████████████| 157/157 [00:06<00:00, 22.44it/s, Acc=43, loss=1.54]\n"
     ]
    },
    {
     "name": "stdout",
     "output_type": "stream",
     "text": [
      "Saving..\n",
      "\n",
      "Epoch: 1\n"
     ]
    },
    {
     "name": "stderr",
     "output_type": "stream",
     "text": [
      "Epoch : 1: 100%|█████████████████████████████████████████████████████████████████████████████████████████████████████████| 782/782 [01:36<00:00,  8.06it/s, Acc=45.7, loss=1.47]\n",
      "100%|████████████████████████████████████████████████████████████████████████████████████████████████████████████████████| 157/157 [00:07<00:00, 22.32it/s, Acc=50.4, loss=1.36]\n"
     ]
    },
    {
     "name": "stdout",
     "output_type": "stream",
     "text": [
      "Saving..\n",
      "\n",
      "Epoch: 2\n"
     ]
    },
    {
     "name": "stderr",
     "output_type": "stream",
     "text": [
      "Epoch : 2: 100%|█████████████████████████████████████████████████████████████████████████████████████████████████████████| 782/782 [01:37<00:00,  8.03it/s, Acc=54.1, loss=1.27]\n",
      "100%|████████████████████████████████████████████████████████████████████████████████████████████████████████████████████| 157/157 [00:06<00:00, 23.61it/s, Acc=56.8, loss=1.22]\n"
     ]
    },
    {
     "name": "stdout",
     "output_type": "stream",
     "text": [
      "Saving..\n",
      "\n",
      "Epoch: 3\n"
     ]
    },
    {
     "name": "stderr",
     "output_type": "stream",
     "text": [
      "Epoch : 3: 100%|█████████████████████████████████████████████████████████████████████████████████████████████████████████| 782/782 [01:35<00:00,  8.21it/s, Acc=58.6, loss=1.16]\n",
      "100%|████████████████████████████████████████████████████████████████████████████████████████████████████████████████████| 157/157 [00:06<00:00, 22.64it/s, Acc=61.8, loss=1.09]\n"
     ]
    },
    {
     "name": "stdout",
     "output_type": "stream",
     "text": [
      "Saving..\n",
      "\n",
      "Epoch: 4\n"
     ]
    },
    {
     "name": "stderr",
     "output_type": "stream",
     "text": [
      "Epoch : 4: 100%|█████████████████████████████████████████████████████████████████████████████████████████████████████████| 782/782 [01:37<00:00,  8.01it/s, Acc=62.2, loss=1.07]\n",
      "100%|████████████████████████████████████████████████████████████████████████████████████████████████████████████████████| 157/157 [00:06<00:00, 22.62it/s, Acc=63.6, loss=1.05]\n"
     ]
    },
    {
     "name": "stdout",
     "output_type": "stream",
     "text": [
      "Saving..\n",
      "\n",
      "Epoch: 5\n"
     ]
    },
    {
     "name": "stderr",
     "output_type": "stream",
     "text": [
      "Epoch : 5: 100%|████████████████████████████████████████████████████████████████████████████████████████████████████████████| 782/782 [01:36<00:00,  8.10it/s, Acc=64.6, loss=1]\n",
      "100%|███████████████████████████████████████████████████████████████████████████████████████████████████████████████████| 157/157 [00:06<00:00, 22.79it/s, Acc=67.7, loss=0.923]\n"
     ]
    },
    {
     "name": "stdout",
     "output_type": "stream",
     "text": [
      "Saving..\n",
      "\n",
      "Epoch: 6\n"
     ]
    },
    {
     "name": "stderr",
     "output_type": "stream",
     "text": [
      "Epoch : 6: 100%|████████████████████████████████████████████████████████████████████████████████████████████████████████| 782/782 [01:38<00:00,  7.90it/s, Acc=66.9, loss=0.946]\n",
      "100%|███████████████████████████████████████████████████████████████████████████████████████████████████████████████████| 157/157 [00:07<00:00, 22.22it/s, Acc=65.5, loss=0.982]\n"
     ]
    },
    {
     "name": "stdout",
     "output_type": "stream",
     "text": [
      "\n",
      "Epoch: 7\n"
     ]
    },
    {
     "name": "stderr",
     "output_type": "stream",
     "text": [
      "Epoch : 7: 100%|████████████████████████████████████████████████████████████████████████████████████████████████████████| 782/782 [01:36<00:00,  8.07it/s, Acc=68.8, loss=0.887]\n",
      "100%|███████████████████████████████████████████████████████████████████████████████████████████████████████████████████| 157/157 [00:06<00:00, 22.59it/s, Acc=70.1, loss=0.859]\n"
     ]
    },
    {
     "name": "stdout",
     "output_type": "stream",
     "text": [
      "Saving..\n",
      "\n",
      "Epoch: 8\n"
     ]
    },
    {
     "name": "stderr",
     "output_type": "stream",
     "text": [
      "Epoch : 8: 100%|████████████████████████████████████████████████████████████████████████████████████████████████████████| 782/782 [01:37<00:00,  8.00it/s, Acc=70.5, loss=0.842]\n",
      "100%|███████████████████████████████████████████████████████████████████████████████████████████████████████████████████| 157/157 [00:07<00:00, 22.14it/s, Acc=72.2, loss=0.794]\n"
     ]
    },
    {
     "name": "stdout",
     "output_type": "stream",
     "text": [
      "Saving..\n",
      "\n",
      "Epoch: 9\n"
     ]
    },
    {
     "name": "stderr",
     "output_type": "stream",
     "text": [
      "Epoch : 9: 100%|████████████████████████████████████████████████████████████████████████████████████████████████████████| 782/782 [01:38<00:00,  7.92it/s, Acc=72.3, loss=0.796]\n",
      "100%|███████████████████████████████████████████████████████████████████████████████████████████████████████████████████| 157/157 [00:06<00:00, 24.27it/s, Acc=74.7, loss=0.726]\n"
     ]
    },
    {
     "name": "stdout",
     "output_type": "stream",
     "text": [
      "Saving..\n",
      "\n",
      "Epoch: 10\n"
     ]
    },
    {
     "name": "stderr",
     "output_type": "stream",
     "text": [
      "Epoch : 10: 100%|███████████████████████████████████████████████████████████████████████████████████████████████████████| 782/782 [01:38<00:00,  7.98it/s, Acc=73.8, loss=0.763]\n",
      "100%|███████████████████████████████████████████████████████████████████████████████████████████████████████████████████| 157/157 [00:06<00:00, 22.49it/s, Acc=74.1, loss=0.765]\n"
     ]
    },
    {
     "name": "stdout",
     "output_type": "stream",
     "text": [
      "\n",
      "Epoch: 11\n"
     ]
    },
    {
     "name": "stderr",
     "output_type": "stream",
     "text": [
      "Epoch : 11: 100%|███████████████████████████████████████████████████████████████████████████████████████████████████████| 782/782 [01:38<00:00,  7.93it/s, Acc=75.2, loss=0.719]\n",
      "100%|█████████████████████████████████████████████████████████████████████████████████████████████████████████████████████| 157/157 [00:06<00:00, 22.48it/s, Acc=76, loss=0.684]\n"
     ]
    },
    {
     "name": "stdout",
     "output_type": "stream",
     "text": [
      "Saving..\n",
      "\n",
      "Epoch: 12\n"
     ]
    },
    {
     "name": "stderr",
     "output_type": "stream",
     "text": [
      "Epoch : 12: 100%|███████████████████████████████████████████████████████████████████████████████████████████████████████| 782/782 [01:35<00:00,  8.16it/s, Acc=76.6, loss=0.683]\n",
      "100%|███████████████████████████████████████████████████████████████████████████████████████████████████████████████████| 157/157 [00:06<00:00, 22.69it/s, Acc=77.9, loss=0.654]\n"
     ]
    },
    {
     "name": "stdout",
     "output_type": "stream",
     "text": [
      "Saving..\n",
      "\n",
      "Epoch: 13\n"
     ]
    },
    {
     "name": "stderr",
     "output_type": "stream",
     "text": [
      "Epoch : 13: 100%|███████████████████████████████████████████████████████████████████████████████████████████████████████| 782/782 [01:38<00:00,  7.96it/s, Acc=77.4, loss=0.663]\n",
      "100%|███████████████████████████████████████████████████████████████████████████████████████████████████████████████████| 157/157 [00:07<00:00, 22.04it/s, Acc=77.5, loss=0.643]\n"
     ]
    },
    {
     "name": "stdout",
     "output_type": "stream",
     "text": [
      "\n",
      "Epoch: 14\n"
     ]
    },
    {
     "name": "stderr",
     "output_type": "stream",
     "text": [
      "Epoch : 14: 100%|███████████████████████████████████████████████████████████████████████████████████████████████████████| 782/782 [01:37<00:00,  8.05it/s, Acc=78.2, loss=0.634]\n",
      "100%|███████████████████████████████████████████████████████████████████████████████████████████████████████████████████| 157/157 [00:06<00:00, 22.70it/s, Acc=79.2, loss=0.616]\n"
     ]
    },
    {
     "name": "stdout",
     "output_type": "stream",
     "text": [
      "Saving..\n",
      "\n",
      "Epoch: 15\n"
     ]
    },
    {
     "name": "stderr",
     "output_type": "stream",
     "text": [
      "Epoch : 15: 100%|█████████████████████████████████████████████████████████████████████████████████████████████████████████| 782/782 [01:38<00:00,  7.91it/s, Acc=79, loss=0.607]\n",
      "100%|███████████████████████████████████████████████████████████████████████████████████████████████████████████████████| 157/157 [00:06<00:00, 22.47it/s, Acc=78.3, loss=0.649]\n"
     ]
    },
    {
     "name": "stdout",
     "output_type": "stream",
     "text": [
      "\n",
      "Epoch: 16\n"
     ]
    },
    {
     "name": "stderr",
     "output_type": "stream",
     "text": [
      "Epoch : 16: 100%|███████████████████████████████████████████████████████████████████████████████████████████████████████| 782/782 [01:38<00:00,  7.91it/s, Acc=79.7, loss=0.589]\n",
      "100%|███████████████████████████████████████████████████████████████████████████████████████████████████████████████████| 157/157 [00:06<00:00, 22.48it/s, Acc=80.2, loss=0.592]\n"
     ]
    },
    {
     "name": "stdout",
     "output_type": "stream",
     "text": [
      "Saving..\n",
      "\n",
      "Epoch: 17\n"
     ]
    },
    {
     "name": "stderr",
     "output_type": "stream",
     "text": [
      "Epoch : 17: 100%|███████████████████████████████████████████████████████████████████████████████████████████████████████| 782/782 [01:36<00:00,  8.07it/s, Acc=80.4, loss=0.572]\n",
      "100%|███████████████████████████████████████████████████████████████████████████████████████████████████████████████████| 157/157 [00:07<00:00, 22.29it/s, Acc=80.4, loss=0.585]\n"
     ]
    },
    {
     "name": "stdout",
     "output_type": "stream",
     "text": [
      "Saving..\n",
      "\n",
      "Epoch: 18\n"
     ]
    },
    {
     "name": "stderr",
     "output_type": "stream",
     "text": [
      "Epoch : 18: 100%|███████████████████████████████████████████████████████████████████████████████████████████████████████| 782/782 [01:38<00:00,  7.92it/s, Acc=81.2, loss=0.553]\n",
      "100%|█████████████████████████████████████████████████████████████████████████████████████████████████████████████████████| 157/157 [00:07<00:00, 22.35it/s, Acc=81, loss=0.563]\n"
     ]
    },
    {
     "name": "stdout",
     "output_type": "stream",
     "text": [
      "Saving..\n",
      "\n",
      "Epoch: 19\n"
     ]
    },
    {
     "name": "stderr",
     "output_type": "stream",
     "text": [
      "Epoch : 19: 100%|███████████████████████████████████████████████████████████████████████████████████████████████████████| 782/782 [01:34<00:00,  8.27it/s, Acc=81.8, loss=0.534]\n",
      "100%|███████████████████████████████████████████████████████████████████████████████████████████████████████████████████| 157/157 [00:06<00:00, 22.80it/s, Acc=82.1, loss=0.538]\n"
     ]
    },
    {
     "name": "stdout",
     "output_type": "stream",
     "text": [
      "Saving..\n",
      "\n",
      "Epoch: 20\n"
     ]
    },
    {
     "name": "stderr",
     "output_type": "stream",
     "text": [
      "Epoch : 20: 100%|█████████████████████████████████████████████████████████████████████████████████████████████████████████| 782/782 [01:38<00:00,  7.94it/s, Acc=82, loss=0.523]\n",
      "100%|███████████████████████████████████████████████████████████████████████████████████████████████████████████████████| 157/157 [00:06<00:00, 22.61it/s, Acc=81.8, loss=0.551]\n"
     ]
    },
    {
     "name": "stdout",
     "output_type": "stream",
     "text": [
      "\n",
      "Epoch: 21\n"
     ]
    },
    {
     "name": "stderr",
     "output_type": "stream",
     "text": [
      "Epoch : 21: 100%|███████████████████████████████████████████████████████████████████████████████████████████████████████| 782/782 [01:37<00:00,  8.03it/s, Acc=82.7, loss=0.504]\n",
      "100%|███████████████████████████████████████████████████████████████████████████████████████████████████████████████████| 157/157 [00:06<00:00, 22.94it/s, Acc=83.3, loss=0.486]\n"
     ]
    },
    {
     "name": "stdout",
     "output_type": "stream",
     "text": [
      "Saving..\n",
      "\n",
      "Epoch: 22\n"
     ]
    },
    {
     "name": "stderr",
     "output_type": "stream",
     "text": [
      "Epoch : 22: 100%|███████████████████████████████████████████████████████████████████████████████████████████████████████| 782/782 [01:37<00:00,  7.98it/s, Acc=83.1, loss=0.495]\n",
      "100%|███████████████████████████████████████████████████████████████████████████████████████████████████████████████████| 157/157 [00:06<00:00, 22.83it/s, Acc=83.2, loss=0.502]\n"
     ]
    },
    {
     "name": "stdout",
     "output_type": "stream",
     "text": [
      "\n",
      "Epoch: 23\n"
     ]
    },
    {
     "name": "stderr",
     "output_type": "stream",
     "text": [
      "Epoch : 23: 100%|███████████████████████████████████████████████████████████████████████████████████████████████████████| 782/782 [01:37<00:00,  8.06it/s, Acc=83.4, loss=0.484]\n",
      "100%|███████████████████████████████████████████████████████████████████████████████████████████████████████████████████| 157/157 [00:06<00:00, 22.53it/s, Acc=84.1, loss=0.472]\n"
     ]
    },
    {
     "name": "stdout",
     "output_type": "stream",
     "text": [
      "Saving..\n",
      "\n",
      "Epoch: 24\n"
     ]
    },
    {
     "name": "stderr",
     "output_type": "stream",
     "text": [
      "Epoch : 24: 100%|███████████████████████████████████████████████████████████████████████████████████████████████████████| 782/782 [01:35<00:00,  8.15it/s, Acc=83.9, loss=0.472]\n",
      "100%|███████████████████████████████████████████████████████████████████████████████████████████████████████████████████| 157/157 [00:06<00:00, 23.15it/s, Acc=83.7, loss=0.484]\n"
     ]
    },
    {
     "name": "stdout",
     "output_type": "stream",
     "text": [
      "\n",
      "Epoch: 25\n"
     ]
    },
    {
     "name": "stderr",
     "output_type": "stream",
     "text": [
      "Epoch : 25: 100%|███████████████████████████████████████████████████████████████████████████████████████████████████████| 782/782 [01:33<00:00,  8.39it/s, Acc=84.3, loss=0.459]\n",
      "100%|█████████████████████████████████████████████████████████████████████████████████████████████████████████████████████| 157/157 [00:06<00:00, 23.06it/s, Acc=84, loss=0.478]\n"
     ]
    },
    {
     "name": "stdout",
     "output_type": "stream",
     "text": [
      "\n",
      "Epoch: 26\n"
     ]
    },
    {
     "name": "stderr",
     "output_type": "stream",
     "text": [
      "Epoch : 26: 100%|████████████████████████████████████████████████████████████████████████████████████████████████████████| 782/782 [01:35<00:00,  8.19it/s, Acc=84.5, loss=0.45]\n",
      "100%|███████████████████████████████████████████████████████████████████████████████████████████████████████████████████| 157/157 [00:07<00:00, 22.43it/s, Acc=83.7, loss=0.481]\n"
     ]
    },
    {
     "name": "stdout",
     "output_type": "stream",
     "text": [
      "\n",
      "Epoch: 27\n"
     ]
    },
    {
     "name": "stderr",
     "output_type": "stream",
     "text": [
      "Epoch : 27: 100%|███████████████████████████████████████████████████████████████████████████████████████████████████████| 782/782 [01:39<00:00,  7.90it/s, Acc=84.9, loss=0.442]\n",
      "100%|███████████████████████████████████████████████████████████████████████████████████████████████████████████████████| 157/157 [00:06<00:00, 22.46it/s, Acc=83.8, loss=0.479]\n"
     ]
    },
    {
     "name": "stdout",
     "output_type": "stream",
     "text": [
      "\n",
      "Epoch: 28\n"
     ]
    },
    {
     "name": "stderr",
     "output_type": "stream",
     "text": [
      "Epoch : 28: 100%|████████████████████████████████████████████████████████████████████████████████████████████████████████| 782/782 [01:38<00:00,  7.95it/s, Acc=85.3, loss=0.43]\n",
      "100%|█████████████████████████████████████████████████████████████████████████████████████████████████████████████████████| 157/157 [00:06<00:00, 23.64it/s, Acc=85, loss=0.437]\n"
     ]
    },
    {
     "name": "stdout",
     "output_type": "stream",
     "text": [
      "Saving..\n",
      "\n",
      "Epoch: 29\n"
     ]
    },
    {
     "name": "stderr",
     "output_type": "stream",
     "text": [
      "Epoch : 29: 100%|███████████████████████████████████████████████████████████████████████████████████████████████████████| 782/782 [01:38<00:00,  7.95it/s, Acc=85.8, loss=0.424]\n",
      "100%|███████████████████████████████████████████████████████████████████████████████████████████████████████████████████| 157/157 [00:07<00:00, 22.15it/s, Acc=85.5, loss=0.434]\n"
     ]
    },
    {
     "name": "stdout",
     "output_type": "stream",
     "text": [
      "Saving..\n",
      "\n",
      "Epoch: 30\n"
     ]
    },
    {
     "name": "stderr",
     "output_type": "stream",
     "text": [
      "Epoch : 30: 100%|███████████████████████████████████████████████████████████████████████████████████████████████████████| 782/782 [01:39<00:00,  7.88it/s, Acc=85.8, loss=0.418]\n",
      "100%|███████████████████████████████████████████████████████████████████████████████████████████████████████████████████| 157/157 [00:07<00:00, 22.05it/s, Acc=85.2, loss=0.429]\n"
     ]
    },
    {
     "name": "stdout",
     "output_type": "stream",
     "text": [
      "\n",
      "Epoch: 31\n"
     ]
    },
    {
     "name": "stderr",
     "output_type": "stream",
     "text": [
      "Epoch : 31: 100%|███████████████████████████████████████████████████████████████████████████████████████████████████████| 782/782 [01:36<00:00,  8.10it/s, Acc=86.3, loss=0.401]\n",
      "100%|█████████████████████████████████████████████████████████████████████████████████████████████████████████████████████| 157/157 [00:07<00:00, 22.14it/s, Acc=85, loss=0.453]\n"
     ]
    },
    {
     "name": "stdout",
     "output_type": "stream",
     "text": [
      "\n",
      "Epoch: 32\n"
     ]
    },
    {
     "name": "stderr",
     "output_type": "stream",
     "text": [
      "Epoch : 32: 100%|███████████████████████████████████████████████████████████████████████████████████████████████████████| 782/782 [01:39<00:00,  7.90it/s, Acc=86.4, loss=0.398]\n",
      "100%|███████████████████████████████████████████████████████████████████████████████████████████████████████████████████| 157/157 [00:07<00:00, 22.18it/s, Acc=85.6, loss=0.428]\n"
     ]
    },
    {
     "name": "stdout",
     "output_type": "stream",
     "text": [
      "Saving..\n",
      "\n",
      "Epoch: 33\n"
     ]
    },
    {
     "name": "stderr",
     "output_type": "stream",
     "text": [
      "Epoch : 33: 100%|███████████████████████████████████████████████████████████████████████████████████████████████████████| 782/782 [01:36<00:00,  8.10it/s, Acc=86.5, loss=0.393]\n",
      "100%|███████████████████████████████████████████████████████████████████████████████████████████████████████████████████| 157/157 [00:07<00:00, 21.97it/s, Acc=85.4, loss=0.445]\n"
     ]
    },
    {
     "name": "stdout",
     "output_type": "stream",
     "text": [
      "\n",
      "Epoch: 34\n"
     ]
    },
    {
     "name": "stderr",
     "output_type": "stream",
     "text": [
      "Epoch : 34: 100%|█████████████████████████████████████████████████████████████████████████████████████████████████████████| 782/782 [01:38<00:00,  7.93it/s, Acc=87, loss=0.381]\n",
      "100%|████████████████████████████████████████████████████████████████████████████████████████████████████████████████████| 157/157 [00:06<00:00, 22.45it/s, Acc=86.1, loss=0.41]\n"
     ]
    },
    {
     "name": "stdout",
     "output_type": "stream",
     "text": [
      "Saving..\n",
      "\n",
      "Epoch: 35\n"
     ]
    },
    {
     "name": "stderr",
     "output_type": "stream",
     "text": [
      "Epoch : 35: 100%|███████████████████████████████████████████████████████████████████████████████████████████████████████| 782/782 [01:37<00:00,  8.03it/s, Acc=87.1, loss=0.376]\n",
      "100%|███████████████████████████████████████████████████████████████████████████████████████████████████████████████████| 157/157 [00:06<00:00, 23.42it/s, Acc=85.9, loss=0.428]\n"
     ]
    },
    {
     "name": "stdout",
     "output_type": "stream",
     "text": [
      "\n",
      "Epoch: 36\n"
     ]
    },
    {
     "name": "stderr",
     "output_type": "stream",
     "text": [
      "Epoch : 36: 100%|███████████████████████████████████████████████████████████████████████████████████████████████████████| 782/782 [01:37<00:00,  8.05it/s, Acc=87.5, loss=0.367]\n",
      "100%|███████████████████████████████████████████████████████████████████████████████████████████████████████████████████| 157/157 [00:07<00:00, 22.41it/s, Acc=86.1, loss=0.424]\n"
     ]
    },
    {
     "name": "stdout",
     "output_type": "stream",
     "text": [
      "\n",
      "Epoch: 37\n"
     ]
    },
    {
     "name": "stderr",
     "output_type": "stream",
     "text": [
      "Epoch : 37: 100%|███████████████████████████████████████████████████████████████████████████████████████████████████████| 782/782 [01:38<00:00,  7.92it/s, Acc=87.6, loss=0.362]\n",
      "100%|███████████████████████████████████████████████████████████████████████████████████████████████████████████████████| 157/157 [00:07<00:00, 21.83it/s, Acc=86.3, loss=0.416]\n"
     ]
    },
    {
     "name": "stdout",
     "output_type": "stream",
     "text": [
      "Saving..\n",
      "\n",
      "Epoch: 38\n"
     ]
    },
    {
     "name": "stderr",
     "output_type": "stream",
     "text": [
      "Epoch : 38: 100%|███████████████████████████████████████████████████████████████████████████████████████████████████████| 782/782 [01:36<00:00,  8.09it/s, Acc=87.8, loss=0.355]\n",
      "100%|███████████████████████████████████████████████████████████████████████████████████████████████████████████████████| 157/157 [00:07<00:00, 22.11it/s, Acc=86.3, loss=0.416]\n"
     ]
    },
    {
     "name": "stdout",
     "output_type": "stream",
     "text": [
      "Saving..\n",
      "\n",
      "Epoch: 39\n"
     ]
    },
    {
     "name": "stderr",
     "output_type": "stream",
     "text": [
      "Epoch : 39: 100%|█████████████████████████████████████████████████████████████████████████████████████████████████████████| 782/782 [01:38<00:00,  7.92it/s, Acc=88, loss=0.352]\n",
      "100%|███████████████████████████████████████████████████████████████████████████████████████████████████████████████████| 157/157 [00:07<00:00, 22.31it/s, Acc=86.3, loss=0.412]\n"
     ]
    },
    {
     "name": "stdout",
     "output_type": "stream",
     "text": [
      "\n",
      "Epoch: 40\n"
     ]
    },
    {
     "name": "stderr",
     "output_type": "stream",
     "text": [
      "Epoch : 40: 100%|███████████████████████████████████████████████████████████████████████████████████████████████████████| 782/782 [01:37<00:00,  8.02it/s, Acc=88.3, loss=0.343]\n",
      "100%|███████████████████████████████████████████████████████████████████████████████████████████████████████████████████| 157/157 [00:07<00:00, 22.23it/s, Acc=86.8, loss=0.419]\n"
     ]
    },
    {
     "name": "stdout",
     "output_type": "stream",
     "text": [
      "Saving..\n",
      "\n",
      "Epoch: 41\n"
     ]
    },
    {
     "name": "stderr",
     "output_type": "stream",
     "text": [
      "Epoch : 41: 100%|███████████████████████████████████████████████████████████████████████████████████████████████████████| 782/782 [01:38<00:00,  7.94it/s, Acc=88.5, loss=0.337]\n",
      "100%|███████████████████████████████████████████████████████████████████████████████████████████████████████████████████| 157/157 [00:06<00:00, 22.43it/s, Acc=86.9, loss=0.398]\n"
     ]
    },
    {
     "name": "stdout",
     "output_type": "stream",
     "text": [
      "Saving..\n",
      "\n",
      "Epoch: 42\n"
     ]
    },
    {
     "name": "stderr",
     "output_type": "stream",
     "text": [
      "Epoch : 42: 100%|███████████████████████████████████████████████████████████████████████████████████████████████████████| 782/782 [01:36<00:00,  8.08it/s, Acc=88.5, loss=0.333]\n",
      "100%|█████████████████████████████████████████████████████████████████████████████████████████████████████████████████████| 157/157 [00:06<00:00, 23.14it/s, Acc=87, loss=0.401]\n"
     ]
    },
    {
     "name": "stdout",
     "output_type": "stream",
     "text": [
      "Saving..\n",
      "\n",
      "Epoch: 43\n"
     ]
    },
    {
     "name": "stderr",
     "output_type": "stream",
     "text": [
      "Epoch : 43: 100%|████████████████████████████████████████████████████████████████████████████████████████████████████████| 782/782 [01:37<00:00,  8.06it/s, Acc=88.8, loss=0.33]\n",
      "100%|█████████████████████████████████████████████████████████████████████████████████████████████████████████████████████| 157/157 [00:07<00:00, 21.98it/s, Acc=86.7, loss=0.4]\n"
     ]
    },
    {
     "name": "stdout",
     "output_type": "stream",
     "text": [
      "\n",
      "Epoch: 44\n"
     ]
    },
    {
     "name": "stderr",
     "output_type": "stream",
     "text": [
      "Epoch : 44: 100%|█████████████████████████████████████████████████████████████████████████████████████████████████████████| 782/782 [01:39<00:00,  7.89it/s, Acc=89, loss=0.324]\n",
      "100%|███████████████████████████████████████████████████████████████████████████████████████████████████████████████████| 157/157 [00:06<00:00, 22.45it/s, Acc=86.9, loss=0.397]\n"
     ]
    },
    {
     "name": "stdout",
     "output_type": "stream",
     "text": [
      "\n",
      "Epoch: 45\n"
     ]
    },
    {
     "name": "stderr",
     "output_type": "stream",
     "text": [
      "Epoch : 45: 100%|███████████████████████████████████████████████████████████████████████████████████████████████████████| 782/782 [01:36<00:00,  8.12it/s, Acc=89.2, loss=0.314]\n",
      "100%|███████████████████████████████████████████████████████████████████████████████████████████████████████████████████| 157/157 [00:06<00:00, 22.46it/s, Acc=87.5, loss=0.376]\n"
     ]
    },
    {
     "name": "stdout",
     "output_type": "stream",
     "text": [
      "Saving..\n",
      "\n",
      "Epoch: 46\n"
     ]
    },
    {
     "name": "stderr",
     "output_type": "stream",
     "text": [
      "Epoch : 46: 100%|███████████████████████████████████████████████████████████████████████████████████████████████████████| 782/782 [01:37<00:00,  8.03it/s, Acc=89.4, loss=0.308]\n",
      "100%|█████████████████████████████████████████████████████████████████████████████████████████████████████████████████████| 157/157 [00:06<00:00, 23.31it/s, Acc=87, loss=0.389]\n"
     ]
    },
    {
     "name": "stdout",
     "output_type": "stream",
     "text": [
      "\n",
      "Epoch: 47\n"
     ]
    },
    {
     "name": "stderr",
     "output_type": "stream",
     "text": [
      "Epoch : 47: 100%|███████████████████████████████████████████████████████████████████████████████████████████████████████| 782/782 [01:37<00:00,  8.04it/s, Acc=89.5, loss=0.311]\n",
      "100%|███████████████████████████████████████████████████████████████████████████████████████████████████████████████████| 157/157 [00:06<00:00, 24.97it/s, Acc=86.5, loss=0.404]\n"
     ]
    },
    {
     "name": "stdout",
     "output_type": "stream",
     "text": [
      "\n",
      "Epoch: 48\n"
     ]
    },
    {
     "name": "stderr",
     "output_type": "stream",
     "text": [
      "Epoch : 48: 100%|███████████████████████████████████████████████████████████████████████████████████████████████████████| 782/782 [01:38<00:00,  7.94it/s, Acc=89.5, loss=0.306]\n",
      "100%|███████████████████████████████████████████████████████████████████████████████████████████████████████████████████| 157/157 [00:07<00:00, 21.91it/s, Acc=87.3, loss=0.383]\n"
     ]
    },
    {
     "name": "stdout",
     "output_type": "stream",
     "text": [
      "\n",
      "Epoch: 49\n"
     ]
    },
    {
     "name": "stderr",
     "output_type": "stream",
     "text": [
      "Epoch : 49: 100%|███████████████████████████████████████████████████████████████████████████████████████████████████████| 782/782 [01:38<00:00,  7.91it/s, Acc=89.8, loss=0.297]\n",
      "100%|███████████████████████████████████████████████████████████████████████████████████████████████████████████████████| 157/157 [00:07<00:00, 22.17it/s, Acc=87.5, loss=0.387]\n"
     ]
    },
    {
     "name": "stdout",
     "output_type": "stream",
     "text": [
      "\n",
      "Epoch: 50\n"
     ]
    },
    {
     "name": "stderr",
     "output_type": "stream",
     "text": [
      "Epoch : 50: 100%|███████████████████████████████████████████████████████████████████████████████████████████████████████| 782/782 [01:36<00:00,  8.07it/s, Acc=89.8, loss=0.296]\n",
      "100%|████████████████████████████████████████████████████████████████████████████████████████████████████████████████████| 157/157 [00:07<00:00, 21.80it/s, Acc=87.3, loss=0.39]\n"
     ]
    },
    {
     "name": "stdout",
     "output_type": "stream",
     "text": [
      "\n",
      "Epoch: 51\n"
     ]
    },
    {
     "name": "stderr",
     "output_type": "stream",
     "text": [
      "Epoch : 51: 100%|███████████████████████████████████████████████████████████████████████████████████████████████████████| 782/782 [01:38<00:00,  7.97it/s, Acc=90.1, loss=0.289]\n",
      "100%|███████████████████████████████████████████████████████████████████████████████████████████████████████████████████| 157/157 [00:06<00:00, 22.47it/s, Acc=87.6, loss=0.393]\n"
     ]
    },
    {
     "name": "stdout",
     "output_type": "stream",
     "text": [
      "Saving..\n",
      "\n",
      "Epoch: 52\n"
     ]
    },
    {
     "name": "stderr",
     "output_type": "stream",
     "text": [
      "Epoch : 52: 100%|███████████████████████████████████████████████████████████████████████████████████████████████████████| 782/782 [01:35<00:00,  8.19it/s, Acc=90.1, loss=0.287]\n",
      "100%|███████████████████████████████████████████████████████████████████████████████████████████████████████████████████| 157/157 [00:06<00:00, 22.60it/s, Acc=87.8, loss=0.382]\n"
     ]
    },
    {
     "name": "stdout",
     "output_type": "stream",
     "text": [
      "Saving..\n",
      "\n",
      "Epoch: 53\n"
     ]
    },
    {
     "name": "stderr",
     "output_type": "stream",
     "text": [
      "Epoch : 53: 100%|███████████████████████████████████████████████████████████████████████████████████████████████████████| 782/782 [01:38<00:00,  7.91it/s, Acc=90.2, loss=0.284]\n",
      "100%|███████████████████████████████████████████████████████████████████████████████████████████████████████████████████| 157/157 [00:07<00:00, 22.04it/s, Acc=87.4, loss=0.396]\n"
     ]
    },
    {
     "name": "stdout",
     "output_type": "stream",
     "text": [
      "\n",
      "Epoch: 54\n"
     ]
    },
    {
     "name": "stderr",
     "output_type": "stream",
     "text": [
      "Epoch : 54: 100%|███████████████████████████████████████████████████████████████████████████████████████████████████████| 782/782 [01:37<00:00,  8.01it/s, Acc=90.3, loss=0.283]\n",
      "100%|███████████████████████████████████████████████████████████████████████████████████████████████████████████████████| 157/157 [00:07<00:00, 22.20it/s, Acc=87.6, loss=0.393]\n"
     ]
    },
    {
     "name": "stdout",
     "output_type": "stream",
     "text": [
      "\n",
      "Epoch: 55\n"
     ]
    },
    {
     "name": "stderr",
     "output_type": "stream",
     "text": [
      "Epoch : 55: 100%|███████████████████████████████████████████████████████████████████████████████████████████████████████| 782/782 [01:36<00:00,  8.09it/s, Acc=90.5, loss=0.274]\n",
      "100%|███████████████████████████████████████████████████████████████████████████████████████████████████████████████████| 157/157 [00:07<00:00, 22.08it/s, Acc=87.6, loss=0.383]\n"
     ]
    },
    {
     "name": "stdout",
     "output_type": "stream",
     "text": [
      "\n",
      "Epoch: 56\n"
     ]
    },
    {
     "name": "stderr",
     "output_type": "stream",
     "text": [
      "Epoch : 56: 100%|███████████████████████████████████████████████████████████████████████████████████████████████████████| 782/782 [01:38<00:00,  7.93it/s, Acc=90.7, loss=0.271]\n",
      "100%|███████████████████████████████████████████████████████████████████████████████████████████████████████████████████| 157/157 [00:06<00:00, 22.48it/s, Acc=87.6, loss=0.402]\n"
     ]
    },
    {
     "name": "stdout",
     "output_type": "stream",
     "text": [
      "\n",
      "Epoch: 57\n"
     ]
    },
    {
     "name": "stderr",
     "output_type": "stream",
     "text": [
      "Epoch : 57: 100%|███████████████████████████████████████████████████████████████████████████████████████████████████████| 782/782 [01:36<00:00,  8.14it/s, Acc=90.8, loss=0.268]\n",
      "100%|████████████████████████████████████████████████████████████████████████████████████████████████████████████████████| 157/157 [00:07<00:00, 22.36it/s, Acc=87.1, loss=0.39]\n"
     ]
    },
    {
     "name": "stdout",
     "output_type": "stream",
     "text": [
      "\n",
      "Epoch: 58\n"
     ]
    },
    {
     "name": "stderr",
     "output_type": "stream",
     "text": [
      "Epoch : 58: 100%|███████████████████████████████████████████████████████████████████████████████████████████████████████| 782/782 [01:39<00:00,  7.88it/s, Acc=90.7, loss=0.268]\n",
      "100%|███████████████████████████████████████████████████████████████████████████████████████████████████████████████████| 157/157 [00:07<00:00, 22.42it/s, Acc=87.7, loss=0.391]\n"
     ]
    },
    {
     "name": "stdout",
     "output_type": "stream",
     "text": [
      "\n",
      "Epoch: 59\n"
     ]
    },
    {
     "name": "stderr",
     "output_type": "stream",
     "text": [
      "Epoch : 59: 100%|███████████████████████████████████████████████████████████████████████████████████████████████████████| 782/782 [01:36<00:00,  8.12it/s, Acc=90.9, loss=0.264]\n",
      "100%|███████████████████████████████████████████████████████████████████████████████████████████████████████████████████| 157/157 [00:06<00:00, 22.67it/s, Acc=87.5, loss=0.385]\n"
     ]
    },
    {
     "name": "stdout",
     "output_type": "stream",
     "text": [
      "\n",
      "Epoch: 60\n"
     ]
    },
    {
     "name": "stderr",
     "output_type": "stream",
     "text": [
      "Epoch : 60: 100%|█████████████████████████████████████████████████████████████████████████████████████████████████████████| 782/782 [01:38<00:00,  7.97it/s, Acc=91, loss=0.261]\n",
      "100%|███████████████████████████████████████████████████████████████████████████████████████████████████████████████████| 157/157 [00:07<00:00, 21.96it/s, Acc=88.3, loss=0.371]\n"
     ]
    },
    {
     "name": "stdout",
     "output_type": "stream",
     "text": [
      "Saving..\n",
      "\n",
      "Epoch: 61\n"
     ]
    },
    {
     "name": "stderr",
     "output_type": "stream",
     "text": [
      "Epoch : 61: 100%|███████████████████████████████████████████████████████████████████████████████████████████████████████| 782/782 [01:39<00:00,  7.87it/s, Acc=91.2, loss=0.254]\n",
      "100%|███████████████████████████████████████████████████████████████████████████████████████████████████████████████████| 157/157 [00:06<00:00, 23.59it/s, Acc=87.9, loss=0.384]\n"
     ]
    },
    {
     "name": "stdout",
     "output_type": "stream",
     "text": [
      "\n",
      "Epoch: 62\n"
     ]
    },
    {
     "name": "stderr",
     "output_type": "stream",
     "text": [
      "Epoch : 62: 100%|███████████████████████████████████████████████████████████████████████████████████████████████████████| 782/782 [01:37<00:00,  8.01it/s, Acc=91.2, loss=0.254]\n",
      "100%|███████████████████████████████████████████████████████████████████████████████████████████████████████████████████| 157/157 [00:07<00:00, 21.95it/s, Acc=87.8, loss=0.401]\n"
     ]
    },
    {
     "name": "stdout",
     "output_type": "stream",
     "text": [
      "\n",
      "Epoch: 63\n"
     ]
    },
    {
     "name": "stderr",
     "output_type": "stream",
     "text": [
      "Epoch : 63: 100%|███████████████████████████████████████████████████████████████████████████████████████████████████████| 782/782 [01:39<00:00,  7.88it/s, Acc=91.4, loss=0.251]\n",
      "100%|█████████████████████████████████████████████████████████████████████████████████████████████████████████████████████| 157/157 [00:07<00:00, 22.19it/s, Acc=88, loss=0.377]\n"
     ]
    },
    {
     "name": "stdout",
     "output_type": "stream",
     "text": [
      "\n",
      "Epoch: 64\n"
     ]
    },
    {
     "name": "stderr",
     "output_type": "stream",
     "text": [
      "Epoch : 64: 100%|███████████████████████████████████████████████████████████████████████████████████████████████████████| 782/782 [01:36<00:00,  8.11it/s, Acc=91.3, loss=0.248]\n",
      "100%|███████████████████████████████████████████████████████████████████████████████████████████████████████████████████| 157/157 [00:06<00:00, 23.04it/s, Acc=88.4, loss=0.375]\n"
     ]
    },
    {
     "name": "stdout",
     "output_type": "stream",
     "text": [
      "Saving..\n",
      "\n",
      "Epoch: 65\n"
     ]
    },
    {
     "name": "stderr",
     "output_type": "stream",
     "text": [
      "Epoch : 65: 100%|███████████████████████████████████████████████████████████████████████████████████████████████████████| 782/782 [01:37<00:00,  8.05it/s, Acc=91.5, loss=0.246]\n",
      "100%|███████████████████████████████████████████████████████████████████████████████████████████████████████████████████| 157/157 [00:07<00:00, 22.09it/s, Acc=88.3, loss=0.393]\n"
     ]
    },
    {
     "name": "stdout",
     "output_type": "stream",
     "text": [
      "\n",
      "Epoch: 66\n"
     ]
    },
    {
     "name": "stderr",
     "output_type": "stream",
     "text": [
      "Epoch : 66: 100%|███████████████████████████████████████████████████████████████████████████████████████████████████████| 782/782 [01:36<00:00,  8.07it/s, Acc=91.4, loss=0.245]\n",
      "100%|███████████████████████████████████████████████████████████████████████████████████████████████████████████████████| 157/157 [00:06<00:00, 22.51it/s, Acc=88.3, loss=0.368]\n"
     ]
    },
    {
     "name": "stdout",
     "output_type": "stream",
     "text": [
      "\n",
      "Epoch: 67\n"
     ]
    },
    {
     "name": "stderr",
     "output_type": "stream",
     "text": [
      "Epoch : 67: 100%|████████████████████████████████████████████████████████████████████████████████████████████████████████| 782/782 [01:39<00:00,  7.89it/s, Acc=91.8, loss=0.24]\n",
      "100%|███████████████████████████████████████████████████████████████████████████████████████████████████████████████████| 157/157 [00:06<00:00, 22.62it/s, Acc=88.7, loss=0.365]\n"
     ]
    },
    {
     "name": "stdout",
     "output_type": "stream",
     "text": [
      "Saving..\n",
      "\n",
      "Epoch: 68\n"
     ]
    },
    {
     "name": "stderr",
     "output_type": "stream",
     "text": [
      "Epoch : 68: 100%|███████████████████████████████████████████████████████████████████████████████████████████████████████| 782/782 [01:39<00:00,  7.88it/s, Acc=91.8, loss=0.237]\n",
      "100%|█████████████████████████████████████████████████████████████████████████████████████████████████████████████████████| 157/157 [00:06<00:00, 22.65it/s, Acc=89, loss=0.357]\n"
     ]
    },
    {
     "name": "stdout",
     "output_type": "stream",
     "text": [
      "Saving..\n",
      "\n",
      "Epoch: 69\n"
     ]
    },
    {
     "name": "stderr",
     "output_type": "stream",
     "text": [
      "Epoch : 69: 100%|███████████████████████████████████████████████████████████████████████████████████████████████████████| 782/782 [01:35<00:00,  8.19it/s, Acc=91.8, loss=0.238]\n",
      "100%|███████████████████████████████████████████████████████████████████████████████████████████████████████████████████| 157/157 [00:06<00:00, 22.44it/s, Acc=88.5, loss=0.354]\n"
     ]
    },
    {
     "name": "stdout",
     "output_type": "stream",
     "text": [
      "\n",
      "Epoch: 70\n"
     ]
    },
    {
     "name": "stderr",
     "output_type": "stream",
     "text": [
      "Epoch : 70: 100%|█████████████████████████████████████████████████████████████████████████████████████████████████████████| 782/782 [01:37<00:00,  8.02it/s, Acc=92, loss=0.228]\n",
      "100%|███████████████████████████████████████████████████████████████████████████████████████████████████████████████████| 157/157 [00:07<00:00, 22.10it/s, Acc=88.5, loss=0.365]\n"
     ]
    },
    {
     "name": "stdout",
     "output_type": "stream",
     "text": [
      "\n",
      "Epoch: 71\n"
     ]
    },
    {
     "name": "stderr",
     "output_type": "stream",
     "text": [
      "Epoch : 71: 100%|██████████████████████████████████████████████████████████████████████████████████████████████████████████| 782/782 [01:36<00:00,  8.07it/s, Acc=92, loss=0.23]\n",
      "100%|███████████████████████████████████████████████████████████████████████████████████████████████████████████████████| 157/157 [00:06<00:00, 23.00it/s, Acc=88.6, loss=0.382]\n"
     ]
    },
    {
     "name": "stdout",
     "output_type": "stream",
     "text": [
      "\n",
      "Epoch: 72\n"
     ]
    },
    {
     "name": "stderr",
     "output_type": "stream",
     "text": [
      "Epoch : 72: 100%|███████████████████████████████████████████████████████████████████████████████████████████████████████| 782/782 [01:37<00:00,  8.00it/s, Acc=92.1, loss=0.228]\n",
      "100%|███████████████████████████████████████████████████████████████████████████████████████████████████████████████████| 157/157 [00:07<00:00, 21.93it/s, Acc=88.6, loss=0.356]\n"
     ]
    },
    {
     "name": "stdout",
     "output_type": "stream",
     "text": [
      "\n",
      "Epoch: 73\n"
     ]
    },
    {
     "name": "stderr",
     "output_type": "stream",
     "text": [
      "Epoch : 73: 100%|███████████████████████████████████████████████████████████████████████████████████████████████████████| 782/782 [01:37<00:00,  8.06it/s, Acc=92.3, loss=0.224]\n",
      "100%|███████████████████████████████████████████████████████████████████████████████████████████████████████████████████| 157/157 [00:06<00:00, 23.85it/s, Acc=88.7, loss=0.381]\n"
     ]
    },
    {
     "name": "stdout",
     "output_type": "stream",
     "text": [
      "\n",
      "Epoch: 74\n"
     ]
    },
    {
     "name": "stderr",
     "output_type": "stream",
     "text": [
      "Epoch : 74: 100%|███████████████████████████████████████████████████████████████████████████████████████████████████████| 782/782 [01:35<00:00,  8.19it/s, Acc=92.3, loss=0.224]\n",
      "100%|████████████████████████████████████████████████████████████████████████████████████████████████████████████████████| 157/157 [00:07<00:00, 22.10it/s, Acc=88.6, loss=0.37]\n"
     ]
    },
    {
     "name": "stdout",
     "output_type": "stream",
     "text": [
      "\n",
      "Epoch: 75\n"
     ]
    },
    {
     "name": "stderr",
     "output_type": "stream",
     "text": [
      "Epoch : 75: 100%|███████████████████████████████████████████████████████████████████████████████████████████████████████| 782/782 [01:39<00:00,  7.90it/s, Acc=92.5, loss=0.218]\n",
      "100%|███████████████████████████████████████████████████████████████████████████████████████████████████████████████████| 157/157 [00:06<00:00, 22.52it/s, Acc=88.9, loss=0.365]\n"
     ]
    },
    {
     "name": "stdout",
     "output_type": "stream",
     "text": [
      "\n",
      "Epoch: 76\n"
     ]
    },
    {
     "name": "stderr",
     "output_type": "stream",
     "text": [
      "Epoch : 76: 100%|███████████████████████████████████████████████████████████████████████████████████████████████████████| 782/782 [01:35<00:00,  8.17it/s, Acc=92.6, loss=0.214]\n",
      "100%|███████████████████████████████████████████████████████████████████████████████████████████████████████████████████| 157/157 [00:06<00:00, 22.56it/s, Acc=88.5, loss=0.391]\n"
     ]
    },
    {
     "name": "stdout",
     "output_type": "stream",
     "text": [
      "\n",
      "Epoch: 77\n"
     ]
    },
    {
     "name": "stderr",
     "output_type": "stream",
     "text": [
      "Epoch : 77: 100%|███████████████████████████████████████████████████████████████████████████████████████████████████████| 782/782 [01:37<00:00,  7.99it/s, Acc=92.5, loss=0.215]\n",
      "100%|███████████████████████████████████████████████████████████████████████████████████████████████████████████████████| 157/157 [00:06<00:00, 22.66it/s, Acc=88.7, loss=0.362]\n"
     ]
    },
    {
     "name": "stdout",
     "output_type": "stream",
     "text": [
      "\n",
      "Epoch: 78\n"
     ]
    },
    {
     "name": "stderr",
     "output_type": "stream",
     "text": [
      "Epoch : 78: 100%|███████████████████████████████████████████████████████████████████████████████████████████████████████| 782/782 [01:36<00:00,  8.08it/s, Acc=92.5, loss=0.215]\n",
      "100%|███████████████████████████████████████████████████████████████████████████████████████████████████████████████████| 157/157 [00:06<00:00, 22.70it/s, Acc=88.5, loss=0.373]\n"
     ]
    },
    {
     "name": "stdout",
     "output_type": "stream",
     "text": [
      "\n",
      "Epoch: 79\n"
     ]
    },
    {
     "name": "stderr",
     "output_type": "stream",
     "text": [
      "Epoch : 79: 100%|███████████████████████████████████████████████████████████████████████████████████████████████████████| 782/782 [01:38<00:00,  7.96it/s, Acc=92.8, loss=0.208]\n",
      "100%|███████████████████████████████████████████████████████████████████████████████████████████████████████████████████| 157/157 [00:06<00:00, 22.79it/s, Acc=88.4, loss=0.388]\n"
     ]
    },
    {
     "name": "stdout",
     "output_type": "stream",
     "text": [
      "\n",
      "Epoch: 80\n"
     ]
    },
    {
     "name": "stderr",
     "output_type": "stream",
     "text": [
      "Epoch : 80: 100%|████████████████████████████████████████████████████████████████████████████████████████████████████████| 782/782 [01:38<00:00,  7.94it/s, Acc=92.7, loss=0.21]\n",
      "100%|███████████████████████████████████████████████████████████████████████████████████████████████████████████████████| 157/157 [00:06<00:00, 23.79it/s, Acc=88.5, loss=0.378]\n"
     ]
    },
    {
     "name": "stdout",
     "output_type": "stream",
     "text": [
      "\n",
      "Epoch: 81\n"
     ]
    },
    {
     "name": "stderr",
     "output_type": "stream",
     "text": [
      "Epoch : 81: 100%|███████████████████████████████████████████████████████████████████████████████████████████████████████| 782/782 [01:37<00:00,  7.99it/s, Acc=92.8, loss=0.208]\n",
      "100%|███████████████████████████████████████████████████████████████████████████████████████████████████████████████████| 157/157 [00:06<00:00, 22.89it/s, Acc=89.2, loss=0.361]\n"
     ]
    },
    {
     "name": "stdout",
     "output_type": "stream",
     "text": [
      "Saving..\n",
      "\n",
      "Epoch: 82\n"
     ]
    },
    {
     "name": "stderr",
     "output_type": "stream",
     "text": [
      "Epoch : 82: 100%|███████████████████████████████████████████████████████████████████████████████████████████████████████| 782/782 [01:38<00:00,  7.96it/s, Acc=92.9, loss=0.203]\n",
      "100%|███████████████████████████████████████████████████████████████████████████████████████████████████████████████████| 157/157 [00:06<00:00, 22.85it/s, Acc=89.2, loss=0.372]\n"
     ]
    },
    {
     "name": "stdout",
     "output_type": "stream",
     "text": [
      "\n",
      "Epoch: 83\n"
     ]
    },
    {
     "name": "stderr",
     "output_type": "stream",
     "text": [
      "Epoch : 83: 100%|███████████████████████████████████████████████████████████████████████████████████████████████████████| 782/782 [01:35<00:00,  8.17it/s, Acc=92.9, loss=0.205]\n",
      "100%|█████████████████████████████████████████████████████████████████████████████████████████████████████████████████████| 157/157 [00:06<00:00, 22.44it/s, Acc=89, loss=0.358]\n"
     ]
    },
    {
     "name": "stdout",
     "output_type": "stream",
     "text": [
      "\n",
      "Epoch: 84\n"
     ]
    },
    {
     "name": "stderr",
     "output_type": "stream",
     "text": [
      "Epoch : 84: 100%|█████████████████████████████████████████████████████████████████████████████████████████████████████████| 782/782 [01:37<00:00,  8.01it/s, Acc=93, loss=0.204]\n",
      "100%|█████████████████████████████████████████████████████████████████████████████████████████████████████████████████████| 157/157 [00:07<00:00, 22.42it/s, Acc=89, loss=0.353]\n"
     ]
    },
    {
     "name": "stdout",
     "output_type": "stream",
     "text": [
      "\n",
      "Epoch: 85\n"
     ]
    },
    {
     "name": "stderr",
     "output_type": "stream",
     "text": [
      "Epoch : 85: 100%|███████████████████████████████████████████████████████████████████████████████████████████████████████| 782/782 [01:37<00:00,  8.04it/s, Acc=93.2, loss=0.197]\n",
      "100%|███████████████████████████████████████████████████████████████████████████████████████████████████████████████████| 157/157 [00:07<00:00, 21.82it/s, Acc=88.8, loss=0.362]\n"
     ]
    },
    {
     "name": "stdout",
     "output_type": "stream",
     "text": [
      "\n",
      "Epoch: 86\n"
     ]
    },
    {
     "name": "stderr",
     "output_type": "stream",
     "text": [
      "Epoch : 86: 100%|███████████████████████████████████████████████████████████████████████████████████████████████████████| 782/782 [01:38<00:00,  7.92it/s, Acc=93.2, loss=0.192]\n",
      "100%|████████████████████████████████████████████████████████████████████████████████████████████████████████████████████| 157/157 [00:07<00:00, 22.31it/s, Acc=88.8, loss=0.37]\n"
     ]
    },
    {
     "name": "stdout",
     "output_type": "stream",
     "text": [
      "\n",
      "Epoch: 87\n"
     ]
    },
    {
     "name": "stderr",
     "output_type": "stream",
     "text": [
      "Epoch : 87: 100%|███████████████████████████████████████████████████████████████████████████████████████████████████████| 782/782 [01:38<00:00,  7.91it/s, Acc=93.4, loss=0.191]\n",
      "100%|█████████████████████████████████████████████████████████████████████████████████████████████████████████████████████| 157/157 [00:06<00:00, 22.95it/s, Acc=89, loss=0.372]\n"
     ]
    },
    {
     "name": "stdout",
     "output_type": "stream",
     "text": [
      "\n",
      "Epoch: 88\n"
     ]
    },
    {
     "name": "stderr",
     "output_type": "stream",
     "text": [
      "Epoch : 88: 100%|███████████████████████████████████████████████████████████████████████████████████████████████████████| 782/782 [01:37<00:00,  8.05it/s, Acc=93.2, loss=0.193]\n",
      "100%|█████████████████████████████████████████████████████████████████████████████████████████████████████████████████████| 157/157 [00:07<00:00, 22.37it/s, Acc=89, loss=0.378]\n"
     ]
    },
    {
     "name": "stdout",
     "output_type": "stream",
     "text": [
      "\n",
      "Epoch: 89\n"
     ]
    },
    {
     "name": "stderr",
     "output_type": "stream",
     "text": [
      "Epoch : 89: 100%|███████████████████████████████████████████████████████████████████████████████████████████████████████| 782/782 [01:39<00:00,  7.88it/s, Acc=93.5, loss=0.192]\n",
      "100%|███████████████████████████████████████████████████████████████████████████████████████████████████████████████████| 157/157 [00:06<00:00, 22.59it/s, Acc=89.2, loss=0.367]\n"
     ]
    },
    {
     "name": "stdout",
     "output_type": "stream",
     "text": [
      "\n",
      "Epoch: 90\n"
     ]
    },
    {
     "name": "stderr",
     "output_type": "stream",
     "text": [
      "Epoch : 90: 100%|███████████████████████████████████████████████████████████████████████████████████████████████████████| 782/782 [01:36<00:00,  8.06it/s, Acc=93.6, loss=0.189]\n",
      "100%|███████████████████████████████████████████████████████████████████████████████████████████████████████████████████| 157/157 [00:07<00:00, 22.19it/s, Acc=88.1, loss=0.395]\n"
     ]
    },
    {
     "name": "stdout",
     "output_type": "stream",
     "text": [
      "\n",
      "Epoch: 91\n"
     ]
    },
    {
     "name": "stderr",
     "output_type": "stream",
     "text": [
      "Epoch : 91: 100%|███████████████████████████████████████████████████████████████████████████████████████████████████████| 782/782 [01:39<00:00,  7.89it/s, Acc=93.5, loss=0.184]\n",
      "100%|███████████████████████████████████████████████████████████████████████████████████████████████████████████████████| 157/157 [00:07<00:00, 22.42it/s, Acc=89.1, loss=0.361]\n"
     ]
    },
    {
     "name": "stdout",
     "output_type": "stream",
     "text": [
      "\n",
      "Epoch: 92\n"
     ]
    },
    {
     "name": "stderr",
     "output_type": "stream",
     "text": [
      "Epoch : 92: 100%|███████████████████████████████████████████████████████████████████████████████████████████████████████| 782/782 [01:36<00:00,  8.08it/s, Acc=93.5, loss=0.187]\n",
      "100%|███████████████████████████████████████████████████████████████████████████████████████████████████████████████████| 157/157 [00:07<00:00, 22.36it/s, Acc=89.2, loss=0.365]\n"
     ]
    },
    {
     "name": "stdout",
     "output_type": "stream",
     "text": [
      "\n",
      "Epoch: 93\n"
     ]
    },
    {
     "name": "stderr",
     "output_type": "stream",
     "text": [
      "Epoch : 93: 100%|███████████████████████████████████████████████████████████████████████████████████████████████████████| 782/782 [01:39<00:00,  7.90it/s, Acc=93.8, loss=0.182]\n",
      "100%|███████████████████████████████████████████████████████████████████████████████████████████████████████████████████| 157/157 [00:07<00:00, 22.08it/s, Acc=88.5, loss=0.394]\n"
     ]
    },
    {
     "name": "stdout",
     "output_type": "stream",
     "text": [
      "\n",
      "Epoch: 94\n"
     ]
    },
    {
     "name": "stderr",
     "output_type": "stream",
     "text": [
      "Epoch : 94: 100%|████████████████████████████████████████████████████████████████████████████████████████████████████████| 782/782 [01:39<00:00,  7.89it/s, Acc=93.8, loss=0.18]\n",
      "100%|█████████████████████████████████████████████████████████████████████████████████████████████████████████████████████| 157/157 [00:06<00:00, 22.68it/s, Acc=89, loss=0.368]\n"
     ]
    },
    {
     "name": "stdout",
     "output_type": "stream",
     "text": [
      "\n",
      "Epoch: 95\n"
     ]
    },
    {
     "name": "stderr",
     "output_type": "stream",
     "text": [
      "Epoch : 95: 100%|███████████████████████████████████████████████████████████████████████████████████████████████████████| 782/782 [01:36<00:00,  8.11it/s, Acc=93.7, loss=0.181]\n",
      "100%|████████████████████████████████████████████████████████████████████████████████████████████████████████████████████| 157/157 [00:06<00:00, 22.88it/s, Acc=89.1, loss=0.36]\n"
     ]
    },
    {
     "name": "stdout",
     "output_type": "stream",
     "text": [
      "\n",
      "Epoch: 96\n"
     ]
    },
    {
     "name": "stderr",
     "output_type": "stream",
     "text": [
      "Epoch : 96: 100%|███████████████████████████████████████████████████████████████████████████████████████████████████████| 782/782 [01:38<00:00,  7.90it/s, Acc=93.5, loss=0.184]\n",
      "100%|████████████████████████████████████████████████████████████████████████████████████████████████████████████████████| 157/157 [00:06<00:00, 22.68it/s, Acc=89.2, loss=0.36]\n"
     ]
    },
    {
     "name": "stdout",
     "output_type": "stream",
     "text": [
      "Saving..\n",
      "\n",
      "Epoch: 97\n"
     ]
    },
    {
     "name": "stderr",
     "output_type": "stream",
     "text": [
      "Epoch : 97: 100%|███████████████████████████████████████████████████████████████████████████████████████████████████████| 782/782 [01:36<00:00,  8.11it/s, Acc=93.7, loss=0.178]\n",
      "100%|███████████████████████████████████████████████████████████████████████████████████████████████████████████████████| 157/157 [00:07<00:00, 22.29it/s, Acc=89.5, loss=0.362]\n"
     ]
    },
    {
     "name": "stdout",
     "output_type": "stream",
     "text": [
      "Saving..\n",
      "\n",
      "Epoch: 98\n"
     ]
    },
    {
     "name": "stderr",
     "output_type": "stream",
     "text": [
      "Epoch : 98: 100%|███████████████████████████████████████████████████████████████████████████████████████████████████████| 782/782 [01:38<00:00,  7.95it/s, Acc=93.7, loss=0.177]\n",
      "100%|████████████████████████████████████████████████████████████████████████████████████████████████████████████████████| 157/157 [00:06<00:00, 22.48it/s, Acc=88.8, loss=0.38]\n"
     ]
    },
    {
     "name": "stdout",
     "output_type": "stream",
     "text": [
      "\n",
      "Epoch: 99\n"
     ]
    },
    {
     "name": "stderr",
     "output_type": "stream",
     "text": [
      "Epoch : 99: 100%|███████████████████████████████████████████████████████████████████████████████████████████████████████| 782/782 [01:37<00:00,  8.05it/s, Acc=93.9, loss=0.177]\n",
      "100%|███████████████████████████████████████████████████████████████████████████████████████████████████████████████████| 157/157 [00:06<00:00, 23.87it/s, Acc=89.1, loss=0.379]\n"
     ]
    },
    {
     "name": "stdout",
     "output_type": "stream",
     "text": [
      "\n",
      "Epoch: 100\n"
     ]
    },
    {
     "name": "stderr",
     "output_type": "stream",
     "text": [
      "Epoch : 100: 100%|██████████████████████████████████████████████████████████████████████████████████████████████████████| 782/782 [01:38<00:00,  7.94it/s, Acc=93.8, loss=0.176]\n",
      "100%|███████████████████████████████████████████████████████████████████████████████████████████████████████████████████| 157/157 [00:06<00:00, 22.83it/s, Acc=89.1, loss=0.381]\n"
     ]
    },
    {
     "name": "stdout",
     "output_type": "stream",
     "text": [
      "\n",
      "Epoch: 101\n"
     ]
    },
    {
     "name": "stderr",
     "output_type": "stream",
     "text": [
      "Epoch : 101: 100%|██████████████████████████████████████████████████████████████████████████████████████████████████████| 782/782 [01:38<00:00,  7.93it/s, Acc=93.9, loss=0.173]\n",
      "100%|████████████████████████████████████████████████████████████████████████████████████████████████████████████████████| 157/157 [00:06<00:00, 23.05it/s, Acc=89.2, loss=0.38]\n"
     ]
    },
    {
     "name": "stdout",
     "output_type": "stream",
     "text": [
      "\n",
      "Epoch: 102\n"
     ]
    },
    {
     "name": "stderr",
     "output_type": "stream",
     "text": [
      "Epoch : 102: 100%|██████████████████████████████████████████████████████████████████████████████████████████████████████| 782/782 [01:36<00:00,  8.09it/s, Acc=94.1, loss=0.171]\n",
      "100%|███████████████████████████████████████████████████████████████████████████████████████████████████████████████████| 157/157 [00:07<00:00, 22.03it/s, Acc=89.1, loss=0.386]\n"
     ]
    },
    {
     "name": "stdout",
     "output_type": "stream",
     "text": [
      "\n",
      "Epoch: 103\n"
     ]
    },
    {
     "name": "stderr",
     "output_type": "stream",
     "text": [
      "Epoch : 103: 100%|██████████████████████████████████████████████████████████████████████████████████████████████████████| 782/782 [01:37<00:00,  8.04it/s, Acc=94.1, loss=0.167]\n",
      "100%|███████████████████████████████████████████████████████████████████████████████████████████████████████████████████| 157/157 [00:06<00:00, 23.14it/s, Acc=88.7, loss=0.402]\n"
     ]
    },
    {
     "name": "stdout",
     "output_type": "stream",
     "text": [
      "\n",
      "Epoch: 104\n"
     ]
    },
    {
     "name": "stderr",
     "output_type": "stream",
     "text": [
      "Epoch : 104: 100%|██████████████████████████████████████████████████████████████████████████████████████████████████████| 782/782 [01:36<00:00,  8.10it/s, Acc=94.1, loss=0.171]\n",
      "100%|███████████████████████████████████████████████████████████████████████████████████████████████████████████████████| 157/157 [00:07<00:00, 22.03it/s, Acc=89.3, loss=0.377]\n"
     ]
    },
    {
     "name": "stdout",
     "output_type": "stream",
     "text": [
      "\n",
      "Epoch: 105\n"
     ]
    },
    {
     "name": "stderr",
     "output_type": "stream",
     "text": [
      "Epoch : 105: 100%|██████████████████████████████████████████████████████████████████████████████████████████████████████| 782/782 [01:39<00:00,  7.83it/s, Acc=94.2, loss=0.166]\n",
      "100%|███████████████████████████████████████████████████████████████████████████████████████████████████████████████████| 157/157 [00:07<00:00, 22.10it/s, Acc=89.1, loss=0.397]\n"
     ]
    },
    {
     "name": "stdout",
     "output_type": "stream",
     "text": [
      "\n",
      "Epoch: 106\n"
     ]
    },
    {
     "name": "stderr",
     "output_type": "stream",
     "text": [
      "Epoch : 106: 100%|██████████████████████████████████████████████████████████████████████████████████████████████████████| 782/782 [01:37<00:00,  8.04it/s, Acc=94.4, loss=0.163]\n",
      "100%|█████████████████████████████████████████████████████████████████████████████████████████████████████████████████████| 157/157 [00:07<00:00, 22.26it/s, Acc=89, loss=0.373]\n"
     ]
    },
    {
     "name": "stdout",
     "output_type": "stream",
     "text": [
      "\n",
      "Epoch: 107\n"
     ]
    },
    {
     "name": "stderr",
     "output_type": "stream",
     "text": [
      "Epoch : 107: 100%|██████████████████████████████████████████████████████████████████████████████████████████████████████| 782/782 [01:37<00:00,  8.00it/s, Acc=94.2, loss=0.167]\n",
      "100%|███████████████████████████████████████████████████████████████████████████████████████████████████████████████████| 157/157 [00:06<00:00, 23.09it/s, Acc=89.5, loss=0.363]\n"
     ]
    },
    {
     "name": "stdout",
     "output_type": "stream",
     "text": [
      "Saving..\n",
      "\n",
      "Epoch: 108\n"
     ]
    },
    {
     "name": "stderr",
     "output_type": "stream",
     "text": [
      "Epoch : 108: 100%|██████████████████████████████████████████████████████████████████████████████████████████████████████| 782/782 [01:38<00:00,  7.95it/s, Acc=94.4, loss=0.162]\n",
      "100%|███████████████████████████████████████████████████████████████████████████████████████████████████████████████████| 157/157 [00:07<00:00, 22.30it/s, Acc=89.6, loss=0.372]\n"
     ]
    },
    {
     "name": "stdout",
     "output_type": "stream",
     "text": [
      "Saving..\n",
      "\n",
      "Epoch: 109\n"
     ]
    },
    {
     "name": "stderr",
     "output_type": "stream",
     "text": [
      "Epoch : 109: 100%|██████████████████████████████████████████████████████████████████████████████████████████████████████| 782/782 [01:36<00:00,  8.12it/s, Acc=94.5, loss=0.162]\n",
      "100%|███████████████████████████████████████████████████████████████████████████████████████████████████████████████████| 157/157 [00:06<00:00, 22.63it/s, Acc=89.8, loss=0.354]\n"
     ]
    },
    {
     "name": "stdout",
     "output_type": "stream",
     "text": [
      "Saving..\n",
      "\n",
      "Epoch: 110\n"
     ]
    },
    {
     "name": "stderr",
     "output_type": "stream",
     "text": [
      "Epoch : 110: 100%|██████████████████████████████████████████████████████████████████████████████████████████████████████| 782/782 [01:37<00:00,  7.99it/s, Acc=94.3, loss=0.164]\n",
      "100%|███████████████████████████████████████████████████████████████████████████████████████████████████████████████████| 157/157 [00:06<00:00, 22.44it/s, Acc=89.6, loss=0.366]\n"
     ]
    },
    {
     "name": "stdout",
     "output_type": "stream",
     "text": [
      "\n",
      "Epoch: 111\n"
     ]
    },
    {
     "name": "stderr",
     "output_type": "stream",
     "text": [
      "Epoch : 111: 100%|██████████████████████████████████████████████████████████████████████████████████████████████████████| 782/782 [01:36<00:00,  8.07it/s, Acc=94.4, loss=0.162]\n",
      "100%|███████████████████████████████████████████████████████████████████████████████████████████████████████████████████| 157/157 [00:06<00:00, 22.62it/s, Acc=89.7, loss=0.348]\n"
     ]
    },
    {
     "name": "stdout",
     "output_type": "stream",
     "text": [
      "\n",
      "Epoch: 112\n"
     ]
    },
    {
     "name": "stderr",
     "output_type": "stream",
     "text": [
      "Epoch : 112: 100%|███████████████████████████████████████████████████████████████████████████████████████████████████████| 782/782 [01:38<00:00,  7.95it/s, Acc=94.5, loss=0.16]\n",
      "100%|███████████████████████████████████████████████████████████████████████████████████████████████████████████████████| 157/157 [00:06<00:00, 22.62it/s, Acc=89.5, loss=0.359]\n"
     ]
    },
    {
     "name": "stdout",
     "output_type": "stream",
     "text": [
      "\n",
      "Epoch: 113\n"
     ]
    },
    {
     "name": "stderr",
     "output_type": "stream",
     "text": [
      "Epoch : 113: 100%|██████████████████████████████████████████████████████████████████████████████████████████████████████| 782/782 [01:37<00:00,  7.99it/s, Acc=94.6, loss=0.154]\n",
      "100%|███████████████████████████████████████████████████████████████████████████████████████████████████████████████████| 157/157 [00:06<00:00, 24.25it/s, Acc=89.4, loss=0.359]\n"
     ]
    },
    {
     "name": "stdout",
     "output_type": "stream",
     "text": [
      "\n",
      "Epoch: 114\n"
     ]
    },
    {
     "name": "stderr",
     "output_type": "stream",
     "text": [
      "Epoch : 114: 100%|██████████████████████████████████████████████████████████████████████████████████████████████████████| 782/782 [01:36<00:00,  8.09it/s, Acc=94.6, loss=0.152]\n",
      "100%|███████████████████████████████████████████████████████████████████████████████████████████████████████████████████| 157/157 [00:06<00:00, 22.65it/s, Acc=89.6, loss=0.363]\n"
     ]
    },
    {
     "name": "stdout",
     "output_type": "stream",
     "text": [
      "\n",
      "Epoch: 115\n"
     ]
    },
    {
     "name": "stderr",
     "output_type": "stream",
     "text": [
      "Epoch : 115: 100%|██████████████████████████████████████████████████████████████████████████████████████████████████████| 782/782 [01:36<00:00,  8.07it/s, Acc=94.7, loss=0.153]\n",
      "100%|███████████████████████████████████████████████████████████████████████████████████████████████████████████████████| 157/157 [00:06<00:00, 22.63it/s, Acc=89.2, loss=0.418]\n"
     ]
    },
    {
     "name": "stdout",
     "output_type": "stream",
     "text": [
      "\n",
      "Epoch: 116\n"
     ]
    },
    {
     "name": "stderr",
     "output_type": "stream",
     "text": [
      "Epoch : 116: 100%|██████████████████████████████████████████████████████████████████████████████████████████████████████| 782/782 [01:36<00:00,  8.10it/s, Acc=94.8, loss=0.149]\n",
      "100%|███████████████████████████████████████████████████████████████████████████████████████████████████████████████████| 157/157 [00:07<00:00, 22.03it/s, Acc=89.5, loss=0.377]\n"
     ]
    },
    {
     "name": "stdout",
     "output_type": "stream",
     "text": [
      "\n",
      "Epoch: 117\n"
     ]
    },
    {
     "name": "stderr",
     "output_type": "stream",
     "text": [
      "Epoch : 117: 100%|██████████████████████████████████████████████████████████████████████████████████████████████████████| 782/782 [01:37<00:00,  8.03it/s, Acc=94.7, loss=0.153]\n",
      "100%|███████████████████████████████████████████████████████████████████████████████████████████████████████████████████| 157/157 [00:06<00:00, 22.93it/s, Acc=89.6, loss=0.365]\n"
     ]
    },
    {
     "name": "stdout",
     "output_type": "stream",
     "text": [
      "\n",
      "Epoch: 118\n"
     ]
    },
    {
     "name": "stderr",
     "output_type": "stream",
     "text": [
      "Epoch : 118: 100%|██████████████████████████████████████████████████████████████████████████████████████████████████████| 782/782 [01:36<00:00,  8.08it/s, Acc=94.7, loss=0.149]\n",
      "100%|███████████████████████████████████████████████████████████████████████████████████████████████████████████████████| 157/157 [00:07<00:00, 22.20it/s, Acc=89.5, loss=0.372]\n"
     ]
    },
    {
     "name": "stdout",
     "output_type": "stream",
     "text": [
      "\n",
      "Epoch: 119\n"
     ]
    },
    {
     "name": "stderr",
     "output_type": "stream",
     "text": [
      "Epoch : 119: 100%|██████████████████████████████████████████████████████████████████████████████████████████████████████| 782/782 [01:37<00:00,  7.98it/s, Acc=94.9, loss=0.149]\n",
      "100%|███████████████████████████████████████████████████████████████████████████████████████████████████████████████████| 157/157 [00:06<00:00, 22.81it/s, Acc=89.7, loss=0.367]\n"
     ]
    },
    {
     "name": "stdout",
     "output_type": "stream",
     "text": [
      "\n",
      "Epoch: 120\n"
     ]
    },
    {
     "name": "stderr",
     "output_type": "stream",
     "text": [
      "Epoch : 120: 100%|██████████████████████████████████████████████████████████████████████████████████████████████████████| 782/782 [01:38<00:00,  7.91it/s, Acc=94.8, loss=0.152]\n",
      "100%|███████████████████████████████████████████████████████████████████████████████████████████████████████████████████| 157/157 [00:07<00:00, 22.08it/s, Acc=89.4, loss=0.394]\n"
     ]
    },
    {
     "name": "stdout",
     "output_type": "stream",
     "text": [
      "\n",
      "Epoch: 121\n"
     ]
    },
    {
     "name": "stderr",
     "output_type": "stream",
     "text": [
      "Epoch : 121: 100%|██████████████████████████████████████████████████████████████████████████████████████████████████████| 782/782 [01:35<00:00,  8.20it/s, Acc=94.9, loss=0.148]\n",
      "100%|███████████████████████████████████████████████████████████████████████████████████████████████████████████████████| 157/157 [00:07<00:00, 22.21it/s, Acc=89.4, loss=0.387]\n"
     ]
    },
    {
     "name": "stdout",
     "output_type": "stream",
     "text": [
      "\n",
      "Epoch: 122\n"
     ]
    },
    {
     "name": "stderr",
     "output_type": "stream",
     "text": [
      "Epoch : 122: 100%|██████████████████████████████████████████████████████████████████████████████████████████████████████| 782/782 [01:38<00:00,  7.97it/s, Acc=94.8, loss=0.146]\n",
      "100%|███████████████████████████████████████████████████████████████████████████████████████████████████████████████████| 157/157 [00:07<00:00, 22.35it/s, Acc=89.4, loss=0.378]\n"
     ]
    },
    {
     "name": "stdout",
     "output_type": "stream",
     "text": [
      "\n",
      "Epoch: 123\n"
     ]
    },
    {
     "name": "stderr",
     "output_type": "stream",
     "text": [
      "Epoch : 123: 100%|██████████████████████████████████████████████████████████████████████████████████████████████████████| 782/782 [01:35<00:00,  8.17it/s, Acc=94.8, loss=0.149]\n",
      "100%|███████████████████████████████████████████████████████████████████████████████████████████████████████████████████| 157/157 [00:06<00:00, 22.58it/s, Acc=89.4, loss=0.364]\n"
     ]
    },
    {
     "name": "stdout",
     "output_type": "stream",
     "text": [
      "\n",
      "Epoch: 124\n"
     ]
    },
    {
     "name": "stderr",
     "output_type": "stream",
     "text": [
      "Epoch : 124: 100%|████████████████████████████████████████████████████████████████████████████████████████████████████████| 782/782 [01:38<00:00,  7.95it/s, Acc=95, loss=0.145]\n",
      "100%|█████████████████████████████████████████████████████████████████████████████████████████████████████████████████████| 157/157 [00:06<00:00, 22.85it/s, Acc=90, loss=0.354]\n"
     ]
    },
    {
     "name": "stdout",
     "output_type": "stream",
     "text": [
      "Saving..\n",
      "\n",
      "Epoch: 125\n"
     ]
    },
    {
     "name": "stderr",
     "output_type": "stream",
     "text": [
      "Epoch : 125: 100%|████████████████████████████████████████████████████████████████████████████████████████████████████████| 782/782 [01:33<00:00,  8.34it/s, Acc=95, loss=0.142]\n",
      "100%|███████████████████████████████████████████████████████████████████████████████████████████████████████████████████| 157/157 [00:06<00:00, 22.61it/s, Acc=89.9, loss=0.378]\n"
     ]
    },
    {
     "name": "stdout",
     "output_type": "stream",
     "text": [
      "\n",
      "Epoch: 126\n"
     ]
    },
    {
     "name": "stderr",
     "output_type": "stream",
     "text": [
      "Epoch : 126: 100%|██████████████████████████████████████████████████████████████████████████████████████████████████████| 782/782 [01:38<00:00,  7.96it/s, Acc=95.1, loss=0.144]\n",
      "100%|███████████████████████████████████████████████████████████████████████████████████████████████████████████████████| 157/157 [00:06<00:00, 22.45it/s, Acc=89.7, loss=0.386]\n"
     ]
    },
    {
     "name": "stdout",
     "output_type": "stream",
     "text": [
      "\n",
      "Epoch: 127\n"
     ]
    },
    {
     "name": "stderr",
     "output_type": "stream",
     "text": [
      "Epoch : 127: 100%|██████████████████████████████████████████████████████████████████████████████████████████████████████| 782/782 [01:37<00:00,  8.02it/s, Acc=95.1, loss=0.144]\n",
      "100%|███████████████████████████████████████████████████████████████████████████████████████████████████████████████████| 157/157 [00:06<00:00, 22.49it/s, Acc=89.4, loss=0.364]\n"
     ]
    },
    {
     "name": "stdout",
     "output_type": "stream",
     "text": [
      "\n",
      "Epoch: 128\n"
     ]
    },
    {
     "name": "stderr",
     "output_type": "stream",
     "text": [
      "Epoch : 128: 100%|████████████████████████████████████████████████████████████████████████████████████████████████████████| 782/782 [01:36<00:00,  8.14it/s, Acc=95, loss=0.146]\n",
      "100%|███████████████████████████████████████████████████████████████████████████████████████████████████████████████████| 157/157 [00:07<00:00, 22.03it/s, Acc=89.8, loss=0.381]\n"
     ]
    },
    {
     "name": "stdout",
     "output_type": "stream",
     "text": [
      "\n",
      "Epoch: 129\n"
     ]
    },
    {
     "name": "stderr",
     "output_type": "stream",
     "text": [
      "Epoch : 129: 100%|██████████████████████████████████████████████████████████████████████████████████████████████████████| 782/782 [01:37<00:00,  8.04it/s, Acc=95.2, loss=0.139]\n",
      "100%|███████████████████████████████████████████████████████████████████████████████████████████████████████████████████| 157/157 [00:06<00:00, 22.69it/s, Acc=89.3, loss=0.399]\n"
     ]
    },
    {
     "name": "stdout",
     "output_type": "stream",
     "text": [
      "\n",
      "Epoch: 130\n"
     ]
    },
    {
     "name": "stderr",
     "output_type": "stream",
     "text": [
      "Epoch : 130: 100%|██████████████████████████████████████████████████████████████████████████████████████████████████████| 782/782 [01:35<00:00,  8.16it/s, Acc=95.3, loss=0.135]\n",
      "100%|███████████████████████████████████████████████████████████████████████████████████████████████████████████████████| 157/157 [00:06<00:00, 22.63it/s, Acc=89.5, loss=0.385]\n"
     ]
    },
    {
     "name": "stdout",
     "output_type": "stream",
     "text": [
      "\n",
      "Epoch: 131\n"
     ]
    },
    {
     "name": "stderr",
     "output_type": "stream",
     "text": [
      "Epoch : 131: 100%|██████████████████████████████████████████████████████████████████████████████████████████████████████| 782/782 [01:37<00:00,  8.04it/s, Acc=95.2, loss=0.141]\n",
      "100%|███████████████████████████████████████████████████████████████████████████████████████████████████████████████████| 157/157 [00:06<00:00, 22.82it/s, Acc=89.6, loss=0.389]\n"
     ]
    },
    {
     "name": "stdout",
     "output_type": "stream",
     "text": [
      "\n",
      "Epoch: 132\n"
     ]
    },
    {
     "name": "stderr",
     "output_type": "stream",
     "text": [
      "Epoch : 132: 100%|██████████████████████████████████████████████████████████████████████████████████████████████████████| 782/782 [01:38<00:00,  7.98it/s, Acc=95.2, loss=0.138]\n",
      "100%|███████████████████████████████████████████████████████████████████████████████████████████████████████████████████| 157/157 [00:06<00:00, 23.74it/s, Acc=89.6, loss=0.388]\n"
     ]
    },
    {
     "name": "stdout",
     "output_type": "stream",
     "text": [
      "\n",
      "Epoch: 133\n"
     ]
    },
    {
     "name": "stderr",
     "output_type": "stream",
     "text": [
      "Epoch : 133: 100%|██████████████████████████████████████████████████████████████████████████████████████████████████████| 782/782 [01:35<00:00,  8.20it/s, Acc=95.3, loss=0.139]\n",
      "100%|███████████████████████████████████████████████████████████████████████████████████████████████████████████████████| 157/157 [00:06<00:00, 22.60it/s, Acc=89.6, loss=0.393]\n"
     ]
    },
    {
     "name": "stdout",
     "output_type": "stream",
     "text": [
      "\n",
      "Epoch: 134\n"
     ]
    },
    {
     "name": "stderr",
     "output_type": "stream",
     "text": [
      "Epoch : 134: 100%|██████████████████████████████████████████████████████████████████████████████████████████████████████| 782/782 [01:37<00:00,  7.99it/s, Acc=95.3, loss=0.136]\n",
      "100%|███████████████████████████████████████████████████████████████████████████████████████████████████████████████████| 157/157 [00:06<00:00, 22.45it/s, Acc=89.4, loss=0.395]\n"
     ]
    },
    {
     "name": "stdout",
     "output_type": "stream",
     "text": [
      "\n",
      "Epoch: 135\n"
     ]
    },
    {
     "name": "stderr",
     "output_type": "stream",
     "text": [
      "Epoch : 135: 100%|██████████████████████████████████████████████████████████████████████████████████████████████████████| 782/782 [01:35<00:00,  8.20it/s, Acc=95.2, loss=0.136]\n",
      "100%|███████████████████████████████████████████████████████████████████████████████████████████████████████████████████| 157/157 [00:06<00:00, 22.63it/s, Acc=89.9, loss=0.367]\n"
     ]
    },
    {
     "name": "stdout",
     "output_type": "stream",
     "text": [
      "\n",
      "Epoch: 136\n"
     ]
    },
    {
     "name": "stderr",
     "output_type": "stream",
     "text": [
      "Epoch : 136: 100%|██████████████████████████████████████████████████████████████████████████████████████████████████████| 782/782 [01:36<00:00,  8.07it/s, Acc=95.4, loss=0.132]\n",
      "100%|███████████████████████████████████████████████████████████████████████████████████████████████████████████████████| 157/157 [00:06<00:00, 23.07it/s, Acc=89.4, loss=0.402]\n"
     ]
    },
    {
     "name": "stdout",
     "output_type": "stream",
     "text": [
      "\n",
      "Epoch: 137\n"
     ]
    },
    {
     "name": "stderr",
     "output_type": "stream",
     "text": [
      "Epoch : 137: 100%|██████████████████████████████████████████████████████████████████████████████████████████████████████| 782/782 [01:35<00:00,  8.15it/s, Acc=95.3, loss=0.133]\n",
      "100%|█████████████████████████████████████████████████████████████████████████████████████████████████████████████████████| 157/157 [00:06<00:00, 23.17it/s, Acc=90, loss=0.373]\n"
     ]
    },
    {
     "name": "stdout",
     "output_type": "stream",
     "text": [
      "Saving..\n",
      "\n",
      "Epoch: 138\n"
     ]
    },
    {
     "name": "stderr",
     "output_type": "stream",
     "text": [
      "Epoch : 138: 100%|██████████████████████████████████████████████████████████████████████████████████████████████████████| 782/782 [01:37<00:00,  8.03it/s, Acc=95.4, loss=0.132]\n",
      "100%|███████████████████████████████████████████████████████████████████████████████████████████████████████████████████| 157/157 [00:06<00:00, 22.79it/s, Acc=89.8, loss=0.395]\n"
     ]
    },
    {
     "name": "stdout",
     "output_type": "stream",
     "text": [
      "\n",
      "Epoch: 139\n"
     ]
    },
    {
     "name": "stderr",
     "output_type": "stream",
     "text": [
      "Epoch : 139: 100%|███████████████████████████████████████████████████████████████████████████████████████████████████████| 782/782 [01:35<00:00,  8.18it/s, Acc=95.5, loss=0.13]\n",
      "100%|████████████████████████████████████████████████████████████████████████████████████████████████████████████████████| 157/157 [00:07<00:00, 22.40it/s, Acc=89.8, loss=0.37]\n"
     ]
    },
    {
     "name": "stdout",
     "output_type": "stream",
     "text": [
      "\n",
      "Epoch: 140\n"
     ]
    },
    {
     "name": "stderr",
     "output_type": "stream",
     "text": [
      "Epoch : 140: 100%|██████████████████████████████████████████████████████████████████████████████████████████████████████| 782/782 [01:30<00:00,  8.68it/s, Acc=95.5, loss=0.133]\n",
      "100%|███████████████████████████████████████████████████████████████████████████████████████████████████████████████████| 157/157 [00:06<00:00, 23.46it/s, Acc=89.5, loss=0.387]\n"
     ]
    },
    {
     "name": "stdout",
     "output_type": "stream",
     "text": [
      "\n",
      "Epoch: 141\n"
     ]
    },
    {
     "name": "stderr",
     "output_type": "stream",
     "text": [
      "Epoch : 141: 100%|██████████████████████████████████████████████████████████████████████████████████████████████████████| 782/782 [01:38<00:00,  7.93it/s, Acc=95.5, loss=0.128]\n",
      "100%|███████████████████████████████████████████████████████████████████████████████████████████████████████████████████| 157/157 [00:07<00:00, 22.20it/s, Acc=90.1, loss=0.371]\n"
     ]
    },
    {
     "name": "stdout",
     "output_type": "stream",
     "text": [
      "Saving..\n",
      "\n",
      "Epoch: 142\n"
     ]
    },
    {
     "name": "stderr",
     "output_type": "stream",
     "text": [
      "Epoch : 142: 100%|██████████████████████████████████████████████████████████████████████████████████████████████████████| 782/782 [01:36<00:00,  8.11it/s, Acc=95.6, loss=0.129]\n",
      "100%|███████████████████████████████████████████████████████████████████████████████████████████████████████████████████| 157/157 [00:06<00:00, 22.45it/s, Acc=89.6, loss=0.393]\n"
     ]
    },
    {
     "name": "stdout",
     "output_type": "stream",
     "text": [
      "\n",
      "Epoch: 143\n"
     ]
    },
    {
     "name": "stderr",
     "output_type": "stream",
     "text": [
      "Epoch : 143: 100%|██████████████████████████████████████████████████████████████████████████████████████████████████████| 782/782 [01:38<00:00,  7.90it/s, Acc=95.6, loss=0.128]\n",
      "100%|███████████████████████████████████████████████████████████████████████████████████████████████████████████████████| 157/157 [00:06<00:00, 22.71it/s, Acc=89.6, loss=0.383]\n"
     ]
    },
    {
     "name": "stdout",
     "output_type": "stream",
     "text": [
      "\n",
      "Epoch: 144\n"
     ]
    },
    {
     "name": "stderr",
     "output_type": "stream",
     "text": [
      "Epoch : 144: 100%|██████████████████████████████████████████████████████████████████████████████████████████████████████| 782/782 [01:37<00:00,  8.00it/s, Acc=95.7, loss=0.124]\n",
      "100%|███████████████████████████████████████████████████████████████████████████████████████████████████████████████████| 157/157 [00:06<00:00, 24.05it/s, Acc=89.3, loss=0.397]\n"
     ]
    },
    {
     "name": "stdout",
     "output_type": "stream",
     "text": [
      "\n",
      "Epoch: 145\n"
     ]
    },
    {
     "name": "stderr",
     "output_type": "stream",
     "text": [
      "Epoch : 145: 100%|██████████████████████████████████████████████████████████████████████████████████████████████████████| 782/782 [01:37<00:00,  7.99it/s, Acc=95.6, loss=0.128]\n",
      "100%|█████████████████████████████████████████████████████████████████████████████████████████████████████████████████████| 157/157 [00:06<00:00, 22.56it/s, Acc=90, loss=0.381]\n"
     ]
    },
    {
     "name": "stdout",
     "output_type": "stream",
     "text": [
      "\n",
      "Epoch: 146\n"
     ]
    },
    {
     "name": "stderr",
     "output_type": "stream",
     "text": [
      "Epoch : 146: 100%|██████████████████████████████████████████████████████████████████████████████████████████████████████| 782/782 [01:38<00:00,  7.95it/s, Acc=95.6, loss=0.128]\n",
      "100%|███████████████████████████████████████████████████████████████████████████████████████████████████████████████████| 157/157 [00:07<00:00, 22.31it/s, Acc=89.8, loss=0.396]\n"
     ]
    },
    {
     "name": "stdout",
     "output_type": "stream",
     "text": [
      "\n",
      "Epoch: 147\n"
     ]
    },
    {
     "name": "stderr",
     "output_type": "stream",
     "text": [
      "Epoch : 147: 100%|██████████████████████████████████████████████████████████████████████████████████████████████████████| 782/782 [01:35<00:00,  8.17it/s, Acc=95.7, loss=0.123]\n",
      "100%|███████████████████████████████████████████████████████████████████████████████████████████████████████████████████| 157/157 [00:06<00:00, 22.52it/s, Acc=89.9, loss=0.391]\n"
     ]
    },
    {
     "name": "stdout",
     "output_type": "stream",
     "text": [
      "\n",
      "Epoch: 148\n"
     ]
    },
    {
     "name": "stderr",
     "output_type": "stream",
     "text": [
      "Epoch : 148: 100%|██████████████████████████████████████████████████████████████████████████████████████████████████████| 782/782 [01:38<00:00,  7.96it/s, Acc=95.7, loss=0.123]\n",
      "100%|███████████████████████████████████████████████████████████████████████████████████████████████████████████████████| 157/157 [00:06<00:00, 22.64it/s, Acc=90.1, loss=0.378]\n"
     ]
    },
    {
     "name": "stdout",
     "output_type": "stream",
     "text": [
      "Saving..\n",
      "\n",
      "Epoch: 149\n"
     ]
    },
    {
     "name": "stderr",
     "output_type": "stream",
     "text": [
      "Epoch : 149: 100%|██████████████████████████████████████████████████████████████████████████████████████████████████████| 782/782 [01:34<00:00,  8.25it/s, Acc=95.8, loss=0.123]\n",
      "100%|████████████████████████████████████████████████████████████████████████████████████████████████████████████████████| 157/157 [00:06<00:00, 22.71it/s, Acc=89.8, loss=0.41]\n"
     ]
    },
    {
     "name": "stdout",
     "output_type": "stream",
     "text": [
      "\n",
      "Epoch: 150\n"
     ]
    },
    {
     "name": "stderr",
     "output_type": "stream",
     "text": [
      "Epoch : 150: 100%|██████████████████████████████████████████████████████████████████████████████████████████████████████| 782/782 [01:38<00:00,  7.91it/s, Acc=95.6, loss=0.125]\n",
      "100%|█████████████████████████████████████████████████████████████████████████████████████████████████████████████████████| 157/157 [00:07<00:00, 22.40it/s, Acc=90, loss=0.371]\n"
     ]
    },
    {
     "name": "stdout",
     "output_type": "stream",
     "text": [
      "\n",
      "Epoch: 151\n"
     ]
    },
    {
     "name": "stderr",
     "output_type": "stream",
     "text": [
      "Epoch : 151: 100%|██████████████████████████████████████████████████████████████████████████████████████████████████████| 782/782 [01:38<00:00,  7.91it/s, Acc=95.8, loss=0.122]\n",
      "100%|███████████████████████████████████████████████████████████████████████████████████████████████████████████████████| 157/157 [00:06<00:00, 22.83it/s, Acc=89.3, loss=0.407]\n"
     ]
    },
    {
     "name": "stdout",
     "output_type": "stream",
     "text": [
      "\n",
      "Epoch: 152\n"
     ]
    },
    {
     "name": "stderr",
     "output_type": "stream",
     "text": [
      "Epoch : 152: 100%|██████████████████████████████████████████████████████████████████████████████████████████████████████| 782/782 [01:37<00:00,  8.06it/s, Acc=95.8, loss=0.123]\n",
      "100%|███████████████████████████████████████████████████████████████████████████████████████████████████████████████████| 157/157 [00:07<00:00, 22.42it/s, Acc=89.5, loss=0.419]\n"
     ]
    },
    {
     "name": "stdout",
     "output_type": "stream",
     "text": [
      "\n",
      "Epoch: 153\n"
     ]
    },
    {
     "name": "stderr",
     "output_type": "stream",
     "text": [
      "Epoch : 153: 100%|██████████████████████████████████████████████████████████████████████████████████████████████████████| 782/782 [01:38<00:00,  7.90it/s, Acc=95.9, loss=0.121]\n",
      "100%|█████████████████████████████████████████████████████████████████████████████████████████████████████████████████████| 157/157 [00:06<00:00, 22.50it/s, Acc=90, loss=0.384]\n"
     ]
    },
    {
     "name": "stdout",
     "output_type": "stream",
     "text": [
      "\n",
      "Epoch: 154\n"
     ]
    },
    {
     "name": "stderr",
     "output_type": "stream",
     "text": [
      "Epoch : 154: 100%|███████████████████████████████████████████████████████████████████████████████████████████████████████| 782/782 [01:36<00:00,  8.14it/s, Acc=95.9, loss=0.12]\n",
      "100%|███████████████████████████████████████████████████████████████████████████████████████████████████████████████████| 157/157 [00:07<00:00, 22.07it/s, Acc=89.8, loss=0.369]\n"
     ]
    },
    {
     "name": "stdout",
     "output_type": "stream",
     "text": [
      "\n",
      "Epoch: 155\n"
     ]
    },
    {
     "name": "stderr",
     "output_type": "stream",
     "text": [
      "Epoch : 155: 100%|█████████████████████████████████████████████████████████████████████████████████████████████████████████| 782/782 [01:39<00:00,  7.89it/s, Acc=96, loss=0.12]\n",
      "100%|███████████████████████████████████████████████████████████████████████████████████████████████████████████████████| 157/157 [00:07<00:00, 21.84it/s, Acc=90.3, loss=0.381]\n"
     ]
    },
    {
     "name": "stdout",
     "output_type": "stream",
     "text": [
      "Saving..\n",
      "\n",
      "Epoch: 156\n"
     ]
    },
    {
     "name": "stderr",
     "output_type": "stream",
     "text": [
      "Epoch : 156: 100%|███████████████████████████████████████████████████████████████████████████████████████████████████████| 782/782 [01:37<00:00,  8.04it/s, Acc=95.8, loss=0.12]\n",
      "100%|███████████████████████████████████████████████████████████████████████████████████████████████████████████████████| 157/157 [00:07<00:00, 22.34it/s, Acc=89.9, loss=0.373]\n"
     ]
    },
    {
     "name": "stdout",
     "output_type": "stream",
     "text": [
      "\n",
      "Epoch: 157\n"
     ]
    },
    {
     "name": "stderr",
     "output_type": "stream",
     "text": [
      "Epoch : 157: 100%|████████████████████████████████████████████████████████████████████████████████████████████████████████| 782/782 [01:38<00:00,  7.96it/s, Acc=96, loss=0.119]\n",
      "100%|███████████████████████████████████████████████████████████████████████████████████████████████████████████████████| 157/157 [00:06<00:00, 22.64it/s, Acc=89.9, loss=0.385]\n"
     ]
    },
    {
     "name": "stdout",
     "output_type": "stream",
     "text": [
      "\n",
      "Epoch: 158\n"
     ]
    },
    {
     "name": "stderr",
     "output_type": "stream",
     "text": [
      "Epoch : 158: 100%|██████████████████████████████████████████████████████████████████████████████████████████████████████| 782/782 [01:39<00:00,  7.89it/s, Acc=96.1, loss=0.112]\n",
      "100%|███████████████████████████████████████████████████████████████████████████████████████████████████████████████████| 157/157 [00:06<00:00, 22.88it/s, Acc=89.7, loss=0.399]\n"
     ]
    },
    {
     "name": "stdout",
     "output_type": "stream",
     "text": [
      "\n",
      "Epoch: 159\n"
     ]
    },
    {
     "name": "stderr",
     "output_type": "stream",
     "text": [
      "Epoch : 159: 100%|████████████████████████████████████████████████████████████████████████████████████████████████████████| 782/782 [01:35<00:00,  8.17it/s, Acc=96, loss=0.116]\n",
      "100%|███████████████████████████████████████████████████████████████████████████████████████████████████████████████████| 157/157 [00:06<00:00, 22.48it/s, Acc=89.8, loss=0.395]\n"
     ]
    },
    {
     "name": "stdout",
     "output_type": "stream",
     "text": [
      "\n",
      "Epoch: 160\n"
     ]
    },
    {
     "name": "stderr",
     "output_type": "stream",
     "text": [
      "Epoch : 160: 100%|████████████████████████████████████████████████████████████████████████████████████████████████████████| 782/782 [01:38<00:00,  7.93it/s, Acc=96, loss=0.112]\n",
      "100%|█████████████████████████████████████████████████████████████████████████████████████████████████████████████████████| 157/157 [00:07<00:00, 22.34it/s, Acc=90, loss=0.387]\n"
     ]
    },
    {
     "name": "stdout",
     "output_type": "stream",
     "text": [
      "\n",
      "Epoch: 161\n"
     ]
    },
    {
     "name": "stderr",
     "output_type": "stream",
     "text": [
      "Epoch : 161: 100%|████████████████████████████████████████████████████████████████████████████████████████████████████████| 782/782 [01:37<00:00,  8.04it/s, Acc=96, loss=0.116]\n",
      "100%|████████████████████████████████████████████████████████████████████████████████████████████████████████████████████| 157/157 [00:06<00:00, 22.45it/s, Acc=90.1, loss=0.38]\n"
     ]
    },
    {
     "name": "stdout",
     "output_type": "stream",
     "text": [
      "\n",
      "Epoch: 162\n"
     ]
    },
    {
     "name": "stderr",
     "output_type": "stream",
     "text": [
      "Epoch : 162: 100%|██████████████████████████████████████████████████████████████████████████████████████████████████████| 782/782 [01:39<00:00,  7.88it/s, Acc=96.2, loss=0.112]\n",
      "100%|███████████████████████████████████████████████████████████████████████████████████████████████████████████████████| 157/157 [00:07<00:00, 22.20it/s, Acc=89.8, loss=0.414]\n"
     ]
    },
    {
     "name": "stdout",
     "output_type": "stream",
     "text": [
      "\n",
      "Epoch: 163\n"
     ]
    },
    {
     "name": "stderr",
     "output_type": "stream",
     "text": [
      "Epoch : 163: 100%|██████████████████████████████████████████████████████████████████████████████████████████████████████| 782/782 [01:38<00:00,  7.93it/s, Acc=96.1, loss=0.115]\n",
      "100%|███████████████████████████████████████████████████████████████████████████████████████████████████████████████████| 157/157 [00:06<00:00, 24.03it/s, Acc=90.2, loss=0.377]\n"
     ]
    },
    {
     "name": "stdout",
     "output_type": "stream",
     "text": [
      "\n",
      "Epoch: 164\n"
     ]
    },
    {
     "name": "stderr",
     "output_type": "stream",
     "text": [
      "Epoch : 164: 100%|██████████████████████████████████████████████████████████████████████████████████████████████████████| 782/782 [01:38<00:00,  7.92it/s, Acc=96.1, loss=0.111]\n",
      "100%|███████████████████████████████████████████████████████████████████████████████████████████████████████████████████| 157/157 [00:06<00:00, 22.89it/s, Acc=90.1, loss=0.394]\n"
     ]
    },
    {
     "name": "stdout",
     "output_type": "stream",
     "text": [
      "\n",
      "Epoch: 165\n"
     ]
    },
    {
     "name": "stderr",
     "output_type": "stream",
     "text": [
      "Epoch : 165: 100%|███████████████████████████████████████████████████████████████████████████████████████████████████████| 782/782 [01:38<00:00,  7.93it/s, Acc=96.2, loss=0.11]\n",
      "100%|█████████████████████████████████████████████████████████████████████████████████████████████████████████████████████| 157/157 [00:06<00:00, 22.64it/s, Acc=90, loss=0.399]\n"
     ]
    },
    {
     "name": "stdout",
     "output_type": "stream",
     "text": [
      "\n",
      "Epoch: 166\n"
     ]
    },
    {
     "name": "stderr",
     "output_type": "stream",
     "text": [
      "Epoch : 166: 100%|███████████████████████████████████████████████████████████████████████████████████████████████████████| 782/782 [01:37<00:00,  8.05it/s, Acc=96.1, loss=0.11]\n",
      "100%|███████████████████████████████████████████████████████████████████████████████████████████████████████████████████| 157/157 [00:07<00:00, 22.42it/s, Acc=89.8, loss=0.379]\n"
     ]
    },
    {
     "name": "stdout",
     "output_type": "stream",
     "text": [
      "\n",
      "Epoch: 167\n"
     ]
    },
    {
     "name": "stderr",
     "output_type": "stream",
     "text": [
      "Epoch : 167: 100%|██████████████████████████████████████████████████████████████████████████████████████████████████████| 782/782 [01:38<00:00,  7.93it/s, Acc=96.2, loss=0.114]\n",
      "100%|███████████████████████████████████████████████████████████████████████████████████████████████████████████████████| 157/157 [00:07<00:00, 22.21it/s, Acc=90.2, loss=0.371]\n"
     ]
    },
    {
     "name": "stdout",
     "output_type": "stream",
     "text": [
      "\n",
      "Epoch: 168\n"
     ]
    },
    {
     "name": "stderr",
     "output_type": "stream",
     "text": [
      "Epoch : 168: 100%|███████████████████████████████████████████████████████████████████████████████████████████████████████| 782/782 [01:36<00:00,  8.13it/s, Acc=96.2, loss=0.11]\n",
      "100%|███████████████████████████████████████████████████████████████████████████████████████████████████████████████████| 157/157 [00:06<00:00, 22.87it/s, Acc=89.4, loss=0.416]\n"
     ]
    },
    {
     "name": "stdout",
     "output_type": "stream",
     "text": [
      "\n",
      "Epoch: 169\n"
     ]
    },
    {
     "name": "stderr",
     "output_type": "stream",
     "text": [
      "Epoch : 169: 100%|███████████████████████████████████████████████████████████████████████████████████████████████████████| 782/782 [01:38<00:00,  7.93it/s, Acc=96.2, loss=0.11]\n",
      "100%|███████████████████████████████████████████████████████████████████████████████████████████████████████████████████| 157/157 [00:06<00:00, 22.61it/s, Acc=90.2, loss=0.394]\n"
     ]
    },
    {
     "name": "stdout",
     "output_type": "stream",
     "text": [
      "\n",
      "Epoch: 170\n"
     ]
    },
    {
     "name": "stderr",
     "output_type": "stream",
     "text": [
      "Epoch : 170: 100%|██████████████████████████████████████████████████████████████████████████████████████████████████████| 782/782 [01:37<00:00,  7.99it/s, Acc=96.3, loss=0.108]\n",
      "100%|███████████████████████████████████████████████████████████████████████████████████████████████████████████████████| 157/157 [00:07<00:00, 22.31it/s, Acc=89.9, loss=0.393]\n"
     ]
    },
    {
     "name": "stdout",
     "output_type": "stream",
     "text": [
      "\n",
      "Epoch: 171\n"
     ]
    },
    {
     "name": "stderr",
     "output_type": "stream",
     "text": [
      "Epoch : 171: 100%|██████████████████████████████████████████████████████████████████████████████████████████████████████| 782/782 [01:38<00:00,  7.94it/s, Acc=96.2, loss=0.111]\n",
      "100%|███████████████████████████████████████████████████████████████████████████████████████████████████████████████████| 157/157 [00:07<00:00, 21.56it/s, Acc=89.4, loss=0.421]\n"
     ]
    },
    {
     "name": "stdout",
     "output_type": "stream",
     "text": [
      "\n",
      "Epoch: 172\n"
     ]
    },
    {
     "name": "stderr",
     "output_type": "stream",
     "text": [
      "Epoch : 172: 100%|███████████████████████████████████████████████████████████████████████████████████████████████████████| 782/782 [01:39<00:00,  7.90it/s, Acc=96.1, loss=0.11]\n",
      "100%|███████████████████████████████████████████████████████████████████████████████████████████████████████████████████| 157/157 [00:06<00:00, 22.61it/s, Acc=90.4, loss=0.375]\n"
     ]
    },
    {
     "name": "stdout",
     "output_type": "stream",
     "text": [
      "Saving..\n",
      "\n",
      "Epoch: 173\n"
     ]
    },
    {
     "name": "stderr",
     "output_type": "stream",
     "text": [
      "Epoch : 173: 100%|██████████████████████████████████████████████████████████████████████████████████████████████████████| 782/782 [01:37<00:00,  8.04it/s, Acc=96.2, loss=0.109]\n",
      "100%|█████████████████████████████████████████████████████████████████████████████████████████████████████████████████████| 157/157 [00:07<00:00, 22.17it/s, Acc=90, loss=0.395]\n"
     ]
    },
    {
     "name": "stdout",
     "output_type": "stream",
     "text": [
      "\n",
      "Epoch: 174\n"
     ]
    },
    {
     "name": "stderr",
     "output_type": "stream",
     "text": [
      "Epoch : 174: 100%|██████████████████████████████████████████████████████████████████████████████████████████████████████| 782/782 [01:38<00:00,  7.90it/s, Acc=96.4, loss=0.105]\n",
      "100%|█████████████████████████████████████████████████████████████████████████████████████████████████████████████████████| 157/157 [00:06<00:00, 22.48it/s, Acc=90, loss=0.389]\n"
     ]
    },
    {
     "name": "stdout",
     "output_type": "stream",
     "text": [
      "\n",
      "Epoch: 175\n"
     ]
    },
    {
     "name": "stderr",
     "output_type": "stream",
     "text": [
      "Epoch : 175: 100%|██████████████████████████████████████████████████████████████████████████████████████████████████████| 782/782 [01:37<00:00,  8.06it/s, Acc=96.3, loss=0.109]\n",
      "100%|███████████████████████████████████████████████████████████████████████████████████████████████████████████████████| 157/157 [00:07<00:00, 21.68it/s, Acc=90.4, loss=0.368]\n"
     ]
    },
    {
     "name": "stdout",
     "output_type": "stream",
     "text": [
      "\n",
      "Epoch: 176\n"
     ]
    },
    {
     "name": "stderr",
     "output_type": "stream",
     "text": [
      "Epoch : 176: 100%|██████████████████████████████████████████████████████████████████████████████████████████████████████| 782/782 [01:39<00:00,  7.88it/s, Acc=96.4, loss=0.105]\n",
      "100%|████████████████████████████████████████████████████████████████████████████████████████████████████████████████████| 157/157 [00:06<00:00, 22.50it/s, Acc=90.4, loss=0.39]\n"
     ]
    },
    {
     "name": "stdout",
     "output_type": "stream",
     "text": [
      "\n",
      "Epoch: 177\n"
     ]
    },
    {
     "name": "stderr",
     "output_type": "stream",
     "text": [
      "Epoch : 177: 100%|██████████████████████████████████████████████████████████████████████████████████████████████████████| 782/782 [01:38<00:00,  7.98it/s, Acc=96.3, loss=0.107]\n",
      "100%|███████████████████████████████████████████████████████████████████████████████████████████████████████████████████| 157/157 [00:06<00:00, 22.96it/s, Acc=90.3, loss=0.386]\n"
     ]
    },
    {
     "name": "stdout",
     "output_type": "stream",
     "text": [
      "\n",
      "Epoch: 178\n"
     ]
    },
    {
     "name": "stderr",
     "output_type": "stream",
     "text": [
      "Epoch : 178: 100%|██████████████████████████████████████████████████████████████████████████████████████████████████████| 782/782 [01:37<00:00,  8.04it/s, Acc=96.4, loss=0.104]\n",
      "100%|███████████████████████████████████████████████████████████████████████████████████████████████████████████████████| 157/157 [00:06<00:00, 22.65it/s, Acc=90.5, loss=0.374]\n"
     ]
    },
    {
     "name": "stdout",
     "output_type": "stream",
     "text": [
      "Saving..\n",
      "\n",
      "Epoch: 179\n"
     ]
    },
    {
     "name": "stderr",
     "output_type": "stream",
     "text": [
      "Epoch : 179: 100%|██████████████████████████████████████████████████████████████████████████████████████████████████████| 782/782 [01:39<00:00,  7.86it/s, Acc=96.3, loss=0.106]\n",
      "100%|███████████████████████████████████████████████████████████████████████████████████████████████████████████████████| 157/157 [00:07<00:00, 22.37it/s, Acc=90.2, loss=0.361]\n"
     ]
    },
    {
     "name": "stdout",
     "output_type": "stream",
     "text": [
      "\n",
      "Epoch: 180\n"
     ]
    },
    {
     "name": "stderr",
     "output_type": "stream",
     "text": [
      "Epoch : 180: 100%|██████████████████████████████████████████████████████████████████████████████████████████████████████| 782/782 [01:36<00:00,  8.06it/s, Acc=96.4, loss=0.106]\n",
      "100%|███████████████████████████████████████████████████████████████████████████████████████████████████████████████████| 157/157 [00:06<00:00, 22.66it/s, Acc=90.4, loss=0.363]\n"
     ]
    },
    {
     "name": "stdout",
     "output_type": "stream",
     "text": [
      "\n",
      "Epoch: 181\n"
     ]
    },
    {
     "name": "stderr",
     "output_type": "stream",
     "text": [
      "Epoch : 181: 100%|██████████████████████████████████████████████████████████████████████████████████████████████████████| 782/782 [01:38<00:00,  7.92it/s, Acc=96.5, loss=0.102]\n",
      "100%|███████████████████████████████████████████████████████████████████████████████████████████████████████████████████| 157/157 [00:06<00:00, 22.63it/s, Acc=90.2, loss=0.377]\n"
     ]
    },
    {
     "name": "stdout",
     "output_type": "stream",
     "text": [
      "\n",
      "Epoch: 182\n"
     ]
    },
    {
     "name": "stderr",
     "output_type": "stream",
     "text": [
      "Epoch : 182: 100%|█████████████████████████████████████████████████████████████████████████████████████████████████████| 782/782 [01:36<00:00,  8.08it/s, Acc=96.5, loss=0.0999]\n",
      "100%|███████████████████████████████████████████████████████████████████████████████████████████████████████████████████| 157/157 [00:06<00:00, 22.45it/s, Acc=90.2, loss=0.399]\n"
     ]
    },
    {
     "name": "stdout",
     "output_type": "stream",
     "text": [
      "\n",
      "Epoch: 183\n"
     ]
    },
    {
     "name": "stderr",
     "output_type": "stream",
     "text": [
      "Epoch : 183: 100%|██████████████████████████████████████████████████████████████████████████████████████████████████████| 782/782 [01:39<00:00,  7.83it/s, Acc=96.4, loss=0.101]\n",
      "100%|█████████████████████████████████████████████████████████████████████████████████████████████████████████████████████| 157/157 [00:07<00:00, 21.88it/s, Acc=90, loss=0.418]\n"
     ]
    },
    {
     "name": "stdout",
     "output_type": "stream",
     "text": [
      "\n",
      "Epoch: 184\n"
     ]
    },
    {
     "name": "stderr",
     "output_type": "stream",
     "text": [
      "Epoch : 184: 100%|█████████████████████████████████████████████████████████████████████████████████████████████████████| 782/782 [01:38<00:00,  7.97it/s, Acc=96.6, loss=0.0999]\n",
      "100%|███████████████████████████████████████████████████████████████████████████████████████████████████████████████████| 157/157 [00:06<00:00, 23.42it/s, Acc=90.1, loss=0.387]\n"
     ]
    },
    {
     "name": "stdout",
     "output_type": "stream",
     "text": [
      "\n",
      "Epoch: 185\n"
     ]
    },
    {
     "name": "stderr",
     "output_type": "stream",
     "text": [
      "Epoch : 185: 100%|████████████████████████████████████████████████████████████████████████████████████████████████████████| 782/782 [01:38<00:00,  7.97it/s, Acc=96.5, loss=0.1]\n",
      "100%|███████████████████████████████████████████████████████████████████████████████████████████████████████████████████| 157/157 [00:06<00:00, 22.70it/s, Acc=90.2, loss=0.404]\n"
     ]
    },
    {
     "name": "stdout",
     "output_type": "stream",
     "text": [
      "\n",
      "Epoch: 186\n"
     ]
    },
    {
     "name": "stderr",
     "output_type": "stream",
     "text": [
      "Epoch : 186: 100%|██████████████████████████████████████████████████████████████████████████████████████████████████████| 782/782 [01:37<00:00,  8.02it/s, Acc=96.5, loss=0.101]\n",
      "100%|█████████████████████████████████████████████████████████████████████████████████████████████████████████████████████| 157/157 [00:06<00:00, 22.85it/s, Acc=90, loss=0.387]\n"
     ]
    },
    {
     "name": "stdout",
     "output_type": "stream",
     "text": [
      "\n",
      "Epoch: 187\n"
     ]
    },
    {
     "name": "stderr",
     "output_type": "stream",
     "text": [
      "Epoch : 187: 100%|██████████████████████████████████████████████████████████████████████████████████████████████████████| 782/782 [01:36<00:00,  8.14it/s, Acc=96.6, loss=0.099]\n",
      "100%|███████████████████████████████████████████████████████████████████████████████████████████████████████████████████| 157/157 [00:06<00:00, 23.04it/s, Acc=90.5, loss=0.351]\n"
     ]
    },
    {
     "name": "stdout",
     "output_type": "stream",
     "text": [
      "Saving..\n",
      "\n",
      "Epoch: 188\n"
     ]
    },
    {
     "name": "stderr",
     "output_type": "stream",
     "text": [
      "Epoch : 188: 100%|█████████████████████████████████████████████████████████████████████████████████████████████████████| 782/782 [01:34<00:00,  8.31it/s, Acc=96.6, loss=0.0965]\n",
      "100%|███████████████████████████████████████████████████████████████████████████████████████████████████████████████████| 157/157 [00:06<00:00, 22.86it/s, Acc=90.2, loss=0.394]\n"
     ]
    },
    {
     "name": "stdout",
     "output_type": "stream",
     "text": [
      "\n",
      "Epoch: 189\n"
     ]
    },
    {
     "name": "stderr",
     "output_type": "stream",
     "text": [
      "Epoch : 189: 100%|█████████████████████████████████████████████████████████████████████████████████████████████████████| 782/782 [01:34<00:00,  8.30it/s, Acc=96.8, loss=0.0968]\n",
      "100%|███████████████████████████████████████████████████████████████████████████████████████████████████████████████████| 157/157 [00:06<00:00, 22.69it/s, Acc=89.8, loss=0.437]\n"
     ]
    },
    {
     "name": "stdout",
     "output_type": "stream",
     "text": [
      "\n",
      "Epoch: 190\n"
     ]
    },
    {
     "name": "stderr",
     "output_type": "stream",
     "text": [
      "Epoch : 190: 100%|██████████████████████████████████████████████████████████████████████████████████████████████████████| 782/782 [01:37<00:00,  7.98it/s, Acc=96.7, loss=0.097]\n",
      "100%|███████████████████████████████████████████████████████████████████████████████████████████████████████████████████| 157/157 [00:07<00:00, 22.30it/s, Acc=90.4, loss=0.393]\n"
     ]
    },
    {
     "name": "stdout",
     "output_type": "stream",
     "text": [
      "\n",
      "Epoch: 191\n"
     ]
    },
    {
     "name": "stderr",
     "output_type": "stream",
     "text": [
      "Epoch : 191: 100%|█████████████████████████████████████████████████████████████████████████████████████████████████████| 782/782 [01:40<00:00,  7.81it/s, Acc=96.7, loss=0.0984]\n",
      "100%|███████████████████████████████████████████████████████████████████████████████████████████████████████████████████| 157/157 [00:07<00:00, 21.89it/s, Acc=90.1, loss=0.386]\n"
     ]
    },
    {
     "name": "stdout",
     "output_type": "stream",
     "text": [
      "\n",
      "Epoch: 192\n"
     ]
    },
    {
     "name": "stderr",
     "output_type": "stream",
     "text": [
      "Epoch : 192: 100%|█████████████████████████████████████████████████████████████████████████████████████████████████████| 782/782 [01:35<00:00,  8.22it/s, Acc=96.5, loss=0.0991]\n",
      "100%|███████████████████████████████████████████████████████████████████████████████████████████████████████████████████| 157/157 [00:06<00:00, 23.08it/s, Acc=90.2, loss=0.398]\n"
     ]
    },
    {
     "name": "stdout",
     "output_type": "stream",
     "text": [
      "\n",
      "Epoch: 193\n"
     ]
    },
    {
     "name": "stderr",
     "output_type": "stream",
     "text": [
      "Epoch : 193: 100%|█████████████████████████████████████████████████████████████████████████████████████████████████████| 782/782 [01:35<00:00,  8.18it/s, Acc=96.7, loss=0.0961]\n",
      "100%|███████████████████████████████████████████████████████████████████████████████████████████████████████████████████| 157/157 [00:06<00:00, 22.86it/s, Acc=90.4, loss=0.396]\n"
     ]
    },
    {
     "name": "stdout",
     "output_type": "stream",
     "text": [
      "\n",
      "Epoch: 194\n"
     ]
    },
    {
     "name": "stderr",
     "output_type": "stream",
     "text": [
      "Epoch : 194: 100%|█████████████████████████████████████████████████████████████████████████████████████████████████████| 782/782 [01:35<00:00,  8.15it/s, Acc=96.6, loss=0.0973]\n",
      "100%|███████████████████████████████████████████████████████████████████████████████████████████████████████████████████| 157/157 [00:06<00:00, 22.47it/s, Acc=90.6, loss=0.387]\n"
     ]
    },
    {
     "name": "stdout",
     "output_type": "stream",
     "text": [
      "Saving..\n",
      "\n",
      "Epoch: 195\n"
     ]
    },
    {
     "name": "stderr",
     "output_type": "stream",
     "text": [
      "Epoch : 195: 100%|█████████████████████████████████████████████████████████████████████████████████████████████████████| 782/782 [01:38<00:00,  7.91it/s, Acc=96.7, loss=0.0957]\n",
      "100%|███████████████████████████████████████████████████████████████████████████████████████████████████████████████████| 157/157 [00:06<00:00, 22.44it/s, Acc=90.5, loss=0.386]\n"
     ]
    },
    {
     "name": "stdout",
     "output_type": "stream",
     "text": [
      "\n",
      "Epoch: 196\n"
     ]
    },
    {
     "name": "stderr",
     "output_type": "stream",
     "text": [
      "Epoch : 196: 100%|█████████████████████████████████████████████████████████████████████████████████████████████████████| 782/782 [01:36<00:00,  8.07it/s, Acc=96.6, loss=0.0983]\n",
      "100%|████████████████████████████████████████████████████████████████████████████████████████████████████████████████████| 157/157 [00:06<00:00, 22.62it/s, Acc=90.5, loss=0.39]\n"
     ]
    },
    {
     "name": "stdout",
     "output_type": "stream",
     "text": [
      "\n",
      "Epoch: 197\n"
     ]
    },
    {
     "name": "stderr",
     "output_type": "stream",
     "text": [
      "Epoch : 197: 100%|█████████████████████████████████████████████████████████████████████████████████████████████████████| 782/782 [01:38<00:00,  7.98it/s, Acc=96.8, loss=0.0932]\n",
      "100%|███████████████████████████████████████████████████████████████████████████████████████████████████████████████████| 157/157 [00:07<00:00, 21.85it/s, Acc=90.3, loss=0.396]\n"
     ]
    },
    {
     "name": "stdout",
     "output_type": "stream",
     "text": [
      "\n",
      "Epoch: 198\n"
     ]
    },
    {
     "name": "stderr",
     "output_type": "stream",
     "text": [
      "Epoch : 198: 100%|█████████████████████████████████████████████████████████████████████████████████████████████████████| 782/782 [01:39<00:00,  7.84it/s, Acc=96.6, loss=0.0975]\n",
      "100%|███████████████████████████████████████████████████████████████████████████████████████████████████████████████████| 157/157 [00:06<00:00, 22.48it/s, Acc=90.5, loss=0.398]\n"
     ]
    },
    {
     "name": "stdout",
     "output_type": "stream",
     "text": [
      "\n",
      "Epoch: 199\n"
     ]
    },
    {
     "name": "stderr",
     "output_type": "stream",
     "text": [
      "Epoch : 199: 100%|█████████████████████████████████████████████████████████████████████████████████████████████████████| 782/782 [01:37<00:00,  8.04it/s, Acc=96.8, loss=0.0953]\n",
      "100%|████████████████████████████████████████████████████████████████████████████████████████████████████████████████████| 157/157 [00:06<00:00, 22.72it/s, Acc=90.2, loss=0.39]\n"
     ]
    },
    {
     "name": "stdout",
     "output_type": "stream",
     "text": [
      "\n",
      "Epoch: 200\n"
     ]
    },
    {
     "name": "stderr",
     "output_type": "stream",
     "text": [
      "Epoch : 200: 100%|█████████████████████████████████████████████████████████████████████████████████████████████████████| 782/782 [01:39<00:00,  7.89it/s, Acc=96.8, loss=0.0947]\n",
      "100%|███████████████████████████████████████████████████████████████████████████████████████████████████████████████████| 157/157 [00:06<00:00, 22.67it/s, Acc=90.1, loss=0.386]\n"
     ]
    },
    {
     "name": "stdout",
     "output_type": "stream",
     "text": [
      "\n",
      "Epoch: 201\n"
     ]
    },
    {
     "name": "stderr",
     "output_type": "stream",
     "text": [
      "Epoch : 201: 100%|█████████████████████████████████████████████████████████████████████████████████████████████████████| 782/782 [01:37<00:00,  8.03it/s, Acc=96.8, loss=0.0959]\n",
      "100%|███████████████████████████████████████████████████████████████████████████████████████████████████████████████████| 157/157 [00:06<00:00, 22.50it/s, Acc=90.2, loss=0.404]\n"
     ]
    },
    {
     "name": "stdout",
     "output_type": "stream",
     "text": [
      "\n",
      "Epoch: 202\n"
     ]
    },
    {
     "name": "stderr",
     "output_type": "stream",
     "text": [
      "Epoch : 202: 100%|█████████████████████████████████████████████████████████████████████████████████████████████████████| 782/782 [01:38<00:00,  7.90it/s, Acc=96.7, loss=0.0967]\n",
      "100%|███████████████████████████████████████████████████████████████████████████████████████████████████████████████████| 157/157 [00:06<00:00, 22.68it/s, Acc=90.5, loss=0.386]\n"
     ]
    },
    {
     "name": "stdout",
     "output_type": "stream",
     "text": [
      "\n",
      "Epoch: 203\n"
     ]
    },
    {
     "name": "stderr",
     "output_type": "stream",
     "text": [
      "Epoch : 203: 100%|█████████████████████████████████████████████████████████████████████████████████████████████████████| 782/782 [01:38<00:00,  7.94it/s, Acc=96.8, loss=0.0917]\n",
      "100%|███████████████████████████████████████████████████████████████████████████████████████████████████████████████████| 157/157 [00:06<00:00, 23.85it/s, Acc=90.3, loss=0.403]\n"
     ]
    },
    {
     "name": "stdout",
     "output_type": "stream",
     "text": [
      "\n",
      "Epoch: 204\n"
     ]
    },
    {
     "name": "stderr",
     "output_type": "stream",
     "text": [
      "Epoch : 204: 100%|█████████████████████████████████████████████████████████████████████████████████████████████████████| 782/782 [01:36<00:00,  8.09it/s, Acc=96.8, loss=0.0928]\n",
      "100%|███████████████████████████████████████████████████████████████████████████████████████████████████████████████████| 157/157 [00:06<00:00, 22.75it/s, Acc=90.2, loss=0.404]\n"
     ]
    },
    {
     "name": "stdout",
     "output_type": "stream",
     "text": [
      "\n",
      "Epoch: 205\n"
     ]
    },
    {
     "name": "stderr",
     "output_type": "stream",
     "text": [
      "Epoch : 205: 100%|█████████████████████████████████████████████████████████████████████████████████████████████████████| 782/782 [01:39<00:00,  7.90it/s, Acc=96.8, loss=0.0935]\n",
      "100%|███████████████████████████████████████████████████████████████████████████████████████████████████████████████████| 157/157 [00:06<00:00, 22.77it/s, Acc=90.2, loss=0.402]\n"
     ]
    },
    {
     "name": "stdout",
     "output_type": "stream",
     "text": [
      "\n",
      "Epoch: 206\n"
     ]
    },
    {
     "name": "stderr",
     "output_type": "stream",
     "text": [
      "Epoch : 206: 100%|█████████████████████████████████████████████████████████████████████████████████████████████████████████| 782/782 [01:37<00:00,  8.04it/s, Acc=97, loss=0.09]\n",
      "100%|███████████████████████████████████████████████████████████████████████████████████████████████████████████████████| 157/157 [00:07<00:00, 22.28it/s, Acc=90.3, loss=0.383]\n"
     ]
    },
    {
     "name": "stdout",
     "output_type": "stream",
     "text": [
      "\n",
      "Epoch: 207\n"
     ]
    },
    {
     "name": "stderr",
     "output_type": "stream",
     "text": [
      "Epoch : 207: 100%|█████████████████████████████████████████████████████████████████████████████████████████████████████| 782/782 [01:38<00:00,  7.95it/s, Acc=96.8, loss=0.0938]\n",
      "100%|███████████████████████████████████████████████████████████████████████████████████████████████████████████████████| 157/157 [00:06<00:00, 23.01it/s, Acc=90.4, loss=0.382]\n"
     ]
    },
    {
     "name": "stdout",
     "output_type": "stream",
     "text": [
      "\n",
      "Epoch: 208\n"
     ]
    },
    {
     "name": "stderr",
     "output_type": "stream",
     "text": [
      "Epoch : 208: 100%|███████████████████████████████████████████████████████████████████████████████████████████████████████| 782/782 [01:34<00:00,  8.25it/s, Acc=97, loss=0.0898]\n",
      "100%|██████████████████████████████████████████████████████████████████████████████████████████████████████████████████████| 157/157 [00:07<00:00, 21.96it/s, Acc=90, loss=0.41]\n"
     ]
    },
    {
     "name": "stdout",
     "output_type": "stream",
     "text": [
      "\n",
      "Epoch: 209\n"
     ]
    },
    {
     "name": "stderr",
     "output_type": "stream",
     "text": [
      "Epoch : 209: 100%|█████████████████████████████████████████████████████████████████████████████████████████████████████| 782/782 [01:38<00:00,  7.91it/s, Acc=96.7, loss=0.0925]\n",
      "100%|███████████████████████████████████████████████████████████████████████████████████████████████████████████████████| 157/157 [00:06<00:00, 22.46it/s, Acc=89.7, loss=0.428]\n"
     ]
    },
    {
     "name": "stdout",
     "output_type": "stream",
     "text": [
      "\n",
      "Epoch: 210\n"
     ]
    },
    {
     "name": "stderr",
     "output_type": "stream",
     "text": [
      "Epoch : 210: 100%|█████████████████████████████████████████████████████████████████████████████████████████████████████| 782/782 [01:38<00:00,  7.90it/s, Acc=96.9, loss=0.0904]\n",
      "100%|███████████████████████████████████████████████████████████████████████████████████████████████████████████████████| 157/157 [00:06<00:00, 22.91it/s, Acc=90.3, loss=0.394]\n"
     ]
    },
    {
     "name": "stdout",
     "output_type": "stream",
     "text": [
      "\n",
      "Epoch: 211\n"
     ]
    },
    {
     "name": "stderr",
     "output_type": "stream",
     "text": [
      "Epoch : 211: 100%|██████████████████████████████████████████████████████████████████████████████████████████████████████| 782/782 [01:37<00:00,  8.06it/s, Acc=96.9, loss=0.091]\n",
      "100%|███████████████████████████████████████████████████████████████████████████████████████████████████████████████████| 157/157 [00:06<00:00, 22.46it/s, Acc=90.2, loss=0.404]\n"
     ]
    },
    {
     "name": "stdout",
     "output_type": "stream",
     "text": [
      "\n",
      "Epoch: 212\n"
     ]
    },
    {
     "name": "stderr",
     "output_type": "stream",
     "text": [
      "Epoch : 212: 100%|█████████████████████████████████████████████████████████████████████████████████████████████████████| 782/782 [01:35<00:00,  8.18it/s, Acc=96.9, loss=0.0893]\n",
      "100%|███████████████████████████████████████████████████████████████████████████████████████████████████████████████████| 157/157 [00:06<00:00, 22.64it/s, Acc=90.3, loss=0.393]\n"
     ]
    },
    {
     "name": "stdout",
     "output_type": "stream",
     "text": [
      "\n",
      "Epoch: 213\n"
     ]
    },
    {
     "name": "stderr",
     "output_type": "stream",
     "text": [
      "Epoch : 213: 100%|█████████████████████████████████████████████████████████████████████████████████████████████████████| 782/782 [01:36<00:00,  8.08it/s, Acc=97.1, loss=0.0899]\n",
      "100%|███████████████████████████████████████████████████████████████████████████████████████████████████████████████████| 157/157 [00:06<00:00, 22.96it/s, Acc=90.1, loss=0.391]\n"
     ]
    },
    {
     "name": "stdout",
     "output_type": "stream",
     "text": [
      "\n",
      "Epoch: 214\n"
     ]
    },
    {
     "name": "stderr",
     "output_type": "stream",
     "text": [
      "Epoch : 214: 100%|█████████████████████████████████████████████████████████████████████████████████████████████████████| 782/782 [01:38<00:00,  7.94it/s, Acc=96.9, loss=0.0892]\n",
      "100%|███████████████████████████████████████████████████████████████████████████████████████████████████████████████████| 157/157 [00:06<00:00, 22.67it/s, Acc=90.4, loss=0.395]\n"
     ]
    },
    {
     "name": "stdout",
     "output_type": "stream",
     "text": [
      "\n",
      "Epoch: 215\n"
     ]
    },
    {
     "name": "stderr",
     "output_type": "stream",
     "text": [
      "Epoch : 215: 100%|█████████████████████████████████████████████████████████████████████████████████████████████████████| 782/782 [01:36<00:00,  8.11it/s, Acc=96.9, loss=0.0899]\n",
      "100%|███████████████████████████████████████████████████████████████████████████████████████████████████████████████████| 157/157 [00:06<00:00, 22.55it/s, Acc=90.4, loss=0.382]\n"
     ]
    },
    {
     "name": "stdout",
     "output_type": "stream",
     "text": [
      "\n",
      "Epoch: 216\n"
     ]
    },
    {
     "name": "stderr",
     "output_type": "stream",
     "text": [
      "Epoch : 216: 100%|█████████████████████████████████████████████████████████████████████████████████████████████████████| 782/782 [01:38<00:00,  7.94it/s, Acc=97.1, loss=0.0875]\n",
      "100%|████████████████████████████████████████████████████████████████████████████████████████████████████████████████████| 157/157 [00:07<00:00, 22.15it/s, Acc=89.9, loss=0.39]\n"
     ]
    },
    {
     "name": "stdout",
     "output_type": "stream",
     "text": [
      "\n",
      "Epoch: 217\n"
     ]
    },
    {
     "name": "stderr",
     "output_type": "stream",
     "text": [
      "Epoch : 217: 100%|███████████████████████████████████████████████████████████████████████████████████████████████████████| 782/782 [01:38<00:00,  7.96it/s, Acc=97, loss=0.0888]\n",
      "100%|███████████████████████████████████████████████████████████████████████████████████████████████████████████████████| 157/157 [00:06<00:00, 24.08it/s, Acc=90.2, loss=0.396]\n"
     ]
    },
    {
     "name": "stdout",
     "output_type": "stream",
     "text": [
      "\n",
      "Epoch: 218\n"
     ]
    },
    {
     "name": "stderr",
     "output_type": "stream",
     "text": [
      "Epoch : 218: 100%|███████████████████████████████████████████████████████████████████████████████████████████████████████| 782/782 [01:36<00:00,  8.09it/s, Acc=97, loss=0.0869]\n",
      "100%|███████████████████████████████████████████████████████████████████████████████████████████████████████████████████| 157/157 [00:07<00:00, 22.32it/s, Acc=90.6, loss=0.401]\n"
     ]
    },
    {
     "name": "stdout",
     "output_type": "stream",
     "text": [
      "\n",
      "Epoch: 219\n"
     ]
    },
    {
     "name": "stderr",
     "output_type": "stream",
     "text": [
      "Epoch : 219: 100%|█████████████████████████████████████████████████████████████████████████████████████████████████████| 782/782 [01:38<00:00,  7.97it/s, Acc=97.2, loss=0.0841]\n",
      "100%|███████████████████████████████████████████████████████████████████████████████████████████████████████████████████| 157/157 [00:06<00:00, 22.65it/s, Acc=90.3, loss=0.413]\n"
     ]
    },
    {
     "name": "stdout",
     "output_type": "stream",
     "text": [
      "\n",
      "Epoch: 220\n"
     ]
    },
    {
     "name": "stderr",
     "output_type": "stream",
     "text": [
      "Epoch : 220: 100%|███████████████████████████████████████████████████████████████████████████████████████████████████████| 782/782 [01:37<00:00,  8.05it/s, Acc=97, loss=0.0889]\n",
      "100%|█████████████████████████████████████████████████████████████████████████████████████████████████████████████████████| 157/157 [00:07<00:00, 22.28it/s, Acc=90, loss=0.429]\n"
     ]
    },
    {
     "name": "stdout",
     "output_type": "stream",
     "text": [
      "\n",
      "Epoch: 221\n"
     ]
    },
    {
     "name": "stderr",
     "output_type": "stream",
     "text": [
      "Epoch : 221: 100%|█████████████████████████████████████████████████████████████████████████████████████████████████████| 782/782 [01:38<00:00,  7.92it/s, Acc=96.9, loss=0.0882]\n",
      "100%|███████████████████████████████████████████████████████████████████████████████████████████████████████████████████| 157/157 [00:06<00:00, 22.71it/s, Acc=90.6, loss=0.407]\n"
     ]
    },
    {
     "name": "stdout",
     "output_type": "stream",
     "text": [
      "Saving..\n",
      "\n",
      "Epoch: 222\n"
     ]
    },
    {
     "name": "stderr",
     "output_type": "stream",
     "text": [
      "Epoch : 222: 100%|█████████████████████████████████████████████████████████████████████████████████████████████████████| 782/782 [01:37<00:00,  8.02it/s, Acc=97.1, loss=0.0821]\n",
      "100%|███████████████████████████████████████████████████████████████████████████████████████████████████████████████████| 157/157 [00:06<00:00, 23.99it/s, Acc=90.5, loss=0.412]\n"
     ]
    },
    {
     "name": "stdout",
     "output_type": "stream",
     "text": [
      "\n",
      "Epoch: 223\n"
     ]
    },
    {
     "name": "stderr",
     "output_type": "stream",
     "text": [
      "Epoch : 223: 100%|███████████████████████████████████████████████████████████████████████████████████████████████████████| 782/782 [01:38<00:00,  7.93it/s, Acc=97, loss=0.0886]\n",
      "100%|███████████████████████████████████████████████████████████████████████████████████████████████████████████████████| 157/157 [00:06<00:00, 22.74it/s, Acc=90.5, loss=0.377]\n"
     ]
    },
    {
     "name": "stdout",
     "output_type": "stream",
     "text": [
      "\n",
      "Epoch: 224\n"
     ]
    },
    {
     "name": "stderr",
     "output_type": "stream",
     "text": [
      "Epoch : 224: 100%|█████████████████████████████████████████████████████████████████████████████████████████████████████| 782/782 [01:38<00:00,  7.90it/s, Acc=97.1, loss=0.0834]\n",
      "100%|███████████████████████████████████████████████████████████████████████████████████████████████████████████████████| 157/157 [00:06<00:00, 22.58it/s, Acc=90.6, loss=0.404]\n"
     ]
    },
    {
     "name": "stdout",
     "output_type": "stream",
     "text": [
      "\n",
      "Epoch: 225\n"
     ]
    },
    {
     "name": "stderr",
     "output_type": "stream",
     "text": [
      "Epoch : 225: 100%|█████████████████████████████████████████████████████████████████████████████████████████████████████| 782/782 [01:35<00:00,  8.16it/s, Acc=97.1, loss=0.0867]\n",
      "100%|███████████████████████████████████████████████████████████████████████████████████████████████████████████████████| 157/157 [00:06<00:00, 22.46it/s, Acc=90.1, loss=0.402]\n"
     ]
    },
    {
     "name": "stdout",
     "output_type": "stream",
     "text": [
      "\n",
      "Epoch: 226\n"
     ]
    },
    {
     "name": "stderr",
     "output_type": "stream",
     "text": [
      "Epoch : 226: 100%|█████████████████████████████████████████████████████████████████████████████████████████████████████| 782/782 [01:38<00:00,  7.92it/s, Acc=97.1, loss=0.0839]\n",
      "100%|████████████████████████████████████████████████████████████████████████████████████████████████████████████████████| 157/157 [00:06<00:00, 22.47it/s, Acc=90.3, loss=0.41]\n"
     ]
    },
    {
     "name": "stdout",
     "output_type": "stream",
     "text": [
      "\n",
      "Epoch: 227\n"
     ]
    },
    {
     "name": "stderr",
     "output_type": "stream",
     "text": [
      "Epoch : 227: 100%|██████████████████████████████████████████████████████████████████████████████████████████████████████| 782/782 [01:37<00:00,  8.06it/s, Acc=97.1, loss=0.085]\n",
      "100%|█████████████████████████████████████████████████████████████████████████████████████████████████████████████████████| 157/157 [00:06<00:00, 22.84it/s, Acc=90, loss=0.408]\n"
     ]
    },
    {
     "name": "stdout",
     "output_type": "stream",
     "text": [
      "\n",
      "Epoch: 228\n"
     ]
    },
    {
     "name": "stderr",
     "output_type": "stream",
     "text": [
      "Epoch : 228: 100%|█████████████████████████████████████████████████████████████████████████████████████████████████████| 782/782 [01:37<00:00,  7.99it/s, Acc=97.3, loss=0.0764]\n",
      "100%|███████████████████████████████████████████████████████████████████████████████████████████████████████████████████| 157/157 [00:06<00:00, 22.51it/s, Acc=90.2, loss=0.422]\n"
     ]
    },
    {
     "name": "stdout",
     "output_type": "stream",
     "text": [
      "\n",
      "Epoch: 229\n"
     ]
    },
    {
     "name": "stderr",
     "output_type": "stream",
     "text": [
      "Epoch : 229: 100%|█████████████████████████████████████████████████████████████████████████████████████████████████████| 782/782 [01:38<00:00,  7.97it/s, Acc=97.2, loss=0.0825]\n",
      "100%|███████████████████████████████████████████████████████████████████████████████████████████████████████████████████| 157/157 [00:06<00:00, 23.75it/s, Acc=90.2, loss=0.422]\n"
     ]
    },
    {
     "name": "stdout",
     "output_type": "stream",
     "text": [
      "\n",
      "Epoch: 230\n"
     ]
    },
    {
     "name": "stderr",
     "output_type": "stream",
     "text": [
      "Epoch : 230: 100%|██████████████████████████████████████████████████████████████████████████████████████████████████████| 782/782 [01:37<00:00,  8.03it/s, Acc=97.1, loss=0.085]\n",
      "100%|█████████████████████████████████████████████████████████████████████████████████████████████████████████████████████| 157/157 [00:06<00:00, 22.48it/s, Acc=90, loss=0.426]\n"
     ]
    },
    {
     "name": "stdout",
     "output_type": "stream",
     "text": [
      "\n",
      "Epoch: 231\n"
     ]
    },
    {
     "name": "stderr",
     "output_type": "stream",
     "text": [
      "Epoch : 231: 100%|██████████████████████████████████████████████████████████████████████████████████████████████████████| 782/782 [01:39<00:00,  7.88it/s, Acc=97.2, loss=0.082]\n",
      "100%|███████████████████████████████████████████████████████████████████████████████████████████████████████████████████| 157/157 [00:06<00:00, 22.47it/s, Acc=90.4, loss=0.422]\n"
     ]
    },
    {
     "name": "stdout",
     "output_type": "stream",
     "text": [
      "\n",
      "Epoch: 232\n"
     ]
    },
    {
     "name": "stderr",
     "output_type": "stream",
     "text": [
      "Epoch : 232: 100%|███████████████████████████████████████████████████████████████████████████████████████████████████████| 782/782 [01:36<00:00,  8.07it/s, Acc=97, loss=0.0857]\n",
      "100%|███████████████████████████████████████████████████████████████████████████████████████████████████████████████████| 157/157 [00:07<00:00, 22.36it/s, Acc=90.5, loss=0.399]\n"
     ]
    },
    {
     "name": "stdout",
     "output_type": "stream",
     "text": [
      "\n",
      "Epoch: 233\n"
     ]
    },
    {
     "name": "stderr",
     "output_type": "stream",
     "text": [
      "Epoch : 233: 100%|█████████████████████████████████████████████████████████████████████████████████████████████████████| 782/782 [01:39<00:00,  7.89it/s, Acc=97.3, loss=0.0799]\n",
      "100%|███████████████████████████████████████████████████████████████████████████████████████████████████████████████████| 157/157 [00:06<00:00, 22.54it/s, Acc=90.7, loss=0.396]\n"
     ]
    },
    {
     "name": "stdout",
     "output_type": "stream",
     "text": [
      "Saving..\n",
      "\n",
      "Epoch: 234\n"
     ]
    },
    {
     "name": "stderr",
     "output_type": "stream",
     "text": [
      "Epoch : 234: 100%|█████████████████████████████████████████████████████████████████████████████████████████████████████| 782/782 [01:37<00:00,  8.04it/s, Acc=97.2, loss=0.0821]\n",
      "100%|████████████████████████████████████████████████████████████████████████████████████████████████████████████████████| 157/157 [00:06<00:00, 22.46it/s, Acc=90.5, loss=0.39]\n"
     ]
    },
    {
     "name": "stdout",
     "output_type": "stream",
     "text": [
      "\n",
      "Epoch: 235\n"
     ]
    },
    {
     "name": "stderr",
     "output_type": "stream",
     "text": [
      "Epoch : 235: 100%|█████████████████████████████████████████████████████████████████████████████████████████████████████| 782/782 [01:39<00:00,  7.86it/s, Acc=97.2, loss=0.0796]\n",
      "100%|███████████████████████████████████████████████████████████████████████████████████████████████████████████████████| 157/157 [00:07<00:00, 21.81it/s, Acc=90.2, loss=0.408]\n"
     ]
    },
    {
     "name": "stdout",
     "output_type": "stream",
     "text": [
      "\n",
      "Epoch: 236\n"
     ]
    },
    {
     "name": "stderr",
     "output_type": "stream",
     "text": [
      "Epoch : 236: 100%|█████████████████████████████████████████████████████████████████████████████████████████████████████| 782/782 [01:38<00:00,  7.96it/s, Acc=97.2, loss=0.0817]\n",
      "100%|███████████████████████████████████████████████████████████████████████████████████████████████████████████████████| 157/157 [00:06<00:00, 23.20it/s, Acc=90.3, loss=0.395]\n"
     ]
    },
    {
     "name": "stdout",
     "output_type": "stream",
     "text": [
      "\n",
      "Epoch: 237\n"
     ]
    },
    {
     "name": "stderr",
     "output_type": "stream",
     "text": [
      "Epoch : 237: 100%|█████████████████████████████████████████████████████████████████████████████████████████████████████| 782/782 [01:38<00:00,  7.96it/s, Acc=97.3, loss=0.0804]\n",
      "100%|███████████████████████████████████████████████████████████████████████████████████████████████████████████████████| 157/157 [00:07<00:00, 22.10it/s, Acc=90.8, loss=0.387]\n"
     ]
    },
    {
     "name": "stdout",
     "output_type": "stream",
     "text": [
      "Saving..\n",
      "\n",
      "Epoch: 238\n"
     ]
    },
    {
     "name": "stderr",
     "output_type": "stream",
     "text": [
      "Epoch : 238: 100%|█████████████████████████████████████████████████████████████████████████████████████████████████████| 782/782 [01:38<00:00,  7.90it/s, Acc=97.2, loss=0.0811]\n",
      "100%|███████████████████████████████████████████████████████████████████████████████████████████████████████████████████| 157/157 [00:06<00:00, 22.50it/s, Acc=90.2, loss=0.414]\n"
     ]
    },
    {
     "name": "stdout",
     "output_type": "stream",
     "text": [
      "\n",
      "Epoch: 239\n"
     ]
    },
    {
     "name": "stderr",
     "output_type": "stream",
     "text": [
      "Epoch : 239: 100%|█████████████████████████████████████████████████████████████████████████████████████████████████████| 782/782 [01:37<00:00,  8.06it/s, Acc=97.1, loss=0.0842]\n",
      "100%|█████████████████████████████████████████████████████████████████████████████████████████████████████████████████████| 157/157 [00:07<00:00, 22.11it/s, Acc=90, loss=0.417]\n"
     ]
    },
    {
     "name": "stdout",
     "output_type": "stream",
     "text": [
      "\n",
      "Epoch: 240\n"
     ]
    },
    {
     "name": "stderr",
     "output_type": "stream",
     "text": [
      "Epoch : 240: 100%|███████████████████████████████████████████████████████████████████████████████████████████████████████| 782/782 [01:37<00:00,  8.03it/s, Acc=97.2, loss=0.08]\n",
      "100%|███████████████████████████████████████████████████████████████████████████████████████████████████████████████████| 157/157 [00:06<00:00, 22.69it/s, Acc=90.7, loss=0.405]\n"
     ]
    },
    {
     "name": "stdout",
     "output_type": "stream",
     "text": [
      "\n",
      "Epoch: 241\n"
     ]
    },
    {
     "name": "stderr",
     "output_type": "stream",
     "text": [
      "Epoch : 241: 100%|█████████████████████████████████████████████████████████████████████████████████████████████████████| 782/782 [01:37<00:00,  8.04it/s, Acc=97.4, loss=0.0781]\n",
      "100%|███████████████████████████████████████████████████████████████████████████████████████████████████████████████████| 157/157 [00:07<00:00, 22.07it/s, Acc=90.3, loss=0.431]\n"
     ]
    },
    {
     "name": "stdout",
     "output_type": "stream",
     "text": [
      "\n",
      "Epoch: 242\n"
     ]
    },
    {
     "name": "stderr",
     "output_type": "stream",
     "text": [
      "Epoch : 242: 100%|█████████████████████████████████████████████████████████████████████████████████████████████████████| 782/782 [01:39<00:00,  7.90it/s, Acc=97.4, loss=0.0756]\n",
      "100%|█████████████████████████████████████████████████████████████████████████████████████████████████████████████████████| 157/157 [00:06<00:00, 22.44it/s, Acc=90, loss=0.445]\n"
     ]
    },
    {
     "name": "stdout",
     "output_type": "stream",
     "text": [
      "\n",
      "Epoch: 243\n"
     ]
    },
    {
     "name": "stderr",
     "output_type": "stream",
     "text": [
      "Epoch : 243: 100%|█████████████████████████████████████████████████████████████████████████████████████████████████████| 782/782 [01:38<00:00,  7.91it/s, Acc=97.3, loss=0.0804]\n",
      "100%|███████████████████████████████████████████████████████████████████████████████████████████████████████████████████| 157/157 [00:06<00:00, 22.79it/s, Acc=90.2, loss=0.418]\n"
     ]
    },
    {
     "name": "stdout",
     "output_type": "stream",
     "text": [
      "\n",
      "Epoch: 244\n"
     ]
    },
    {
     "name": "stderr",
     "output_type": "stream",
     "text": [
      "Epoch : 244: 100%|█████████████████████████████████████████████████████████████████████████████████████████████████████| 782/782 [01:37<00:00,  8.04it/s, Acc=97.2, loss=0.0818]\n",
      "100%|███████████████████████████████████████████████████████████████████████████████████████████████████████████████████| 157/157 [00:06<00:00, 22.81it/s, Acc=90.5, loss=0.405]\n"
     ]
    },
    {
     "name": "stdout",
     "output_type": "stream",
     "text": [
      "\n",
      "Epoch: 245\n"
     ]
    },
    {
     "name": "stderr",
     "output_type": "stream",
     "text": [
      "Epoch : 245: 100%|█████████████████████████████████████████████████████████████████████████████████████████████████████| 782/782 [01:38<00:00,  7.97it/s, Acc=97.2, loss=0.0822]\n",
      "100%|███████████████████████████████████████████████████████████████████████████████████████████████████████████████████| 157/157 [00:06<00:00, 22.69it/s, Acc=90.3, loss=0.411]\n"
     ]
    },
    {
     "name": "stdout",
     "output_type": "stream",
     "text": [
      "\n",
      "Epoch: 246\n"
     ]
    },
    {
     "name": "stderr",
     "output_type": "stream",
     "text": [
      "Epoch : 246: 100%|█████████████████████████████████████████████████████████████████████████████████████████████████████| 782/782 [01:37<00:00,  8.02it/s, Acc=97.2, loss=0.0807]\n",
      "100%|███████████████████████████████████████████████████████████████████████████████████████████████████████████████████| 157/157 [00:07<00:00, 21.86it/s, Acc=90.9, loss=0.382]\n"
     ]
    },
    {
     "name": "stdout",
     "output_type": "stream",
     "text": [
      "Saving..\n",
      "\n",
      "Epoch: 247\n"
     ]
    },
    {
     "name": "stderr",
     "output_type": "stream",
     "text": [
      "Epoch : 247: 100%|█████████████████████████████████████████████████████████████████████████████████████████████████████| 782/782 [01:39<00:00,  7.86it/s, Acc=97.3, loss=0.0783]\n",
      "100%|███████████████████████████████████████████████████████████████████████████████████████████████████████████████████| 157/157 [00:06<00:00, 22.47it/s, Acc=90.1, loss=0.439]\n"
     ]
    },
    {
     "name": "stdout",
     "output_type": "stream",
     "text": [
      "\n",
      "Epoch: 248\n"
     ]
    },
    {
     "name": "stderr",
     "output_type": "stream",
     "text": [
      "Epoch : 248: 100%|█████████████████████████████████████████████████████████████████████████████████████████████████████| 782/782 [01:36<00:00,  8.07it/s, Acc=97.4, loss=0.0799]\n",
      "100%|███████████████████████████████████████████████████████████████████████████████████████████████████████████████████| 157/157 [00:06<00:00, 22.49it/s, Acc=90.5, loss=0.399]\n"
     ]
    },
    {
     "name": "stdout",
     "output_type": "stream",
     "text": [
      "\n",
      "Epoch: 249\n"
     ]
    },
    {
     "name": "stderr",
     "output_type": "stream",
     "text": [
      "Epoch : 249: 100%|█████████████████████████████████████████████████████████████████████████████████████████████████████| 782/782 [01:38<00:00,  7.92it/s, Acc=97.4, loss=0.0779]\n",
      "100%|███████████████████████████████████████████████████████████████████████████████████████████████████████████████████| 157/157 [00:06<00:00, 22.67it/s, Acc=90.4, loss=0.416]\n"
     ]
    },
    {
     "name": "stdout",
     "output_type": "stream",
     "text": [
      "\n",
      "Epoch: 250\n"
     ]
    },
    {
     "name": "stderr",
     "output_type": "stream",
     "text": [
      "Epoch : 250: 100%|█████████████████████████████████████████████████████████████████████████████████████████████████████| 782/782 [01:38<00:00,  7.93it/s, Acc=97.3, loss=0.0792]\n",
      "100%|███████████████████████████████████████████████████████████████████████████████████████████████████████████████████| 157/157 [00:06<00:00, 23.32it/s, Acc=90.4, loss=0.401]\n"
     ]
    },
    {
     "name": "stdout",
     "output_type": "stream",
     "text": [
      "\n",
      "Epoch: 251\n"
     ]
    },
    {
     "name": "stderr",
     "output_type": "stream",
     "text": [
      "Epoch : 251: 100%|██████████████████████████████████████████████████████████████████████████████████████████████████████| 782/782 [01:37<00:00,  8.00it/s, Acc=97.3, loss=0.078]\n",
      "100%|███████████████████████████████████████████████████████████████████████████████████████████████████████████████████| 157/157 [00:06<00:00, 22.43it/s, Acc=90.5, loss=0.388]\n"
     ]
    },
    {
     "name": "stdout",
     "output_type": "stream",
     "text": [
      "\n",
      "Epoch: 252\n"
     ]
    },
    {
     "name": "stderr",
     "output_type": "stream",
     "text": [
      "Epoch : 252: 100%|█████████████████████████████████████████████████████████████████████████████████████████████████████| 782/782 [01:39<00:00,  7.89it/s, Acc=97.3, loss=0.0751]\n",
      "100%|███████████████████████████████████████████████████████████████████████████████████████████████████████████████████| 157/157 [00:07<00:00, 22.04it/s, Acc=90.8, loss=0.434]\n"
     ]
    },
    {
     "name": "stdout",
     "output_type": "stream",
     "text": [
      "\n",
      "Epoch: 253\n"
     ]
    },
    {
     "name": "stderr",
     "output_type": "stream",
     "text": [
      "Epoch : 253: 100%|█████████████████████████████████████████████████████████████████████████████████████████████████████| 782/782 [01:36<00:00,  8.09it/s, Acc=97.3, loss=0.0795]\n",
      "100%|███████████████████████████████████████████████████████████████████████████████████████████████████████████████████| 157/157 [00:07<00:00, 22.19it/s, Acc=90.3, loss=0.431]\n"
     ]
    },
    {
     "name": "stdout",
     "output_type": "stream",
     "text": [
      "\n",
      "Epoch: 254\n"
     ]
    },
    {
     "name": "stderr",
     "output_type": "stream",
     "text": [
      "Epoch : 254: 100%|█████████████████████████████████████████████████████████████████████████████████████████████████████| 782/782 [01:39<00:00,  7.88it/s, Acc=97.4, loss=0.0761]\n",
      "100%|███████████████████████████████████████████████████████████████████████████████████████████████████████████████████| 157/157 [00:06<00:00, 22.47it/s, Acc=90.3, loss=0.424]\n"
     ]
    },
    {
     "name": "stdout",
     "output_type": "stream",
     "text": [
      "\n",
      "Epoch: 255\n"
     ]
    },
    {
     "name": "stderr",
     "output_type": "stream",
     "text": [
      "Epoch : 255: 100%|█████████████████████████████████████████████████████████████████████████████████████████████████████| 782/782 [01:36<00:00,  8.14it/s, Acc=97.5, loss=0.0749]\n",
      "100%|███████████████████████████████████████████████████████████████████████████████████████████████████████████████████| 157/157 [00:06<00:00, 22.69it/s, Acc=90.3, loss=0.435]\n"
     ]
    },
    {
     "name": "stdout",
     "output_type": "stream",
     "text": [
      "\n",
      "Epoch: 256\n"
     ]
    },
    {
     "name": "stderr",
     "output_type": "stream",
     "text": [
      "Epoch : 256: 100%|█████████████████████████████████████████████████████████████████████████████████████████████████████| 782/782 [01:38<00:00,  7.96it/s, Acc=97.3, loss=0.0806]\n",
      "100%|███████████████████████████████████████████████████████████████████████████████████████████████████████████████████| 157/157 [00:06<00:00, 22.63it/s, Acc=90.5, loss=0.413]\n"
     ]
    },
    {
     "name": "stdout",
     "output_type": "stream",
     "text": [
      "\n",
      "Epoch: 257\n"
     ]
    },
    {
     "name": "stderr",
     "output_type": "stream",
     "text": [
      "Epoch : 257: 100%|█████████████████████████████████████████████████████████████████████████████████████████████████████| 782/782 [01:37<00:00,  8.05it/s, Acc=97.4, loss=0.0745]\n",
      "100%|███████████████████████████████████████████████████████████████████████████████████████████████████████████████████| 157/157 [00:06<00:00, 22.61it/s, Acc=90.7, loss=0.411]\n"
     ]
    },
    {
     "name": "stdout",
     "output_type": "stream",
     "text": [
      "\n",
      "Epoch: 258\n"
     ]
    },
    {
     "name": "stderr",
     "output_type": "stream",
     "text": [
      "Epoch : 258: 100%|██████████████████████████████████████████████████████████████████████████████████████████████████████| 782/782 [01:36<00:00,  8.14it/s, Acc=97.4, loss=0.076]\n",
      "100%|███████████████████████████████████████████████████████████████████████████████████████████████████████████████████| 157/157 [00:06<00:00, 22.69it/s, Acc=90.2, loss=0.403]\n"
     ]
    },
    {
     "name": "stdout",
     "output_type": "stream",
     "text": [
      "\n",
      "Epoch: 259\n"
     ]
    },
    {
     "name": "stderr",
     "output_type": "stream",
     "text": [
      "Epoch : 259: 100%|█████████████████████████████████████████████████████████████████████████████████████████████████████| 782/782 [01:38<00:00,  7.98it/s, Acc=97.5, loss=0.0732]\n",
      "100%|███████████████████████████████████████████████████████████████████████████████████████████████████████████████████| 157/157 [00:06<00:00, 22.57it/s, Acc=90.9, loss=0.409]\n"
     ]
    },
    {
     "name": "stdout",
     "output_type": "stream",
     "text": [
      "Saving..\n",
      "\n",
      "Epoch: 260\n"
     ]
    },
    {
     "name": "stderr",
     "output_type": "stream",
     "text": [
      "Epoch : 260: 100%|█████████████████████████████████████████████████████████████████████████████████████████████████████| 782/782 [01:36<00:00,  8.15it/s, Acc=97.6, loss=0.0715]\n",
      "100%|████████████████████████████████████████████████████████████████████████████████████████████████████████████████████| 157/157 [00:06<00:00, 22.52it/s, Acc=90.6, loss=0.44]\n"
     ]
    },
    {
     "name": "stdout",
     "output_type": "stream",
     "text": [
      "\n",
      "Epoch: 261\n"
     ]
    },
    {
     "name": "stderr",
     "output_type": "stream",
     "text": [
      "Epoch : 261: 100%|█████████████████████████████████████████████████████████████████████████████████████████████████████| 782/782 [01:38<00:00,  7.94it/s, Acc=97.5, loss=0.0731]\n",
      "100%|████████████████████████████████████████████████████████████████████████████████████████████████████████████████████| 157/157 [00:07<00:00, 22.38it/s, Acc=90.4, loss=0.41]\n"
     ]
    },
    {
     "name": "stdout",
     "output_type": "stream",
     "text": [
      "\n",
      "Epoch: 262\n"
     ]
    },
    {
     "name": "stderr",
     "output_type": "stream",
     "text": [
      "Epoch : 262: 100%|█████████████████████████████████████████████████████████████████████████████████████████████████████| 782/782 [01:37<00:00,  8.02it/s, Acc=97.4, loss=0.0744]\n",
      "100%|███████████████████████████████████████████████████████████████████████████████████████████████████████████████████| 157/157 [00:06<00:00, 22.53it/s, Acc=90.7, loss=0.403]\n"
     ]
    },
    {
     "name": "stdout",
     "output_type": "stream",
     "text": [
      "\n",
      "Epoch: 263\n"
     ]
    },
    {
     "name": "stderr",
     "output_type": "stream",
     "text": [
      "Epoch : 263: 100%|█████████████████████████████████████████████████████████████████████████████████████████████████████| 782/782 [01:38<00:00,  7.97it/s, Acc=97.4, loss=0.0732]\n",
      "100%|███████████████████████████████████████████████████████████████████████████████████████████████████████████████████| 157/157 [00:06<00:00, 22.57it/s, Acc=90.2, loss=0.423]\n"
     ]
    },
    {
     "name": "stdout",
     "output_type": "stream",
     "text": [
      "\n",
      "Epoch: 264\n"
     ]
    },
    {
     "name": "stderr",
     "output_type": "stream",
     "text": [
      "Epoch : 264: 100%|█████████████████████████████████████████████████████████████████████████████████████████████████████| 782/782 [01:37<00:00,  8.00it/s, Acc=97.6, loss=0.0716]\n",
      "100%|███████████████████████████████████████████████████████████████████████████████████████████████████████████████████| 157/157 [00:06<00:00, 22.43it/s, Acc=90.5, loss=0.413]\n"
     ]
    },
    {
     "name": "stdout",
     "output_type": "stream",
     "text": [
      "\n",
      "Epoch: 265\n"
     ]
    },
    {
     "name": "stderr",
     "output_type": "stream",
     "text": [
      "Epoch : 265: 100%|█████████████████████████████████████████████████████████████████████████████████████████████████████| 782/782 [01:37<00:00,  8.04it/s, Acc=97.5, loss=0.0718]\n",
      "100%|███████████████████████████████████████████████████████████████████████████████████████████████████████████████████| 157/157 [00:07<00:00, 22.43it/s, Acc=90.8, loss=0.421]\n"
     ]
    },
    {
     "name": "stdout",
     "output_type": "stream",
     "text": [
      "\n",
      "Epoch: 266\n"
     ]
    },
    {
     "name": "stderr",
     "output_type": "stream",
     "text": [
      "Epoch : 266: 100%|█████████████████████████████████████████████████████████████████████████████████████████████████████| 782/782 [01:39<00:00,  7.86it/s, Acc=97.5, loss=0.0731]\n",
      "100%|███████████████████████████████████████████████████████████████████████████████████████████████████████████████████| 157/157 [00:07<00:00, 22.04it/s, Acc=90.6, loss=0.406]\n"
     ]
    },
    {
     "name": "stdout",
     "output_type": "stream",
     "text": [
      "\n",
      "Epoch: 267\n"
     ]
    },
    {
     "name": "stderr",
     "output_type": "stream",
     "text": [
      "Epoch : 267: 100%|██████████████████████████████████████████████████████████████████████████████████████████████████████| 782/782 [01:37<00:00,  8.06it/s, Acc=97.5, loss=0.071]\n",
      "100%|███████████████████████████████████████████████████████████████████████████████████████████████████████████████████| 157/157 [00:06<00:00, 22.72it/s, Acc=90.5, loss=0.419]\n"
     ]
    },
    {
     "name": "stdout",
     "output_type": "stream",
     "text": [
      "\n",
      "Epoch: 268\n"
     ]
    },
    {
     "name": "stderr",
     "output_type": "stream",
     "text": [
      "Epoch : 268: 100%|█████████████████████████████████████████████████████████████████████████████████████████████████████| 782/782 [01:38<00:00,  7.95it/s, Acc=97.6, loss=0.0727]\n",
      "100%|███████████████████████████████████████████████████████████████████████████████████████████████████████████████████| 157/157 [00:06<00:00, 22.82it/s, Acc=90.6, loss=0.424]\n"
     ]
    },
    {
     "name": "stdout",
     "output_type": "stream",
     "text": [
      "\n",
      "Epoch: 269\n"
     ]
    },
    {
     "name": "stderr",
     "output_type": "stream",
     "text": [
      "Epoch : 269: 100%|█████████████████████████████████████████████████████████████████████████████████████████████████████| 782/782 [01:38<00:00,  7.96it/s, Acc=97.6, loss=0.0709]\n",
      "100%|███████████████████████████████████████████████████████████████████████████████████████████████████████████████████| 157/157 [00:06<00:00, 23.58it/s, Acc=90.5, loss=0.417]\n"
     ]
    },
    {
     "name": "stdout",
     "output_type": "stream",
     "text": [
      "\n",
      "Epoch: 270\n"
     ]
    },
    {
     "name": "stderr",
     "output_type": "stream",
     "text": [
      "Epoch : 270: 100%|█████████████████████████████████████████████████████████████████████████████████████████████████████| 782/782 [01:36<00:00,  8.10it/s, Acc=97.6, loss=0.0695]\n",
      "100%|███████████████████████████████████████████████████████████████████████████████████████████████████████████████████| 157/157 [00:06<00:00, 22.49it/s, Acc=90.4, loss=0.429]\n"
     ]
    },
    {
     "name": "stdout",
     "output_type": "stream",
     "text": [
      "\n",
      "Epoch: 271\n"
     ]
    },
    {
     "name": "stderr",
     "output_type": "stream",
     "text": [
      "Epoch : 271: 100%|█████████████████████████████████████████████████████████████████████████████████████████████████████| 782/782 [01:38<00:00,  7.93it/s, Acc=97.6, loss=0.0704]\n",
      "100%|███████████████████████████████████████████████████████████████████████████████████████████████████████████████████| 157/157 [00:06<00:00, 22.67it/s, Acc=90.2, loss=0.429]\n"
     ]
    },
    {
     "name": "stdout",
     "output_type": "stream",
     "text": [
      "\n",
      "Epoch: 272\n"
     ]
    },
    {
     "name": "stderr",
     "output_type": "stream",
     "text": [
      "Epoch : 272: 100%|█████████████████████████████████████████████████████████████████████████████████████████████████████| 782/782 [01:36<00:00,  8.11it/s, Acc=97.6, loss=0.0708]\n",
      "100%|███████████████████████████████████████████████████████████████████████████████████████████████████████████████████| 157/157 [00:06<00:00, 22.63it/s, Acc=90.5, loss=0.436]\n"
     ]
    },
    {
     "name": "stdout",
     "output_type": "stream",
     "text": [
      "\n",
      "Epoch: 273\n"
     ]
    },
    {
     "name": "stderr",
     "output_type": "stream",
     "text": [
      "Epoch : 273: 100%|█████████████████████████████████████████████████████████████████████████████████████████████████████| 782/782 [01:39<00:00,  7.90it/s, Acc=97.6, loss=0.0702]\n",
      "100%|███████████████████████████████████████████████████████████████████████████████████████████████████████████████████| 157/157 [00:06<00:00, 22.74it/s, Acc=90.3, loss=0.424]\n"
     ]
    },
    {
     "name": "stdout",
     "output_type": "stream",
     "text": [
      "\n",
      "Epoch: 274\n"
     ]
    },
    {
     "name": "stderr",
     "output_type": "stream",
     "text": [
      "Epoch : 274: 100%|██████████████████████████████████████████████████████████████████████████████████████████████████████| 782/782 [01:35<00:00,  8.15it/s, Acc=97.6, loss=0.069]\n",
      "100%|███████████████████████████████████████████████████████████████████████████████████████████████████████████████████| 157/157 [00:07<00:00, 22.26it/s, Acc=90.4, loss=0.442]\n"
     ]
    },
    {
     "name": "stdout",
     "output_type": "stream",
     "text": [
      "\n",
      "Epoch: 275\n"
     ]
    },
    {
     "name": "stderr",
     "output_type": "stream",
     "text": [
      "Epoch : 275: 100%|█████████████████████████████████████████████████████████████████████████████████████████████████████| 782/782 [01:37<00:00,  8.06it/s, Acc=97.6, loss=0.0687]\n",
      "100%|███████████████████████████████████████████████████████████████████████████████████████████████████████████████████| 157/157 [00:06<00:00, 23.06it/s, Acc=90.6, loss=0.431]\n"
     ]
    },
    {
     "name": "stdout",
     "output_type": "stream",
     "text": [
      "\n",
      "Epoch: 276\n"
     ]
    },
    {
     "name": "stderr",
     "output_type": "stream",
     "text": [
      "Epoch : 276: 100%|█████████████████████████████████████████████████████████████████████████████████████████████████████| 782/782 [01:36<00:00,  8.13it/s, Acc=97.6, loss=0.0694]\n",
      "100%|███████████████████████████████████████████████████████████████████████████████████████████████████████████████████| 157/157 [00:06<00:00, 22.67it/s, Acc=90.4, loss=0.449]\n"
     ]
    },
    {
     "name": "stdout",
     "output_type": "stream",
     "text": [
      "\n",
      "Epoch: 277\n"
     ]
    },
    {
     "name": "stderr",
     "output_type": "stream",
     "text": [
      "Epoch : 277: 100%|█████████████████████████████████████████████████████████████████████████████████████████████████████| 782/782 [01:36<00:00,  8.14it/s, Acc=97.6, loss=0.0702]\n",
      "100%|████████████████████████████████████████████████████████████████████████████████████████████████████████████████████| 157/157 [00:06<00:00, 22.75it/s, Acc=90.7, loss=0.42]\n"
     ]
    },
    {
     "name": "stdout",
     "output_type": "stream",
     "text": [
      "\n",
      "Epoch: 278\n"
     ]
    },
    {
     "name": "stderr",
     "output_type": "stream",
     "text": [
      "Epoch : 278: 100%|█████████████████████████████████████████████████████████████████████████████████████████████████████| 782/782 [01:37<00:00,  8.04it/s, Acc=97.7, loss=0.0673]\n",
      "100%|███████████████████████████████████████████████████████████████████████████████████████████████████████████████████| 157/157 [00:06<00:00, 22.83it/s, Acc=90.2, loss=0.443]\n"
     ]
    },
    {
     "name": "stdout",
     "output_type": "stream",
     "text": [
      "\n",
      "Epoch: 279\n"
     ]
    },
    {
     "name": "stderr",
     "output_type": "stream",
     "text": [
      "Epoch : 279: 100%|██████████████████████████████████████████████████████████████████████████████████████████████████████| 782/782 [01:34<00:00,  8.28it/s, Acc=97.5, loss=0.072]\n",
      "100%|███████████████████████████████████████████████████████████████████████████████████████████████████████████████████| 157/157 [00:06<00:00, 22.85it/s, Acc=90.3, loss=0.461]\n"
     ]
    },
    {
     "name": "stdout",
     "output_type": "stream",
     "text": [
      "\n",
      "Epoch: 280\n"
     ]
    },
    {
     "name": "stderr",
     "output_type": "stream",
     "text": [
      "Epoch : 280: 100%|█████████████████████████████████████████████████████████████████████████████████████████████████████| 782/782 [01:36<00:00,  8.07it/s, Acc=97.6, loss=0.0701]\n",
      "100%|█████████████████████████████████████████████████████████████████████████████████████████████████████████████████████| 157/157 [00:06<00:00, 22.97it/s, Acc=91, loss=0.422]\n"
     ]
    },
    {
     "name": "stdout",
     "output_type": "stream",
     "text": [
      "Saving..\n",
      "\n",
      "Epoch: 281\n"
     ]
    },
    {
     "name": "stderr",
     "output_type": "stream",
     "text": [
      "Epoch : 281: 100%|██████████████████████████████████████████████████████████████████████████████████████████████████████| 782/782 [01:35<00:00,  8.15it/s, Acc=97.5, loss=0.071]\n",
      "100%|███████████████████████████████████████████████████████████████████████████████████████████████████████████████████| 157/157 [00:06<00:00, 22.76it/s, Acc=90.7, loss=0.403]\n"
     ]
    },
    {
     "name": "stdout",
     "output_type": "stream",
     "text": [
      "\n",
      "Epoch: 282\n"
     ]
    },
    {
     "name": "stderr",
     "output_type": "stream",
     "text": [
      "Epoch : 282: 100%|█████████████████████████████████████████████████████████████████████████████████████████████████████| 782/782 [01:37<00:00,  8.01it/s, Acc=97.6, loss=0.0694]\n",
      "100%|███████████████████████████████████████████████████████████████████████████████████████████████████████████████████| 157/157 [00:06<00:00, 22.68it/s, Acc=90.6, loss=0.405]\n"
     ]
    },
    {
     "name": "stdout",
     "output_type": "stream",
     "text": [
      "\n",
      "Epoch: 283\n"
     ]
    },
    {
     "name": "stderr",
     "output_type": "stream",
     "text": [
      "Epoch : 283: 100%|█████████████████████████████████████████████████████████████████████████████████████████████████████| 782/782 [01:36<00:00,  8.08it/s, Acc=97.7, loss=0.0686]\n",
      "100%|███████████████████████████████████████████████████████████████████████████████████████████████████████████████████| 157/157 [00:06<00:00, 22.68it/s, Acc=90.4, loss=0.392]\n"
     ]
    },
    {
     "name": "stdout",
     "output_type": "stream",
     "text": [
      "\n",
      "Epoch: 284\n"
     ]
    },
    {
     "name": "stderr",
     "output_type": "stream",
     "text": [
      "Epoch : 284: 100%|██████████████████████████████████████████████████████████████████████████████████████████████████████| 782/782 [01:36<00:00,  8.13it/s, Acc=97.6, loss=0.071]\n",
      "100%|███████████████████████████████████████████████████████████████████████████████████████████████████████████████████| 157/157 [00:06<00:00, 22.45it/s, Acc=90.8, loss=0.417]\n"
     ]
    },
    {
     "name": "stdout",
     "output_type": "stream",
     "text": [
      "\n",
      "Epoch: 285\n"
     ]
    },
    {
     "name": "stderr",
     "output_type": "stream",
     "text": [
      "Epoch : 285: 100%|█████████████████████████████████████████████████████████████████████████████████████████████████████| 782/782 [01:37<00:00,  8.01it/s, Acc=97.7, loss=0.0686]\n",
      "100%|███████████████████████████████████████████████████████████████████████████████████████████████████████████████████| 157/157 [00:06<00:00, 23.09it/s, Acc=90.2, loss=0.444]\n"
     ]
    },
    {
     "name": "stdout",
     "output_type": "stream",
     "text": [
      "\n",
      "Epoch: 286\n"
     ]
    },
    {
     "name": "stderr",
     "output_type": "stream",
     "text": [
      "Epoch : 286: 100%|█████████████████████████████████████████████████████████████████████████████████████████████████████| 782/782 [01:35<00:00,  8.18it/s, Acc=97.6, loss=0.0704]\n",
      "100%|███████████████████████████████████████████████████████████████████████████████████████████████████████████████████| 157/157 [00:06<00:00, 22.80it/s, Acc=90.6, loss=0.445]\n"
     ]
    },
    {
     "name": "stdout",
     "output_type": "stream",
     "text": [
      "\n",
      "Epoch: 287\n"
     ]
    },
    {
     "name": "stderr",
     "output_type": "stream",
     "text": [
      "Epoch : 287: 100%|██████████████████████████████████████████████████████████████████████████████████████████████████████| 782/782 [01:36<00:00,  8.08it/s, Acc=97.6, loss=0.071]\n",
      "100%|███████████████████████████████████████████████████████████████████████████████████████████████████████████████████| 157/157 [00:06<00:00, 22.69it/s, Acc=90.7, loss=0.409]\n"
     ]
    },
    {
     "name": "stdout",
     "output_type": "stream",
     "text": [
      "\n",
      "Epoch: 288\n"
     ]
    },
    {
     "name": "stderr",
     "output_type": "stream",
     "text": [
      "Epoch : 288: 100%|█████████████████████████████████████████████████████████████████████████████████████████████████████| 782/782 [01:38<00:00,  7.95it/s, Acc=97.6, loss=0.0689]\n",
      "100%|███████████████████████████████████████████████████████████████████████████████████████████████████████████████████| 157/157 [00:06<00:00, 22.79it/s, Acc=90.5, loss=0.439]\n"
     ]
    },
    {
     "name": "stdout",
     "output_type": "stream",
     "text": [
      "\n",
      "Epoch: 289\n"
     ]
    },
    {
     "name": "stderr",
     "output_type": "stream",
     "text": [
      "Epoch : 289: 100%|█████████████████████████████████████████████████████████████████████████████████████████████████████| 782/782 [01:36<00:00,  8.10it/s, Acc=97.7, loss=0.0694]\n",
      "100%|███████████████████████████████████████████████████████████████████████████████████████████████████████████████████| 157/157 [00:06<00:00, 22.45it/s, Acc=90.4, loss=0.428]\n"
     ]
    },
    {
     "name": "stdout",
     "output_type": "stream",
     "text": [
      "\n",
      "Epoch: 290\n"
     ]
    },
    {
     "name": "stderr",
     "output_type": "stream",
     "text": [
      "Epoch : 290: 100%|█████████████████████████████████████████████████████████████████████████████████████████████████████| 782/782 [01:38<00:00,  7.95it/s, Acc=97.7, loss=0.0651]\n",
      "100%|████████████████████████████████████████████████████████████████████████████████████████████████████████████████████| 157/157 [00:06<00:00, 22.56it/s, Acc=90.4, loss=0.45]\n"
     ]
    },
    {
     "name": "stdout",
     "output_type": "stream",
     "text": [
      "\n",
      "Epoch: 291\n"
     ]
    },
    {
     "name": "stderr",
     "output_type": "stream",
     "text": [
      "Epoch : 291: 100%|█████████████████████████████████████████████████████████████████████████████████████████████████████| 782/782 [01:35<00:00,  8.15it/s, Acc=97.7, loss=0.0656]\n",
      "100%|███████████████████████████████████████████████████████████████████████████████████████████████████████████████████| 157/157 [00:06<00:00, 22.62it/s, Acc=90.5, loss=0.407]\n"
     ]
    },
    {
     "name": "stdout",
     "output_type": "stream",
     "text": [
      "\n",
      "Epoch: 292\n"
     ]
    },
    {
     "name": "stderr",
     "output_type": "stream",
     "text": [
      "Epoch : 292: 100%|█████████████████████████████████████████████████████████████████████████████████████████████████████| 782/782 [01:37<00:00,  8.02it/s, Acc=97.6, loss=0.0688]\n",
      "100%|███████████████████████████████████████████████████████████████████████████████████████████████████████████████████| 157/157 [00:06<00:00, 22.72it/s, Acc=90.1, loss=0.453]\n"
     ]
    },
    {
     "name": "stdout",
     "output_type": "stream",
     "text": [
      "\n",
      "Epoch: 293\n"
     ]
    },
    {
     "name": "stderr",
     "output_type": "stream",
     "text": [
      "Epoch : 293: 100%|█████████████████████████████████████████████████████████████████████████████████████████████████████| 782/782 [01:37<00:00,  8.06it/s, Acc=97.6, loss=0.0687]\n",
      "100%|███████████████████████████████████████████████████████████████████████████████████████████████████████████████████| 157/157 [00:06<00:00, 22.80it/s, Acc=90.6, loss=0.445]\n"
     ]
    },
    {
     "name": "stdout",
     "output_type": "stream",
     "text": [
      "\n",
      "Epoch: 294\n"
     ]
    },
    {
     "name": "stderr",
     "output_type": "stream",
     "text": [
      "Epoch : 294: 100%|█████████████████████████████████████████████████████████████████████████████████████████████████████| 782/782 [01:37<00:00,  8.01it/s, Acc=97.7, loss=0.0671]\n",
      "100%|███████████████████████████████████████████████████████████████████████████████████████████████████████████████████| 157/157 [00:06<00:00, 22.59it/s, Acc=90.3, loss=0.437]\n"
     ]
    },
    {
     "name": "stdout",
     "output_type": "stream",
     "text": [
      "\n",
      "Epoch: 295\n"
     ]
    },
    {
     "name": "stderr",
     "output_type": "stream",
     "text": [
      "Epoch : 295: 100%|█████████████████████████████████████████████████████████████████████████████████████████████████████| 782/782 [01:36<00:00,  8.12it/s, Acc=97.7, loss=0.0659]\n",
      "100%|███████████████████████████████████████████████████████████████████████████████████████████████████████████████████| 157/157 [00:06<00:00, 22.79it/s, Acc=90.4, loss=0.453]\n"
     ]
    },
    {
     "name": "stdout",
     "output_type": "stream",
     "text": [
      "\n",
      "Epoch: 296\n"
     ]
    },
    {
     "name": "stderr",
     "output_type": "stream",
     "text": [
      "Epoch : 296: 100%|█████████████████████████████████████████████████████████████████████████████████████████████████████| 782/782 [01:36<00:00,  8.12it/s, Acc=97.8, loss=0.0654]\n",
      "100%|████████████████████████████████████████████████████████████████████████████████████████████████████████████████████| 157/157 [00:06<00:00, 22.66it/s, Acc=90.4, loss=0.43]\n"
     ]
    },
    {
     "name": "stdout",
     "output_type": "stream",
     "text": [
      "\n",
      "Epoch: 297\n"
     ]
    },
    {
     "name": "stderr",
     "output_type": "stream",
     "text": [
      "Epoch : 297: 100%|█████████████████████████████████████████████████████████████████████████████████████████████████████| 782/782 [01:37<00:00,  8.04it/s, Acc=97.7, loss=0.0678]\n",
      "100%|███████████████████████████████████████████████████████████████████████████████████████████████████████████████████| 157/157 [00:06<00:00, 22.88it/s, Acc=90.5, loss=0.422]\n"
     ]
    },
    {
     "name": "stdout",
     "output_type": "stream",
     "text": [
      "\n",
      "Epoch: 298\n"
     ]
    },
    {
     "name": "stderr",
     "output_type": "stream",
     "text": [
      "Epoch : 298: 100%|██████████████████████████████████████████████████████████████████████████████████████████████████████| 782/782 [01:35<00:00,  8.22it/s, Acc=97.8, loss=0.066]\n",
      "100%|███████████████████████████████████████████████████████████████████████████████████████████████████████████████████| 157/157 [00:06<00:00, 22.68it/s, Acc=90.6, loss=0.427]\n"
     ]
    },
    {
     "name": "stdout",
     "output_type": "stream",
     "text": [
      "\n",
      "Epoch: 299\n"
     ]
    },
    {
     "name": "stderr",
     "output_type": "stream",
     "text": [
      "Epoch : 299: 100%|█████████████████████████████████████████████████████████████████████████████████████████████████████| 782/782 [01:37<00:00,  8.00it/s, Acc=97.9, loss=0.0628]\n",
      "100%|███████████████████████████████████████████████████████████████████████████████████████████████████████████████████| 157/157 [00:06<00:00, 22.44it/s, Acc=90.7, loss=0.437]\n"
     ]
    },
    {
     "name": "stdout",
     "output_type": "stream",
     "text": [
      "\n",
      "Epoch: 300\n"
     ]
    },
    {
     "name": "stderr",
     "output_type": "stream",
     "text": [
      "Epoch : 300: 100%|█████████████████████████████████████████████████████████████████████████████████████████████████████| 782/782 [01:37<00:00,  8.00it/s, Acc=97.8, loss=0.0649]\n",
      "100%|████████████████████████████████████████████████████████████████████████████████████████████████████████████████████| 157/157 [00:06<00:00, 23.70it/s, Acc=90.8, loss=0.42]\n"
     ]
    },
    {
     "name": "stdout",
     "output_type": "stream",
     "text": [
      "\n",
      "Epoch: 301\n"
     ]
    },
    {
     "name": "stderr",
     "output_type": "stream",
     "text": [
      "Epoch : 301: 100%|██████████████████████████████████████████████████████████████████████████████████████████████████████| 782/782 [01:35<00:00,  8.15it/s, Acc=97.7, loss=0.068]\n",
      "100%|███████████████████████████████████████████████████████████████████████████████████████████████████████████████████| 157/157 [00:06<00:00, 22.75it/s, Acc=90.7, loss=0.406]\n"
     ]
    },
    {
     "name": "stdout",
     "output_type": "stream",
     "text": [
      "\n",
      "Epoch: 302\n"
     ]
    },
    {
     "name": "stderr",
     "output_type": "stream",
     "text": [
      "Epoch : 302: 100%|█████████████████████████████████████████████████████████████████████████████████████████████████████| 782/782 [01:37<00:00,  8.02it/s, Acc=97.7, loss=0.0651]\n",
      "100%|███████████████████████████████████████████████████████████████████████████████████████████████████████████████████| 157/157 [00:06<00:00, 22.70it/s, Acc=90.8, loss=0.421]\n"
     ]
    },
    {
     "name": "stdout",
     "output_type": "stream",
     "text": [
      "\n",
      "Epoch: 303\n"
     ]
    },
    {
     "name": "stderr",
     "output_type": "stream",
     "text": [
      "Epoch : 303: 100%|█████████████████████████████████████████████████████████████████████████████████████████████████████| 782/782 [01:34<00:00,  8.26it/s, Acc=97.7, loss=0.0673]\n",
      "100%|███████████████████████████████████████████████████████████████████████████████████████████████████████████████████| 157/157 [00:06<00:00, 22.60it/s, Acc=90.8, loss=0.434]\n"
     ]
    },
    {
     "name": "stdout",
     "output_type": "stream",
     "text": [
      "\n",
      "Epoch: 304\n"
     ]
    },
    {
     "name": "stderr",
     "output_type": "stream",
     "text": [
      "Epoch : 304: 100%|█████████████████████████████████████████████████████████████████████████████████████████████████████| 782/782 [01:35<00:00,  8.20it/s, Acc=97.8, loss=0.0633]\n",
      "100%|███████████████████████████████████████████████████████████████████████████████████████████████████████████████████| 157/157 [00:06<00:00, 23.06it/s, Acc=90.5, loss=0.426]\n"
     ]
    },
    {
     "name": "stdout",
     "output_type": "stream",
     "text": [
      "\n",
      "Epoch: 305\n"
     ]
    },
    {
     "name": "stderr",
     "output_type": "stream",
     "text": [
      "Epoch : 305: 100%|█████████████████████████████████████████████████████████████████████████████████████████████████████| 782/782 [01:33<00:00,  8.33it/s, Acc=97.8, loss=0.0654]\n",
      "100%|███████████████████████████████████████████████████████████████████████████████████████████████████████████████████| 157/157 [00:06<00:00, 22.66it/s, Acc=90.8, loss=0.438]\n"
     ]
    },
    {
     "name": "stdout",
     "output_type": "stream",
     "text": [
      "\n",
      "Epoch: 306\n"
     ]
    },
    {
     "name": "stderr",
     "output_type": "stream",
     "text": [
      "Epoch : 306: 100%|█████████████████████████████████████████████████████████████████████████████████████████████████████| 782/782 [01:37<00:00,  8.00it/s, Acc=97.8, loss=0.0618]\n",
      "100%|█████████████████████████████████████████████████████████████████████████████████████████████████████████████████████| 157/157 [00:06<00:00, 22.61it/s, Acc=91, loss=0.417]\n"
     ]
    },
    {
     "name": "stdout",
     "output_type": "stream",
     "text": [
      "Saving..\n",
      "\n",
      "Epoch: 307\n"
     ]
    },
    {
     "name": "stderr",
     "output_type": "stream",
     "text": [
      "Epoch : 307: 100%|█████████████████████████████████████████████████████████████████████████████████████████████████████| 782/782 [01:35<00:00,  8.19it/s, Acc=97.9, loss=0.0651]\n",
      "100%|███████████████████████████████████████████████████████████████████████████████████████████████████████████████████| 157/157 [00:06<00:00, 22.77it/s, Acc=90.8, loss=0.414]\n"
     ]
    },
    {
     "name": "stdout",
     "output_type": "stream",
     "text": [
      "\n",
      "Epoch: 308\n"
     ]
    },
    {
     "name": "stderr",
     "output_type": "stream",
     "text": [
      "Epoch : 308: 100%|█████████████████████████████████████████████████████████████████████████████████████████████████████| 782/782 [01:34<00:00,  8.23it/s, Acc=97.9, loss=0.0635]\n",
      "100%|███████████████████████████████████████████████████████████████████████████████████████████████████████████████████| 157/157 [00:06<00:00, 23.06it/s, Acc=90.7, loss=0.422]\n"
     ]
    },
    {
     "name": "stdout",
     "output_type": "stream",
     "text": [
      "\n",
      "Epoch: 309\n"
     ]
    },
    {
     "name": "stderr",
     "output_type": "stream",
     "text": [
      "Epoch : 309: 100%|█████████████████████████████████████████████████████████████████████████████████████████████████████| 782/782 [01:37<00:00,  7.98it/s, Acc=97.8, loss=0.0652]\n",
      "100%|███████████████████████████████████████████████████████████████████████████████████████████████████████████████████| 157/157 [00:07<00:00, 21.80it/s, Acc=90.5, loss=0.455]\n"
     ]
    },
    {
     "name": "stdout",
     "output_type": "stream",
     "text": [
      "\n",
      "Epoch: 310\n"
     ]
    },
    {
     "name": "stderr",
     "output_type": "stream",
     "text": [
      "Epoch : 310: 100%|█████████████████████████████████████████████████████████████████████████████████████████████████████| 782/782 [01:37<00:00,  8.05it/s, Acc=97.9, loss=0.0626]\n",
      "100%|███████████████████████████████████████████████████████████████████████████████████████████████████████████████████| 157/157 [00:06<00:00, 22.45it/s, Acc=90.9, loss=0.429]\n"
     ]
    },
    {
     "name": "stdout",
     "output_type": "stream",
     "text": [
      "\n",
      "Epoch: 311\n"
     ]
    },
    {
     "name": "stderr",
     "output_type": "stream",
     "text": [
      "Epoch : 311: 100%|███████████████████████████████████████████████████████████████████████████████████████████████████████| 782/782 [01:37<00:00,  8.01it/s, Acc=98, loss=0.0606]\n",
      "100%|███████████████████████████████████████████████████████████████████████████████████████████████████████████████████| 157/157 [00:07<00:00, 22.20it/s, Acc=90.3, loss=0.448]\n"
     ]
    },
    {
     "name": "stdout",
     "output_type": "stream",
     "text": [
      "\n",
      "Epoch: 312\n"
     ]
    },
    {
     "name": "stderr",
     "output_type": "stream",
     "text": [
      "Epoch : 312: 100%|█████████████████████████████████████████████████████████████████████████████████████████████████████| 782/782 [01:36<00:00,  8.13it/s, Acc=97.8, loss=0.0648]\n",
      "100%|███████████████████████████████████████████████████████████████████████████████████████████████████████████████████| 157/157 [00:06<00:00, 23.19it/s, Acc=90.3, loss=0.447]\n"
     ]
    },
    {
     "name": "stdout",
     "output_type": "stream",
     "text": [
      "\n",
      "Epoch: 313\n"
     ]
    },
    {
     "name": "stderr",
     "output_type": "stream",
     "text": [
      "Epoch : 313: 100%|██████████████████████████████████████████████████████████████████████████████████████████████████████| 782/782 [01:37<00:00,  7.99it/s, Acc=97.8, loss=0.064]\n",
      "100%|███████████████████████████████████████████████████████████████████████████████████████████████████████████████████| 157/157 [00:06<00:00, 22.63it/s, Acc=90.2, loss=0.415]\n"
     ]
    },
    {
     "name": "stdout",
     "output_type": "stream",
     "text": [
      "\n",
      "Epoch: 314\n"
     ]
    },
    {
     "name": "stderr",
     "output_type": "stream",
     "text": [
      "Epoch : 314: 100%|█████████████████████████████████████████████████████████████████████████████████████████████████████| 782/782 [01:39<00:00,  7.90it/s, Acc=97.9, loss=0.0639]\n",
      "100%|███████████████████████████████████████████████████████████████████████████████████████████████████████████████████| 157/157 [00:06<00:00, 22.72it/s, Acc=90.5, loss=0.433]\n"
     ]
    },
    {
     "name": "stdout",
     "output_type": "stream",
     "text": [
      "\n",
      "Epoch: 315\n"
     ]
    },
    {
     "name": "stderr",
     "output_type": "stream",
     "text": [
      "Epoch : 315: 100%|█████████████████████████████████████████████████████████████████████████████████████████████████████| 782/782 [01:35<00:00,  8.23it/s, Acc=97.9, loss=0.0625]\n",
      "100%|███████████████████████████████████████████████████████████████████████████████████████████████████████████████████| 157/157 [00:06<00:00, 22.72it/s, Acc=90.9, loss=0.431]\n"
     ]
    },
    {
     "name": "stdout",
     "output_type": "stream",
     "text": [
      "\n",
      "Epoch: 316\n"
     ]
    },
    {
     "name": "stderr",
     "output_type": "stream",
     "text": [
      "Epoch : 316: 100%|█████████████████████████████████████████████████████████████████████████████████████████████████████| 782/782 [01:33<00:00,  8.36it/s, Acc=97.9, loss=0.0612]\n",
      "100%|███████████████████████████████████████████████████████████████████████████████████████████████████████████████████| 157/157 [00:06<00:00, 23.29it/s, Acc=90.8, loss=0.425]\n"
     ]
    },
    {
     "name": "stdout",
     "output_type": "stream",
     "text": [
      "\n",
      "Epoch: 317\n"
     ]
    },
    {
     "name": "stderr",
     "output_type": "stream",
     "text": [
      "Epoch : 317: 100%|█████████████████████████████████████████████████████████████████████████████████████████████████████| 782/782 [01:35<00:00,  8.18it/s, Acc=97.9, loss=0.0619]\n",
      "100%|███████████████████████████████████████████████████████████████████████████████████████████████████████████████████| 157/157 [00:07<00:00, 22.39it/s, Acc=90.3, loss=0.441]\n"
     ]
    },
    {
     "name": "stdout",
     "output_type": "stream",
     "text": [
      "\n",
      "Epoch: 318\n"
     ]
    },
    {
     "name": "stderr",
     "output_type": "stream",
     "text": [
      "Epoch : 318: 100%|█████████████████████████████████████████████████████████████████████████████████████████████████████| 782/782 [01:38<00:00,  7.95it/s, Acc=97.8, loss=0.0633]\n",
      "100%|███████████████████████████████████████████████████████████████████████████████████████████████████████████████████| 157/157 [00:06<00:00, 22.55it/s, Acc=90.7, loss=0.443]\n"
     ]
    },
    {
     "name": "stdout",
     "output_type": "stream",
     "text": [
      "\n",
      "Epoch: 319\n"
     ]
    },
    {
     "name": "stderr",
     "output_type": "stream",
     "text": [
      "Epoch : 319: 100%|███████████████████████████████████████████████████████████████████████████████████████████████████████| 782/782 [01:37<00:00,  8.00it/s, Acc=98, loss=0.0607]\n",
      "100%|███████████████████████████████████████████████████████████████████████████████████████████████████████████████████| 157/157 [00:06<00:00, 22.75it/s, Acc=90.7, loss=0.436]\n"
     ]
    },
    {
     "name": "stdout",
     "output_type": "stream",
     "text": [
      "\n",
      "Epoch: 320\n"
     ]
    },
    {
     "name": "stderr",
     "output_type": "stream",
     "text": [
      "Epoch : 320: 100%|█████████████████████████████████████████████████████████████████████████████████████████████████████| 782/782 [01:35<00:00,  8.23it/s, Acc=97.8, loss=0.0655]\n",
      "100%|███████████████████████████████████████████████████████████████████████████████████████████████████████████████████| 157/157 [00:06<00:00, 22.73it/s, Acc=90.2, loss=0.429]\n"
     ]
    },
    {
     "name": "stdout",
     "output_type": "stream",
     "text": [
      "\n",
      "Epoch: 321\n"
     ]
    },
    {
     "name": "stderr",
     "output_type": "stream",
     "text": [
      "Epoch : 321: 100%|█████████████████████████████████████████████████████████████████████████████████████████████████████| 782/782 [01:38<00:00,  7.97it/s, Acc=97.9, loss=0.0622]\n",
      "100%|███████████████████████████████████████████████████████████████████████████████████████████████████████████████████| 157/157 [00:07<00:00, 22.17it/s, Acc=90.6, loss=0.423]\n"
     ]
    },
    {
     "name": "stdout",
     "output_type": "stream",
     "text": [
      "\n",
      "Epoch: 322\n"
     ]
    },
    {
     "name": "stderr",
     "output_type": "stream",
     "text": [
      "Epoch : 322: 100%|█████████████████████████████████████████████████████████████████████████████████████████████████████| 782/782 [01:36<00:00,  8.13it/s, Acc=97.9, loss=0.0634]\n",
      "100%|███████████████████████████████████████████████████████████████████████████████████████████████████████████████████| 157/157 [00:06<00:00, 22.53it/s, Acc=90.7, loss=0.428]\n"
     ]
    },
    {
     "name": "stdout",
     "output_type": "stream",
     "text": [
      "\n",
      "Epoch: 323\n"
     ]
    },
    {
     "name": "stderr",
     "output_type": "stream",
     "text": [
      "Epoch : 323: 100%|█████████████████████████████████████████████████████████████████████████████████████████████████████| 782/782 [01:37<00:00,  7.99it/s, Acc=97.9, loss=0.0634]\n",
      "100%|███████████████████████████████████████████████████████████████████████████████████████████████████████████████████| 157/157 [00:06<00:00, 22.85it/s, Acc=90.6, loss=0.432]\n"
     ]
    },
    {
     "name": "stdout",
     "output_type": "stream",
     "text": [
      "\n",
      "Epoch: 324\n"
     ]
    },
    {
     "name": "stderr",
     "output_type": "stream",
     "text": [
      "Epoch : 324: 100%|███████████████████████████████████████████████████████████████████████████████████████████████████████| 782/782 [01:36<00:00,  8.07it/s, Acc=98, loss=0.0619]\n",
      "100%|███████████████████████████████████████████████████████████████████████████████████████████████████████████████████| 157/157 [00:06<00:00, 23.86it/s, Acc=90.5, loss=0.423]\n"
     ]
    },
    {
     "name": "stdout",
     "output_type": "stream",
     "text": [
      "\n",
      "Epoch: 325\n"
     ]
    },
    {
     "name": "stderr",
     "output_type": "stream",
     "text": [
      "Epoch : 325: 100%|███████████████████████████████████████████████████████████████████████████████████████████████████████| 782/782 [01:38<00:00,  7.96it/s, Acc=98, loss=0.0588]\n",
      "100%|███████████████████████████████████████████████████████████████████████████████████████████████████████████████████| 157/157 [00:07<00:00, 22.05it/s, Acc=90.8, loss=0.418]\n"
     ]
    },
    {
     "name": "stdout",
     "output_type": "stream",
     "text": [
      "\n",
      "Epoch: 326\n"
     ]
    },
    {
     "name": "stderr",
     "output_type": "stream",
     "text": [
      "Epoch : 326: 100%|█████████████████████████████████████████████████████████████████████████████████████████████████████| 782/782 [01:38<00:00,  7.96it/s, Acc=97.8, loss=0.0635]\n",
      "100%|███████████████████████████████████████████████████████████████████████████████████████████████████████████████████| 157/157 [00:06<00:00, 23.03it/s, Acc=90.3, loss=0.432]\n"
     ]
    },
    {
     "name": "stdout",
     "output_type": "stream",
     "text": [
      "\n",
      "Epoch: 327\n"
     ]
    },
    {
     "name": "stderr",
     "output_type": "stream",
     "text": [
      "Epoch : 327: 100%|███████████████████████████████████████████████████████████████████████████████████████████████████████| 782/782 [01:36<00:00,  8.10it/s, Acc=98, loss=0.0592]\n",
      "100%|███████████████████████████████████████████████████████████████████████████████████████████████████████████████████| 157/157 [00:06<00:00, 22.62it/s, Acc=90.9, loss=0.427]\n"
     ]
    },
    {
     "name": "stdout",
     "output_type": "stream",
     "text": [
      "\n",
      "Epoch: 328\n"
     ]
    },
    {
     "name": "stderr",
     "output_type": "stream",
     "text": [
      "Epoch : 328: 100%|█████████████████████████████████████████████████████████████████████████████████████████████████████| 782/782 [01:38<00:00,  7.96it/s, Acc=97.9, loss=0.0622]\n",
      "100%|███████████████████████████████████████████████████████████████████████████████████████████████████████████████████| 157/157 [00:06<00:00, 23.24it/s, Acc=90.4, loss=0.428]\n"
     ]
    },
    {
     "name": "stdout",
     "output_type": "stream",
     "text": [
      "\n",
      "Epoch: 329\n"
     ]
    },
    {
     "name": "stderr",
     "output_type": "stream",
     "text": [
      "Epoch : 329: 100%|█████████████████████████████████████████████████████████████████████████████████████████████████████| 782/782 [01:34<00:00,  8.26it/s, Acc=97.9, loss=0.0605]\n",
      "100%|███████████████████████████████████████████████████████████████████████████████████████████████████████████████████| 157/157 [00:07<00:00, 22.33it/s, Acc=90.5, loss=0.441]\n"
     ]
    },
    {
     "name": "stdout",
     "output_type": "stream",
     "text": [
      "\n",
      "Epoch: 330\n"
     ]
    },
    {
     "name": "stderr",
     "output_type": "stream",
     "text": [
      "Epoch : 330: 100%|█████████████████████████████████████████████████████████████████████████████████████████████████████| 782/782 [01:38<00:00,  7.93it/s, Acc=97.9, loss=0.0631]\n",
      "100%|███████████████████████████████████████████████████████████████████████████████████████████████████████████████████| 157/157 [00:06<00:00, 22.59it/s, Acc=90.6, loss=0.436]\n"
     ]
    },
    {
     "name": "stdout",
     "output_type": "stream",
     "text": [
      "\n",
      "Epoch: 331\n"
     ]
    },
    {
     "name": "stderr",
     "output_type": "stream",
     "text": [
      "Epoch : 331: 100%|█████████████████████████████████████████████████████████████████████████████████████████████████████| 782/782 [01:36<00:00,  8.07it/s, Acc=97.9, loss=0.0614]\n",
      "100%|███████████████████████████████████████████████████████████████████████████████████████████████████████████████████| 157/157 [00:06<00:00, 23.93it/s, Acc=90.6, loss=0.434]\n"
     ]
    },
    {
     "name": "stdout",
     "output_type": "stream",
     "text": [
      "\n",
      "Epoch: 332\n"
     ]
    },
    {
     "name": "stderr",
     "output_type": "stream",
     "text": [
      "Epoch : 332: 100%|███████████████████████████████████████████████████████████████████████████████████████████████████████| 782/782 [01:36<00:00,  8.11it/s, Acc=98, loss=0.0578]\n",
      "100%|███████████████████████████████████████████████████████████████████████████████████████████████████████████████████| 157/157 [00:06<00:00, 23.03it/s, Acc=90.4, loss=0.458]\n"
     ]
    },
    {
     "name": "stdout",
     "output_type": "stream",
     "text": [
      "\n",
      "Epoch: 333\n"
     ]
    },
    {
     "name": "stderr",
     "output_type": "stream",
     "text": [
      "Epoch : 333: 100%|█████████████████████████████████████████████████████████████████████████████████████████████████████| 782/782 [01:36<00:00,  8.08it/s, Acc=97.9, loss=0.0614]\n",
      "100%|███████████████████████████████████████████████████████████████████████████████████████████████████████████████████| 157/157 [00:06<00:00, 23.36it/s, Acc=90.7, loss=0.444]\n"
     ]
    },
    {
     "name": "stdout",
     "output_type": "stream",
     "text": [
      "\n",
      "Epoch: 334\n"
     ]
    },
    {
     "name": "stderr",
     "output_type": "stream",
     "text": [
      "Epoch : 334: 100%|███████████████████████████████████████████████████████████████████████████████████████████████████████| 782/782 [01:34<00:00,  8.25it/s, Acc=98, loss=0.0584]\n",
      "100%|████████████████████████████████████████████████████████████████████████████████████████████████████████████████████| 157/157 [00:06<00:00, 23.13it/s, Acc=90.2, loss=0.45]\n"
     ]
    },
    {
     "name": "stdout",
     "output_type": "stream",
     "text": [
      "\n",
      "Epoch: 335\n"
     ]
    },
    {
     "name": "stderr",
     "output_type": "stream",
     "text": [
      "Epoch : 335: 100%|███████████████████████████████████████████████████████████████████████████████████████████████████████| 782/782 [01:35<00:00,  8.15it/s, Acc=98, loss=0.0617]\n",
      "100%|███████████████████████████████████████████████████████████████████████████████████████████████████████████████████| 157/157 [00:06<00:00, 22.60it/s, Acc=90.4, loss=0.429]\n"
     ]
    },
    {
     "name": "stdout",
     "output_type": "stream",
     "text": [
      "\n",
      "Epoch: 336\n"
     ]
    },
    {
     "name": "stderr",
     "output_type": "stream",
     "text": [
      "Epoch : 336: 100%|███████████████████████████████████████████████████████████████████████████████████████████████████████| 782/782 [01:34<00:00,  8.26it/s, Acc=98, loss=0.0592]\n",
      "100%|███████████████████████████████████████████████████████████████████████████████████████████████████████████████████| 157/157 [00:06<00:00, 22.77it/s, Acc=90.5, loss=0.433]\n"
     ]
    },
    {
     "name": "stdout",
     "output_type": "stream",
     "text": [
      "\n",
      "Epoch: 337\n"
     ]
    },
    {
     "name": "stderr",
     "output_type": "stream",
     "text": [
      "Epoch : 337: 100%|███████████████████████████████████████████████████████████████████████████████████████████████████████| 782/782 [01:36<00:00,  8.14it/s, Acc=98, loss=0.0587]\n",
      "100%|███████████████████████████████████████████████████████████████████████████████████████████████████████████████████| 157/157 [00:06<00:00, 23.11it/s, Acc=90.5, loss=0.449]\n"
     ]
    },
    {
     "name": "stdout",
     "output_type": "stream",
     "text": [
      "\n",
      "Epoch: 338\n"
     ]
    },
    {
     "name": "stderr",
     "output_type": "stream",
     "text": [
      "Epoch : 338: 100%|███████████████████████████████████████████████████████████████████████████████████████████████████████| 782/782 [01:36<00:00,  8.12it/s, Acc=98, loss=0.0579]\n",
      "100%|███████████████████████████████████████████████████████████████████████████████████████████████████████████████████| 157/157 [00:06<00:00, 22.91it/s, Acc=90.7, loss=0.424]\n"
     ]
    },
    {
     "name": "stdout",
     "output_type": "stream",
     "text": [
      "\n",
      "Epoch: 339\n"
     ]
    },
    {
     "name": "stderr",
     "output_type": "stream",
     "text": [
      "Epoch : 339: 100%|████████████████████████████████████████████████████████████████████████████████████████████████████████| 782/782 [01:35<00:00,  8.18it/s, Acc=98, loss=0.057]\n",
      "100%|█████████████████████████████████████████████████████████████████████████████████████████████████████████████████████| 157/157 [00:06<00:00, 22.67it/s, Acc=91, loss=0.445]\n"
     ]
    },
    {
     "name": "stdout",
     "output_type": "stream",
     "text": [
      "Saving..\n",
      "\n",
      "Epoch: 340\n"
     ]
    },
    {
     "name": "stderr",
     "output_type": "stream",
     "text": [
      "Epoch : 340: 100%|█████████████████████████████████████████████████████████████████████████████████████████████████████| 782/782 [01:37<00:00,  8.05it/s, Acc=97.9, loss=0.0601]\n",
      "100%|███████████████████████████████████████████████████████████████████████████████████████████████████████████████████| 157/157 [00:06<00:00, 22.61it/s, Acc=90.5, loss=0.412]\n"
     ]
    },
    {
     "name": "stdout",
     "output_type": "stream",
     "text": [
      "\n",
      "Epoch: 341\n"
     ]
    },
    {
     "name": "stderr",
     "output_type": "stream",
     "text": [
      "Epoch : 341: 100%|█████████████████████████████████████████████████████████████████████████████████████████████████████| 782/782 [01:35<00:00,  8.16it/s, Acc=98.1, loss=0.0568]\n",
      "100%|███████████████████████████████████████████████████████████████████████████████████████████████████████████████████| 157/157 [00:07<00:00, 22.43it/s, Acc=91.3, loss=0.435]\n"
     ]
    },
    {
     "name": "stdout",
     "output_type": "stream",
     "text": [
      "Saving..\n",
      "\n",
      "Epoch: 342\n"
     ]
    },
    {
     "name": "stderr",
     "output_type": "stream",
     "text": [
      "Epoch : 342: 100%|████████████████████████████████████████████████████████████████████████████████████████████████████████| 782/782 [01:35<00:00,  8.19it/s, Acc=98, loss=0.057]\n",
      "100%|███████████████████████████████████████████████████████████████████████████████████████████████████████████████████| 157/157 [00:06<00:00, 23.32it/s, Acc=90.7, loss=0.462]\n"
     ]
    },
    {
     "name": "stdout",
     "output_type": "stream",
     "text": [
      "\n",
      "Epoch: 343\n"
     ]
    },
    {
     "name": "stderr",
     "output_type": "stream",
     "text": [
      "Epoch : 343: 100%|█████████████████████████████████████████████████████████████████████████████████████████████████████| 782/782 [01:33<00:00,  8.35it/s, Acc=98.1, loss=0.0584]\n",
      "100%|███████████████████████████████████████████████████████████████████████████████████████████████████████████████████| 157/157 [00:06<00:00, 23.51it/s, Acc=90.3, loss=0.478]\n"
     ]
    },
    {
     "name": "stdout",
     "output_type": "stream",
     "text": [
      "\n",
      "Epoch: 344\n"
     ]
    },
    {
     "name": "stderr",
     "output_type": "stream",
     "text": [
      "Epoch : 344: 100%|███████████████████████████████████████████████████████████████████████████████████████████████████████| 782/782 [01:36<00:00,  8.14it/s, Acc=98, loss=0.0607]\n",
      "100%|███████████████████████████████████████████████████████████████████████████████████████████████████████████████████| 157/157 [00:06<00:00, 22.68it/s, Acc=90.6, loss=0.441]\n"
     ]
    },
    {
     "name": "stdout",
     "output_type": "stream",
     "text": [
      "\n",
      "Epoch: 345\n"
     ]
    },
    {
     "name": "stderr",
     "output_type": "stream",
     "text": [
      "Epoch : 345: 100%|██████████████████████████████████████████████████████████████████████████████████████████████████████| 782/782 [01:37<00:00,  7.98it/s, Acc=98.1, loss=0.057]\n",
      "100%|███████████████████████████████████████████████████████████████████████████████████████████████████████████████████| 157/157 [00:06<00:00, 22.86it/s, Acc=90.7, loss=0.434]\n"
     ]
    },
    {
     "name": "stdout",
     "output_type": "stream",
     "text": [
      "\n",
      "Epoch: 346\n"
     ]
    },
    {
     "name": "stderr",
     "output_type": "stream",
     "text": [
      "Epoch : 346: 100%|█████████████████████████████████████████████████████████████████████████████████████████████████████| 782/782 [01:33<00:00,  8.33it/s, Acc=98.1, loss=0.0568]\n",
      "100%|███████████████████████████████████████████████████████████████████████████████████████████████████████████████████| 157/157 [00:06<00:00, 22.78it/s, Acc=90.2, loss=0.423]\n"
     ]
    },
    {
     "name": "stdout",
     "output_type": "stream",
     "text": [
      "\n",
      "Epoch: 347\n"
     ]
    },
    {
     "name": "stderr",
     "output_type": "stream",
     "text": [
      "Epoch : 347: 100%|███████████████████████████████████████████████████████████████████████████████████████████████████████| 782/782 [01:37<00:00,  8.04it/s, Acc=98, loss=0.0585]\n",
      "100%|███████████████████████████████████████████████████████████████████████████████████████████████████████████████████| 157/157 [00:07<00:00, 21.86it/s, Acc=90.6, loss=0.451]\n"
     ]
    },
    {
     "name": "stdout",
     "output_type": "stream",
     "text": [
      "\n",
      "Epoch: 348\n"
     ]
    },
    {
     "name": "stderr",
     "output_type": "stream",
     "text": [
      "Epoch : 348: 100%|███████████████████████████████████████████████████████████████████████████████████████████████████████| 782/782 [01:36<00:00,  8.07it/s, Acc=98, loss=0.0603]\n",
      "100%|███████████████████████████████████████████████████████████████████████████████████████████████████████████████████| 157/157 [00:06<00:00, 24.34it/s, Acc=90.4, loss=0.442]\n"
     ]
    },
    {
     "name": "stdout",
     "output_type": "stream",
     "text": [
      "\n",
      "Epoch: 349\n"
     ]
    },
    {
     "name": "stderr",
     "output_type": "stream",
     "text": [
      "Epoch : 349: 100%|█████████████████████████████████████████████████████████████████████████████████████████████████████| 782/782 [01:36<00:00,  8.10it/s, Acc=98.1, loss=0.0562]\n",
      "100%|███████████████████████████████████████████████████████████████████████████████████████████████████████████████████| 157/157 [00:06<00:00, 22.83it/s, Acc=90.8, loss=0.433]\n"
     ]
    },
    {
     "name": "stdout",
     "output_type": "stream",
     "text": [
      "\n",
      "Epoch: 350\n"
     ]
    },
    {
     "name": "stderr",
     "output_type": "stream",
     "text": [
      "Epoch : 350: 100%|█████████████████████████████████████████████████████████████████████████████████████████████████████| 782/782 [01:39<00:00,  7.89it/s, Acc=98.1, loss=0.0549]\n",
      "100%|███████████████████████████████████████████████████████████████████████████████████████████████████████████████████| 157/157 [00:06<00:00, 22.56it/s, Acc=90.6, loss=0.442]\n"
     ]
    },
    {
     "name": "stdout",
     "output_type": "stream",
     "text": [
      "\n",
      "Epoch: 351\n"
     ]
    },
    {
     "name": "stderr",
     "output_type": "stream",
     "text": [
      "Epoch : 351: 100%|█████████████████████████████████████████████████████████████████████████████████████████████████████| 782/782 [01:35<00:00,  8.20it/s, Acc=98.1, loss=0.0588]\n",
      "100%|███████████████████████████████████████████████████████████████████████████████████████████████████████████████████| 157/157 [00:07<00:00, 22.27it/s, Acc=90.8, loss=0.441]\n"
     ]
    },
    {
     "name": "stdout",
     "output_type": "stream",
     "text": [
      "\n",
      "Epoch: 352\n"
     ]
    },
    {
     "name": "stderr",
     "output_type": "stream",
     "text": [
      "Epoch : 352: 100%|███████████████████████████████████████████████████████████████████████████████████████████████████████| 782/782 [01:38<00:00,  7.96it/s, Acc=98, loss=0.0593]\n",
      "100%|███████████████████████████████████████████████████████████████████████████████████████████████████████████████████| 157/157 [00:06<00:00, 22.47it/s, Acc=90.5, loss=0.454]\n"
     ]
    },
    {
     "name": "stdout",
     "output_type": "stream",
     "text": [
      "\n",
      "Epoch: 353\n"
     ]
    },
    {
     "name": "stderr",
     "output_type": "stream",
     "text": [
      "Epoch : 353: 100%|█████████████████████████████████████████████████████████████████████████████████████████████████████| 782/782 [01:35<00:00,  8.15it/s, Acc=98.2, loss=0.0544]\n",
      "100%|███████████████████████████████████████████████████████████████████████████████████████████████████████████████████| 157/157 [00:06<00:00, 22.60it/s, Acc=90.7, loss=0.444]\n"
     ]
    },
    {
     "name": "stdout",
     "output_type": "stream",
     "text": [
      "\n",
      "Epoch: 354\n"
     ]
    },
    {
     "name": "stderr",
     "output_type": "stream",
     "text": [
      "Epoch : 354: 100%|█████████████████████████████████████████████████████████████████████████████████████████████████████| 782/782 [01:38<00:00,  7.97it/s, Acc=98.1, loss=0.0575]\n",
      "100%|███████████████████████████████████████████████████████████████████████████████████████████████████████████████████| 157/157 [00:06<00:00, 22.56it/s, Acc=91.2, loss=0.404]\n"
     ]
    },
    {
     "name": "stdout",
     "output_type": "stream",
     "text": [
      "\n",
      "Epoch: 355\n"
     ]
    },
    {
     "name": "stderr",
     "output_type": "stream",
     "text": [
      "Epoch : 355: 100%|█████████████████████████████████████████████████████████████████████████████████████████████████████| 782/782 [01:37<00:00,  8.01it/s, Acc=98.1, loss=0.0563]\n",
      "100%|█████████████████████████████████████████████████████████████████████████████████████████████████████████████████████| 157/157 [00:06<00:00, 23.85it/s, Acc=91, loss=0.412]\n"
     ]
    },
    {
     "name": "stdout",
     "output_type": "stream",
     "text": [
      "\n",
      "Epoch: 356\n"
     ]
    },
    {
     "name": "stderr",
     "output_type": "stream",
     "text": [
      "Epoch : 356: 100%|███████████████████████████████████████████████████████████████████████████████████████████████████████| 782/782 [01:37<00:00,  7.99it/s, Acc=98, loss=0.0599]\n",
      "100%|█████████████████████████████████████████████████████████████████████████████████████████████████████████████████████| 157/157 [00:07<00:00, 22.03it/s, Acc=91, loss=0.423]\n"
     ]
    },
    {
     "name": "stdout",
     "output_type": "stream",
     "text": [
      "\n",
      "Epoch: 357\n"
     ]
    },
    {
     "name": "stderr",
     "output_type": "stream",
     "text": [
      "Epoch : 357: 100%|█████████████████████████████████████████████████████████████████████████████████████████████████████| 782/782 [01:36<00:00,  8.13it/s, Acc=98.1, loss=0.0555]\n",
      "100%|███████████████████████████████████████████████████████████████████████████████████████████████████████████████████| 157/157 [00:07<00:00, 22.40it/s, Acc=90.9, loss=0.429]\n"
     ]
    },
    {
     "name": "stdout",
     "output_type": "stream",
     "text": [
      "\n",
      "Epoch: 358\n"
     ]
    },
    {
     "name": "stderr",
     "output_type": "stream",
     "text": [
      "Epoch : 358: 100%|█████████████████████████████████████████████████████████████████████████████████████████████████████| 782/782 [01:35<00:00,  8.18it/s, Acc=98.1, loss=0.0564]\n",
      "100%|███████████████████████████████████████████████████████████████████████████████████████████████████████████████████| 157/157 [00:07<00:00, 22.39it/s, Acc=90.8, loss=0.436]\n"
     ]
    },
    {
     "name": "stdout",
     "output_type": "stream",
     "text": [
      "\n",
      "Epoch: 359\n"
     ]
    },
    {
     "name": "stderr",
     "output_type": "stream",
     "text": [
      "Epoch : 359: 100%|██████████████████████████████████████████████████████████████████████████████████████████████████████| 782/782 [01:37<00:00,  7.99it/s, Acc=98.1, loss=0.056]\n",
      "100%|███████████████████████████████████████████████████████████████████████████████████████████████████████████████████| 157/157 [00:06<00:00, 22.67it/s, Acc=90.8, loss=0.399]\n"
     ]
    },
    {
     "name": "stdout",
     "output_type": "stream",
     "text": [
      "\n",
      "Epoch: 360\n"
     ]
    },
    {
     "name": "stderr",
     "output_type": "stream",
     "text": [
      "Epoch : 360: 100%|█████████████████████████████████████████████████████████████████████████████████████████████████████| 782/782 [01:34<00:00,  8.30it/s, Acc=98.2, loss=0.0546]\n",
      "100%|██████████████████████████████████████████████████████████████████████████████████████████████████████████████████████| 157/157 [00:06<00:00, 22.70it/s, Acc=91, loss=0.42]\n"
     ]
    },
    {
     "name": "stdout",
     "output_type": "stream",
     "text": [
      "\n",
      "Epoch: 361\n"
     ]
    },
    {
     "name": "stderr",
     "output_type": "stream",
     "text": [
      "Epoch : 361: 100%|█████████████████████████████████████████████████████████████████████████████████████████████████████| 782/782 [01:36<00:00,  8.07it/s, Acc=98.1, loss=0.0567]\n",
      "100%|███████████████████████████████████████████████████████████████████████████████████████████████████████████████████| 157/157 [00:06<00:00, 22.54it/s, Acc=90.9, loss=0.461]\n"
     ]
    },
    {
     "name": "stdout",
     "output_type": "stream",
     "text": [
      "\n",
      "Epoch: 362\n"
     ]
    },
    {
     "name": "stderr",
     "output_type": "stream",
     "text": [
      "Epoch : 362: 100%|██████████████████████████████████████████████████████████████████████████████████████████████████████| 782/782 [01:38<00:00,  7.95it/s, Acc=98.1, loss=0.058]\n",
      "100%|███████████████████████████████████████████████████████████████████████████████████████████████████████████████████| 157/157 [00:06<00:00, 22.70it/s, Acc=90.8, loss=0.432]\n"
     ]
    },
    {
     "name": "stdout",
     "output_type": "stream",
     "text": [
      "\n",
      "Epoch: 363\n"
     ]
    },
    {
     "name": "stderr",
     "output_type": "stream",
     "text": [
      "Epoch : 363: 100%|███████████████████████████████████████████████████████████████████████████████████████████████████████| 782/782 [01:35<00:00,  8.15it/s, Acc=98, loss=0.0562]\n",
      "100%|███████████████████████████████████████████████████████████████████████████████████████████████████████████████████| 157/157 [00:06<00:00, 24.17it/s, Acc=90.6, loss=0.444]\n"
     ]
    },
    {
     "name": "stdout",
     "output_type": "stream",
     "text": [
      "\n",
      "Epoch: 364\n"
     ]
    },
    {
     "name": "stderr",
     "output_type": "stream",
     "text": [
      "Epoch : 364: 100%|██████████████████████████████████████████████████████████████████████████████████████████████████████| 782/782 [01:36<00:00,  8.09it/s, Acc=98.1, loss=0.054]\n",
      "100%|███████████████████████████████████████████████████████████████████████████████████████████████████████████████████| 157/157 [00:06<00:00, 22.68it/s, Acc=90.9, loss=0.445]\n"
     ]
    },
    {
     "name": "stdout",
     "output_type": "stream",
     "text": [
      "\n",
      "Epoch: 365\n"
     ]
    },
    {
     "name": "stderr",
     "output_type": "stream",
     "text": [
      "Epoch : 365: 100%|██████████████████████████████████████████████████████████████████████████████████████████████████████| 782/782 [01:35<00:00,  8.23it/s, Acc=98.2, loss=0.052]\n",
      "100%|███████████████████████████████████████████████████████████████████████████████████████████████████████████████████| 157/157 [00:06<00:00, 22.73it/s, Acc=90.8, loss=0.436]\n"
     ]
    },
    {
     "name": "stdout",
     "output_type": "stream",
     "text": [
      "\n",
      "Epoch: 366\n"
     ]
    },
    {
     "name": "stderr",
     "output_type": "stream",
     "text": [
      "Epoch : 366: 100%|█████████████████████████████████████████████████████████████████████████████████████████████████████| 782/782 [01:38<00:00,  7.95it/s, Acc=98.1, loss=0.0543]\n",
      "100%|███████████████████████████████████████████████████████████████████████████████████████████████████████████████████| 157/157 [00:07<00:00, 22.32it/s, Acc=90.6, loss=0.443]\n"
     ]
    },
    {
     "name": "stdout",
     "output_type": "stream",
     "text": [
      "\n",
      "Epoch: 367\n"
     ]
    },
    {
     "name": "stderr",
     "output_type": "stream",
     "text": [
      "Epoch : 367: 100%|█████████████████████████████████████████████████████████████████████████████████████████████████████| 782/782 [01:36<00:00,  8.14it/s, Acc=98.1, loss=0.0561]\n",
      "100%|█████████████████████████████████████████████████████████████████████████████████████████████████████████████████████| 157/157 [00:06<00:00, 23.43it/s, Acc=91, loss=0.419]\n"
     ]
    },
    {
     "name": "stdout",
     "output_type": "stream",
     "text": [
      "\n",
      "Epoch: 368\n"
     ]
    },
    {
     "name": "stderr",
     "output_type": "stream",
     "text": [
      "Epoch : 368: 100%|█████████████████████████████████████████████████████████████████████████████████████████████████████| 782/782 [01:37<00:00,  7.99it/s, Acc=98.2, loss=0.0552]\n",
      "100%|████████████████████████████████████████████████████████████████████████████████████████████████████████████████████| 157/157 [00:06<00:00, 22.62it/s, Acc=90.6, loss=0.46]\n"
     ]
    },
    {
     "name": "stdout",
     "output_type": "stream",
     "text": [
      "\n",
      "Epoch: 369\n"
     ]
    },
    {
     "name": "stderr",
     "output_type": "stream",
     "text": [
      "Epoch : 369: 100%|█████████████████████████████████████████████████████████████████████████████████████████████████████| 782/782 [01:36<00:00,  8.10it/s, Acc=98.2, loss=0.0523]\n",
      "100%|███████████████████████████████████████████████████████████████████████████████████████████████████████████████████| 157/157 [00:06<00:00, 22.70it/s, Acc=90.9, loss=0.438]\n"
     ]
    },
    {
     "name": "stdout",
     "output_type": "stream",
     "text": [
      "\n",
      "Epoch: 370\n"
     ]
    },
    {
     "name": "stderr",
     "output_type": "stream",
     "text": [
      "Epoch : 370: 100%|█████████████████████████████████████████████████████████████████████████████████████████████████████| 782/782 [01:34<00:00,  8.31it/s, Acc=98.2, loss=0.0524]\n",
      "100%|███████████████████████████████████████████████████████████████████████████████████████████████████████████████████| 157/157 [00:07<00:00, 22.11it/s, Acc=90.3, loss=0.451]\n"
     ]
    },
    {
     "name": "stdout",
     "output_type": "stream",
     "text": [
      "\n",
      "Epoch: 371\n"
     ]
    },
    {
     "name": "stderr",
     "output_type": "stream",
     "text": [
      "Epoch : 371: 100%|█████████████████████████████████████████████████████████████████████████████████████████████████████| 782/782 [01:38<00:00,  7.95it/s, Acc=98.1, loss=0.0568]\n",
      "100%|████████████████████████████████████████████████████████████████████████████████████████████████████████████████████| 157/157 [00:06<00:00, 23.11it/s, Acc=90.6, loss=0.45]\n"
     ]
    },
    {
     "name": "stdout",
     "output_type": "stream",
     "text": [
      "\n",
      "Epoch: 372\n"
     ]
    },
    {
     "name": "stderr",
     "output_type": "stream",
     "text": [
      "Epoch : 372: 100%|█████████████████████████████████████████████████████████████████████████████████████████████████████| 782/782 [01:35<00:00,  8.19it/s, Acc=98.2, loss=0.0536]\n",
      "100%|███████████████████████████████████████████████████████████████████████████████████████████████████████████████████| 157/157 [00:06<00:00, 22.68it/s, Acc=90.8, loss=0.429]\n"
     ]
    },
    {
     "name": "stdout",
     "output_type": "stream",
     "text": [
      "\n",
      "Epoch: 373\n"
     ]
    },
    {
     "name": "stderr",
     "output_type": "stream",
     "text": [
      "Epoch : 373: 100%|██████████████████████████████████████████████████████████████████████████████████████████████████████| 782/782 [01:37<00:00,  7.99it/s, Acc=98.2, loss=0.052]\n",
      "100%|███████████████████████████████████████████████████████████████████████████████████████████████████████████████████| 157/157 [00:06<00:00, 22.49it/s, Acc=90.7, loss=0.437]\n"
     ]
    },
    {
     "name": "stdout",
     "output_type": "stream",
     "text": [
      "\n",
      "Epoch: 374\n"
     ]
    },
    {
     "name": "stderr",
     "output_type": "stream",
     "text": [
      "Epoch : 374: 100%|█████████████████████████████████████████████████████████████████████████████████████████████████████| 782/782 [01:37<00:00,  8.04it/s, Acc=98.1, loss=0.0562]\n",
      "100%|███████████████████████████████████████████████████████████████████████████████████████████████████████████████████| 157/157 [00:06<00:00, 23.37it/s, Acc=90.6, loss=0.437]\n"
     ]
    },
    {
     "name": "stdout",
     "output_type": "stream",
     "text": [
      "\n",
      "Epoch: 375\n"
     ]
    },
    {
     "name": "stderr",
     "output_type": "stream",
     "text": [
      "Epoch : 375: 100%|█████████████████████████████████████████████████████████████████████████████████████████████████████| 782/782 [01:37<00:00,  8.03it/s, Acc=98.2, loss=0.0536]\n",
      "100%|███████████████████████████████████████████████████████████████████████████████████████████████████████████████████| 157/157 [00:07<00:00, 22.30it/s, Acc=90.9, loss=0.425]\n"
     ]
    },
    {
     "name": "stdout",
     "output_type": "stream",
     "text": [
      "\n",
      "Epoch: 376\n"
     ]
    },
    {
     "name": "stderr",
     "output_type": "stream",
     "text": [
      "Epoch : 376: 100%|█████████████████████████████████████████████████████████████████████████████████████████████████████| 782/782 [01:36<00:00,  8.10it/s, Acc=98.2, loss=0.0512]\n",
      "100%|███████████████████████████████████████████████████████████████████████████████████████████████████████████████████| 157/157 [00:06<00:00, 22.64it/s, Acc=90.6, loss=0.468]\n"
     ]
    },
    {
     "name": "stdout",
     "output_type": "stream",
     "text": [
      "\n",
      "Epoch: 377\n"
     ]
    },
    {
     "name": "stderr",
     "output_type": "stream",
     "text": [
      "Epoch : 377: 100%|█████████████████████████████████████████████████████████████████████████████████████████████████████| 782/782 [01:36<00:00,  8.12it/s, Acc=98.2, loss=0.0543]\n",
      "100%|███████████████████████████████████████████████████████████████████████████████████████████████████████████████████| 157/157 [00:07<00:00, 22.06it/s, Acc=90.8, loss=0.443]\n"
     ]
    },
    {
     "name": "stdout",
     "output_type": "stream",
     "text": [
      "\n",
      "Epoch: 378\n"
     ]
    },
    {
     "name": "stderr",
     "output_type": "stream",
     "text": [
      "Epoch : 378: 100%|█████████████████████████████████████████████████████████████████████████████████████████████████████| 782/782 [01:37<00:00,  8.03it/s, Acc=98.2, loss=0.0529]\n",
      "100%|███████████████████████████████████████████████████████████████████████████████████████████████████████████████████| 157/157 [00:06<00:00, 22.82it/s, Acc=90.4, loss=0.466]\n"
     ]
    },
    {
     "name": "stdout",
     "output_type": "stream",
     "text": [
      "\n",
      "Epoch: 379\n"
     ]
    },
    {
     "name": "stderr",
     "output_type": "stream",
     "text": [
      "Epoch : 379: 100%|█████████████████████████████████████████████████████████████████████████████████████████████████████| 782/782 [01:35<00:00,  8.15it/s, Acc=98.2, loss=0.0517]\n",
      "100%|███████████████████████████████████████████████████████████████████████████████████████████████████████████████████| 157/157 [00:06<00:00, 24.23it/s, Acc=90.8, loss=0.456]\n"
     ]
    },
    {
     "name": "stdout",
     "output_type": "stream",
     "text": [
      "\n",
      "Epoch: 380\n"
     ]
    },
    {
     "name": "stderr",
     "output_type": "stream",
     "text": [
      "Epoch : 380: 100%|█████████████████████████████████████████████████████████████████████████████████████████████████████| 782/782 [01:30<00:00,  8.60it/s, Acc=98.3, loss=0.0524]\n",
      "100%|███████████████████████████████████████████████████████████████████████████████████████████████████████████████████| 157/157 [00:06<00:00, 22.68it/s, Acc=90.6, loss=0.464]\n"
     ]
    },
    {
     "name": "stdout",
     "output_type": "stream",
     "text": [
      "\n",
      "Epoch: 381\n"
     ]
    },
    {
     "name": "stderr",
     "output_type": "stream",
     "text": [
      "Epoch : 381: 100%|█████████████████████████████████████████████████████████████████████████████████████████████████████| 782/782 [01:35<00:00,  8.17it/s, Acc=98.2, loss=0.0524]\n",
      "100%|███████████████████████████████████████████████████████████████████████████████████████████████████████████████████| 157/157 [00:06<00:00, 23.20it/s, Acc=90.7, loss=0.453]\n"
     ]
    },
    {
     "name": "stdout",
     "output_type": "stream",
     "text": [
      "\n",
      "Epoch: 382\n"
     ]
    },
    {
     "name": "stderr",
     "output_type": "stream",
     "text": [
      "Epoch : 382: 100%|█████████████████████████████████████████████████████████████████████████████████████████████████████| 782/782 [01:34<00:00,  8.28it/s, Acc=98.3, loss=0.0498]\n",
      "100%|███████████████████████████████████████████████████████████████████████████████████████████████████████████████████| 157/157 [00:06<00:00, 22.95it/s, Acc=90.9, loss=0.433]\n"
     ]
    },
    {
     "name": "stdout",
     "output_type": "stream",
     "text": [
      "\n",
      "Epoch: 383\n"
     ]
    },
    {
     "name": "stderr",
     "output_type": "stream",
     "text": [
      "Epoch : 383: 100%|██████████████████████████████████████████████████████████████████████████████████████████████████████| 782/782 [01:36<00:00,  8.13it/s, Acc=98.2, loss=0.052]\n",
      "100%|█████████████████████████████████████████████████████████████████████████████████████████████████████████████████████| 157/157 [00:06<00:00, 23.12it/s, Acc=91, loss=0.449]\n"
     ]
    },
    {
     "name": "stdout",
     "output_type": "stream",
     "text": [
      "\n",
      "Epoch: 384\n"
     ]
    },
    {
     "name": "stderr",
     "output_type": "stream",
     "text": [
      "Epoch : 384: 100%|█████████████████████████████████████████████████████████████████████████████████████████████████████| 782/782 [01:35<00:00,  8.18it/s, Acc=98.3, loss=0.0532]\n",
      "100%|███████████████████████████████████████████████████████████████████████████████████████████████████████████████████| 157/157 [00:07<00:00, 22.29it/s, Acc=91.1, loss=0.412]\n"
     ]
    },
    {
     "name": "stdout",
     "output_type": "stream",
     "text": [
      "\n",
      "Epoch: 385\n"
     ]
    },
    {
     "name": "stderr",
     "output_type": "stream",
     "text": [
      "Epoch : 385: 100%|█████████████████████████████████████████████████████████████████████████████████████████████████████| 782/782 [01:37<00:00,  8.01it/s, Acc=98.3, loss=0.0502]\n",
      "100%|███████████████████████████████████████████████████████████████████████████████████████████████████████████████████| 157/157 [00:06<00:00, 22.85it/s, Acc=91.3, loss=0.422]\n"
     ]
    },
    {
     "name": "stdout",
     "output_type": "stream",
     "text": [
      "\n",
      "Epoch: 386\n"
     ]
    },
    {
     "name": "stderr",
     "output_type": "stream",
     "text": [
      "Epoch : 386: 100%|█████████████████████████████████████████████████████████████████████████████████████████████████████| 782/782 [01:38<00:00,  7.97it/s, Acc=98.2, loss=0.0535]\n",
      "100%|███████████████████████████████████████████████████████████████████████████████████████████████████████████████████| 157/157 [00:06<00:00, 23.15it/s, Acc=91.1, loss=0.451]\n"
     ]
    },
    {
     "name": "stdout",
     "output_type": "stream",
     "text": [
      "\n",
      "Epoch: 387\n"
     ]
    },
    {
     "name": "stderr",
     "output_type": "stream",
     "text": [
      "Epoch : 387: 100%|█████████████████████████████████████████████████████████████████████████████████████████████████████| 782/782 [01:36<00:00,  8.14it/s, Acc=98.3, loss=0.0524]\n",
      "100%|████████████████████████████████████████████████████████████████████████████████████████████████████████████████████| 157/157 [00:06<00:00, 22.72it/s, Acc=90.8, loss=0.45]\n"
     ]
    },
    {
     "name": "stdout",
     "output_type": "stream",
     "text": [
      "\n",
      "Epoch: 388\n"
     ]
    },
    {
     "name": "stderr",
     "output_type": "stream",
     "text": [
      "Epoch : 388: 100%|█████████████████████████████████████████████████████████████████████████████████████████████████████| 782/782 [01:38<00:00,  7.97it/s, Acc=98.3, loss=0.0538]\n",
      "100%|███████████████████████████████████████████████████████████████████████████████████████████████████████████████████| 157/157 [00:07<00:00, 22.28it/s, Acc=90.5, loss=0.439]\n"
     ]
    },
    {
     "name": "stdout",
     "output_type": "stream",
     "text": [
      "\n",
      "Epoch: 389\n"
     ]
    },
    {
     "name": "stderr",
     "output_type": "stream",
     "text": [
      "Epoch : 389: 100%|██████████████████████████████████████████████████████████████████████████████████████████████████████| 782/782 [01:35<00:00,  8.17it/s, Acc=98.3, loss=0.052]\n",
      "100%|███████████████████████████████████████████████████████████████████████████████████████████████████████████████████| 157/157 [00:06<00:00, 22.73it/s, Acc=90.9, loss=0.448]\n"
     ]
    },
    {
     "name": "stdout",
     "output_type": "stream",
     "text": [
      "\n",
      "Epoch: 390\n"
     ]
    },
    {
     "name": "stderr",
     "output_type": "stream",
     "text": [
      "Epoch : 390: 100%|█████████████████████████████████████████████████████████████████████████████████████████████████████| 782/782 [01:38<00:00,  7.96it/s, Acc=98.3, loss=0.0504]\n",
      "100%|███████████████████████████████████████████████████████████████████████████████████████████████████████████████████| 157/157 [00:06<00:00, 22.63it/s, Acc=90.9, loss=0.449]\n"
     ]
    },
    {
     "name": "stdout",
     "output_type": "stream",
     "text": [
      "\n",
      "Epoch: 391\n"
     ]
    },
    {
     "name": "stderr",
     "output_type": "stream",
     "text": [
      "Epoch : 391: 100%|██████████████████████████████████████████████████████████████████████████████████████████████████████| 782/782 [01:37<00:00,  8.05it/s, Acc=98.2, loss=0.053]\n",
      "100%|███████████████████████████████████████████████████████████████████████████████████████████████████████████████████| 157/157 [00:06<00:00, 24.44it/s, Acc=90.7, loss=0.459]\n"
     ]
    },
    {
     "name": "stdout",
     "output_type": "stream",
     "text": [
      "\n",
      "Epoch: 392\n"
     ]
    },
    {
     "name": "stderr",
     "output_type": "stream",
     "text": [
      "Epoch : 392: 100%|█████████████████████████████████████████████████████████████████████████████████████████████████████| 782/782 [01:39<00:00,  7.88it/s, Acc=98.3, loss=0.0507]\n",
      "100%|█████████████████████████████████████████████████████████████████████████████████████████████████████████████████████| 157/157 [00:07<00:00, 21.58it/s, Acc=91, loss=0.429]\n"
     ]
    },
    {
     "name": "stdout",
     "output_type": "stream",
     "text": [
      "\n",
      "Epoch: 393\n"
     ]
    },
    {
     "name": "stderr",
     "output_type": "stream",
     "text": [
      "Epoch : 393: 100%|█████████████████████████████████████████████████████████████████████████████████████████████████████| 782/782 [01:38<00:00,  7.91it/s, Acc=98.2, loss=0.0533]\n",
      "100%|███████████████████████████████████████████████████████████████████████████████████████████████████████████████████| 157/157 [00:07<00:00, 22.07it/s, Acc=90.6, loss=0.417]\n"
     ]
    },
    {
     "name": "stdout",
     "output_type": "stream",
     "text": [
      "\n",
      "Epoch: 394\n"
     ]
    },
    {
     "name": "stderr",
     "output_type": "stream",
     "text": [
      "Epoch : 394: 100%|█████████████████████████████████████████████████████████████████████████████████████████████████████| 782/782 [01:35<00:00,  8.21it/s, Acc=98.2, loss=0.0535]\n",
      "100%|███████████████████████████████████████████████████████████████████████████████████████████████████████████████████| 157/157 [00:06<00:00, 22.67it/s, Acc=90.8, loss=0.447]\n"
     ]
    },
    {
     "name": "stdout",
     "output_type": "stream",
     "text": [
      "\n",
      "Epoch: 395\n"
     ]
    },
    {
     "name": "stderr",
     "output_type": "stream",
     "text": [
      "Epoch : 395: 100%|█████████████████████████████████████████████████████████████████████████████████████████████████████| 782/782 [01:38<00:00,  7.97it/s, Acc=98.3, loss=0.0514]\n",
      "100%|███████████████████████████████████████████████████████████████████████████████████████████████████████████████████| 157/157 [00:06<00:00, 22.45it/s, Acc=90.8, loss=0.469]\n"
     ]
    },
    {
     "name": "stdout",
     "output_type": "stream",
     "text": [
      "\n",
      "Epoch: 396\n"
     ]
    },
    {
     "name": "stderr",
     "output_type": "stream",
     "text": [
      "Epoch : 396: 100%|█████████████████████████████████████████████████████████████████████████████████████████████████████| 782/782 [01:34<00:00,  8.28it/s, Acc=98.2, loss=0.0531]\n",
      "100%|███████████████████████████████████████████████████████████████████████████████████████████████████████████████████| 157/157 [00:06<00:00, 22.62it/s, Acc=90.4, loss=0.487]\n"
     ]
    },
    {
     "name": "stdout",
     "output_type": "stream",
     "text": [
      "\n",
      "Epoch: 397\n"
     ]
    },
    {
     "name": "stderr",
     "output_type": "stream",
     "text": [
      "Epoch : 397: 100%|█████████████████████████████████████████████████████████████████████████████████████████████████████| 782/782 [01:39<00:00,  7.85it/s, Acc=98.3, loss=0.0503]\n",
      "100%|███████████████████████████████████████████████████████████████████████████████████████████████████████████████████| 157/157 [00:07<00:00, 21.82it/s, Acc=90.8, loss=0.425]\n"
     ]
    },
    {
     "name": "stdout",
     "output_type": "stream",
     "text": [
      "\n",
      "Epoch: 398\n"
     ]
    },
    {
     "name": "stderr",
     "output_type": "stream",
     "text": [
      "Epoch : 398: 100%|█████████████████████████████████████████████████████████████████████████████████████████████████████| 782/782 [01:38<00:00,  7.92it/s, Acc=98.3, loss=0.0498]\n",
      "100%|███████████████████████████████████████████████████████████████████████████████████████████████████████████████████| 157/157 [00:06<00:00, 23.96it/s, Acc=91.1, loss=0.423]\n"
     ]
    },
    {
     "name": "stdout",
     "output_type": "stream",
     "text": [
      "\n",
      "Epoch: 399\n"
     ]
    },
    {
     "name": "stderr",
     "output_type": "stream",
     "text": [
      "Epoch : 399: 100%|█████████████████████████████████████████████████████████████████████████████████████████████████████| 782/782 [01:37<00:00,  8.03it/s, Acc=98.3, loss=0.0483]\n",
      "100%|███████████████████████████████████████████████████████████████████████████████████████████████████████████████████| 157/157 [00:06<00:00, 22.59it/s, Acc=90.5, loss=0.486]\n"
     ]
    },
    {
     "name": "stdout",
     "output_type": "stream",
     "text": [
      "\n",
      "Epoch: 400\n"
     ]
    },
    {
     "name": "stderr",
     "output_type": "stream",
     "text": [
      "Epoch : 400: 100%|█████████████████████████████████████████████████████████████████████████████████████████████████████| 782/782 [01:38<00:00,  7.93it/s, Acc=98.3, loss=0.0491]\n",
      "100%|███████████████████████████████████████████████████████████████████████████████████████████████████████████████████| 157/157 [00:07<00:00, 22.08it/s, Acc=90.8, loss=0.473]\n"
     ]
    },
    {
     "name": "stdout",
     "output_type": "stream",
     "text": [
      "\n",
      "Epoch: 401\n"
     ]
    },
    {
     "name": "stderr",
     "output_type": "stream",
     "text": [
      "Epoch : 401: 100%|█████████████████████████████████████████████████████████████████████████████████████████████████████| 782/782 [01:34<00:00,  8.25it/s, Acc=98.3, loss=0.0508]\n",
      "100%|█████████████████████████████████████████████████████████████████████████████████████████████████████████████████████| 157/157 [00:06<00:00, 22.70it/s, Acc=91, loss=0.472]\n"
     ]
    },
    {
     "name": "stdout",
     "output_type": "stream",
     "text": [
      "\n",
      "Epoch: 402\n"
     ]
    },
    {
     "name": "stderr",
     "output_type": "stream",
     "text": [
      "Epoch : 402: 100%|██████████████████████████████████████████████████████████████████████████████████████████████████████| 782/782 [01:36<00:00,  8.11it/s, Acc=98.4, loss=0.049]\n",
      "100%|███████████████████████████████████████████████████████████████████████████████████████████████████████████████████| 157/157 [00:06<00:00, 22.73it/s, Acc=90.5, loss=0.472]\n"
     ]
    },
    {
     "name": "stdout",
     "output_type": "stream",
     "text": [
      "\n",
      "Epoch: 403\n"
     ]
    },
    {
     "name": "stderr",
     "output_type": "stream",
     "text": [
      "Epoch : 403: 100%|██████████████████████████████████████████████████████████████████████████████████████████████████████| 782/782 [01:34<00:00,  8.28it/s, Acc=98.3, loss=0.049]\n",
      "100%|███████████████████████████████████████████████████████████████████████████████████████████████████████████████████| 157/157 [00:06<00:00, 22.63it/s, Acc=90.9, loss=0.433]\n"
     ]
    },
    {
     "name": "stdout",
     "output_type": "stream",
     "text": [
      "\n",
      "Epoch: 404\n"
     ]
    },
    {
     "name": "stderr",
     "output_type": "stream",
     "text": [
      "Epoch : 404: 100%|█████████████████████████████████████████████████████████████████████████████████████████████████████| 782/782 [01:38<00:00,  7.93it/s, Acc=98.2, loss=0.0527]\n",
      "100%|███████████████████████████████████████████████████████████████████████████████████████████████████████████████████| 157/157 [00:06<00:00, 23.11it/s, Acc=91.3, loss=0.401]\n"
     ]
    },
    {
     "name": "stdout",
     "output_type": "stream",
     "text": [
      "\n",
      "Epoch: 405\n"
     ]
    },
    {
     "name": "stderr",
     "output_type": "stream",
     "text": [
      "Epoch : 405: 100%|█████████████████████████████████████████████████████████████████████████████████████████████████████| 782/782 [01:38<00:00,  7.96it/s, Acc=98.4, loss=0.0483]\n",
      "100%|███████████████████████████████████████████████████████████████████████████████████████████████████████████████████| 157/157 [00:06<00:00, 23.60it/s, Acc=90.7, loss=0.457]\n"
     ]
    },
    {
     "name": "stdout",
     "output_type": "stream",
     "text": [
      "\n",
      "Epoch: 406\n"
     ]
    },
    {
     "name": "stderr",
     "output_type": "stream",
     "text": [
      "Epoch : 406: 100%|█████████████████████████████████████████████████████████████████████████████████████████████████████| 782/782 [01:37<00:00,  8.04it/s, Acc=98.3, loss=0.0519]\n",
      "100%|███████████████████████████████████████████████████████████████████████████████████████████████████████████████████| 157/157 [00:06<00:00, 22.47it/s, Acc=90.8, loss=0.459]\n"
     ]
    },
    {
     "name": "stdout",
     "output_type": "stream",
     "text": [
      "\n",
      "Epoch: 407\n"
     ]
    },
    {
     "name": "stderr",
     "output_type": "stream",
     "text": [
      "Epoch : 407: 100%|█████████████████████████████████████████████████████████████████████████████████████████████████████| 782/782 [01:38<00:00,  7.96it/s, Acc=98.3, loss=0.0517]\n",
      "100%|███████████████████████████████████████████████████████████████████████████████████████████████████████████████████| 157/157 [00:07<00:00, 22.42it/s, Acc=91.3, loss=0.424]\n"
     ]
    },
    {
     "name": "stdout",
     "output_type": "stream",
     "text": [
      "\n",
      "Epoch: 408\n"
     ]
    },
    {
     "name": "stderr",
     "output_type": "stream",
     "text": [
      "Epoch : 408: 100%|█████████████████████████████████████████████████████████████████████████████████████████████████████| 782/782 [01:36<00:00,  8.08it/s, Acc=98.4, loss=0.0455]\n",
      "100%|███████████████████████████████████████████████████████████████████████████████████████████████████████████████████| 157/157 [00:06<00:00, 23.07it/s, Acc=91.1, loss=0.465]\n"
     ]
    },
    {
     "name": "stdout",
     "output_type": "stream",
     "text": [
      "\n",
      "Epoch: 409\n"
     ]
    },
    {
     "name": "stderr",
     "output_type": "stream",
     "text": [
      "Epoch : 409: 100%|█████████████████████████████████████████████████████████████████████████████████████████████████████| 782/782 [01:35<00:00,  8.15it/s, Acc=98.4, loss=0.0471]\n",
      "100%|███████████████████████████████████████████████████████████████████████████████████████████████████████████████████| 157/157 [00:06<00:00, 23.04it/s, Acc=90.7, loss=0.453]\n"
     ]
    },
    {
     "name": "stdout",
     "output_type": "stream",
     "text": [
      "\n",
      "Epoch: 410\n"
     ]
    },
    {
     "name": "stderr",
     "output_type": "stream",
     "text": [
      "Epoch : 410: 100%|█████████████████████████████████████████████████████████████████████████████████████████████████████| 782/782 [01:35<00:00,  8.19it/s, Acc=98.4, loss=0.0487]\n",
      "100%|███████████████████████████████████████████████████████████████████████████████████████████████████████████████████| 157/157 [00:06<00:00, 23.96it/s, Acc=90.9, loss=0.453]\n"
     ]
    },
    {
     "name": "stdout",
     "output_type": "stream",
     "text": [
      "\n",
      "Epoch: 411\n"
     ]
    },
    {
     "name": "stderr",
     "output_type": "stream",
     "text": [
      "Epoch : 411: 100%|█████████████████████████████████████████████████████████████████████████████████████████████████████| 782/782 [01:37<00:00,  8.00it/s, Acc=98.4, loss=0.0517]\n",
      "100%|███████████████████████████████████████████████████████████████████████████████████████████████████████████████████| 157/157 [00:06<00:00, 22.69it/s, Acc=90.8, loss=0.436]\n"
     ]
    },
    {
     "name": "stdout",
     "output_type": "stream",
     "text": [
      "\n",
      "Epoch: 412\n"
     ]
    },
    {
     "name": "stderr",
     "output_type": "stream",
     "text": [
      "Epoch : 412: 100%|█████████████████████████████████████████████████████████████████████████████████████████████████████| 782/782 [01:38<00:00,  7.93it/s, Acc=98.4, loss=0.0481]\n",
      "100%|███████████████████████████████████████████████████████████████████████████████████████████████████████████████████| 157/157 [00:07<00:00, 22.32it/s, Acc=91.3, loss=0.423]\n"
     ]
    },
    {
     "name": "stdout",
     "output_type": "stream",
     "text": [
      "\n",
      "Epoch: 413\n"
     ]
    },
    {
     "name": "stderr",
     "output_type": "stream",
     "text": [
      "Epoch : 413: 100%|█████████████████████████████████████████████████████████████████████████████████████████████████████| 782/782 [01:36<00:00,  8.10it/s, Acc=98.3, loss=0.0491]\n",
      "100%|███████████████████████████████████████████████████████████████████████████████████████████████████████████████████| 157/157 [00:07<00:00, 22.28it/s, Acc=90.8, loss=0.472]\n"
     ]
    },
    {
     "name": "stdout",
     "output_type": "stream",
     "text": [
      "\n",
      "Epoch: 414\n"
     ]
    },
    {
     "name": "stderr",
     "output_type": "stream",
     "text": [
      "Epoch : 414: 100%|█████████████████████████████████████████████████████████████████████████████████████████████████████| 782/782 [01:38<00:00,  7.93it/s, Acc=98.4, loss=0.0468]\n",
      "100%|███████████████████████████████████████████████████████████████████████████████████████████████████████████████████| 157/157 [00:06<00:00, 22.44it/s, Acc=91.1, loss=0.481]\n"
     ]
    },
    {
     "name": "stdout",
     "output_type": "stream",
     "text": [
      "\n",
      "Epoch: 415\n"
     ]
    },
    {
     "name": "stderr",
     "output_type": "stream",
     "text": [
      "Epoch : 415: 100%|█████████████████████████████████████████████████████████████████████████████████████████████████████| 782/782 [01:36<00:00,  8.11it/s, Acc=98.3, loss=0.0502]\n",
      "100%|███████████████████████████████████████████████████████████████████████████████████████████████████████████████████| 157/157 [00:06<00:00, 22.46it/s, Acc=91.1, loss=0.456]\n"
     ]
    },
    {
     "name": "stdout",
     "output_type": "stream",
     "text": [
      "\n",
      "Epoch: 416\n"
     ]
    },
    {
     "name": "stderr",
     "output_type": "stream",
     "text": [
      "Epoch : 416: 100%|█████████████████████████████████████████████████████████████████████████████████████████████████████| 782/782 [01:36<00:00,  8.07it/s, Acc=98.4, loss=0.0487]\n",
      "100%|███████████████████████████████████████████████████████████████████████████████████████████████████████████████████| 157/157 [00:06<00:00, 22.65it/s, Acc=90.8, loss=0.434]\n"
     ]
    },
    {
     "name": "stdout",
     "output_type": "stream",
     "text": [
      "\n",
      "Epoch: 417\n"
     ]
    },
    {
     "name": "stderr",
     "output_type": "stream",
     "text": [
      "Epoch : 417: 100%|█████████████████████████████████████████████████████████████████████████████████████████████████████| 782/782 [01:39<00:00,  7.87it/s, Acc=98.5, loss=0.0458]\n",
      "100%|█████████████████████████████████████████████████████████████████████████████████████████████████████████████████████| 157/157 [00:06<00:00, 23.74it/s, Acc=91, loss=0.452]\n"
     ]
    },
    {
     "name": "stdout",
     "output_type": "stream",
     "text": [
      "\n",
      "Epoch: 418\n"
     ]
    },
    {
     "name": "stderr",
     "output_type": "stream",
     "text": [
      "Epoch : 418: 100%|██████████████████████████████████████████████████████████████████████████████████████████████████████| 782/782 [01:35<00:00,  8.15it/s, Acc=98.4, loss=0.047]\n",
      "100%|███████████████████████████████████████████████████████████████████████████████████████████████████████████████████| 157/157 [00:06<00:00, 22.75it/s, Acc=91.2, loss=0.435]\n"
     ]
    },
    {
     "name": "stdout",
     "output_type": "stream",
     "text": [
      "\n",
      "Epoch: 419\n"
     ]
    },
    {
     "name": "stderr",
     "output_type": "stream",
     "text": [
      "Epoch : 419: 100%|█████████████████████████████████████████████████████████████████████████████████████████████████████| 782/782 [01:37<00:00,  8.04it/s, Acc=98.4, loss=0.0496]\n",
      "100%|███████████████████████████████████████████████████████████████████████████████████████████████████████████████████| 157/157 [00:06<00:00, 22.66it/s, Acc=91.2, loss=0.418]\n"
     ]
    },
    {
     "name": "stdout",
     "output_type": "stream",
     "text": [
      "\n",
      "Epoch: 420\n"
     ]
    },
    {
     "name": "stderr",
     "output_type": "stream",
     "text": [
      "Epoch : 420: 100%|█████████████████████████████████████████████████████████████████████████████████████████████████████| 782/782 [01:35<00:00,  8.17it/s, Acc=98.4, loss=0.0488]\n",
      "100%|███████████████████████████████████████████████████████████████████████████████████████████████████████████████████| 157/157 [00:07<00:00, 22.42it/s, Acc=91.1, loss=0.423]\n"
     ]
    },
    {
     "name": "stdout",
     "output_type": "stream",
     "text": [
      "\n",
      "Epoch: 421\n"
     ]
    },
    {
     "name": "stderr",
     "output_type": "stream",
     "text": [
      "Epoch : 421: 100%|█████████████████████████████████████████████████████████████████████████████████████████████████████| 782/782 [01:38<00:00,  7.93it/s, Acc=98.4, loss=0.0481]\n",
      "100%|████████████████████████████████████████████████████████████████████████████████████████████████████████████████████| 157/157 [00:06<00:00, 22.71it/s, Acc=90.8, loss=0.47]\n"
     ]
    },
    {
     "name": "stdout",
     "output_type": "stream",
     "text": [
      "\n",
      "Epoch: 422\n"
     ]
    },
    {
     "name": "stderr",
     "output_type": "stream",
     "text": [
      "Epoch : 422: 100%|█████████████████████████████████████████████████████████████████████████████████████████████████████| 782/782 [01:18<00:00,  9.91it/s, Acc=98.4, loss=0.0478]\n",
      "100%|███████████████████████████████████████████████████████████████████████████████████████████████████████████████████| 157/157 [00:05<00:00, 27.90it/s, Acc=90.8, loss=0.437]\n"
     ]
    },
    {
     "name": "stdout",
     "output_type": "stream",
     "text": [
      "\n",
      "Epoch: 423\n"
     ]
    },
    {
     "name": "stderr",
     "output_type": "stream",
     "text": [
      "Epoch : 423: 100%|█████████████████████████████████████████████████████████████████████████████████████████████████████| 782/782 [01:13<00:00, 10.57it/s, Acc=98.4, loss=0.0473]\n",
      "100%|█████████████████████████████████████████████████████████████████████████████████████████████████████████████████████| 157/157 [00:05<00:00, 28.57it/s, Acc=91, loss=0.442]\n"
     ]
    },
    {
     "name": "stdout",
     "output_type": "stream",
     "text": [
      "\n",
      "Epoch: 424\n"
     ]
    },
    {
     "name": "stderr",
     "output_type": "stream",
     "text": [
      "Epoch : 424: 100%|█████████████████████████████████████████████████████████████████████████████████████████████████████| 782/782 [01:13<00:00, 10.60it/s, Acc=98.4, loss=0.0475]\n",
      "100%|███████████████████████████████████████████████████████████████████████████████████████████████████████████████████| 157/157 [00:05<00:00, 28.56it/s, Acc=90.9, loss=0.426]\n"
     ]
    },
    {
     "name": "stdout",
     "output_type": "stream",
     "text": [
      "\n",
      "Epoch: 425\n"
     ]
    },
    {
     "name": "stderr",
     "output_type": "stream",
     "text": [
      "Epoch : 425: 100%|█████████████████████████████████████████████████████████████████████████████████████████████████████| 782/782 [01:13<00:00, 10.62it/s, Acc=98.4, loss=0.0489]\n",
      "100%|████████████████████████████████████████████████████████████████████████████████████████████████████████████████████| 157/157 [00:05<00:00, 28.38it/s, Acc=91.3, loss=0.45]\n"
     ]
    },
    {
     "name": "stdout",
     "output_type": "stream",
     "text": [
      "\n",
      "Epoch: 426\n"
     ]
    },
    {
     "name": "stderr",
     "output_type": "stream",
     "text": [
      "Epoch : 426: 100%|█████████████████████████████████████████████████████████████████████████████████████████████████████| 782/782 [01:13<00:00, 10.57it/s, Acc=98.3, loss=0.0471]\n",
      "100%|███████████████████████████████████████████████████████████████████████████████████████████████████████████████████| 157/157 [00:06<00:00, 25.89it/s, Acc=90.8, loss=0.468]\n"
     ]
    },
    {
     "name": "stdout",
     "output_type": "stream",
     "text": [
      "\n",
      "Epoch: 427\n"
     ]
    },
    {
     "name": "stderr",
     "output_type": "stream",
     "text": [
      "Epoch : 427: 100%|█████████████████████████████████████████████████████████████████████████████████████████████████████| 782/782 [01:13<00:00, 10.67it/s, Acc=98.4, loss=0.0487]\n",
      "100%|███████████████████████████████████████████████████████████████████████████████████████████████████████████████████| 157/157 [00:05<00:00, 28.24it/s, Acc=91.2, loss=0.427]\n"
     ]
    },
    {
     "name": "stdout",
     "output_type": "stream",
     "text": [
      "\n",
      "Epoch: 428\n"
     ]
    },
    {
     "name": "stderr",
     "output_type": "stream",
     "text": [
      "Epoch : 428: 100%|█████████████████████████████████████████████████████████████████████████████████████████████████████| 782/782 [01:14<00:00, 10.57it/s, Acc=98.5, loss=0.0444]\n",
      "100%|████████████████████████████████████████████████████████████████████████████████████████████████████████████████████| 157/157 [00:05<00:00, 28.38it/s, Acc=90.9, loss=0.46]\n"
     ]
    },
    {
     "name": "stdout",
     "output_type": "stream",
     "text": [
      "\n",
      "Epoch: 429\n"
     ]
    },
    {
     "name": "stderr",
     "output_type": "stream",
     "text": [
      "Epoch : 429: 100%|█████████████████████████████████████████████████████████████████████████████████████████████████████| 782/782 [01:13<00:00, 10.65it/s, Acc=98.5, loss=0.0471]\n",
      "100%|█████████████████████████████████████████████████████████████████████████████████████████████████████████████████████| 157/157 [00:05<00:00, 28.45it/s, Acc=91, loss=0.431]\n"
     ]
    },
    {
     "name": "stdout",
     "output_type": "stream",
     "text": [
      "\n",
      "Epoch: 430\n"
     ]
    },
    {
     "name": "stderr",
     "output_type": "stream",
     "text": [
      "Epoch : 430: 100%|█████████████████████████████████████████████████████████████████████████████████████████████████████| 782/782 [01:14<00:00, 10.56it/s, Acc=98.4, loss=0.0455]\n",
      "100%|███████████████████████████████████████████████████████████████████████████████████████████████████████████████████| 157/157 [00:06<00:00, 26.07it/s, Acc=90.9, loss=0.454]\n"
     ]
    },
    {
     "name": "stdout",
     "output_type": "stream",
     "text": [
      "\n",
      "Epoch: 431\n"
     ]
    },
    {
     "name": "stderr",
     "output_type": "stream",
     "text": [
      "Epoch : 431: 100%|█████████████████████████████████████████████████████████████████████████████████████████████████████| 782/782 [01:13<00:00, 10.66it/s, Acc=98.4, loss=0.0493]\n",
      "100%|███████████████████████████████████████████████████████████████████████████████████████████████████████████████████| 157/157 [00:05<00:00, 28.72it/s, Acc=91.1, loss=0.419]\n"
     ]
    },
    {
     "name": "stdout",
     "output_type": "stream",
     "text": [
      "\n",
      "Epoch: 432\n"
     ]
    },
    {
     "name": "stderr",
     "output_type": "stream",
     "text": [
      "Epoch : 432: 100%|█████████████████████████████████████████████████████████████████████████████████████████████████████| 782/782 [01:13<00:00, 10.57it/s, Acc=98.4, loss=0.0478]\n",
      "100%|████████████████████████████████████████████████████████████████████████████████████████████████████████████████████| 157/157 [00:05<00:00, 28.20it/s, Acc=90.8, loss=0.42]\n"
     ]
    },
    {
     "name": "stdout",
     "output_type": "stream",
     "text": [
      "\n",
      "Epoch: 433\n"
     ]
    },
    {
     "name": "stderr",
     "output_type": "stream",
     "text": [
      "Epoch : 433: 100%|█████████████████████████████████████████████████████████████████████████████████████████████████████| 782/782 [01:14<00:00, 10.56it/s, Acc=98.5, loss=0.0443]\n",
      "100%|███████████████████████████████████████████████████████████████████████████████████████████████████████████████████| 157/157 [00:05<00:00, 28.51it/s, Acc=90.7, loss=0.467]\n"
     ]
    },
    {
     "name": "stdout",
     "output_type": "stream",
     "text": [
      "\n",
      "Epoch: 434\n"
     ]
    },
    {
     "name": "stderr",
     "output_type": "stream",
     "text": [
      "Epoch : 434: 100%|██████████████████████████████████████████████████████████████████████████████████████████████████████| 782/782 [01:13<00:00, 10.66it/s, Acc=98.5, loss=0.045]\n",
      "100%|███████████████████████████████████████████████████████████████████████████████████████████████████████████████████| 157/157 [00:05<00:00, 28.38it/s, Acc=90.5, loss=0.512]\n"
     ]
    },
    {
     "name": "stdout",
     "output_type": "stream",
     "text": [
      "\n",
      "Epoch: 435\n"
     ]
    },
    {
     "name": "stderr",
     "output_type": "stream",
     "text": [
      "Epoch : 435: 100%|█████████████████████████████████████████████████████████████████████████████████████████████████████| 782/782 [01:13<00:00, 10.57it/s, Acc=98.4, loss=0.0477]\n",
      "100%|█████████████████████████████████████████████████████████████████████████████████████████████████████████████████████| 157/157 [00:05<00:00, 26.59it/s, Acc=91, loss=0.455]\n"
     ]
    },
    {
     "name": "stdout",
     "output_type": "stream",
     "text": [
      "\n",
      "Epoch: 436\n"
     ]
    },
    {
     "name": "stderr",
     "output_type": "stream",
     "text": [
      "Epoch : 436: 100%|█████████████████████████████████████████████████████████████████████████████████████████████████████| 782/782 [01:13<00:00, 10.67it/s, Acc=98.4, loss=0.0505]\n",
      "100%|███████████████████████████████████████████████████████████████████████████████████████████████████████████████████| 157/157 [00:05<00:00, 28.01it/s, Acc=90.8, loss=0.435]\n"
     ]
    },
    {
     "name": "stdout",
     "output_type": "stream",
     "text": [
      "\n",
      "Epoch: 437\n"
     ]
    },
    {
     "name": "stderr",
     "output_type": "stream",
     "text": [
      "Epoch : 437: 100%|█████████████████████████████████████████████████████████████████████████████████████████████████████| 782/782 [01:14<00:00, 10.55it/s, Acc=98.4, loss=0.0484]\n",
      "100%|███████████████████████████████████████████████████████████████████████████████████████████████████████████████████| 157/157 [00:05<00:00, 28.19it/s, Acc=90.7, loss=0.466]\n"
     ]
    },
    {
     "name": "stdout",
     "output_type": "stream",
     "text": [
      "\n",
      "Epoch: 438\n"
     ]
    },
    {
     "name": "stderr",
     "output_type": "stream",
     "text": [
      "Epoch : 438: 100%|█████████████████████████████████████████████████████████████████████████████████████████████████████| 782/782 [01:13<00:00, 10.65it/s, Acc=98.4, loss=0.0456]\n",
      "100%|███████████████████████████████████████████████████████████████████████████████████████████████████████████████████| 157/157 [00:05<00:00, 28.31it/s, Acc=91.5, loss=0.403]\n"
     ]
    },
    {
     "name": "stdout",
     "output_type": "stream",
     "text": [
      "Saving..\n",
      "\n",
      "Epoch: 439\n"
     ]
    },
    {
     "name": "stderr",
     "output_type": "stream",
     "text": [
      "Epoch : 439: 100%|██████████████████████████████████████████████████████████████████████████████████████████████████████| 782/782 [01:14<00:00, 10.53it/s, Acc=98.4, loss=0.049]\n",
      "100%|███████████████████████████████████████████████████████████████████████████████████████████████████████████████████| 157/157 [00:05<00:00, 28.16it/s, Acc=90.9, loss=0.462]\n"
     ]
    },
    {
     "name": "stdout",
     "output_type": "stream",
     "text": [
      "\n",
      "Epoch: 440\n"
     ]
    },
    {
     "name": "stderr",
     "output_type": "stream",
     "text": [
      "Epoch : 440: 100%|█████████████████████████████████████████████████████████████████████████████████████████████████████| 782/782 [01:14<00:00, 10.55it/s, Acc=98.4, loss=0.0465]\n",
      "100%|███████████████████████████████████████████████████████████████████████████████████████████████████████████████████| 157/157 [00:05<00:00, 29.98it/s, Acc=91.1, loss=0.451]\n"
     ]
    },
    {
     "name": "stdout",
     "output_type": "stream",
     "text": [
      "\n",
      "Epoch: 441\n"
     ]
    },
    {
     "name": "stderr",
     "output_type": "stream",
     "text": [
      "Epoch : 441: 100%|█████████████████████████████████████████████████████████████████████████████████████████████████████| 782/782 [01:13<00:00, 10.62it/s, Acc=98.5, loss=0.0433]\n",
      "100%|███████████████████████████████████████████████████████████████████████████████████████████████████████████████████| 157/157 [00:05<00:00, 28.32it/s, Acc=90.6, loss=0.502]\n"
     ]
    },
    {
     "name": "stdout",
     "output_type": "stream",
     "text": [
      "\n",
      "Epoch: 442\n"
     ]
    },
    {
     "name": "stderr",
     "output_type": "stream",
     "text": [
      "Epoch : 442: 100%|█████████████████████████████████████████████████████████████████████████████████████████████████████| 782/782 [01:14<00:00, 10.56it/s, Acc=98.5, loss=0.0453]\n",
      "100%|███████████████████████████████████████████████████████████████████████████████████████████████████████████████████| 157/157 [00:05<00:00, 28.12it/s, Acc=91.1, loss=0.449]\n"
     ]
    },
    {
     "name": "stdout",
     "output_type": "stream",
     "text": [
      "\n",
      "Epoch: 443\n"
     ]
    },
    {
     "name": "stderr",
     "output_type": "stream",
     "text": [
      "Epoch : 443: 100%|█████████████████████████████████████████████████████████████████████████████████████████████████████| 782/782 [01:13<00:00, 10.68it/s, Acc=98.5, loss=0.0442]\n",
      "100%|███████████████████████████████████████████████████████████████████████████████████████████████████████████████████| 157/157 [00:05<00:00, 28.25it/s, Acc=90.5, loss=0.481]\n"
     ]
    },
    {
     "name": "stdout",
     "output_type": "stream",
     "text": [
      "\n",
      "Epoch: 444\n"
     ]
    },
    {
     "name": "stderr",
     "output_type": "stream",
     "text": [
      "Epoch : 444: 100%|█████████████████████████████████████████████████████████████████████████████████████████████████████| 782/782 [01:13<00:00, 10.58it/s, Acc=98.4, loss=0.0491]\n",
      "100%|█████████████████████████████████████████████████████████████████████████████████████████████████████████████████████| 157/157 [00:05<00:00, 27.82it/s, Acc=91, loss=0.437]\n"
     ]
    },
    {
     "name": "stdout",
     "output_type": "stream",
     "text": [
      "\n",
      "Epoch: 445\n"
     ]
    },
    {
     "name": "stderr",
     "output_type": "stream",
     "text": [
      "Epoch : 445: 100%|█████████████████████████████████████████████████████████████████████████████████████████████████████| 782/782 [01:13<00:00, 10.67it/s, Acc=98.5, loss=0.0456]\n",
      "100%|███████████████████████████████████████████████████████████████████████████████████████████████████████████████████| 157/157 [00:05<00:00, 28.53it/s, Acc=91.2, loss=0.457]\n"
     ]
    },
    {
     "name": "stdout",
     "output_type": "stream",
     "text": [
      "\n",
      "Epoch: 446\n"
     ]
    },
    {
     "name": "stderr",
     "output_type": "stream",
     "text": [
      "Epoch : 446: 100%|█████████████████████████████████████████████████████████████████████████████████████████████████████| 782/782 [01:14<00:00, 10.56it/s, Acc=98.4, loss=0.0458]\n",
      "100%|███████████████████████████████████████████████████████████████████████████████████████████████████████████████████| 157/157 [00:05<00:00, 28.56it/s, Acc=90.8, loss=0.467]\n"
     ]
    },
    {
     "name": "stdout",
     "output_type": "stream",
     "text": [
      "\n",
      "Epoch: 447\n"
     ]
    },
    {
     "name": "stderr",
     "output_type": "stream",
     "text": [
      "Epoch : 447: 100%|█████████████████████████████████████████████████████████████████████████████████████████████████████| 782/782 [01:13<00:00, 10.61it/s, Acc=98.4, loss=0.0466]\n",
      "100%|███████████████████████████████████████████████████████████████████████████████████████████████████████████████████| 157/157 [00:05<00:00, 28.42it/s, Acc=90.8, loss=0.489]\n"
     ]
    },
    {
     "name": "stdout",
     "output_type": "stream",
     "text": [
      "\n",
      "Epoch: 448\n"
     ]
    },
    {
     "name": "stderr",
     "output_type": "stream",
     "text": [
      "Epoch : 448: 100%|█████████████████████████████████████████████████████████████████████████████████████████████████████| 782/782 [01:13<00:00, 10.61it/s, Acc=98.6, loss=0.0437]\n",
      "100%|███████████████████████████████████████████████████████████████████████████████████████████████████████████████████| 157/157 [00:05<00:00, 28.05it/s, Acc=91.2, loss=0.452]\n"
     ]
    },
    {
     "name": "stdout",
     "output_type": "stream",
     "text": [
      "\n",
      "Epoch: 449\n"
     ]
    },
    {
     "name": "stderr",
     "output_type": "stream",
     "text": [
      "Epoch : 449: 100%|█████████████████████████████████████████████████████████████████████████████████████████████████████| 782/782 [01:13<00:00, 10.58it/s, Acc=98.5, loss=0.0458]\n",
      "100%|████████████████████████████████████████████████████████████████████████████████████████████████████████████████████| 157/157 [00:05<00:00, 28.41it/s, Acc=90.7, loss=0.49]\n"
     ]
    },
    {
     "name": "stdout",
     "output_type": "stream",
     "text": [
      "\n",
      "Epoch: 450\n"
     ]
    },
    {
     "name": "stderr",
     "output_type": "stream",
     "text": [
      "Epoch : 450: 100%|█████████████████████████████████████████████████████████████████████████████████████████████████████| 782/782 [01:13<00:00, 10.71it/s, Acc=98.5, loss=0.0454]\n",
      "100%|███████████████████████████████████████████████████████████████████████████████████████████████████████████████████| 157/157 [00:05<00:00, 28.37it/s, Acc=90.6, loss=0.462]\n"
     ]
    },
    {
     "name": "stdout",
     "output_type": "stream",
     "text": [
      "\n",
      "Epoch: 451\n"
     ]
    },
    {
     "name": "stderr",
     "output_type": "stream",
     "text": [
      "Epoch : 451: 100%|█████████████████████████████████████████████████████████████████████████████████████████████████████| 782/782 [01:14<00:00, 10.55it/s, Acc=98.5, loss=0.0427]\n",
      "100%|█████████████████████████████████████████████████████████████████████████████████████████████████████████████████████| 157/157 [00:05<00:00, 28.24it/s, Acc=91, loss=0.499]\n"
     ]
    },
    {
     "name": "stdout",
     "output_type": "stream",
     "text": [
      "\n",
      "Epoch: 452\n"
     ]
    },
    {
     "name": "stderr",
     "output_type": "stream",
     "text": [
      "Epoch : 452: 100%|█████████████████████████████████████████████████████████████████████████████████████████████████████| 782/782 [01:13<00:00, 10.66it/s, Acc=98.4, loss=0.0468]\n",
      "100%|███████████████████████████████████████████████████████████████████████████████████████████████████████████████████| 157/157 [00:05<00:00, 27.98it/s, Acc=90.7, loss=0.479]\n"
     ]
    },
    {
     "name": "stdout",
     "output_type": "stream",
     "text": [
      "\n",
      "Epoch: 453\n"
     ]
    },
    {
     "name": "stderr",
     "output_type": "stream",
     "text": [
      "Epoch : 453: 100%|█████████████████████████████████████████████████████████████████████████████████████████████████████| 782/782 [01:14<00:00, 10.56it/s, Acc=98.5, loss=0.0452]\n",
      "100%|███████████████████████████████████████████████████████████████████████████████████████████████████████████████████| 157/157 [00:05<00:00, 28.46it/s, Acc=90.7, loss=0.476]\n"
     ]
    },
    {
     "name": "stdout",
     "output_type": "stream",
     "text": [
      "\n",
      "Epoch: 454\n"
     ]
    },
    {
     "name": "stderr",
     "output_type": "stream",
     "text": [
      "Epoch : 454: 100%|█████████████████████████████████████████████████████████████████████████████████████████████████████| 782/782 [01:13<00:00, 10.61it/s, Acc=98.4, loss=0.0469]\n",
      "100%|███████████████████████████████████████████████████████████████████████████████████████████████████████████████████| 157/157 [00:05<00:00, 29.26it/s, Acc=91.4, loss=0.458]\n"
     ]
    },
    {
     "name": "stdout",
     "output_type": "stream",
     "text": [
      "\n",
      "Epoch: 455\n"
     ]
    },
    {
     "name": "stderr",
     "output_type": "stream",
     "text": [
      "Epoch : 455: 100%|█████████████████████████████████████████████████████████████████████████████████████████████████████| 782/782 [01:14<00:00, 10.57it/s, Acc=98.5, loss=0.0433]\n",
      "100%|███████████████████████████████████████████████████████████████████████████████████████████████████████████████████| 157/157 [00:05<00:00, 28.31it/s, Acc=90.7, loss=0.456]\n"
     ]
    },
    {
     "name": "stdout",
     "output_type": "stream",
     "text": [
      "\n",
      "Epoch: 456\n"
     ]
    },
    {
     "name": "stderr",
     "output_type": "stream",
     "text": [
      "Epoch : 456: 100%|█████████████████████████████████████████████████████████████████████████████████████████████████████| 782/782 [01:14<00:00, 10.56it/s, Acc=98.4, loss=0.0476]\n",
      "100%|█████████████████████████████████████████████████████████████████████████████████████████████████████████████████████| 157/157 [00:05<00:00, 28.02it/s, Acc=91, loss=0.449]\n"
     ]
    },
    {
     "name": "stdout",
     "output_type": "stream",
     "text": [
      "\n",
      "Epoch: 457\n"
     ]
    },
    {
     "name": "stderr",
     "output_type": "stream",
     "text": [
      "Epoch : 457: 100%|█████████████████████████████████████████████████████████████████████████████████████████████████████| 782/782 [01:13<00:00, 10.63it/s, Acc=98.4, loss=0.0458]\n",
      "100%|█████████████████████████████████████████████████████████████████████████████████████████████████████████████████████| 157/157 [00:05<00:00, 27.98it/s, Acc=91, loss=0.432]\n"
     ]
    },
    {
     "name": "stdout",
     "output_type": "stream",
     "text": [
      "\n",
      "Epoch: 458\n"
     ]
    },
    {
     "name": "stderr",
     "output_type": "stream",
     "text": [
      "Epoch : 458: 100%|█████████████████████████████████████████████████████████████████████████████████████████████████████| 782/782 [01:13<00:00, 10.57it/s, Acc=98.5, loss=0.0435]\n",
      "100%|███████████████████████████████████████████████████████████████████████████████████████████████████████████████████| 157/157 [00:05<00:00, 28.13it/s, Acc=91.3, loss=0.456]\n"
     ]
    },
    {
     "name": "stdout",
     "output_type": "stream",
     "text": [
      "\n",
      "Epoch: 459\n"
     ]
    },
    {
     "name": "stderr",
     "output_type": "stream",
     "text": [
      "Epoch : 459: 100%|█████████████████████████████████████████████████████████████████████████████████████████████████████| 782/782 [01:13<00:00, 10.66it/s, Acc=98.6, loss=0.0428]\n",
      "100%|█████████████████████████████████████████████████████████████████████████████████████████████████████████████████████| 157/157 [00:05<00:00, 27.51it/s, Acc=91, loss=0.467]\n"
     ]
    },
    {
     "name": "stdout",
     "output_type": "stream",
     "text": [
      "\n",
      "Epoch: 460\n"
     ]
    },
    {
     "name": "stderr",
     "output_type": "stream",
     "text": [
      "Epoch : 460: 100%|█████████████████████████████████████████████████████████████████████████████████████████████████████| 782/782 [01:14<00:00, 10.56it/s, Acc=98.5, loss=0.0442]\n",
      "100%|███████████████████████████████████████████████████████████████████████████████████████████████████████████████████| 157/157 [00:05<00:00, 27.98it/s, Acc=91.1, loss=0.445]\n"
     ]
    },
    {
     "name": "stdout",
     "output_type": "stream",
     "text": [
      "\n",
      "Epoch: 461\n"
     ]
    },
    {
     "name": "stderr",
     "output_type": "stream",
     "text": [
      "Epoch : 461: 100%|█████████████████████████████████████████████████████████████████████████████████████████████████████| 782/782 [01:13<00:00, 10.65it/s, Acc=98.4, loss=0.0454]\n",
      "100%|███████████████████████████████████████████████████████████████████████████████████████████████████████████████████| 157/157 [00:05<00:00, 27.78it/s, Acc=90.5, loss=0.472]\n"
     ]
    },
    {
     "name": "stdout",
     "output_type": "stream",
     "text": [
      "\n",
      "Epoch: 462\n"
     ]
    },
    {
     "name": "stderr",
     "output_type": "stream",
     "text": [
      "Epoch : 462: 100%|█████████████████████████████████████████████████████████████████████████████████████████████████████| 782/782 [01:13<00:00, 10.57it/s, Acc=98.5, loss=0.0433]\n",
      "100%|███████████████████████████████████████████████████████████████████████████████████████████████████████████████████| 157/157 [00:05<00:00, 27.94it/s, Acc=90.8, loss=0.463]\n"
     ]
    },
    {
     "name": "stdout",
     "output_type": "stream",
     "text": [
      "\n",
      "Epoch: 463\n"
     ]
    },
    {
     "name": "stderr",
     "output_type": "stream",
     "text": [
      "Epoch : 463: 100%|█████████████████████████████████████████████████████████████████████████████████████████████████████| 782/782 [01:14<00:00, 10.56it/s, Acc=98.5, loss=0.0448]\n",
      "100%|███████████████████████████████████████████████████████████████████████████████████████████████████████████████████| 157/157 [00:05<00:00, 30.41it/s, Acc=90.9, loss=0.446]\n"
     ]
    },
    {
     "name": "stdout",
     "output_type": "stream",
     "text": [
      "\n",
      "Epoch: 464\n"
     ]
    },
    {
     "name": "stderr",
     "output_type": "stream",
     "text": [
      "Epoch : 464: 100%|█████████████████████████████████████████████████████████████████████████████████████████████████████| 782/782 [01:13<00:00, 10.64it/s, Acc=98.4, loss=0.0443]\n",
      "100%|███████████████████████████████████████████████████████████████████████████████████████████████████████████████████| 157/157 [00:05<00:00, 28.14it/s, Acc=90.8, loss=0.498]\n"
     ]
    },
    {
     "name": "stdout",
     "output_type": "stream",
     "text": [
      "\n",
      "Epoch: 465\n"
     ]
    },
    {
     "name": "stderr",
     "output_type": "stream",
     "text": [
      "Epoch : 465: 100%|█████████████████████████████████████████████████████████████████████████████████████████████████████| 782/782 [01:14<00:00, 10.54it/s, Acc=98.5, loss=0.0432]\n",
      "100%|███████████████████████████████████████████████████████████████████████████████████████████████████████████████████| 157/157 [00:05<00:00, 28.17it/s, Acc=90.8, loss=0.485]\n"
     ]
    },
    {
     "name": "stdout",
     "output_type": "stream",
     "text": [
      "\n",
      "Epoch: 466\n"
     ]
    },
    {
     "name": "stderr",
     "output_type": "stream",
     "text": [
      "Epoch : 466: 100%|█████████████████████████████████████████████████████████████████████████████████████████████████████| 782/782 [01:13<00:00, 10.68it/s, Acc=98.5, loss=0.0446]\n",
      "100%|███████████████████████████████████████████████████████████████████████████████████████████████████████████████████| 157/157 [00:05<00:00, 28.16it/s, Acc=91.1, loss=0.459]\n"
     ]
    },
    {
     "name": "stdout",
     "output_type": "stream",
     "text": [
      "\n",
      "Epoch: 467\n"
     ]
    },
    {
     "name": "stderr",
     "output_type": "stream",
     "text": [
      "Epoch : 467: 100%|█████████████████████████████████████████████████████████████████████████████████████████████████████| 782/782 [01:14<00:00, 10.55it/s, Acc=98.5, loss=0.0427]\n",
      "100%|███████████████████████████████████████████████████████████████████████████████████████████████████████████████████| 157/157 [00:05<00:00, 28.01it/s, Acc=91.1, loss=0.456]\n"
     ]
    },
    {
     "name": "stdout",
     "output_type": "stream",
     "text": [
      "\n",
      "Epoch: 468\n"
     ]
    },
    {
     "name": "stderr",
     "output_type": "stream",
     "text": [
      "Epoch : 468: 100%|██████████████████████████████████████████████████████████████████████████████████████████████████████| 782/782 [01:13<00:00, 10.64it/s, Acc=98.5, loss=0.044]\n",
      "100%|█████████████████████████████████████████████████████████████████████████████████████████████████████████████████████| 157/157 [00:05<00:00, 27.77it/s, Acc=91, loss=0.453]\n"
     ]
    },
    {
     "name": "stdout",
     "output_type": "stream",
     "text": [
      "\n",
      "Epoch: 469\n"
     ]
    },
    {
     "name": "stderr",
     "output_type": "stream",
     "text": [
      "Epoch : 469: 100%|█████████████████████████████████████████████████████████████████████████████████████████████████████| 782/782 [01:14<00:00, 10.54it/s, Acc=98.5, loss=0.0427]\n",
      "100%|████████████████████████████████████████████████████████████████████████████████████████████████████████████████████| 157/157 [00:05<00:00, 28.18it/s, Acc=91.4, loss=0.42]\n"
     ]
    },
    {
     "name": "stdout",
     "output_type": "stream",
     "text": [
      "\n",
      "Epoch: 470\n"
     ]
    },
    {
     "name": "stderr",
     "output_type": "stream",
     "text": [
      "Epoch : 470: 100%|█████████████████████████████████████████████████████████████████████████████████████████████████████| 782/782 [01:13<00:00, 10.63it/s, Acc=98.5, loss=0.0455]\n",
      "100%|███████████████████████████████████████████████████████████████████████████████████████████████████████████████████| 157/157 [00:05<00:00, 28.09it/s, Acc=90.8, loss=0.478]\n"
     ]
    },
    {
     "name": "stdout",
     "output_type": "stream",
     "text": [
      "\n",
      "Epoch: 471\n"
     ]
    },
    {
     "name": "stderr",
     "output_type": "stream",
     "text": [
      "Epoch : 471: 100%|█████████████████████████████████████████████████████████████████████████████████████████████████████| 782/782 [01:13<00:00, 10.61it/s, Acc=98.5, loss=0.0424]\n",
      "100%|███████████████████████████████████████████████████████████████████████████████████████████████████████████████████| 157/157 [00:05<00:00, 27.76it/s, Acc=90.7, loss=0.474]\n"
     ]
    },
    {
     "name": "stdout",
     "output_type": "stream",
     "text": [
      "\n",
      "Epoch: 472\n"
     ]
    },
    {
     "name": "stderr",
     "output_type": "stream",
     "text": [
      "Epoch : 472: 100%|█████████████████████████████████████████████████████████████████████████████████████████████████████| 782/782 [01:14<00:00, 10.55it/s, Acc=98.6, loss=0.0417]\n",
      "100%|███████████████████████████████████████████████████████████████████████████████████████████████████████████████████| 157/157 [00:05<00:00, 27.99it/s, Acc=90.9, loss=0.454]\n"
     ]
    },
    {
     "name": "stdout",
     "output_type": "stream",
     "text": [
      "\n",
      "Epoch: 473\n"
     ]
    },
    {
     "name": "stderr",
     "output_type": "stream",
     "text": [
      "Epoch : 473: 100%|█████████████████████████████████████████████████████████████████████████████████████████████████████| 782/782 [01:13<00:00, 10.62it/s, Acc=98.6, loss=0.0445]\n",
      "100%|███████████████████████████████████████████████████████████████████████████████████████████████████████████████████| 157/157 [00:05<00:00, 27.76it/s, Acc=91.1, loss=0.463]\n"
     ]
    },
    {
     "name": "stdout",
     "output_type": "stream",
     "text": [
      "\n",
      "Epoch: 474\n"
     ]
    },
    {
     "name": "stderr",
     "output_type": "stream",
     "text": [
      "Epoch : 474: 100%|█████████████████████████████████████████████████████████████████████████████████████████████████████| 782/782 [01:14<00:00, 10.56it/s, Acc=98.6, loss=0.0452]\n",
      "100%|███████████████████████████████████████████████████████████████████████████████████████████████████████████████████| 157/157 [00:05<00:00, 28.01it/s, Acc=90.8, loss=0.464]\n"
     ]
    },
    {
     "name": "stdout",
     "output_type": "stream",
     "text": [
      "\n",
      "Epoch: 475\n"
     ]
    },
    {
     "name": "stderr",
     "output_type": "stream",
     "text": [
      "Epoch : 475: 100%|█████████████████████████████████████████████████████████████████████████████████████████████████████| 782/782 [01:13<00:00, 10.63it/s, Acc=98.7, loss=0.0417]\n",
      "100%|███████████████████████████████████████████████████████████████████████████████████████████████████████████████████| 157/157 [00:05<00:00, 27.59it/s, Acc=90.8, loss=0.483]\n"
     ]
    },
    {
     "name": "stdout",
     "output_type": "stream",
     "text": [
      "\n",
      "Epoch: 476\n"
     ]
    },
    {
     "name": "stderr",
     "output_type": "stream",
     "text": [
      "Epoch : 476: 100%|█████████████████████████████████████████████████████████████████████████████████████████████████████| 782/782 [01:14<00:00, 10.56it/s, Acc=98.5, loss=0.0457]\n",
      "100%|████████████████████████████████████████████████████████████████████████████████████████████████████████████████████| 157/157 [00:05<00:00, 27.56it/s, Acc=90.9, loss=0.49]\n"
     ]
    },
    {
     "name": "stdout",
     "output_type": "stream",
     "text": [
      "\n",
      "Epoch: 477\n"
     ]
    },
    {
     "name": "stderr",
     "output_type": "stream",
     "text": [
      "Epoch : 477: 100%|█████████████████████████████████████████████████████████████████████████████████████████████████████| 782/782 [01:13<00:00, 10.59it/s, Acc=98.5, loss=0.0456]\n",
      "100%|███████████████████████████████████████████████████████████████████████████████████████████████████████████████████| 157/157 [00:05<00:00, 28.64it/s, Acc=90.9, loss=0.442]\n"
     ]
    },
    {
     "name": "stdout",
     "output_type": "stream",
     "text": [
      "\n",
      "Epoch: 478\n"
     ]
    },
    {
     "name": "stderr",
     "output_type": "stream",
     "text": [
      "Epoch : 478: 100%|█████████████████████████████████████████████████████████████████████████████████████████████████████| 782/782 [01:13<00:00, 10.58it/s, Acc=98.6, loss=0.0404]\n",
      "100%|███████████████████████████████████████████████████████████████████████████████████████████████████████████████████| 157/157 [00:05<00:00, 27.86it/s, Acc=90.9, loss=0.504]\n"
     ]
    },
    {
     "name": "stdout",
     "output_type": "stream",
     "text": [
      "\n",
      "Epoch: 479\n"
     ]
    },
    {
     "name": "stderr",
     "output_type": "stream",
     "text": [
      "Epoch : 479: 100%|█████████████████████████████████████████████████████████████████████████████████████████████████████| 782/782 [01:14<00:00, 10.55it/s, Acc=98.6, loss=0.0422]\n",
      "100%|███████████████████████████████████████████████████████████████████████████████████████████████████████████████████| 157/157 [00:05<00:00, 28.16it/s, Acc=90.9, loss=0.463]\n"
     ]
    },
    {
     "name": "stdout",
     "output_type": "stream",
     "text": [
      "\n",
      "Epoch: 480\n"
     ]
    },
    {
     "name": "stderr",
     "output_type": "stream",
     "text": [
      "Epoch : 480: 100%|██████████████████████████████████████████████████████████████████████████████████████████████████████| 782/782 [01:13<00:00, 10.66it/s, Acc=98.7, loss=0.041]\n",
      "100%|███████████████████████████████████████████████████████████████████████████████████████████████████████████████████| 157/157 [00:05<00:00, 27.12it/s, Acc=91.1, loss=0.466]\n"
     ]
    },
    {
     "name": "stdout",
     "output_type": "stream",
     "text": [
      "\n",
      "Epoch: 481\n"
     ]
    },
    {
     "name": "stderr",
     "output_type": "stream",
     "text": [
      "Epoch : 481: 100%|█████████████████████████████████████████████████████████████████████████████████████████████████████| 782/782 [01:14<00:00, 10.54it/s, Acc=98.6, loss=0.0438]\n",
      "100%|███████████████████████████████████████████████████████████████████████████████████████████████████████████████████| 157/157 [00:05<00:00, 27.54it/s, Acc=91.1, loss=0.449]\n"
     ]
    },
    {
     "name": "stdout",
     "output_type": "stream",
     "text": [
      "\n",
      "Epoch: 482\n"
     ]
    },
    {
     "name": "stderr",
     "output_type": "stream",
     "text": [
      "Epoch : 482: 100%|█████████████████████████████████████████████████████████████████████████████████████████████████████| 782/782 [01:13<00:00, 10.68it/s, Acc=98.5, loss=0.0452]\n",
      "100%|███████████████████████████████████████████████████████████████████████████████████████████████████████████████████| 157/157 [00:05<00:00, 28.47it/s, Acc=91.1, loss=0.471]\n"
     ]
    },
    {
     "name": "stdout",
     "output_type": "stream",
     "text": [
      "\n",
      "Epoch: 483\n"
     ]
    },
    {
     "name": "stderr",
     "output_type": "stream",
     "text": [
      "Epoch : 483: 100%|█████████████████████████████████████████████████████████████████████████████████████████████████████| 782/782 [01:14<00:00, 10.57it/s, Acc=98.5, loss=0.0433]\n",
      "100%|███████████████████████████████████████████████████████████████████████████████████████████████████████████████████| 157/157 [00:05<00:00, 28.28it/s, Acc=90.5, loss=0.485]\n"
     ]
    },
    {
     "name": "stdout",
     "output_type": "stream",
     "text": [
      "\n",
      "Epoch: 484\n"
     ]
    },
    {
     "name": "stderr",
     "output_type": "stream",
     "text": [
      "Epoch : 484: 100%|█████████████████████████████████████████████████████████████████████████████████████████████████████| 782/782 [01:13<00:00, 10.66it/s, Acc=98.7, loss=0.0421]\n",
      "100%|███████████████████████████████████████████████████████████████████████████████████████████████████████████████████| 157/157 [00:05<00:00, 28.70it/s, Acc=90.9, loss=0.448]\n"
     ]
    },
    {
     "name": "stdout",
     "output_type": "stream",
     "text": [
      "\n",
      "Epoch: 485\n"
     ]
    },
    {
     "name": "stderr",
     "output_type": "stream",
     "text": [
      "Epoch : 485: 100%|█████████████████████████████████████████████████████████████████████████████████████████████████████| 782/782 [01:14<00:00, 10.57it/s, Acc=98.6, loss=0.0425]\n",
      "100%|███████████████████████████████████████████████████████████████████████████████████████████████████████████████████| 157/157 [00:05<00:00, 28.68it/s, Acc=91.1, loss=0.473]\n"
     ]
    },
    {
     "name": "stdout",
     "output_type": "stream",
     "text": [
      "\n",
      "Epoch: 486\n"
     ]
    },
    {
     "name": "stderr",
     "output_type": "stream",
     "text": [
      "Epoch : 486: 100%|█████████████████████████████████████████████████████████████████████████████████████████████████████| 782/782 [01:13<00:00, 10.57it/s, Acc=98.6, loss=0.0411]\n",
      "100%|███████████████████████████████████████████████████████████████████████████████████████████████████████████████████| 157/157 [00:05<00:00, 30.28it/s, Acc=91.3, loss=0.438]\n"
     ]
    },
    {
     "name": "stdout",
     "output_type": "stream",
     "text": [
      "\n",
      "Epoch: 487\n"
     ]
    },
    {
     "name": "stderr",
     "output_type": "stream",
     "text": [
      "Epoch : 487: 100%|██████████████████████████████████████████████████████████████████████████████████████████████████████| 782/782 [01:13<00:00, 10.62it/s, Acc=98.6, loss=0.042]\n",
      "100%|███████████████████████████████████████████████████████████████████████████████████████████████████████████████████| 157/157 [00:05<00:00, 28.22it/s, Acc=91.2, loss=0.459]\n"
     ]
    },
    {
     "name": "stdout",
     "output_type": "stream",
     "text": [
      "\n",
      "Epoch: 488\n"
     ]
    },
    {
     "name": "stderr",
     "output_type": "stream",
     "text": [
      "Epoch : 488: 100%|█████████████████████████████████████████████████████████████████████████████████████████████████████| 782/782 [01:13<00:00, 10.57it/s, Acc=98.6, loss=0.0418]\n",
      "100%|█████████████████████████████████████████████████████████████████████████████████████████████████████████████████████| 157/157 [00:05<00:00, 28.16it/s, Acc=91, loss=0.448]\n"
     ]
    },
    {
     "name": "stdout",
     "output_type": "stream",
     "text": [
      "\n",
      "Epoch: 489\n"
     ]
    },
    {
     "name": "stderr",
     "output_type": "stream",
     "text": [
      "Epoch : 489: 100%|█████████████████████████████████████████████████████████████████████████████████████████████████████| 782/782 [01:13<00:00, 10.63it/s, Acc=98.6, loss=0.0414]\n",
      "100%|███████████████████████████████████████████████████████████████████████████████████████████████████████████████████| 157/157 [00:05<00:00, 28.23it/s, Acc=91.2, loss=0.474]\n"
     ]
    },
    {
     "name": "stdout",
     "output_type": "stream",
     "text": [
      "\n",
      "Epoch: 490\n"
     ]
    },
    {
     "name": "stderr",
     "output_type": "stream",
     "text": [
      "Epoch : 490: 100%|█████████████████████████████████████████████████████████████████████████████████████████████████████| 782/782 [01:14<00:00, 10.56it/s, Acc=98.6, loss=0.0397]\n",
      "100%|█████████████████████████████████████████████████████████████████████████████████████████████████████████████████████| 157/157 [00:05<00:00, 28.10it/s, Acc=91, loss=0.456]\n"
     ]
    },
    {
     "name": "stdout",
     "output_type": "stream",
     "text": [
      "\n",
      "Epoch: 491\n"
     ]
    },
    {
     "name": "stderr",
     "output_type": "stream",
     "text": [
      "Epoch : 491: 100%|█████████████████████████████████████████████████████████████████████████████████████████████████████| 782/782 [01:13<00:00, 10.65it/s, Acc=98.5, loss=0.0443]\n",
      "100%|█████████████████████████████████████████████████████████████████████████████████████████████████████████████████████| 157/157 [00:05<00:00, 28.18it/s, Acc=91, loss=0.439]\n"
     ]
    },
    {
     "name": "stdout",
     "output_type": "stream",
     "text": [
      "\n",
      "Epoch: 492\n"
     ]
    },
    {
     "name": "stderr",
     "output_type": "stream",
     "text": [
      "Epoch : 492: 100%|█████████████████████████████████████████████████████████████████████████████████████████████████████| 782/782 [01:14<00:00, 10.57it/s, Acc=98.6, loss=0.0394]\n",
      "100%|███████████████████████████████████████████████████████████████████████████████████████████████████████████████████| 157/157 [00:05<00:00, 28.17it/s, Acc=90.8, loss=0.466]\n"
     ]
    },
    {
     "name": "stdout",
     "output_type": "stream",
     "text": [
      "\n",
      "Epoch: 493\n"
     ]
    },
    {
     "name": "stderr",
     "output_type": "stream",
     "text": [
      "Epoch : 493: 100%|█████████████████████████████████████████████████████████████████████████████████████████████████████| 782/782 [01:13<00:00, 10.60it/s, Acc=98.6, loss=0.0398]\n",
      "100%|███████████████████████████████████████████████████████████████████████████████████████████████████████████████████| 157/157 [00:05<00:00, 28.71it/s, Acc=91.2, loss=0.488]\n"
     ]
    },
    {
     "name": "stdout",
     "output_type": "stream",
     "text": [
      "\n",
      "Epoch: 494\n"
     ]
    },
    {
     "name": "stderr",
     "output_type": "stream",
     "text": [
      "Epoch : 494: 100%|█████████████████████████████████████████████████████████████████████████████████████████████████████| 782/782 [01:13<00:00, 10.60it/s, Acc=98.6, loss=0.0429]\n",
      "100%|█████████████████████████████████████████████████████████████████████████████████████████████████████████████████████| 157/157 [00:05<00:00, 28.21it/s, Acc=91, loss=0.452]\n"
     ]
    },
    {
     "name": "stdout",
     "output_type": "stream",
     "text": [
      "\n",
      "Epoch: 495\n"
     ]
    },
    {
     "name": "stderr",
     "output_type": "stream",
     "text": [
      "Epoch : 495: 100%|█████████████████████████████████████████████████████████████████████████████████████████████████████| 782/782 [01:13<00:00, 10.57it/s, Acc=98.6, loss=0.0415]\n",
      "100%|███████████████████████████████████████████████████████████████████████████████████████████████████████████████████| 157/157 [00:05<00:00, 28.30it/s, Acc=91.1, loss=0.445]\n"
     ]
    },
    {
     "name": "stdout",
     "output_type": "stream",
     "text": [
      "\n",
      "Epoch: 496\n"
     ]
    },
    {
     "name": "stderr",
     "output_type": "stream",
     "text": [
      "Epoch : 496: 100%|█████████████████████████████████████████████████████████████████████████████████████████████████████| 782/782 [01:13<00:00, 10.69it/s, Acc=98.7, loss=0.0402]\n",
      "100%|███████████████████████████████████████████████████████████████████████████████████████████████████████████████████| 157/157 [00:05<00:00, 28.62it/s, Acc=90.8, loss=0.473]\n"
     ]
    },
    {
     "name": "stdout",
     "output_type": "stream",
     "text": [
      "\n",
      "Epoch: 497\n"
     ]
    },
    {
     "name": "stderr",
     "output_type": "stream",
     "text": [
      "Epoch : 497: 100%|█████████████████████████████████████████████████████████████████████████████████████████████████████| 782/782 [01:14<00:00, 10.54it/s, Acc=98.7, loss=0.0392]\n",
      "100%|███████████████████████████████████████████████████████████████████████████████████████████████████████████████████| 157/157 [00:05<00:00, 28.28it/s, Acc=90.5, loss=0.477]\n"
     ]
    },
    {
     "name": "stdout",
     "output_type": "stream",
     "text": [
      "\n",
      "Epoch: 498\n"
     ]
    },
    {
     "name": "stderr",
     "output_type": "stream",
     "text": [
      "Epoch : 498: 100%|█████████████████████████████████████████████████████████████████████████████████████████████████████| 782/782 [01:13<00:00, 10.67it/s, Acc=98.6, loss=0.0424]\n",
      "100%|███████████████████████████████████████████████████████████████████████████████████████████████████████████████████| 157/157 [00:05<00:00, 28.50it/s, Acc=90.6, loss=0.481]\n"
     ]
    },
    {
     "name": "stdout",
     "output_type": "stream",
     "text": [
      "\n",
      "Epoch: 499\n"
     ]
    },
    {
     "name": "stderr",
     "output_type": "stream",
     "text": [
      "Epoch : 499: 100%|█████████████████████████████████████████████████████████████████████████████████████████████████████| 782/782 [01:14<00:00, 10.56it/s, Acc=98.6, loss=0.0416]\n",
      "100%|███████████████████████████████████████████████████████████████████████████████████████████████████████████████████| 157/157 [00:05<00:00, 28.10it/s, Acc=91.4, loss=0.486]\n"
     ]
    },
    {
     "name": "stdout",
     "output_type": "stream",
     "text": [
      "\n",
      "Epoch: 500\n"
     ]
    },
    {
     "name": "stderr",
     "output_type": "stream",
     "text": [
      "Epoch : 500: 100%|█████████████████████████████████████████████████████████████████████████████████████████████████████| 782/782 [01:13<00:00, 10.61it/s, Acc=98.6, loss=0.0417]\n",
      "100%|███████████████████████████████████████████████████████████████████████████████████████████████████████████████████| 157/157 [00:05<00:00, 28.24it/s, Acc=90.9, loss=0.457]\n"
     ]
    },
    {
     "name": "stdout",
     "output_type": "stream",
     "text": [
      "\n",
      "Epoch: 501\n"
     ]
    },
    {
     "name": "stderr",
     "output_type": "stream",
     "text": [
      "Epoch : 501: 100%|█████████████████████████████████████████████████████████████████████████████████████████████████████| 782/782 [01:13<00:00, 10.60it/s, Acc=98.7, loss=0.0401]\n",
      "100%|███████████████████████████████████████████████████████████████████████████████████████████████████████████████████| 157/157 [00:05<00:00, 28.18it/s, Acc=90.9, loss=0.456]\n"
     ]
    },
    {
     "name": "stdout",
     "output_type": "stream",
     "text": [
      "\n",
      "Epoch: 502\n"
     ]
    },
    {
     "name": "stderr",
     "output_type": "stream",
     "text": [
      "Epoch : 502: 100%|█████████████████████████████████████████████████████████████████████████████████████████████████████| 782/782 [01:13<00:00, 10.58it/s, Acc=98.7, loss=0.0399]\n",
      "100%|███████████████████████████████████████████████████████████████████████████████████████████████████████████████████| 157/157 [00:05<00:00, 28.10it/s, Acc=90.8, loss=0.485]\n"
     ]
    },
    {
     "name": "stdout",
     "output_type": "stream",
     "text": [
      "\n",
      "Epoch: 503\n"
     ]
    },
    {
     "name": "stderr",
     "output_type": "stream",
     "text": [
      "Epoch : 503: 100%|█████████████████████████████████████████████████████████████████████████████████████████████████████| 782/782 [01:13<00:00, 10.67it/s, Acc=98.7, loss=0.0406]\n",
      "100%|███████████████████████████████████████████████████████████████████████████████████████████████████████████████████| 157/157 [00:05<00:00, 28.26it/s, Acc=91.3, loss=0.471]\n"
     ]
    },
    {
     "name": "stdout",
     "output_type": "stream",
     "text": [
      "\n",
      "Epoch: 504\n"
     ]
    },
    {
     "name": "stderr",
     "output_type": "stream",
     "text": [
      "Epoch : 504: 100%|█████████████████████████████████████████████████████████████████████████████████████████████████████| 782/782 [01:13<00:00, 10.59it/s, Acc=98.6, loss=0.0415]\n",
      "100%|███████████████████████████████████████████████████████████████████████████████████████████████████████████████████| 157/157 [00:05<00:00, 28.48it/s, Acc=90.7, loss=0.448]\n"
     ]
    },
    {
     "name": "stdout",
     "output_type": "stream",
     "text": [
      "\n",
      "Epoch: 505\n"
     ]
    },
    {
     "name": "stderr",
     "output_type": "stream",
     "text": [
      "Epoch : 505: 100%|█████████████████████████████████████████████████████████████████████████████████████████████████████| 782/782 [01:13<00:00, 10.69it/s, Acc=98.7, loss=0.0387]\n",
      "100%|███████████████████████████████████████████████████████████████████████████████████████████████████████████████████| 157/157 [00:05<00:00, 28.62it/s, Acc=91.2, loss=0.459]\n"
     ]
    },
    {
     "name": "stdout",
     "output_type": "stream",
     "text": [
      "\n",
      "Epoch: 506\n"
     ]
    },
    {
     "name": "stderr",
     "output_type": "stream",
     "text": [
      "Epoch : 506: 100%|█████████████████████████████████████████████████████████████████████████████████████████████████████| 782/782 [01:13<00:00, 10.57it/s, Acc=98.7, loss=0.0405]\n",
      "100%|█████████████████████████████████████████████████████████████████████████████████████████████████████████████████████| 157/157 [00:05<00:00, 28.58it/s, Acc=91, loss=0.474]\n"
     ]
    },
    {
     "name": "stdout",
     "output_type": "stream",
     "text": [
      "\n",
      "Epoch: 507\n"
     ]
    },
    {
     "name": "stderr",
     "output_type": "stream",
     "text": [
      "Epoch : 507: 100%|█████████████████████████████████████████████████████████████████████████████████████████████████████| 782/782 [01:13<00:00, 10.62it/s, Acc=98.7, loss=0.0395]\n",
      "100%|███████████████████████████████████████████████████████████████████████████████████████████████████████████████████| 157/157 [00:05<00:00, 29.25it/s, Acc=90.8, loss=0.495]\n"
     ]
    },
    {
     "name": "stdout",
     "output_type": "stream",
     "text": [
      "\n",
      "Epoch: 508\n"
     ]
    },
    {
     "name": "stderr",
     "output_type": "stream",
     "text": [
      "Epoch : 508: 100%|██████████████████████████████████████████████████████████████████████████████████████████████████████| 782/782 [01:13<00:00, 10.59it/s, Acc=98.6, loss=0.041]\n",
      "100%|█████████████████████████████████████████████████████████████████████████████████████████████████████████████████████| 157/157 [00:05<00:00, 28.15it/s, Acc=91, loss=0.508]\n"
     ]
    },
    {
     "name": "stdout",
     "output_type": "stream",
     "text": [
      "\n",
      "Epoch: 509\n"
     ]
    },
    {
     "name": "stderr",
     "output_type": "stream",
     "text": [
      "Epoch : 509: 100%|█████████████████████████████████████████████████████████████████████████████████████████████████████| 782/782 [01:13<00:00, 10.58it/s, Acc=98.6, loss=0.0421]\n",
      "100%|███████████████████████████████████████████████████████████████████████████████████████████████████████████████████| 157/157 [00:05<00:00, 30.07it/s, Acc=90.7, loss=0.473]\n"
     ]
    },
    {
     "name": "stdout",
     "output_type": "stream",
     "text": [
      "\n",
      "Epoch: 510\n"
     ]
    },
    {
     "name": "stderr",
     "output_type": "stream",
     "text": [
      "Epoch : 510: 100%|█████████████████████████████████████████████████████████████████████████████████████████████████████| 782/782 [01:13<00:00, 10.62it/s, Acc=98.6, loss=0.0402]\n",
      "100%|███████████████████████████████████████████████████████████████████████████████████████████████████████████████████| 157/157 [00:05<00:00, 28.04it/s, Acc=91.2, loss=0.452]\n"
     ]
    },
    {
     "name": "stdout",
     "output_type": "stream",
     "text": [
      "\n",
      "Epoch: 511\n"
     ]
    },
    {
     "name": "stderr",
     "output_type": "stream",
     "text": [
      "Epoch : 511: 100%|█████████████████████████████████████████████████████████████████████████████████████████████████████| 782/782 [01:14<00:00, 10.56it/s, Acc=98.6, loss=0.0417]\n",
      "100%|███████████████████████████████████████████████████████████████████████████████████████████████████████████████████| 157/157 [00:05<00:00, 28.30it/s, Acc=91.5, loss=0.446]\n"
     ]
    },
    {
     "name": "stdout",
     "output_type": "stream",
     "text": [
      "\n",
      "Epoch: 512\n"
     ]
    },
    {
     "name": "stderr",
     "output_type": "stream",
     "text": [
      "Epoch : 512: 100%|█████████████████████████████████████████████████████████████████████████████████████████████████████| 782/782 [01:13<00:00, 10.67it/s, Acc=98.7, loss=0.0401]\n",
      "100%|████████████████████████████████████████████████████████████████████████████████████████████████████████████████████| 157/157 [00:05<00:00, 28.36it/s, Acc=91.2, loss=0.46]\n"
     ]
    },
    {
     "name": "stdout",
     "output_type": "stream",
     "text": [
      "\n",
      "Epoch: 513\n"
     ]
    },
    {
     "name": "stderr",
     "output_type": "stream",
     "text": [
      "Epoch : 513: 100%|█████████████████████████████████████████████████████████████████████████████████████████████████████| 782/782 [01:13<00:00, 10.57it/s, Acc=98.7, loss=0.0392]\n",
      "100%|███████████████████████████████████████████████████████████████████████████████████████████████████████████████████| 157/157 [00:05<00:00, 27.61it/s, Acc=91.1, loss=0.477]\n"
     ]
    },
    {
     "name": "stdout",
     "output_type": "stream",
     "text": [
      "\n",
      "Epoch: 514\n"
     ]
    },
    {
     "name": "stderr",
     "output_type": "stream",
     "text": [
      "Epoch : 514: 100%|█████████████████████████████████████████████████████████████████████████████████████████████████████| 782/782 [01:13<00:00, 10.64it/s, Acc=98.7, loss=0.0394]\n",
      "100%|█████████████████████████████████████████████████████████████████████████████████████████████████████████████████████| 157/157 [00:05<00:00, 28.57it/s, Acc=90.8, loss=0.5]\n"
     ]
    },
    {
     "name": "stdout",
     "output_type": "stream",
     "text": [
      "\n",
      "Epoch: 515\n"
     ]
    },
    {
     "name": "stderr",
     "output_type": "stream",
     "text": [
      "Epoch : 515: 100%|█████████████████████████████████████████████████████████████████████████████████████████████████████| 782/782 [01:13<00:00, 10.57it/s, Acc=98.7, loss=0.0394]\n",
      "100%|███████████████████████████████████████████████████████████████████████████████████████████████████████████████████| 157/157 [00:05<00:00, 28.30it/s, Acc=91.1, loss=0.445]\n"
     ]
    },
    {
     "name": "stdout",
     "output_type": "stream",
     "text": [
      "\n",
      "Epoch: 516\n"
     ]
    },
    {
     "name": "stderr",
     "output_type": "stream",
     "text": [
      "Epoch : 516: 100%|█████████████████████████████████████████████████████████████████████████████████████████████████████| 782/782 [01:13<00:00, 10.61it/s, Acc=98.7, loss=0.0376]\n",
      "100%|███████████████████████████████████████████████████████████████████████████████████████████████████████████████████| 157/157 [00:05<00:00, 28.03it/s, Acc=91.1, loss=0.453]\n"
     ]
    },
    {
     "name": "stdout",
     "output_type": "stream",
     "text": [
      "\n",
      "Epoch: 517\n"
     ]
    },
    {
     "name": "stderr",
     "output_type": "stream",
     "text": [
      "Epoch : 517: 100%|█████████████████████████████████████████████████████████████████████████████████████████████████████| 782/782 [01:13<00:00, 10.64it/s, Acc=98.8, loss=0.0395]\n",
      "100%|███████████████████████████████████████████████████████████████████████████████████████████████████████████████████| 157/157 [00:05<00:00, 27.55it/s, Acc=90.6, loss=0.449]\n"
     ]
    },
    {
     "name": "stdout",
     "output_type": "stream",
     "text": [
      "\n",
      "Epoch: 518\n"
     ]
    },
    {
     "name": "stderr",
     "output_type": "stream",
     "text": [
      "Epoch : 518: 100%|█████████████████████████████████████████████████████████████████████████████████████████████████████| 782/782 [01:14<00:00, 10.56it/s, Acc=98.7, loss=0.0385]\n",
      "100%|███████████████████████████████████████████████████████████████████████████████████████████████████████████████████| 157/157 [00:05<00:00, 28.36it/s, Acc=91.2, loss=0.471]\n"
     ]
    },
    {
     "name": "stdout",
     "output_type": "stream",
     "text": [
      "\n",
      "Epoch: 519\n"
     ]
    },
    {
     "name": "stderr",
     "output_type": "stream",
     "text": [
      "Epoch : 519: 100%|█████████████████████████████████████████████████████████████████████████████████████████████████████| 782/782 [01:13<00:00, 10.67it/s, Acc=98.7, loss=0.0411]\n",
      "100%|███████████████████████████████████████████████████████████████████████████████████████████████████████████████████| 157/157 [00:05<00:00, 28.46it/s, Acc=90.7, loss=0.477]\n"
     ]
    },
    {
     "name": "stdout",
     "output_type": "stream",
     "text": [
      "\n",
      "Epoch: 520\n"
     ]
    },
    {
     "name": "stderr",
     "output_type": "stream",
     "text": [
      "Epoch : 520: 100%|█████████████████████████████████████████████████████████████████████████████████████████████████████| 782/782 [01:14<00:00, 10.56it/s, Acc=98.8, loss=0.0363]\n",
      "100%|███████████████████████████████████████████████████████████████████████████████████████████████████████████████████| 157/157 [00:05<00:00, 28.36it/s, Acc=91.4, loss=0.501]\n"
     ]
    },
    {
     "name": "stdout",
     "output_type": "stream",
     "text": [
      "\n",
      "Epoch: 521\n"
     ]
    },
    {
     "name": "stderr",
     "output_type": "stream",
     "text": [
      "Epoch : 521: 100%|█████████████████████████████████████████████████████████████████████████████████████████████████████| 782/782 [01:13<00:00, 10.68it/s, Acc=98.6, loss=0.0408]\n",
      "100%|███████████████████████████████████████████████████████████████████████████████████████████████████████████████████| 157/157 [00:05<00:00, 30.10it/s, Acc=91.1, loss=0.468]\n"
     ]
    },
    {
     "name": "stdout",
     "output_type": "stream",
     "text": [
      "\n",
      "Epoch: 522\n"
     ]
    },
    {
     "name": "stderr",
     "output_type": "stream",
     "text": [
      "Epoch : 522: 100%|█████████████████████████████████████████████████████████████████████████████████████████████████████| 782/782 [01:14<00:00, 10.54it/s, Acc=98.8, loss=0.0346]\n",
      "100%|███████████████████████████████████████████████████████████████████████████████████████████████████████████████████| 157/157 [00:05<00:00, 28.07it/s, Acc=90.9, loss=0.493]\n"
     ]
    },
    {
     "name": "stdout",
     "output_type": "stream",
     "text": [
      "\n",
      "Epoch: 523\n"
     ]
    },
    {
     "name": "stderr",
     "output_type": "stream",
     "text": [
      "Epoch : 523: 100%|█████████████████████████████████████████████████████████████████████████████████████████████████████| 782/782 [01:13<00:00, 10.61it/s, Acc=98.7, loss=0.0398]\n",
      "100%|███████████████████████████████████████████████████████████████████████████████████████████████████████████████████| 157/157 [00:05<00:00, 28.39it/s, Acc=91.2, loss=0.479]\n"
     ]
    },
    {
     "name": "stdout",
     "output_type": "stream",
     "text": [
      "\n",
      "Epoch: 524\n"
     ]
    },
    {
     "name": "stderr",
     "output_type": "stream",
     "text": [
      "Epoch : 524: 100%|█████████████████████████████████████████████████████████████████████████████████████████████████████| 782/782 [01:13<00:00, 10.62it/s, Acc=98.7, loss=0.0376]\n",
      "100%|███████████████████████████████████████████████████████████████████████████████████████████████████████████████████| 157/157 [00:05<00:00, 28.35it/s, Acc=91.3, loss=0.467]\n"
     ]
    },
    {
     "name": "stdout",
     "output_type": "stream",
     "text": [
      "\n",
      "Epoch: 525\n"
     ]
    },
    {
     "name": "stderr",
     "output_type": "stream",
     "text": [
      "Epoch : 525: 100%|█████████████████████████████████████████████████████████████████████████████████████████████████████| 782/782 [01:14<00:00, 10.56it/s, Acc=98.7, loss=0.0398]\n",
      "100%|███████████████████████████████████████████████████████████████████████████████████████████████████████████████████| 157/157 [00:05<00:00, 28.56it/s, Acc=90.7, loss=0.474]\n"
     ]
    },
    {
     "name": "stdout",
     "output_type": "stream",
     "text": [
      "\n",
      "Epoch: 526\n"
     ]
    },
    {
     "name": "stderr",
     "output_type": "stream",
     "text": [
      "Epoch : 526: 100%|█████████████████████████████████████████████████████████████████████████████████████████████████████| 782/782 [01:13<00:00, 10.68it/s, Acc=98.7, loss=0.0383]\n",
      "100%|███████████████████████████████████████████████████████████████████████████████████████████████████████████████████| 157/157 [00:05<00:00, 28.24it/s, Acc=90.6, loss=0.443]\n"
     ]
    },
    {
     "name": "stdout",
     "output_type": "stream",
     "text": [
      "\n",
      "Epoch: 527\n"
     ]
    },
    {
     "name": "stderr",
     "output_type": "stream",
     "text": [
      "Epoch : 527: 100%|█████████████████████████████████████████████████████████████████████████████████████████████████████| 782/782 [01:14<00:00, 10.56it/s, Acc=98.6, loss=0.0397]\n",
      "100%|███████████████████████████████████████████████████████████████████████████████████████████████████████████████████| 157/157 [00:05<00:00, 28.85it/s, Acc=90.9, loss=0.464]\n"
     ]
    },
    {
     "name": "stdout",
     "output_type": "stream",
     "text": [
      "\n",
      "Epoch: 528\n"
     ]
    },
    {
     "name": "stderr",
     "output_type": "stream",
     "text": [
      "Epoch : 528: 100%|█████████████████████████████████████████████████████████████████████████████████████████████████████| 782/782 [01:13<00:00, 10.67it/s, Acc=98.8, loss=0.0376]\n",
      "100%|███████████████████████████████████████████████████████████████████████████████████████████████████████████████████| 157/157 [00:05<00:00, 28.57it/s, Acc=91.3, loss=0.474]\n"
     ]
    },
    {
     "name": "stdout",
     "output_type": "stream",
     "text": [
      "\n",
      "Epoch: 529\n"
     ]
    },
    {
     "name": "stderr",
     "output_type": "stream",
     "text": [
      "Epoch : 529: 100%|█████████████████████████████████████████████████████████████████████████████████████████████████████| 782/782 [01:14<00:00, 10.57it/s, Acc=98.8, loss=0.0379]\n",
      "100%|████████████████████████████████████████████████████████████████████████████████████████████████████████████████████| 157/157 [00:05<00:00, 28.61it/s, Acc=90.9, loss=0.45]\n"
     ]
    },
    {
     "name": "stdout",
     "output_type": "stream",
     "text": [
      "\n",
      "Epoch: 530\n"
     ]
    },
    {
     "name": "stderr",
     "output_type": "stream",
     "text": [
      "Epoch : 530: 100%|█████████████████████████████████████████████████████████████████████████████████████████████████████| 782/782 [01:13<00:00, 10.60it/s, Acc=98.8, loss=0.0386]\n",
      "100%|███████████████████████████████████████████████████████████████████████████████████████████████████████████████████| 157/157 [00:05<00:00, 28.33it/s, Acc=91.2, loss=0.484]\n"
     ]
    },
    {
     "name": "stdout",
     "output_type": "stream",
     "text": [
      "\n",
      "Epoch: 531\n"
     ]
    },
    {
     "name": "stderr",
     "output_type": "stream",
     "text": [
      "Epoch : 531: 100%|█████████████████████████████████████████████████████████████████████████████████████████████████████| 782/782 [01:13<00:00, 10.61it/s, Acc=98.8, loss=0.0385]\n",
      "100%|███████████████████████████████████████████████████████████████████████████████████████████████████████████████████| 157/157 [00:05<00:00, 28.91it/s, Acc=91.1, loss=0.465]\n"
     ]
    },
    {
     "name": "stdout",
     "output_type": "stream",
     "text": [
      "\n",
      "Epoch: 532\n"
     ]
    },
    {
     "name": "stderr",
     "output_type": "stream",
     "text": [
      "Epoch : 532: 100%|█████████████████████████████████████████████████████████████████████████████████████████████████████| 782/782 [01:13<00:00, 10.57it/s, Acc=98.9, loss=0.0356]\n",
      "100%|██████████████████████████████████████████████████████████████████████████████████████████████████████████████████████| 157/157 [00:05<00:00, 30.87it/s, Acc=91, loss=0.49]\n"
     ]
    },
    {
     "name": "stdout",
     "output_type": "stream",
     "text": [
      "\n",
      "Epoch: 533\n"
     ]
    },
    {
     "name": "stderr",
     "output_type": "stream",
     "text": [
      "Epoch : 533: 100%|█████████████████████████████████████████████████████████████████████████████████████████████████████| 782/782 [01:13<00:00, 10.62it/s, Acc=98.7, loss=0.0377]\n",
      "100%|███████████████████████████████████████████████████████████████████████████████████████████████████████████████████| 157/157 [00:05<00:00, 28.08it/s, Acc=91.2, loss=0.483]\n"
     ]
    },
    {
     "name": "stdout",
     "output_type": "stream",
     "text": [
      "\n",
      "Epoch: 534\n"
     ]
    },
    {
     "name": "stderr",
     "output_type": "stream",
     "text": [
      "Epoch : 534: 100%|█████████████████████████████████████████████████████████████████████████████████████████████████████| 782/782 [01:14<00:00, 10.56it/s, Acc=98.7, loss=0.0384]\n",
      "100%|███████████████████████████████████████████████████████████████████████████████████████████████████████████████████| 157/157 [00:05<00:00, 28.58it/s, Acc=91.2, loss=0.488]\n"
     ]
    },
    {
     "name": "stdout",
     "output_type": "stream",
     "text": [
      "\n",
      "Epoch: 535\n"
     ]
    },
    {
     "name": "stderr",
     "output_type": "stream",
     "text": [
      "Epoch : 535: 100%|█████████████████████████████████████████████████████████████████████████████████████████████████████| 782/782 [01:13<00:00, 10.67it/s, Acc=98.7, loss=0.0375]\n",
      "100%|███████████████████████████████████████████████████████████████████████████████████████████████████████████████████| 157/157 [00:05<00:00, 28.52it/s, Acc=90.9, loss=0.483]\n"
     ]
    },
    {
     "name": "stdout",
     "output_type": "stream",
     "text": [
      "\n",
      "Epoch: 536\n"
     ]
    },
    {
     "name": "stderr",
     "output_type": "stream",
     "text": [
      "Epoch : 536: 100%|██████████████████████████████████████████████████████████████████████████████████████████████████████| 782/782 [01:14<00:00, 10.56it/s, Acc=98.7, loss=0.039]\n",
      "100%|███████████████████████████████████████████████████████████████████████████████████████████████████████████████████| 157/157 [00:05<00:00, 28.17it/s, Acc=91.2, loss=0.482]\n"
     ]
    },
    {
     "name": "stdout",
     "output_type": "stream",
     "text": [
      "\n",
      "Epoch: 537\n"
     ]
    },
    {
     "name": "stderr",
     "output_type": "stream",
     "text": [
      "Epoch : 537: 100%|█████████████████████████████████████████████████████████████████████████████████████████████████████| 782/782 [01:13<00:00, 10.62it/s, Acc=98.8, loss=0.0391]\n",
      "100%|█████████████████████████████████████████████████████████████████████████████████████████████████████████████████████| 157/157 [00:05<00:00, 29.12it/s, Acc=91, loss=0.489]\n"
     ]
    },
    {
     "name": "stdout",
     "output_type": "stream",
     "text": [
      "\n",
      "Epoch: 538\n"
     ]
    },
    {
     "name": "stderr",
     "output_type": "stream",
     "text": [
      "Epoch : 538: 100%|█████████████████████████████████████████████████████████████████████████████████████████████████████| 782/782 [01:13<00:00, 10.60it/s, Acc=98.8, loss=0.0377]\n",
      "100%|███████████████████████████████████████████████████████████████████████████████████████████████████████████████████████| 157/157 [00:05<00:00, 28.33it/s, Acc=91, loss=0.5]\n"
     ]
    },
    {
     "name": "stdout",
     "output_type": "stream",
     "text": [
      "\n",
      "Epoch: 539\n"
     ]
    },
    {
     "name": "stderr",
     "output_type": "stream",
     "text": [
      "Epoch : 539: 100%|█████████████████████████████████████████████████████████████████████████████████████████████████████| 782/782 [01:13<00:00, 10.62it/s, Acc=98.8, loss=0.0356]\n",
      "100%|█████████████████████████████████████████████████████████████████████████████████████████████████████████████████████| 157/157 [00:05<00:00, 28.85it/s, Acc=91, loss=0.508]\n"
     ]
    },
    {
     "name": "stdout",
     "output_type": "stream",
     "text": [
      "\n",
      "Epoch: 540\n"
     ]
    },
    {
     "name": "stderr",
     "output_type": "stream",
     "text": [
      "Epoch : 540: 100%|█████████████████████████████████████████████████████████████████████████████████████████████████████| 782/782 [01:13<00:00, 10.60it/s, Acc=98.7, loss=0.0372]\n",
      "100%|███████████████████████████████████████████████████████████████████████████████████████████████████████████████████| 157/157 [00:05<00:00, 28.44it/s, Acc=91.3, loss=0.457]\n"
     ]
    },
    {
     "name": "stdout",
     "output_type": "stream",
     "text": [
      "\n",
      "Epoch: 541\n"
     ]
    },
    {
     "name": "stderr",
     "output_type": "stream",
     "text": [
      "Epoch : 541: 100%|█████████████████████████████████████████████████████████████████████████████████████████████████████| 782/782 [01:14<00:00, 10.56it/s, Acc=98.8, loss=0.0368]\n",
      "100%|███████████████████████████████████████████████████████████████████████████████████████████████████████████████████| 157/157 [00:05<00:00, 28.19it/s, Acc=90.9, loss=0.484]\n"
     ]
    },
    {
     "name": "stdout",
     "output_type": "stream",
     "text": [
      "\n",
      "Epoch: 542\n"
     ]
    },
    {
     "name": "stderr",
     "output_type": "stream",
     "text": [
      "Epoch : 542: 100%|█████████████████████████████████████████████████████████████████████████████████████████████████████| 782/782 [01:13<00:00, 10.66it/s, Acc=98.8, loss=0.0386]\n",
      "100%|███████████████████████████████████████████████████████████████████████████████████████████████████████████████████| 157/157 [00:05<00:00, 28.87it/s, Acc=91.1, loss=0.467]\n"
     ]
    },
    {
     "name": "stdout",
     "output_type": "stream",
     "text": [
      "\n",
      "Epoch: 543\n"
     ]
    },
    {
     "name": "stderr",
     "output_type": "stream",
     "text": [
      "Epoch : 543: 100%|█████████████████████████████████████████████████████████████████████████████████████████████████████| 782/782 [01:14<00:00, 10.56it/s, Acc=98.7, loss=0.0376]\n",
      "100%|█████████████████████████████████████████████████████████████████████████████████████████████████████████████████████| 157/157 [00:05<00:00, 28.71it/s, Acc=91, loss=0.494]\n"
     ]
    },
    {
     "name": "stdout",
     "output_type": "stream",
     "text": [
      "\n",
      "Epoch: 544\n"
     ]
    },
    {
     "name": "stderr",
     "output_type": "stream",
     "text": [
      "Epoch : 544: 100%|█████████████████████████████████████████████████████████████████████████████████████████████████████| 782/782 [01:13<00:00, 10.62it/s, Acc=98.8, loss=0.0354]\n",
      "100%|███████████████████████████████████████████████████████████████████████████████████████████████████████████████████| 157/157 [00:05<00:00, 28.76it/s, Acc=91.1, loss=0.491]\n"
     ]
    },
    {
     "name": "stdout",
     "output_type": "stream",
     "text": [
      "\n",
      "Epoch: 545\n"
     ]
    },
    {
     "name": "stderr",
     "output_type": "stream",
     "text": [
      "Epoch : 545: 100%|█████████████████████████████████████████████████████████████████████████████████████████████████████| 782/782 [01:13<00:00, 10.57it/s, Acc=98.7, loss=0.0382]\n",
      "100%|███████████████████████████████████████████████████████████████████████████████████████████████████████████████████| 157/157 [00:05<00:00, 28.37it/s, Acc=91.2, loss=0.451]\n"
     ]
    },
    {
     "name": "stdout",
     "output_type": "stream",
     "text": [
      "\n",
      "Epoch: 546\n"
     ]
    },
    {
     "name": "stderr",
     "output_type": "stream",
     "text": [
      "Epoch : 546: 100%|█████████████████████████████████████████████████████████████████████████████████████████████████████| 782/782 [01:13<00:00, 10.63it/s, Acc=98.7, loss=0.0378]\n",
      "100%|█████████████████████████████████████████████████████████████████████████████████████████████████████████████████████| 157/157 [00:05<00:00, 28.67it/s, Acc=91, loss=0.434]\n"
     ]
    },
    {
     "name": "stdout",
     "output_type": "stream",
     "text": [
      "\n",
      "Epoch: 547\n"
     ]
    },
    {
     "name": "stderr",
     "output_type": "stream",
     "text": [
      "Epoch : 547: 100%|█████████████████████████████████████████████████████████████████████████████████████████████████████| 782/782 [01:13<00:00, 10.61it/s, Acc=98.9, loss=0.0349]\n",
      "100%|█████████████████████████████████████████████████████████████████████████████████████████████████████████████████████| 157/157 [00:05<00:00, 28.49it/s, Acc=91, loss=0.462]\n"
     ]
    },
    {
     "name": "stdout",
     "output_type": "stream",
     "text": [
      "\n",
      "Epoch: 548\n"
     ]
    },
    {
     "name": "stderr",
     "output_type": "stream",
     "text": [
      "Epoch : 548: 100%|█████████████████████████████████████████████████████████████████████████████████████████████████████| 782/782 [01:14<00:00, 10.56it/s, Acc=98.7, loss=0.0379]\n",
      "100%|███████████████████████████████████████████████████████████████████████████████████████████████████████████████████| 157/157 [00:05<00:00, 28.37it/s, Acc=90.9, loss=0.482]\n"
     ]
    },
    {
     "name": "stdout",
     "output_type": "stream",
     "text": [
      "\n",
      "Epoch: 549\n"
     ]
    },
    {
     "name": "stderr",
     "output_type": "stream",
     "text": [
      "Epoch : 549: 100%|█████████████████████████████████████████████████████████████████████████████████████████████████████| 782/782 [01:13<00:00, 10.66it/s, Acc=98.8, loss=0.0348]\n",
      "100%|███████████████████████████████████████████████████████████████████████████████████████████████████████████████████| 157/157 [00:05<00:00, 28.38it/s, Acc=90.8, loss=0.466]\n"
     ]
    },
    {
     "name": "stdout",
     "output_type": "stream",
     "text": [
      "\n",
      "Epoch: 550\n"
     ]
    },
    {
     "name": "stderr",
     "output_type": "stream",
     "text": [
      "Epoch : 550: 100%|█████████████████████████████████████████████████████████████████████████████████████████████████████| 782/782 [01:14<00:00, 10.55it/s, Acc=98.8, loss=0.0348]\n",
      "100%|███████████████████████████████████████████████████████████████████████████████████████████████████████████████████| 157/157 [00:05<00:00, 28.62it/s, Acc=90.9, loss=0.457]\n"
     ]
    },
    {
     "name": "stdout",
     "output_type": "stream",
     "text": [
      "\n",
      "Epoch: 551\n"
     ]
    },
    {
     "name": "stderr",
     "output_type": "stream",
     "text": [
      "Epoch : 551: 100%|█████████████████████████████████████████████████████████████████████████████████████████████████████| 782/782 [01:13<00:00, 10.66it/s, Acc=98.8, loss=0.0364]\n",
      "100%|███████████████████████████████████████████████████████████████████████████████████████████████████████████████████| 157/157 [00:05<00:00, 28.91it/s, Acc=91.2, loss=0.445]\n"
     ]
    },
    {
     "name": "stdout",
     "output_type": "stream",
     "text": [
      "\n",
      "Epoch: 552\n"
     ]
    },
    {
     "name": "stderr",
     "output_type": "stream",
     "text": [
      "Epoch : 552: 100%|█████████████████████████████████████████████████████████████████████████████████████████████████████| 782/782 [01:13<00:00, 10.57it/s, Acc=98.8, loss=0.0343]\n",
      "100%|███████████████████████████████████████████████████████████████████████████████████████████████████████████████████| 157/157 [00:05<00:00, 28.52it/s, Acc=91.3, loss=0.474]\n"
     ]
    },
    {
     "name": "stdout",
     "output_type": "stream",
     "text": [
      "\n",
      "Epoch: 553\n"
     ]
    },
    {
     "name": "stderr",
     "output_type": "stream",
     "text": [
      "Epoch : 553: 100%|█████████████████████████████████████████████████████████████████████████████████████████████████████| 782/782 [01:13<00:00, 10.61it/s, Acc=98.8, loss=0.0365]\n",
      "100%|███████████████████████████████████████████████████████████████████████████████████████████████████████████████████| 157/157 [00:05<00:00, 28.37it/s, Acc=90.8, loss=0.495]\n"
     ]
    },
    {
     "name": "stdout",
     "output_type": "stream",
     "text": [
      "\n",
      "Epoch: 554\n"
     ]
    },
    {
     "name": "stderr",
     "output_type": "stream",
     "text": [
      "Epoch : 554: 100%|█████████████████████████████████████████████████████████████████████████████████████████████████████| 782/782 [01:13<00:00, 10.59it/s, Acc=98.7, loss=0.0385]\n",
      "100%|███████████████████████████████████████████████████████████████████████████████████████████████████████████████████| 157/157 [00:05<00:00, 28.79it/s, Acc=91.1, loss=0.487]\n"
     ]
    },
    {
     "name": "stdout",
     "output_type": "stream",
     "text": [
      "\n",
      "Epoch: 555\n"
     ]
    },
    {
     "name": "stderr",
     "output_type": "stream",
     "text": [
      "Epoch : 555: 100%|█████████████████████████████████████████████████████████████████████████████████████████████████████| 782/782 [01:13<00:00, 10.60it/s, Acc=98.8, loss=0.0383]\n",
      "100%|█████████████████████████████████████████████████████████████████████████████████████████████████████████████████████| 157/157 [00:05<00:00, 28.94it/s, Acc=91, loss=0.488]\n"
     ]
    },
    {
     "name": "stdout",
     "output_type": "stream",
     "text": [
      "\n",
      "Epoch: 556\n"
     ]
    },
    {
     "name": "stderr",
     "output_type": "stream",
     "text": [
      "Epoch : 556: 100%|█████████████████████████████████████████████████████████████████████████████████████████████████████| 782/782 [01:13<00:00, 10.65it/s, Acc=98.8, loss=0.0363]\n",
      "100%|███████████████████████████████████████████████████████████████████████████████████████████████████████████████████| 157/157 [00:05<00:00, 28.48it/s, Acc=90.9, loss=0.484]\n"
     ]
    },
    {
     "name": "stdout",
     "output_type": "stream",
     "text": [
      "\n",
      "Epoch: 557\n"
     ]
    },
    {
     "name": "stderr",
     "output_type": "stream",
     "text": [
      "Epoch : 557: 100%|█████████████████████████████████████████████████████████████████████████████████████████████████████| 782/782 [01:14<00:00, 10.56it/s, Acc=98.8, loss=0.0362]\n",
      "100%|█████████████████████████████████████████████████████████████████████████████████████████████████████████████████████| 157/157 [00:05<00:00, 28.55it/s, Acc=91, loss=0.484]\n"
     ]
    },
    {
     "name": "stdout",
     "output_type": "stream",
     "text": [
      "\n",
      "Epoch: 558\n"
     ]
    },
    {
     "name": "stderr",
     "output_type": "stream",
     "text": [
      "Epoch : 558: 100%|█████████████████████████████████████████████████████████████████████████████████████████████████████| 782/782 [01:13<00:00, 10.65it/s, Acc=98.8, loss=0.0357]\n",
      "100%|███████████████████████████████████████████████████████████████████████████████████████████████████████████████████| 157/157 [00:05<00:00, 28.30it/s, Acc=91.1, loss=0.494]\n"
     ]
    },
    {
     "name": "stdout",
     "output_type": "stream",
     "text": [
      "\n",
      "Epoch: 559\n"
     ]
    },
    {
     "name": "stderr",
     "output_type": "stream",
     "text": [
      "Epoch : 559: 100%|█████████████████████████████████████████████████████████████████████████████████████████████████████| 782/782 [01:14<00:00, 10.56it/s, Acc=98.7, loss=0.0395]\n",
      "100%|███████████████████████████████████████████████████████████████████████████████████████████████████████████████████| 157/157 [00:05<00:00, 28.18it/s, Acc=91.1, loss=0.467]\n"
     ]
    },
    {
     "name": "stdout",
     "output_type": "stream",
     "text": [
      "\n",
      "Epoch: 560\n"
     ]
    },
    {
     "name": "stderr",
     "output_type": "stream",
     "text": [
      "Epoch : 560: 100%|█████████████████████████████████████████████████████████████████████████████████████████████████████| 782/782 [01:13<00:00, 10.62it/s, Acc=98.8, loss=0.0352]\n",
      "100%|███████████████████████████████████████████████████████████████████████████████████████████████████████████████████| 157/157 [00:05<00:00, 28.45it/s, Acc=91.2, loss=0.478]\n"
     ]
    },
    {
     "name": "stdout",
     "output_type": "stream",
     "text": [
      "\n",
      "Epoch: 561\n"
     ]
    },
    {
     "name": "stderr",
     "output_type": "stream",
     "text": [
      "Epoch : 561: 100%|█████████████████████████████████████████████████████████████████████████████████████████████████████| 782/782 [01:13<00:00, 10.60it/s, Acc=98.8, loss=0.0354]\n",
      "100%|███████████████████████████████████████████████████████████████████████████████████████████████████████████████████| 157/157 [00:05<00:00, 28.98it/s, Acc=90.6, loss=0.516]\n"
     ]
    },
    {
     "name": "stdout",
     "output_type": "stream",
     "text": [
      "\n",
      "Epoch: 562\n"
     ]
    },
    {
     "name": "stderr",
     "output_type": "stream",
     "text": [
      "Epoch : 562: 100%|█████████████████████████████████████████████████████████████████████████████████████████████████████| 782/782 [01:14<00:00, 10.56it/s, Acc=98.7, loss=0.0381]\n",
      "100%|███████████████████████████████████████████████████████████████████████████████████████████████████████████████████| 157/157 [00:05<00:00, 29.20it/s, Acc=90.9, loss=0.505]\n"
     ]
    },
    {
     "name": "stdout",
     "output_type": "stream",
     "text": [
      "\n",
      "Epoch: 563\n"
     ]
    },
    {
     "name": "stderr",
     "output_type": "stream",
     "text": [
      "Epoch : 563: 100%|█████████████████████████████████████████████████████████████████████████████████████████████████████| 782/782 [01:13<00:00, 10.60it/s, Acc=98.8, loss=0.0371]\n",
      "100%|███████████████████████████████████████████████████████████████████████████████████████████████████████████████████| 157/157 [00:05<00:00, 28.48it/s, Acc=91.1, loss=0.445]\n"
     ]
    },
    {
     "name": "stdout",
     "output_type": "stream",
     "text": [
      "\n",
      "Epoch: 564\n"
     ]
    },
    {
     "name": "stderr",
     "output_type": "stream",
     "text": [
      "Epoch : 564: 100%|█████████████████████████████████████████████████████████████████████████████████████████████████████| 782/782 [01:14<00:00, 10.55it/s, Acc=98.8, loss=0.0369]\n",
      "100%|███████████████████████████████████████████████████████████████████████████████████████████████████████████████████| 157/157 [00:05<00:00, 28.41it/s, Acc=90.9, loss=0.514]\n"
     ]
    },
    {
     "name": "stdout",
     "output_type": "stream",
     "text": [
      "\n",
      "Epoch: 565\n"
     ]
    },
    {
     "name": "stderr",
     "output_type": "stream",
     "text": [
      "Epoch : 565: 100%|█████████████████████████████████████████████████████████████████████████████████████████████████████| 782/782 [01:13<00:00, 10.66it/s, Acc=98.8, loss=0.0389]\n",
      "100%|███████████████████████████████████████████████████████████████████████████████████████████████████████████████████| 157/157 [00:05<00:00, 28.38it/s, Acc=90.9, loss=0.471]\n"
     ]
    },
    {
     "name": "stdout",
     "output_type": "stream",
     "text": [
      "\n",
      "Epoch: 566\n"
     ]
    },
    {
     "name": "stderr",
     "output_type": "stream",
     "text": [
      "Epoch : 566: 100%|█████████████████████████████████████████████████████████████████████████████████████████████████████| 782/782 [01:14<00:00, 10.56it/s, Acc=98.8, loss=0.0349]\n",
      "100%|███████████████████████████████████████████████████████████████████████████████████████████████████████████████████| 157/157 [00:05<00:00, 28.98it/s, Acc=90.9, loss=0.468]\n"
     ]
    },
    {
     "name": "stdout",
     "output_type": "stream",
     "text": [
      "\n",
      "Epoch: 567\n"
     ]
    },
    {
     "name": "stderr",
     "output_type": "stream",
     "text": [
      "Epoch : 567: 100%|█████████████████████████████████████████████████████████████████████████████████████████████████████| 782/782 [01:13<00:00, 10.64it/s, Acc=98.8, loss=0.0356]\n",
      "100%|█████████████████████████████████████████████████████████████████████████████████████████████████████████████████████| 157/157 [00:05<00:00, 28.64it/s, Acc=91, loss=0.474]\n"
     ]
    },
    {
     "name": "stdout",
     "output_type": "stream",
     "text": [
      "\n",
      "Epoch: 568\n"
     ]
    },
    {
     "name": "stderr",
     "output_type": "stream",
     "text": [
      "Epoch : 568: 100%|█████████████████████████████████████████████████████████████████████████████████████████████████████| 782/782 [01:13<00:00, 10.61it/s, Acc=98.8, loss=0.0356]\n",
      "100%|███████████████████████████████████████████████████████████████████████████████████████████████████████████████████| 157/157 [00:05<00:00, 28.43it/s, Acc=91.1, loss=0.481]\n"
     ]
    },
    {
     "name": "stdout",
     "output_type": "stream",
     "text": [
      "\n",
      "Epoch: 569\n"
     ]
    },
    {
     "name": "stderr",
     "output_type": "stream",
     "text": [
      "Epoch : 569: 100%|█████████████████████████████████████████████████████████████████████████████████████████████████████| 782/782 [01:13<00:00, 10.62it/s, Acc=98.8, loss=0.0379]\n",
      "100%|█████████████████████████████████████████████████████████████████████████████████████████████████████████████████████| 157/157 [00:05<00:00, 28.75it/s, Acc=90.9, loss=0.5]\n"
     ]
    },
    {
     "name": "stdout",
     "output_type": "stream",
     "text": [
      "\n",
      "Epoch: 570\n"
     ]
    },
    {
     "name": "stderr",
     "output_type": "stream",
     "text": [
      "Epoch : 570: 100%|█████████████████████████████████████████████████████████████████████████████████████████████████████| 782/782 [01:13<00:00, 10.60it/s, Acc=98.9, loss=0.0365]\n",
      "100%|███████████████████████████████████████████████████████████████████████████████████████████████████████████████████| 157/157 [00:05<00:00, 27.98it/s, Acc=91.3, loss=0.494]\n"
     ]
    },
    {
     "name": "stdout",
     "output_type": "stream",
     "text": [
      "\n",
      "Epoch: 571\n"
     ]
    },
    {
     "name": "stderr",
     "output_type": "stream",
     "text": [
      "Epoch : 571: 100%|█████████████████████████████████████████████████████████████████████████████████████████████████████| 782/782 [01:14<00:00, 10.56it/s, Acc=98.8, loss=0.0355]\n",
      "100%|████████████████████████████████████████████████████████████████████████████████████████████████████████████████████| 157/157 [00:05<00:00, 28.62it/s, Acc=91.3, loss=0.46]\n"
     ]
    },
    {
     "name": "stdout",
     "output_type": "stream",
     "text": [
      "\n",
      "Epoch: 572\n"
     ]
    },
    {
     "name": "stderr",
     "output_type": "stream",
     "text": [
      "Epoch : 572: 100%|█████████████████████████████████████████████████████████████████████████████████████████████████████| 782/782 [01:13<00:00, 10.65it/s, Acc=98.8, loss=0.0341]\n",
      "100%|████████████████████████████████████████████████████████████████████████████████████████████████████████████████████| 157/157 [00:05<00:00, 28.30it/s, Acc=90.8, loss=0.48]\n"
     ]
    },
    {
     "name": "stdout",
     "output_type": "stream",
     "text": [
      "\n",
      "Epoch: 573\n"
     ]
    },
    {
     "name": "stderr",
     "output_type": "stream",
     "text": [
      "Epoch : 573: 100%|█████████████████████████████████████████████████████████████████████████████████████████████████████| 782/782 [01:14<00:00, 10.56it/s, Acc=98.9, loss=0.0356]\n",
      "100%|███████████████████████████████████████████████████████████████████████████████████████████████████████████████████| 157/157 [00:05<00:00, 28.31it/s, Acc=90.9, loss=0.483]\n"
     ]
    },
    {
     "name": "stdout",
     "output_type": "stream",
     "text": [
      "\n",
      "Epoch: 574\n"
     ]
    },
    {
     "name": "stderr",
     "output_type": "stream",
     "text": [
      "Epoch : 574: 100%|█████████████████████████████████████████████████████████████████████████████████████████████████████| 782/782 [01:13<00:00, 10.61it/s, Acc=98.9, loss=0.0331]\n",
      "100%|███████████████████████████████████████████████████████████████████████████████████████████████████████████████████| 157/157 [00:05<00:00, 29.40it/s, Acc=90.9, loss=0.497]\n"
     ]
    },
    {
     "name": "stdout",
     "output_type": "stream",
     "text": [
      "\n",
      "Epoch: 575\n"
     ]
    },
    {
     "name": "stderr",
     "output_type": "stream",
     "text": [
      "Epoch : 575: 100%|██████████████████████████████████████████████████████████████████████████████████████████████████████| 782/782 [01:14<00:00, 10.55it/s, Acc=98.8, loss=0.036]\n",
      "100%|█████████████████████████████████████████████████████████████████████████████████████████████████████████████████████| 157/157 [00:05<00:00, 28.29it/s, Acc=91, loss=0.518]\n"
     ]
    },
    {
     "name": "stdout",
     "output_type": "stream",
     "text": [
      "\n",
      "Epoch: 576\n"
     ]
    },
    {
     "name": "stderr",
     "output_type": "stream",
     "text": [
      "Epoch : 576: 100%|█████████████████████████████████████████████████████████████████████████████████████████████████████| 782/782 [01:13<00:00, 10.61it/s, Acc=98.8, loss=0.0346]\n",
      "100%|███████████████████████████████████████████████████████████████████████████████████████████████████████████████████| 157/157 [00:05<00:00, 28.19it/s, Acc=91.2, loss=0.473]\n"
     ]
    },
    {
     "name": "stdout",
     "output_type": "stream",
     "text": [
      "\n",
      "Epoch: 577\n"
     ]
    },
    {
     "name": "stderr",
     "output_type": "stream",
     "text": [
      "Epoch : 577: 100%|██████████████████████████████████████████████████████████████████████████████████████████████████████| 782/782 [01:13<00:00, 10.60it/s, Acc=98.8, loss=0.036]\n",
      "100%|███████████████████████████████████████████████████████████████████████████████████████████████████████████████████| 157/157 [00:05<00:00, 30.24it/s, Acc=91.2, loss=0.476]\n"
     ]
    },
    {
     "name": "stdout",
     "output_type": "stream",
     "text": [
      "\n",
      "Epoch: 578\n"
     ]
    },
    {
     "name": "stderr",
     "output_type": "stream",
     "text": [
      "Epoch : 578: 100%|██████████████████████████████████████████████████████████████████████████████████████████████████████| 782/782 [01:14<00:00, 10.57it/s, Acc=98.9, loss=0.034]\n",
      "100%|███████████████████████████████████████████████████████████████████████████████████████████████████████████████████| 157/157 [00:05<00:00, 28.57it/s, Acc=90.8, loss=0.515]\n"
     ]
    },
    {
     "name": "stdout",
     "output_type": "stream",
     "text": [
      "\n",
      "Epoch: 579\n"
     ]
    },
    {
     "name": "stderr",
     "output_type": "stream",
     "text": [
      "Epoch : 579: 100%|█████████████████████████████████████████████████████████████████████████████████████████████████████| 782/782 [01:13<00:00, 10.68it/s, Acc=98.8, loss=0.0376]\n",
      "100%|███████████████████████████████████████████████████████████████████████████████████████████████████████████████████| 157/157 [00:05<00:00, 28.43it/s, Acc=91.2, loss=0.492]\n"
     ]
    },
    {
     "name": "stdout",
     "output_type": "stream",
     "text": [
      "\n",
      "Epoch: 580\n"
     ]
    },
    {
     "name": "stderr",
     "output_type": "stream",
     "text": [
      "Epoch : 580: 100%|█████████████████████████████████████████████████████████████████████████████████████████████████████| 782/782 [01:14<00:00, 10.56it/s, Acc=98.9, loss=0.0356]\n",
      "100%|█████████████████████████████████████████████████████████████████████████████████████████████████████████████████████| 157/157 [00:05<00:00, 28.18it/s, Acc=91, loss=0.473]\n"
     ]
    },
    {
     "name": "stdout",
     "output_type": "stream",
     "text": [
      "\n",
      "Epoch: 581\n"
     ]
    },
    {
     "name": "stderr",
     "output_type": "stream",
     "text": [
      "Epoch : 581: 100%|█████████████████████████████████████████████████████████████████████████████████████████████████████| 782/782 [01:13<00:00, 10.67it/s, Acc=98.9, loss=0.0333]\n",
      "100%|███████████████████████████████████████████████████████████████████████████████████████████████████████████████████| 157/157 [00:05<00:00, 27.59it/s, Acc=91.3, loss=0.482]\n"
     ]
    },
    {
     "name": "stdout",
     "output_type": "stream",
     "text": [
      "\n",
      "Epoch: 582\n"
     ]
    },
    {
     "name": "stderr",
     "output_type": "stream",
     "text": [
      "Epoch : 582: 100%|█████████████████████████████████████████████████████████████████████████████████████████████████████| 782/782 [01:14<00:00, 10.56it/s, Acc=98.8, loss=0.0346]\n",
      "100%|███████████████████████████████████████████████████████████████████████████████████████████████████████████████████| 157/157 [00:05<00:00, 28.20it/s, Acc=90.9, loss=0.504]\n"
     ]
    },
    {
     "name": "stdout",
     "output_type": "stream",
     "text": [
      "\n",
      "Epoch: 583\n"
     ]
    },
    {
     "name": "stderr",
     "output_type": "stream",
     "text": [
      "Epoch : 583: 100%|█████████████████████████████████████████████████████████████████████████████████████████████████████| 782/782 [01:13<00:00, 10.62it/s, Acc=98.8, loss=0.0349]\n",
      "100%|████████████████████████████████████████████████████████████████████████████████████████████████████████████████████| 157/157 [00:05<00:00, 28.49it/s, Acc=91.1, loss=0.47]\n"
     ]
    },
    {
     "name": "stdout",
     "output_type": "stream",
     "text": [
      "\n",
      "Epoch: 584\n"
     ]
    },
    {
     "name": "stderr",
     "output_type": "stream",
     "text": [
      "Epoch : 584: 100%|█████████████████████████████████████████████████████████████████████████████████████████████████████| 782/782 [01:13<00:00, 10.58it/s, Acc=98.9, loss=0.0348]\n",
      "100%|███████████████████████████████████████████████████████████████████████████████████████████████████████████████████| 157/157 [00:05<00:00, 28.78it/s, Acc=91.1, loss=0.462]\n"
     ]
    },
    {
     "name": "stdout",
     "output_type": "stream",
     "text": [
      "\n",
      "Epoch: 585\n"
     ]
    },
    {
     "name": "stderr",
     "output_type": "stream",
     "text": [
      "Epoch : 585: 100%|█████████████████████████████████████████████████████████████████████████████████████████████████████| 782/782 [01:14<00:00, 10.56it/s, Acc=98.9, loss=0.0336]\n",
      "100%|███████████████████████████████████████████████████████████████████████████████████████████████████████████████████| 157/157 [00:05<00:00, 30.67it/s, Acc=91.1, loss=0.479]\n"
     ]
    },
    {
     "name": "stdout",
     "output_type": "stream",
     "text": [
      "\n",
      "Epoch: 586\n"
     ]
    },
    {
     "name": "stderr",
     "output_type": "stream",
     "text": [
      "Epoch : 586: 100%|█████████████████████████████████████████████████████████████████████████████████████████████████████| 782/782 [01:13<00:00, 10.61it/s, Acc=98.9, loss=0.0338]\n",
      "100%|███████████████████████████████████████████████████████████████████████████████████████████████████████████████████| 157/157 [00:05<00:00, 28.62it/s, Acc=90.9, loss=0.497]\n"
     ]
    },
    {
     "name": "stdout",
     "output_type": "stream",
     "text": [
      "\n",
      "Epoch: 587\n"
     ]
    },
    {
     "name": "stderr",
     "output_type": "stream",
     "text": [
      "Epoch : 587: 100%|█████████████████████████████████████████████████████████████████████████████████████████████████████| 782/782 [01:14<00:00, 10.53it/s, Acc=98.8, loss=0.0336]\n",
      "100%|█████████████████████████████████████████████████████████████████████████████████████████████████████████████████████| 157/157 [00:05<00:00, 28.64it/s, Acc=91, loss=0.514]\n"
     ]
    },
    {
     "name": "stdout",
     "output_type": "stream",
     "text": [
      "\n",
      "Epoch: 588\n"
     ]
    },
    {
     "name": "stderr",
     "output_type": "stream",
     "text": [
      "Epoch : 588: 100%|█████████████████████████████████████████████████████████████████████████████████████████████████████| 782/782 [01:13<00:00, 10.66it/s, Acc=98.9, loss=0.0333]\n",
      "100%|███████████████████████████████████████████████████████████████████████████████████████████████████████████████████| 157/157 [00:05<00:00, 28.03it/s, Acc=90.6, loss=0.493]\n"
     ]
    },
    {
     "name": "stdout",
     "output_type": "stream",
     "text": [
      "\n",
      "Epoch: 589\n"
     ]
    },
    {
     "name": "stderr",
     "output_type": "stream",
     "text": [
      "Epoch : 589: 100%|█████████████████████████████████████████████████████████████████████████████████████████████████████| 782/782 [01:14<00:00, 10.56it/s, Acc=98.9, loss=0.0337]\n",
      "100%|███████████████████████████████████████████████████████████████████████████████████████████████████████████████████| 157/157 [00:05<00:00, 28.30it/s, Acc=91.5, loss=0.474]\n"
     ]
    },
    {
     "name": "stdout",
     "output_type": "stream",
     "text": [
      "\n",
      "Epoch: 590\n"
     ]
    },
    {
     "name": "stderr",
     "output_type": "stream",
     "text": [
      "Epoch : 590: 100%|█████████████████████████████████████████████████████████████████████████████████████████████████████| 782/782 [01:13<00:00, 10.60it/s, Acc=98.9, loss=0.0345]\n",
      "100%|███████████████████████████████████████████████████████████████████████████████████████████████████████████████████| 157/157 [00:05<00:00, 28.27it/s, Acc=91.3, loss=0.509]\n"
     ]
    },
    {
     "name": "stdout",
     "output_type": "stream",
     "text": [
      "\n",
      "Epoch: 591\n"
     ]
    },
    {
     "name": "stderr",
     "output_type": "stream",
     "text": [
      "Epoch : 591: 100%|█████████████████████████████████████████████████████████████████████████████████████████████████████| 782/782 [01:13<00:00, 10.58it/s, Acc=98.9, loss=0.0333]\n",
      "100%|█████████████████████████████████████████████████████████████████████████████████████████████████████████████████████| 157/157 [00:05<00:00, 28.31it/s, Acc=90.8, loss=0.5]\n"
     ]
    },
    {
     "name": "stdout",
     "output_type": "stream",
     "text": [
      "\n",
      "Epoch: 592\n"
     ]
    },
    {
     "name": "stderr",
     "output_type": "stream",
     "text": [
      "Epoch : 592: 100%|█████████████████████████████████████████████████████████████████████████████████████████████████████| 782/782 [01:13<00:00, 10.60it/s, Acc=98.9, loss=0.0354]\n",
      "100%|█████████████████████████████████████████████████████████████████████████████████████████████████████████████████████| 157/157 [00:05<00:00, 28.64it/s, Acc=91.1, loss=0.5]\n"
     ]
    },
    {
     "name": "stdout",
     "output_type": "stream",
     "text": [
      "\n",
      "Epoch: 593\n"
     ]
    },
    {
     "name": "stderr",
     "output_type": "stream",
     "text": [
      "Epoch : 593: 100%|█████████████████████████████████████████████████████████████████████████████████████████████████████| 782/782 [01:13<00:00, 10.61it/s, Acc=98.9, loss=0.0328]\n",
      "100%|███████████████████████████████████████████████████████████████████████████████████████████████████████████████████| 157/157 [00:05<00:00, 28.28it/s, Acc=90.6, loss=0.529]\n"
     ]
    },
    {
     "name": "stdout",
     "output_type": "stream",
     "text": [
      "\n",
      "Epoch: 594\n"
     ]
    },
    {
     "name": "stderr",
     "output_type": "stream",
     "text": [
      "Epoch : 594: 100%|█████████████████████████████████████████████████████████████████████████████████████████████████████| 782/782 [01:14<00:00, 10.56it/s, Acc=98.8, loss=0.0351]\n",
      "100%|█████████████████████████████████████████████████████████████████████████████████████████████████████████████████████| 157/157 [00:05<00:00, 28.09it/s, Acc=91, loss=0.509]\n"
     ]
    },
    {
     "name": "stdout",
     "output_type": "stream",
     "text": [
      "\n",
      "Epoch: 595\n"
     ]
    },
    {
     "name": "stderr",
     "output_type": "stream",
     "text": [
      "Epoch : 595: 100%|█████████████████████████████████████████████████████████████████████████████████████████████████████| 782/782 [01:13<00:00, 10.65it/s, Acc=98.9, loss=0.0331]\n",
      "100%|██████████████████████████████████████████████████████████████████████████████████████████████████████████████████████| 157/157 [00:05<00:00, 28.31it/s, Acc=91, loss=0.49]\n"
     ]
    },
    {
     "name": "stdout",
     "output_type": "stream",
     "text": [
      "\n",
      "Epoch: 596\n"
     ]
    },
    {
     "name": "stderr",
     "output_type": "stream",
     "text": [
      "Epoch : 596: 100%|█████████████████████████████████████████████████████████████████████████████████████████████████████| 782/782 [01:14<00:00, 10.55it/s, Acc=98.9, loss=0.0324]\n",
      "100%|███████████████████████████████████████████████████████████████████████████████████████████████████████████████████| 157/157 [00:05<00:00, 28.87it/s, Acc=91.4, loss=0.521]\n"
     ]
    },
    {
     "name": "stdout",
     "output_type": "stream",
     "text": [
      "\n",
      "Epoch: 597\n"
     ]
    },
    {
     "name": "stderr",
     "output_type": "stream",
     "text": [
      "Epoch : 597: 100%|█████████████████████████████████████████████████████████████████████████████████████████████████████| 782/782 [01:13<00:00, 10.62it/s, Acc=98.8, loss=0.0365]\n",
      "100%|███████████████████████████████████████████████████████████████████████████████████████████████████████████████████| 157/157 [00:05<00:00, 28.34it/s, Acc=90.8, loss=0.492]\n"
     ]
    },
    {
     "name": "stdout",
     "output_type": "stream",
     "text": [
      "\n",
      "Epoch: 598\n"
     ]
    },
    {
     "name": "stderr",
     "output_type": "stream",
     "text": [
      "Epoch : 598: 100%|█████████████████████████████████████████████████████████████████████████████████████████████████████| 782/782 [01:13<00:00, 10.61it/s, Acc=98.8, loss=0.0347]\n",
      "100%|███████████████████████████████████████████████████████████████████████████████████████████████████████████████████| 157/157 [00:05<00:00, 28.17it/s, Acc=91.5, loss=0.489]\n"
     ]
    },
    {
     "name": "stdout",
     "output_type": "stream",
     "text": [
      "\n",
      "Epoch: 599\n"
     ]
    },
    {
     "name": "stderr",
     "output_type": "stream",
     "text": [
      "Epoch : 599: 100%|█████████████████████████████████████████████████████████████████████████████████████████████████████| 782/782 [01:13<00:00, 10.59it/s, Acc=98.9, loss=0.0334]\n",
      "100%|███████████████████████████████████████████████████████████████████████████████████████████████████████████████████| 157/157 [00:05<00:00, 28.48it/s, Acc=90.8, loss=0.476]\n"
     ]
    },
    {
     "name": "stdout",
     "output_type": "stream",
     "text": [
      "\n",
      "Epoch: 600\n"
     ]
    },
    {
     "name": "stderr",
     "output_type": "stream",
     "text": [
      "Epoch : 600: 100%|█████████████████████████████████████████████████████████████████████████████████████████████████████| 782/782 [01:13<00:00, 10.59it/s, Acc=98.9, loss=0.0337]\n",
      "100%|███████████████████████████████████████████████████████████████████████████████████████████████████████████████████| 157/157 [00:05<00:00, 28.60it/s, Acc=91.4, loss=0.498]\n"
     ]
    },
    {
     "name": "stdout",
     "output_type": "stream",
     "text": [
      "\n",
      "Epoch: 601\n"
     ]
    },
    {
     "name": "stderr",
     "output_type": "stream",
     "text": [
      "Epoch : 601: 100%|█████████████████████████████████████████████████████████████████████████████████████████████████████| 782/782 [01:14<00:00, 10.56it/s, Acc=98.9, loss=0.0344]\n",
      "100%|███████████████████████████████████████████████████████████████████████████████████████████████████████████████████| 157/157 [00:05<00:00, 29.16it/s, Acc=91.4, loss=0.463]\n"
     ]
    },
    {
     "name": "stdout",
     "output_type": "stream",
     "text": [
      "\n",
      "Epoch: 602\n"
     ]
    },
    {
     "name": "stderr",
     "output_type": "stream",
     "text": [
      "Epoch : 602: 100%|█████████████████████████████████████████████████████████████████████████████████████████████████████| 782/782 [01:13<00:00, 10.65it/s, Acc=98.9, loss=0.0335]\n",
      "100%|███████████████████████████████████████████████████████████████████████████████████████████████████████████████████| 157/157 [00:05<00:00, 28.71it/s, Acc=91.5, loss=0.458]\n"
     ]
    },
    {
     "name": "stdout",
     "output_type": "stream",
     "text": [
      "\n",
      "Epoch: 603\n"
     ]
    },
    {
     "name": "stderr",
     "output_type": "stream",
     "text": [
      "Epoch : 603: 100%|█████████████████████████████████████████████████████████████████████████████████████████████████████| 782/782 [01:14<00:00, 10.55it/s, Acc=98.9, loss=0.0325]\n",
      "100%|███████████████████████████████████████████████████████████████████████████████████████████████████████████████████| 157/157 [00:05<00:00, 28.44it/s, Acc=91.2, loss=0.483]\n"
     ]
    },
    {
     "name": "stdout",
     "output_type": "stream",
     "text": [
      "\n",
      "Epoch: 604\n"
     ]
    },
    {
     "name": "stderr",
     "output_type": "stream",
     "text": [
      "Epoch : 604: 100%|███████████████████████████████████████████████████████████████████████████████████████████████████████| 782/782 [01:13<00:00, 10.62it/s, Acc=99, loss=0.0296]\n",
      "100%|███████████████████████████████████████████████████████████████████████████████████████████████████████████████████| 157/157 [00:05<00:00, 30.58it/s, Acc=91.4, loss=0.513]\n"
     ]
    },
    {
     "name": "stdout",
     "output_type": "stream",
     "text": [
      "\n",
      "Epoch: 605\n"
     ]
    },
    {
     "name": "stderr",
     "output_type": "stream",
     "text": [
      "Epoch : 605: 100%|█████████████████████████████████████████████████████████████████████████████████████████████████████| 782/782 [01:14<00:00, 10.56it/s, Acc=98.8, loss=0.0332]\n",
      "100%|███████████████████████████████████████████████████████████████████████████████████████████████████████████████████| 157/157 [00:05<00:00, 28.51it/s, Acc=91.4, loss=0.474]\n"
     ]
    },
    {
     "name": "stdout",
     "output_type": "stream",
     "text": [
      "\n",
      "Epoch: 606\n"
     ]
    },
    {
     "name": "stderr",
     "output_type": "stream",
     "text": [
      "Epoch : 606: 100%|███████████████████████████████████████████████████████████████████████████████████████████████████████| 782/782 [01:13<00:00, 10.64it/s, Acc=99, loss=0.0322]\n",
      "100%|███████████████████████████████████████████████████████████████████████████████████████████████████████████████████| 157/157 [00:05<00:00, 28.46it/s, Acc=91.2, loss=0.508]\n"
     ]
    },
    {
     "name": "stdout",
     "output_type": "stream",
     "text": [
      "\n",
      "Epoch: 607\n"
     ]
    },
    {
     "name": "stderr",
     "output_type": "stream",
     "text": [
      "Epoch : 607: 100%|█████████████████████████████████████████████████████████████████████████████████████████████████████| 782/782 [01:13<00:00, 10.61it/s, Acc=98.8, loss=0.0357]\n",
      "100%|███████████████████████████████████████████████████████████████████████████████████████████████████████████████████| 157/157 [00:05<00:00, 28.84it/s, Acc=91.1, loss=0.508]\n"
     ]
    },
    {
     "name": "stdout",
     "output_type": "stream",
     "text": [
      "\n",
      "Epoch: 608\n"
     ]
    },
    {
     "name": "stderr",
     "output_type": "stream",
     "text": [
      "Epoch : 608: 100%|██████████████████████████████████████████████████████████████████████████████████████████████████████| 782/782 [01:14<00:00, 10.56it/s, Acc=98.9, loss=0.035]\n",
      "100%|███████████████████████████████████████████████████████████████████████████████████████████████████████████████████| 157/157 [00:05<00:00, 30.57it/s, Acc=90.7, loss=0.476]\n"
     ]
    },
    {
     "name": "stdout",
     "output_type": "stream",
     "text": [
      "\n",
      "Epoch: 609\n"
     ]
    },
    {
     "name": "stderr",
     "output_type": "stream",
     "text": [
      "Epoch : 609: 100%|█████████████████████████████████████████████████████████████████████████████████████████████████████| 782/782 [01:13<00:00, 10.61it/s, Acc=98.9, loss=0.0338]\n",
      "100%|███████████████████████████████████████████████████████████████████████████████████████████████████████████████████| 157/157 [00:05<00:00, 28.18it/s, Acc=91.1, loss=0.497]\n"
     ]
    },
    {
     "name": "stdout",
     "output_type": "stream",
     "text": [
      "\n",
      "Epoch: 610\n"
     ]
    },
    {
     "name": "stderr",
     "output_type": "stream",
     "text": [
      "Epoch : 610: 100%|█████████████████████████████████████████████████████████████████████████████████████████████████████| 782/782 [01:14<00:00, 10.56it/s, Acc=98.9, loss=0.0345]\n",
      "100%|███████████████████████████████████████████████████████████████████████████████████████████████████████████████████| 157/157 [00:05<00:00, 28.72it/s, Acc=90.9, loss=0.496]\n"
     ]
    },
    {
     "name": "stdout",
     "output_type": "stream",
     "text": [
      "\n",
      "Epoch: 611\n"
     ]
    },
    {
     "name": "stderr",
     "output_type": "stream",
     "text": [
      "Epoch : 611: 100%|█████████████████████████████████████████████████████████████████████████████████████████████████████| 782/782 [01:13<00:00, 10.65it/s, Acc=98.9, loss=0.0342]\n",
      "100%|███████████████████████████████████████████████████████████████████████████████████████████████████████████████████| 157/157 [00:05<00:00, 28.18it/s, Acc=91.1, loss=0.488]\n"
     ]
    },
    {
     "name": "stdout",
     "output_type": "stream",
     "text": [
      "\n",
      "Epoch: 612\n"
     ]
    },
    {
     "name": "stderr",
     "output_type": "stream",
     "text": [
      "Epoch : 612: 100%|███████████████████████████████████████████████████████████████████████████████████████████████████████| 782/782 [01:14<00:00, 10.57it/s, Acc=99, loss=0.0304]\n",
      "100%|███████████████████████████████████████████████████████████████████████████████████████████████████████████████████| 157/157 [00:05<00:00, 28.20it/s, Acc=91.3, loss=0.516]\n"
     ]
    },
    {
     "name": "stdout",
     "output_type": "stream",
     "text": [
      "\n",
      "Epoch: 613\n"
     ]
    },
    {
     "name": "stderr",
     "output_type": "stream",
     "text": [
      "Epoch : 613: 100%|█████████████████████████████████████████████████████████████████████████████████████████████████████| 782/782 [01:13<00:00, 10.60it/s, Acc=98.9, loss=0.0343]\n",
      "100%|███████████████████████████████████████████████████████████████████████████████████████████████████████████████████| 157/157 [00:05<00:00, 28.32it/s, Acc=91.6, loss=0.451]\n"
     ]
    },
    {
     "name": "stdout",
     "output_type": "stream",
     "text": [
      "Saving..\n",
      "\n",
      "Epoch: 614\n"
     ]
    },
    {
     "name": "stderr",
     "output_type": "stream",
     "text": [
      "Epoch : 614: 100%|███████████████████████████████████████████████████████████████████████████████████████████████████████| 782/782 [01:13<00:00, 10.62it/s, Acc=99, loss=0.0315]\n",
      "100%|███████████████████████████████████████████████████████████████████████████████████████████████████████████████████| 157/157 [00:05<00:00, 28.20it/s, Acc=91.3, loss=0.506]\n"
     ]
    },
    {
     "name": "stdout",
     "output_type": "stream",
     "text": [
      "\n",
      "Epoch: 615\n"
     ]
    },
    {
     "name": "stderr",
     "output_type": "stream",
     "text": [
      "Epoch : 615:   1%|█▏                                                                                                     | 9/782 [00:00<01:20,  9.60it/s, Acc=99.3, loss=0.0258]\n"
     ]
    },
    {
     "ename": "KeyboardInterrupt",
     "evalue": "",
     "output_type": "error",
     "traceback": [
      "\u001b[0;31m---------------------------------------------------------------------------\u001b[0m",
      "\u001b[0;31mKeyboardInterrupt\u001b[0m                         Traceback (most recent call last)",
      "\u001b[0;32m/tmp/ipykernel_27934/1514409546.py\u001b[0m in \u001b[0;36m<module>\u001b[0;34m\u001b[0m\n\u001b[1;32m      2\u001b[0m \u001b[0mstart_epoch\u001b[0m \u001b[0;34m=\u001b[0m \u001b[0;36m0\u001b[0m  \u001b[0;31m# start from epoch 0 or last checkpoint epoch\u001b[0m\u001b[0;34m\u001b[0m\u001b[0;34m\u001b[0m\u001b[0m\n\u001b[1;32m      3\u001b[0m \u001b[0;32mfor\u001b[0m \u001b[0mepoch\u001b[0m \u001b[0;32min\u001b[0m \u001b[0mrange\u001b[0m\u001b[0;34m(\u001b[0m\u001b[0mstart_epoch\u001b[0m\u001b[0;34m,\u001b[0m \u001b[0mstart_epoch\u001b[0m\u001b[0;34m+\u001b[0m\u001b[0;36m2000\u001b[0m\u001b[0;34m)\u001b[0m\u001b[0;34m:\u001b[0m\u001b[0;34m\u001b[0m\u001b[0;34m\u001b[0m\u001b[0m\n\u001b[0;32m----> 4\u001b[0;31m     \u001b[0mtrain\u001b[0m\u001b[0;34m(\u001b[0m\u001b[0mepoch\u001b[0m\u001b[0;34m)\u001b[0m\u001b[0;34m\u001b[0m\u001b[0;34m\u001b[0m\u001b[0m\n\u001b[0m\u001b[1;32m      5\u001b[0m     \u001b[0mtest\u001b[0m\u001b[0;34m(\u001b[0m\u001b[0mepoch\u001b[0m\u001b[0;34m)\u001b[0m\u001b[0;34m\u001b[0m\u001b[0;34m\u001b[0m\u001b[0m\n\u001b[1;32m      6\u001b[0m     \u001b[0mscheduler\u001b[0m\u001b[0;34m.\u001b[0m\u001b[0mstep\u001b[0m\u001b[0;34m(\u001b[0m\u001b[0;34m)\u001b[0m\u001b[0;34m\u001b[0m\u001b[0;34m\u001b[0m\u001b[0m\n",
      "\u001b[0;32m/tmp/ipykernel_27934/1910413233.py\u001b[0m in \u001b[0;36mtrain\u001b[0;34m(epoch)\u001b[0m\n\u001b[1;32m     14\u001b[0m         \u001b[0moptimizer\u001b[0m\u001b[0;34m.\u001b[0m\u001b[0mstep\u001b[0m\u001b[0;34m(\u001b[0m\u001b[0;34m)\u001b[0m\u001b[0;34m\u001b[0m\u001b[0;34m\u001b[0m\u001b[0m\n\u001b[1;32m     15\u001b[0m \u001b[0;34m\u001b[0m\u001b[0m\n\u001b[0;32m---> 16\u001b[0;31m         \u001b[0mtrain_loss\u001b[0m \u001b[0;34m+=\u001b[0m \u001b[0mloss\u001b[0m\u001b[0;34m.\u001b[0m\u001b[0mitem\u001b[0m\u001b[0;34m(\u001b[0m\u001b[0;34m)\u001b[0m\u001b[0;34m\u001b[0m\u001b[0;34m\u001b[0m\u001b[0m\n\u001b[0m\u001b[1;32m     17\u001b[0m         \u001b[0m_\u001b[0m\u001b[0;34m,\u001b[0m \u001b[0mpredicted\u001b[0m \u001b[0;34m=\u001b[0m \u001b[0moutputs\u001b[0m\u001b[0;34m.\u001b[0m\u001b[0mmax\u001b[0m\u001b[0;34m(\u001b[0m\u001b[0;36m1\u001b[0m\u001b[0;34m)\u001b[0m\u001b[0;34m\u001b[0m\u001b[0;34m\u001b[0m\u001b[0m\n\u001b[1;32m     18\u001b[0m         \u001b[0mtotal\u001b[0m \u001b[0;34m+=\u001b[0m \u001b[0mtargets\u001b[0m\u001b[0;34m.\u001b[0m\u001b[0msize\u001b[0m\u001b[0;34m(\u001b[0m\u001b[0;36m0\u001b[0m\u001b[0;34m)\u001b[0m\u001b[0;34m\u001b[0m\u001b[0;34m\u001b[0m\u001b[0m\n",
      "\u001b[0;31mKeyboardInterrupt\u001b[0m: "
     ]
    }
   ],
   "source": [
    "best_acc = 0  # best test accuracy\n",
    "start_epoch = 0  # start from epoch 0 or last checkpoint epoch\n",
    "for epoch in range(start_epoch, start_epoch+2000):\n",
    "    train(epoch)\n",
    "    test(epoch)\n",
    "    scheduler.step()"
   ]
  },
  {
   "cell_type": "code",
   "execution_count": 19,
   "metadata": {},
   "outputs": [],
   "source": [
    "torch.save(net, './res.pth')"
   ]
  },
  {
   "cell_type": "code",
   "execution_count": 20,
   "metadata": {},
   "outputs": [],
   "source": [
    "torch.save(net.state_dict(), './res_state.pth')"
   ]
  },
  {
   "cell_type": "code",
   "execution_count": null,
   "metadata": {},
   "outputs": [],
   "source": []
  },
  {
   "cell_type": "code",
   "execution_count": null,
   "metadata": {},
   "outputs": [],
   "source": []
  },
  {
   "cell_type": "code",
   "execution_count": 21,
   "metadata": {},
   "outputs": [
    {
     "name": "stderr",
     "output_type": "stream",
     "text": [
      "100%|███████████████████████████████████████████████████████████████████████████████████████████████████████████████████| 157/157 [00:05<00:00, 28.47it/s, Acc=91.5, loss=0.489]\n"
     ]
    }
   ],
   "source": [
    "test(200)"
   ]
  },
  {
   "cell_type": "code",
   "execution_count": null,
   "metadata": {},
   "outputs": [],
   "source": []
  }
 ],
 "metadata": {
  "kernelspec": {
   "display_name": "Python 3 (ipykernel)",
   "language": "python",
   "name": "python3"
  },
  "language_info": {
   "codemirror_mode": {
    "name": "ipython",
    "version": 3
   },
   "file_extension": ".py",
   "mimetype": "text/x-python",
   "name": "python",
   "nbconvert_exporter": "python",
   "pygments_lexer": "ipython3",
   "version": "3.9.13"
  }
 },
 "nbformat": 4,
 "nbformat_minor": 4
}
